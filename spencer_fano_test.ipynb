{
 "metadata": {
  "language_info": {
   "codemirror_mode": {
    "name": "ipython",
    "version": 3
   },
   "file_extension": ".py",
   "mimetype": "text/x-python",
   "name": "python",
   "nbconvert_exporter": "python",
   "pygments_lexer": "ipython3",
   "version": "3.7.8-final"
  },
  "orig_nbformat": 2,
  "kernelspec": {
   "name": "python3",
   "display_name": "Python 3",
   "language": "python"
  }
 },
 "nbformat": 4,
 "nbformat_minor": 2,
 "cells": [
  {
   "source": [
    "# Spencer-Fano testing"
   ],
   "cell_type": "markdown",
   "metadata": {}
  },
  {
   "cell_type": "code",
   "execution_count": 1,
   "metadata": {},
   "outputs": [],
   "source": [
    "from tardis import run_tardis\n",
    "from tardis.io.config_reader import Configuration\n",
    "import numpy as np\n",
    "from astropy import units as u\n",
    "import pandas as pd"
   ]
  },
  {
   "cell_type": "code",
   "execution_count": 2,
   "metadata": {},
   "outputs": [],
   "source": [
    "config = Configuration.from_yaml(\"docs/models/examples/tardis_example.yml\")\n",
    "del config['config_dirname']"
   ]
  },
  {
   "cell_type": "code",
   "execution_count": 3,
   "metadata": {},
   "outputs": [],
   "source": [
    "config.model.abundances['O'] = 1.0\n",
    "config.model.abundances['Mg'] = 0.0\n",
    "config.model.abundances['Si'] = 0.0\n",
    "config.model.abundances['Ar'] = 0.0\n",
    "config.model.abundances['S'] = 0.0\n",
    "config.model.abundances['Ca'] = 0.0\n",
    "config.model.abundances['Fe'] = 0.0\n",
    "\n",
    "config.montecarlo.iterations = 1"
   ]
  },
  {
   "cell_type": "code",
   "execution_count": 4,
   "metadata": {},
   "outputs": [
    {
     "output_type": "stream",
     "name": "stdout",
     "text": [
      "[\u001b[1mtardis.plasma.standard_plasmas\u001b[0m][\u001b[1;37mINFO\u001b[0m   ]  Reading Atomic Data from kurucz_cd23_chianti_H_He.h5 (\u001b[1mstandard_plasmas.py\u001b[0m:87)\n",
      "[\u001b[1mtardis.io.atom_data.util\u001b[0m][\u001b[1;37mINFO\u001b[0m   ]  Atom Data kurucz_cd23_chianti_H_He.h5 not found in local path. Exists in TARDIS Data repo /home/afullard/Downloads/tardis-data/kurucz_cd23_chianti_H_He.h5 (\u001b[1mutil.py\u001b[0m:35)\n",
      "[\u001b[1mtardis.io.atom_data.base\u001b[0m][\u001b[1;37mINFO\u001b[0m   ]  Read Atom Data with UUID=6f7b09e887a311e7a06b246e96350010 and MD5=864f1753714343c41f99cb065710cace. (\u001b[1mbase.py\u001b[0m:187)\n",
      "[\u001b[1mtardis.io.atom_data.base\u001b[0m][\u001b[1;37mINFO\u001b[0m   ]  Non provided atomic data: synpp_refs, photoionization_data (\u001b[1mbase.py\u001b[0m:193)\n",
      "[\u001b[1mtardis.simulation.base\u001b[0m][\u001b[1;37mINFO\u001b[0m   ]  Starting iteration 1/1 (\u001b[1mbase.py\u001b[0m:326)\n",
      "Running post-merge numba montecarlo (with C close lines)!\n",
      "[\u001b[1mtardis.simulation.base\u001b[0m][\u001b[1;37mINFO\u001b[0m   ]  Luminosity emitted = 8.98661e+42 erg / s Luminosity absorbed = 1.69839e+42 erg / s Luminosity requested = 1.05928e+43 erg / s (\u001b[1mbase.py\u001b[0m:451)\n",
      "[\u001b[1mtardis.simulation.base\u001b[0m][\u001b[1;37mINFO\u001b[0m   ]  Simulation finished in 1 iterations and took 10.03 s (\u001b[1mbase.py\u001b[0m:384)\n"
     ]
    }
   ],
   "source": [
    "sim = run_tardis(config)"
   ]
  },
  {
   "cell_type": "code",
   "execution_count": 5,
   "metadata": {},
   "outputs": [
    {
     "output_type": "stream",
     "name": "stdout",
     "text": [
      "Collionfile: expecting 390 rows\n"
     ]
    }
   ],
   "source": [
    "import tardis.energy_input.spencer_fano as sf\n",
    "from collections import namedtuple\n",
    "\n",
    "def read_colliondata(collionfilename=\"/home/afullard/spencer-fano/data/collion.txt\"):\n",
    "\n",
    "    collionrow = namedtuple(\n",
    "        \"collionrow\", [\"atomic_number\", \"nelec\", \"n\", \"l\", \"ion_potential\", \"A\", \"B\", \"C\", \"D\"]\n",
    "    )\n",
    "\n",
    "    with open(collionfilename, \"r\") as collionfile:\n",
    "        print(f\"Collionfile: expecting {collionfile.readline().strip()} rows\")\n",
    "        dfcollion = pd.read_csv(\n",
    "            collionfile, delim_whitespace=True, header=None, names=collionrow._fields\n",
    "        )\n",
    "    dfcollion.eval(\"ion_number = atomic_number - nelec\", inplace=True)\n",
    "\n",
    "    return dfcollion\n",
    "\n",
    "sim.plasma.ion_collision_data = read_colliondata()"
   ]
  },
  {
   "cell_type": "code",
   "execution_count": 6,
   "metadata": {},
   "outputs": [
    {
     "output_type": "execute_result",
     "data": {
      "text/plain": [
       "     atomic_number  nelec  n  l  ion_potential     A     B     C     D  \\\n",
       "0                1      1  1  0           13.6  22.8 -12.0   1.9 -22.6   \n",
       "1                2      2  1  0           24.6  17.8 -11.0   7.0 -23.2   \n",
       "2                2      1  1  0           54.4  14.4  -5.6   1.9 -13.3   \n",
       "3                6      6  2  1           11.3   6.0 -16.0  12.0 -15.1   \n",
       "4                6      6  2  0           16.6  24.3  -7.8   2.5 -24.0   \n",
       "..             ...    ... .. ..            ...   ...   ...   ...   ...   \n",
       "395             28      4  1  0         9914.0  24.3  -8.0   4.1 -18.0   \n",
       "396             28      3  2  0         2399.0   9.2  -2.6   1.4  -5.7   \n",
       "397             28      3  1  0        10020.0  24.3  -8.0   4.1 -18.0   \n",
       "398             28      2  1  0        10280.0  25.0  -8.5   3.7 -20.1   \n",
       "399             28      1  1  0        10790.0  13.0  -4.5   1.9 -10.6   \n",
       "\n",
       "     ion_number  \n",
       "0             0  \n",
       "1             0  \n",
       "2             1  \n",
       "3             0  \n",
       "4             0  \n",
       "..          ...  \n",
       "395          24  \n",
       "396          25  \n",
       "397          25  \n",
       "398          26  \n",
       "399          27  \n",
       "\n",
       "[400 rows x 10 columns]"
      ],
      "text/html": "<div>\n<style scoped>\n    .dataframe tbody tr th:only-of-type {\n        vertical-align: middle;\n    }\n\n    .dataframe tbody tr th {\n        vertical-align: top;\n    }\n\n    .dataframe thead th {\n        text-align: right;\n    }\n</style>\n<table border=\"1\" class=\"dataframe\">\n  <thead>\n    <tr style=\"text-align: right;\">\n      <th></th>\n      <th>atomic_number</th>\n      <th>nelec</th>\n      <th>n</th>\n      <th>l</th>\n      <th>ion_potential</th>\n      <th>A</th>\n      <th>B</th>\n      <th>C</th>\n      <th>D</th>\n      <th>ion_number</th>\n    </tr>\n  </thead>\n  <tbody>\n    <tr>\n      <th>0</th>\n      <td>1</td>\n      <td>1</td>\n      <td>1</td>\n      <td>0</td>\n      <td>13.6</td>\n      <td>22.8</td>\n      <td>-12.0</td>\n      <td>1.9</td>\n      <td>-22.6</td>\n      <td>0</td>\n    </tr>\n    <tr>\n      <th>1</th>\n      <td>2</td>\n      <td>2</td>\n      <td>1</td>\n      <td>0</td>\n      <td>24.6</td>\n      <td>17.8</td>\n      <td>-11.0</td>\n      <td>7.0</td>\n      <td>-23.2</td>\n      <td>0</td>\n    </tr>\n    <tr>\n      <th>2</th>\n      <td>2</td>\n      <td>1</td>\n      <td>1</td>\n      <td>0</td>\n      <td>54.4</td>\n      <td>14.4</td>\n      <td>-5.6</td>\n      <td>1.9</td>\n      <td>-13.3</td>\n      <td>1</td>\n    </tr>\n    <tr>\n      <th>3</th>\n      <td>6</td>\n      <td>6</td>\n      <td>2</td>\n      <td>1</td>\n      <td>11.3</td>\n      <td>6.0</td>\n      <td>-16.0</td>\n      <td>12.0</td>\n      <td>-15.1</td>\n      <td>0</td>\n    </tr>\n    <tr>\n      <th>4</th>\n      <td>6</td>\n      <td>6</td>\n      <td>2</td>\n      <td>0</td>\n      <td>16.6</td>\n      <td>24.3</td>\n      <td>-7.8</td>\n      <td>2.5</td>\n      <td>-24.0</td>\n      <td>0</td>\n    </tr>\n    <tr>\n      <th>...</th>\n      <td>...</td>\n      <td>...</td>\n      <td>...</td>\n      <td>...</td>\n      <td>...</td>\n      <td>...</td>\n      <td>...</td>\n      <td>...</td>\n      <td>...</td>\n      <td>...</td>\n    </tr>\n    <tr>\n      <th>395</th>\n      <td>28</td>\n      <td>4</td>\n      <td>1</td>\n      <td>0</td>\n      <td>9914.0</td>\n      <td>24.3</td>\n      <td>-8.0</td>\n      <td>4.1</td>\n      <td>-18.0</td>\n      <td>24</td>\n    </tr>\n    <tr>\n      <th>396</th>\n      <td>28</td>\n      <td>3</td>\n      <td>2</td>\n      <td>0</td>\n      <td>2399.0</td>\n      <td>9.2</td>\n      <td>-2.6</td>\n      <td>1.4</td>\n      <td>-5.7</td>\n      <td>25</td>\n    </tr>\n    <tr>\n      <th>397</th>\n      <td>28</td>\n      <td>3</td>\n      <td>1</td>\n      <td>0</td>\n      <td>10020.0</td>\n      <td>24.3</td>\n      <td>-8.0</td>\n      <td>4.1</td>\n      <td>-18.0</td>\n      <td>25</td>\n    </tr>\n    <tr>\n      <th>398</th>\n      <td>28</td>\n      <td>2</td>\n      <td>1</td>\n      <td>0</td>\n      <td>10280.0</td>\n      <td>25.0</td>\n      <td>-8.5</td>\n      <td>3.7</td>\n      <td>-20.1</td>\n      <td>26</td>\n    </tr>\n    <tr>\n      <th>399</th>\n      <td>28</td>\n      <td>1</td>\n      <td>1</td>\n      <td>0</td>\n      <td>10790.0</td>\n      <td>13.0</td>\n      <td>-4.5</td>\n      <td>1.9</td>\n      <td>-10.6</td>\n      <td>27</td>\n    </tr>\n  </tbody>\n</table>\n<p>400 rows × 10 columns</p>\n</div>"
     },
     "metadata": {},
     "execution_count": 6
    }
   ],
   "source": [
    "sim.plasma.ion_collision_data"
   ]
  },
  {
   "cell_type": "code",
   "execution_count": 7,
   "metadata": {},
   "outputs": [
    {
     "output_type": "execute_result",
     "data": {
      "text/plain": [
       "                                             energy  g  metastable\n",
       "atomic_number ion_number level_number                             \n",
       "8             0          0             0.000000e+00  5        True\n",
       "                         1             3.143848e-14  3        True\n",
       "                         2             4.508775e-14  1        True\n",
       "                         3             3.152065e-12  5        True\n",
       "                         4             6.712713e-12  1        True\n",
       "...                                             ... ..         ...\n",
       "              5          37            2.090313e-10  4       False\n",
       "                         38            2.090339e-10  6       False\n",
       "              6          0             0.000000e+00  1        True\n",
       "              7          0             0.000000e+00  2        True\n",
       "              8          0             0.000000e+00  1        True\n",
       "\n",
       "[749 rows x 3 columns]"
      ],
      "text/html": "<div>\n<style scoped>\n    .dataframe tbody tr th:only-of-type {\n        vertical-align: middle;\n    }\n\n    .dataframe tbody tr th {\n        vertical-align: top;\n    }\n\n    .dataframe thead th {\n        text-align: right;\n    }\n</style>\n<table border=\"1\" class=\"dataframe\">\n  <thead>\n    <tr style=\"text-align: right;\">\n      <th></th>\n      <th></th>\n      <th></th>\n      <th>energy</th>\n      <th>g</th>\n      <th>metastable</th>\n    </tr>\n    <tr>\n      <th>atomic_number</th>\n      <th>ion_number</th>\n      <th>level_number</th>\n      <th></th>\n      <th></th>\n      <th></th>\n    </tr>\n  </thead>\n  <tbody>\n    <tr>\n      <th rowspan=\"11\" valign=\"top\">8</th>\n      <th rowspan=\"5\" valign=\"top\">0</th>\n      <th>0</th>\n      <td>0.000000e+00</td>\n      <td>5</td>\n      <td>True</td>\n    </tr>\n    <tr>\n      <th>1</th>\n      <td>3.143848e-14</td>\n      <td>3</td>\n      <td>True</td>\n    </tr>\n    <tr>\n      <th>2</th>\n      <td>4.508775e-14</td>\n      <td>1</td>\n      <td>True</td>\n    </tr>\n    <tr>\n      <th>3</th>\n      <td>3.152065e-12</td>\n      <td>5</td>\n      <td>True</td>\n    </tr>\n    <tr>\n      <th>4</th>\n      <td>6.712713e-12</td>\n      <td>1</td>\n      <td>True</td>\n    </tr>\n    <tr>\n      <th>...</th>\n      <th>...</th>\n      <td>...</td>\n      <td>...</td>\n      <td>...</td>\n    </tr>\n    <tr>\n      <th rowspan=\"2\" valign=\"top\">5</th>\n      <th>37</th>\n      <td>2.090313e-10</td>\n      <td>4</td>\n      <td>False</td>\n    </tr>\n    <tr>\n      <th>38</th>\n      <td>2.090339e-10</td>\n      <td>6</td>\n      <td>False</td>\n    </tr>\n    <tr>\n      <th>6</th>\n      <th>0</th>\n      <td>0.000000e+00</td>\n      <td>1</td>\n      <td>True</td>\n    </tr>\n    <tr>\n      <th>7</th>\n      <th>0</th>\n      <td>0.000000e+00</td>\n      <td>2</td>\n      <td>True</td>\n    </tr>\n    <tr>\n      <th>8</th>\n      <th>0</th>\n      <td>0.000000e+00</td>\n      <td>1</td>\n      <td>True</td>\n    </tr>\n  </tbody>\n</table>\n<p>749 rows × 3 columns</p>\n</div>"
     },
     "metadata": {},
     "execution_count": 7
    }
   ],
   "source": [
    "sim.plasma.atomic_data.levels"
   ]
  },
  {
   "cell_type": "code",
   "execution_count": 8,
   "metadata": {},
   "outputs": [
    {
     "output_type": "execute_result",
     "data": {
      "text/plain": [
       "                                                                line_id  \\\n",
       "atomic_number ion_number level_number_lower level_number_upper            \n",
       "8             5          0                  34                    27475   \n",
       "                                            33                    27474   \n",
       "                                            26                    27476   \n",
       "                                            27                    27477   \n",
       "                                            19                    27478   \n",
       "...                                                                 ...   \n",
       "              1          83                 103                   25324   \n",
       "                         82                 102                   25325   \n",
       "              5          27                 29                    27689   \n",
       "                         26                 28                    27691   \n",
       "                         27                 28                    27690   \n",
       "\n",
       "                                                                   wavelength  \\\n",
       "atomic_number ion_number level_number_lower level_number_upper                  \n",
       "8             5          0                  34                      95.082000   \n",
       "                                            33                      95.082000   \n",
       "                                            26                      96.840000   \n",
       "                                            27                      96.840000   \n",
       "                                            19                      99.688000   \n",
       "...                                                                       ...   \n",
       "              1          83                 103                  98251.132489   \n",
       "                         82                 102                  98347.759823   \n",
       "              5          27                 29                  142045.454964   \n",
       "                         26                 28                  147058.821299   \n",
       "                         27                 28                  147058.821299   \n",
       "\n",
       "                                                                    f_ul  \\\n",
       "atomic_number ion_number level_number_lower level_number_upper             \n",
       "8             5          0                  34                  0.002182   \n",
       "                                            33                  0.002188   \n",
       "                                            26                  0.003326   \n",
       "                                            27                  0.003318   \n",
       "                                            19                  0.005559   \n",
       "...                                                                  ...   \n",
       "              1          83                 103                 0.000658   \n",
       "                         82                 102                 0.002339   \n",
       "              5          27                 29                  0.117449   \n",
       "                         26                 28                  0.096814   \n",
       "                         27                 28                  0.019317   \n",
       "\n",
       "                                                                    f_lu  \\\n",
       "atomic_number ion_number level_number_lower level_number_upper             \n",
       "8             5          0                  34                  0.004365   \n",
       "                                            33                  0.002188   \n",
       "                                            26                  0.003326   \n",
       "                                            27                  0.006637   \n",
       "                                            19                  0.005559   \n",
       "...                                                                  ...   \n",
       "              1          83                 103                 0.000438   \n",
       "                         82                 102                 0.001169   \n",
       "              5          27                 29                  0.176173   \n",
       "                         26                 28                  0.193629   \n",
       "                         27                 28                  0.019317   \n",
       "\n",
       "                                                                          nu  \\\n",
       "atomic_number ion_number level_number_lower level_number_upper                 \n",
       "8             5          0                  34                  3.152989e+16   \n",
       "                                            33                  3.152989e+16   \n",
       "                                            26                  3.095750e+16   \n",
       "                                            27                  3.095750e+16   \n",
       "                                            19                  3.007307e+16   \n",
       "...                                                                      ...   \n",
       "              1          83                 103                 3.051288e+13   \n",
       "                         82                 102                 3.048290e+13   \n",
       "              5          27                 29                  2.110539e+13   \n",
       "                         26                 28                  2.038589e+13   \n",
       "                         27                 28                  2.038589e+13   \n",
       "\n",
       "                                                                        B_lu  \\\n",
       "atomic_number ion_number level_number_lower level_number_upper                 \n",
       "8             5          0                  34                  6.967931e+06   \n",
       "                                            33                  3.492238e+06   \n",
       "                                            26                  5.408294e+06   \n",
       "                                            27                  1.079097e+07   \n",
       "                                            19                  9.303544e+06   \n",
       "...                                                                      ...   \n",
       "              1          83                 103                 7.231391e+08   \n",
       "                         82                 102                 1.930812e+09   \n",
       "              5          27                 29                  4.201486e+11   \n",
       "                         26                 28                  4.780756e+11   \n",
       "                         27                 28                  4.769432e+10   \n",
       "\n",
       "                                                                        B_ul  \\\n",
       "atomic_number ion_number level_number_lower level_number_upper                 \n",
       "8             5          0                  34                  3.483966e+06   \n",
       "                                            33                  3.492238e+06   \n",
       "                                            26                  5.408294e+06   \n",
       "                                            27                  5.395483e+06   \n",
       "                                            19                  9.303544e+06   \n",
       "...                                                                      ...   \n",
       "              1          83                 103                 1.084709e+09   \n",
       "                         82                 102                 3.861624e+09   \n",
       "              5          27                 29                  2.800990e+11   \n",
       "                         26                 28                  2.390378e+11   \n",
       "                         27                 28                  4.769432e+10   \n",
       "\n",
       "                                                                        A_ul  \\\n",
       "atomic_number ion_number level_number_lower level_number_upper                 \n",
       "8             5          0                  34                  1.610221e+09   \n",
       "                                            33                  1.614045e+09   \n",
       "                                            26                  2.365934e+09   \n",
       "                                            27                  2.360330e+09   \n",
       "                                            19                  3.731010e+09   \n",
       "...                                                                      ...   \n",
       "              1          83                 103                 4.543673e+02   \n",
       "                         82                 102                 1.612810e+03   \n",
       "              5          27                 29                  3.882722e+04   \n",
       "                         26                 28                  2.986071e+04   \n",
       "                         27                 28                  5.957994e+03   \n",
       "\n",
       "                                                                wavelength_cm  \n",
       "atomic_number ion_number level_number_lower level_number_upper                 \n",
       "8             5          0                  34                   9.508200e-07  \n",
       "                                            33                   9.508200e-07  \n",
       "                                            26                   9.684000e-07  \n",
       "                                            27                   9.684000e-07  \n",
       "                                            19                   9.968800e-07  \n",
       "...                                                                       ...  \n",
       "              1          83                 103                  9.825113e-04  \n",
       "                         82                 102                  9.834776e-04  \n",
       "              5          27                 29                   1.420455e-03  \n",
       "                         26                 28                   1.470588e-03  \n",
       "                         27                 28                   1.470588e-03  \n",
       "\n",
       "[4132 rows x 9 columns]"
      ],
      "text/html": "<div>\n<style scoped>\n    .dataframe tbody tr th:only-of-type {\n        vertical-align: middle;\n    }\n\n    .dataframe tbody tr th {\n        vertical-align: top;\n    }\n\n    .dataframe thead th {\n        text-align: right;\n    }\n</style>\n<table border=\"1\" class=\"dataframe\">\n  <thead>\n    <tr style=\"text-align: right;\">\n      <th></th>\n      <th></th>\n      <th></th>\n      <th></th>\n      <th>line_id</th>\n      <th>wavelength</th>\n      <th>f_ul</th>\n      <th>f_lu</th>\n      <th>nu</th>\n      <th>B_lu</th>\n      <th>B_ul</th>\n      <th>A_ul</th>\n      <th>wavelength_cm</th>\n    </tr>\n    <tr>\n      <th>atomic_number</th>\n      <th>ion_number</th>\n      <th>level_number_lower</th>\n      <th>level_number_upper</th>\n      <th></th>\n      <th></th>\n      <th></th>\n      <th></th>\n      <th></th>\n      <th></th>\n      <th></th>\n      <th></th>\n      <th></th>\n    </tr>\n  </thead>\n  <tbody>\n    <tr>\n      <th rowspan=\"11\" valign=\"top\">8</th>\n      <th rowspan=\"5\" valign=\"top\">5</th>\n      <th rowspan=\"5\" valign=\"top\">0</th>\n      <th>34</th>\n      <td>27475</td>\n      <td>95.082000</td>\n      <td>0.002182</td>\n      <td>0.004365</td>\n      <td>3.152989e+16</td>\n      <td>6.967931e+06</td>\n      <td>3.483966e+06</td>\n      <td>1.610221e+09</td>\n      <td>9.508200e-07</td>\n    </tr>\n    <tr>\n      <th>33</th>\n      <td>27474</td>\n      <td>95.082000</td>\n      <td>0.002188</td>\n      <td>0.002188</td>\n      <td>3.152989e+16</td>\n      <td>3.492238e+06</td>\n      <td>3.492238e+06</td>\n      <td>1.614045e+09</td>\n      <td>9.508200e-07</td>\n    </tr>\n    <tr>\n      <th>26</th>\n      <td>27476</td>\n      <td>96.840000</td>\n      <td>0.003326</td>\n      <td>0.003326</td>\n      <td>3.095750e+16</td>\n      <td>5.408294e+06</td>\n      <td>5.408294e+06</td>\n      <td>2.365934e+09</td>\n      <td>9.684000e-07</td>\n    </tr>\n    <tr>\n      <th>27</th>\n      <td>27477</td>\n      <td>96.840000</td>\n      <td>0.003318</td>\n      <td>0.006637</td>\n      <td>3.095750e+16</td>\n      <td>1.079097e+07</td>\n      <td>5.395483e+06</td>\n      <td>2.360330e+09</td>\n      <td>9.684000e-07</td>\n    </tr>\n    <tr>\n      <th>19</th>\n      <td>27478</td>\n      <td>99.688000</td>\n      <td>0.005559</td>\n      <td>0.005559</td>\n      <td>3.007307e+16</td>\n      <td>9.303544e+06</td>\n      <td>9.303544e+06</td>\n      <td>3.731010e+09</td>\n      <td>9.968800e-07</td>\n    </tr>\n    <tr>\n      <th>...</th>\n      <th>...</th>\n      <th>...</th>\n      <td>...</td>\n      <td>...</td>\n      <td>...</td>\n      <td>...</td>\n      <td>...</td>\n      <td>...</td>\n      <td>...</td>\n      <td>...</td>\n      <td>...</td>\n    </tr>\n    <tr>\n      <th rowspan=\"2\" valign=\"top\">1</th>\n      <th>83</th>\n      <th>103</th>\n      <td>25324</td>\n      <td>98251.132489</td>\n      <td>0.000658</td>\n      <td>0.000438</td>\n      <td>3.051288e+13</td>\n      <td>7.231391e+08</td>\n      <td>1.084709e+09</td>\n      <td>4.543673e+02</td>\n      <td>9.825113e-04</td>\n    </tr>\n    <tr>\n      <th>82</th>\n      <th>102</th>\n      <td>25325</td>\n      <td>98347.759823</td>\n      <td>0.002339</td>\n      <td>0.001169</td>\n      <td>3.048290e+13</td>\n      <td>1.930812e+09</td>\n      <td>3.861624e+09</td>\n      <td>1.612810e+03</td>\n      <td>9.834776e-04</td>\n    </tr>\n    <tr>\n      <th rowspan=\"3\" valign=\"top\">5</th>\n      <th>27</th>\n      <th>29</th>\n      <td>27689</td>\n      <td>142045.454964</td>\n      <td>0.117449</td>\n      <td>0.176173</td>\n      <td>2.110539e+13</td>\n      <td>4.201486e+11</td>\n      <td>2.800990e+11</td>\n      <td>3.882722e+04</td>\n      <td>1.420455e-03</td>\n    </tr>\n    <tr>\n      <th>26</th>\n      <th>28</th>\n      <td>27691</td>\n      <td>147058.821299</td>\n      <td>0.096814</td>\n      <td>0.193629</td>\n      <td>2.038589e+13</td>\n      <td>4.780756e+11</td>\n      <td>2.390378e+11</td>\n      <td>2.986071e+04</td>\n      <td>1.470588e-03</td>\n    </tr>\n    <tr>\n      <th>27</th>\n      <th>28</th>\n      <td>27690</td>\n      <td>147058.821299</td>\n      <td>0.019317</td>\n      <td>0.019317</td>\n      <td>2.038589e+13</td>\n      <td>4.769432e+10</td>\n      <td>4.769432e+10</td>\n      <td>5.957994e+03</td>\n      <td>1.470588e-03</td>\n    </tr>\n  </tbody>\n</table>\n<p>4132 rows × 9 columns</p>\n</div>"
     },
     "metadata": {},
     "execution_count": 8
    }
   ],
   "source": [
    "sim.plasma.atomic_data.lines\n",
    "\n",
    "#Current BLOCKER- cross section calculation, needs A_ul"
   ]
  },
  {
   "cell_type": "code",
   "execution_count": 9,
   "metadata": {
    "tags": []
   },
   "outputs": [
    {
     "output_type": "stream",
     "name": "stdout",
     "text": [
      "1.3806488e-16\n",
      "\n",
      "Setting up Spencer-Fano equation with 5 energy points from 0.1 to 3000.0 eV...\n",
      "    E_init: 3000.0 eV/s/cm3\n",
      "with 50 transitions from lower <= 4\n",
      "with 189 transitions from lower <= 4\n",
      "with 111 transitions from lower <= 4\n",
      "with 74 transitions from lower <= 4\n",
      "with 69 transitions from lower <= 4\n",
      "with 62 transitions from lower <= 4\n",
      "with 0 transitions from lower <= 4\n",
      "with 0 transitions from lower <= 4\n",
      "with 0 transitions from lower <= 4\n"
     ]
    }
   ],
   "source": [
    "(electron_spectrum,\n",
    "transitions_dict,\n",
    "energy_grid,\n",
    "ions,\n",
    "ion_populations,\n",
    "energy_deposition_density,\n",
    "ion_collision_data,\n",
    "electron_number_density,\n",
    "number_density) = sf.setup_solution(0.1, 3000, 5, temperature=6000, plasma = sim.plasma, energy_deposition_density=100)\n",
    "\n",
    "# TODO get atomic data from TARDIS for transitions and levels"
   ]
  },
  {
   "cell_type": "code",
   "execution_count": 10,
   "metadata": {},
   "outputs": [
    {
     "output_type": "execute_result",
     "data": {
      "text/plain": [
       "Text(0, 0.5, 'y(E)')"
      ]
     },
     "metadata": {},
     "execution_count": 10
    },
    {
     "output_type": "display_data",
     "data": {
      "text/plain": "<Figure size 900x600 with 1 Axes>",
      "image/svg+xml": "<?xml version=\"1.0\" encoding=\"utf-8\" standalone=\"no\"?>\n<!DOCTYPE svg PUBLIC \"-//W3C//DTD SVG 1.1//EN\"\n  \"http://www.w3.org/Graphics/SVG/1.1/DTD/svg11.dtd\">\n<!-- Created with matplotlib (https://matplotlib.org/) -->\n<svg height=\"262.19625pt\" version=\"1.1\" viewBox=\"0 0 393.378125 262.19625\" width=\"393.378125pt\" xmlns=\"http://www.w3.org/2000/svg\" xmlns:xlink=\"http://www.w3.org/1999/xlink\">\n <metadata>\n  <rdf:RDF xmlns:cc=\"http://creativecommons.org/ns#\" xmlns:dc=\"http://purl.org/dc/elements/1.1/\" xmlns:rdf=\"http://www.w3.org/1999/02/22-rdf-syntax-ns#\">\n   <cc:Work>\n    <dc:type rdf:resource=\"http://purl.org/dc/dcmitype/StillImage\"/>\n    <dc:date>2021-03-08T10:59:13.293695</dc:date>\n    <dc:format>image/svg+xml</dc:format>\n    <dc:creator>\n     <cc:Agent>\n      <dc:title>Matplotlib v3.3.2, https://matplotlib.org/</dc:title>\n     </cc:Agent>\n    </dc:creator>\n   </cc:Work>\n  </rdf:RDF>\n </metadata>\n <defs>\n  <style type=\"text/css\">*{stroke-linecap:butt;stroke-linejoin:round;}</style>\n </defs>\n <g id=\"figure_1\">\n  <g id=\"patch_1\">\n   <path d=\"M 0 262.19625 \nL 393.378125 262.19625 \nL 393.378125 0 \nL 0 0 \nz\n\" style=\"fill:none;\"/>\n  </g>\n  <g id=\"axes_1\">\n   <g id=\"patch_2\">\n    <path d=\"M 51.378125 224.64 \nL 386.178125 224.64 \nL 386.178125 7.2 \nL 51.378125 7.2 \nz\n\" style=\"fill:#ffffff;\"/>\n   </g>\n   <g id=\"matplotlib.axis_1\">\n    <g id=\"xtick_1\">\n     <g id=\"line2d_1\">\n      <defs>\n       <path d=\"M 0 0 \nL 0 3.5 \n\" id=\"m36cfc62f1b\" style=\"stroke:#000000;stroke-width:0.8;\"/>\n      </defs>\n      <g>\n       <use style=\"stroke:#000000;stroke-width:0.8;\" x=\"66.586161\" xlink:href=\"#m36cfc62f1b\" y=\"224.64\"/>\n      </g>\n     </g>\n     <g id=\"text_1\">\n      <!-- 0 -->\n      <g transform=\"translate(63.404911 239.238437)scale(0.1 -0.1)\">\n       <defs>\n        <path d=\"M 31.78125 66.40625 \nQ 24.171875 66.40625 20.328125 58.90625 \nQ 16.5 51.421875 16.5 36.375 \nQ 16.5 21.390625 20.328125 13.890625 \nQ 24.171875 6.390625 31.78125 6.390625 \nQ 39.453125 6.390625 43.28125 13.890625 \nQ 47.125 21.390625 47.125 36.375 \nQ 47.125 51.421875 43.28125 58.90625 \nQ 39.453125 66.40625 31.78125 66.40625 \nz\nM 31.78125 74.21875 \nQ 44.046875 74.21875 50.515625 64.515625 \nQ 56.984375 54.828125 56.984375 36.375 \nQ 56.984375 17.96875 50.515625 8.265625 \nQ 44.046875 -1.421875 31.78125 -1.421875 \nQ 19.53125 -1.421875 13.0625 8.265625 \nQ 6.59375 17.96875 6.59375 36.375 \nQ 6.59375 54.828125 13.0625 64.515625 \nQ 19.53125 74.21875 31.78125 74.21875 \nz\n\" id=\"DejaVuSans-48\"/>\n       </defs>\n       <use xlink:href=\"#DejaVuSans-48\"/>\n      </g>\n     </g>\n    </g>\n    <g id=\"xtick_2\">\n     <g id=\"line2d_2\">\n      <g>\n       <use style=\"stroke:#000000;stroke-width:0.8;\" x=\"117.315125\" xlink:href=\"#m36cfc62f1b\" y=\"224.64\"/>\n      </g>\n     </g>\n     <g id=\"text_2\">\n      <!-- 500 -->\n      <g transform=\"translate(107.771375 239.238437)scale(0.1 -0.1)\">\n       <defs>\n        <path d=\"M 10.796875 72.90625 \nL 49.515625 72.90625 \nL 49.515625 64.59375 \nL 19.828125 64.59375 \nL 19.828125 46.734375 \nQ 21.96875 47.46875 24.109375 47.828125 \nQ 26.265625 48.1875 28.421875 48.1875 \nQ 40.625 48.1875 47.75 41.5 \nQ 54.890625 34.8125 54.890625 23.390625 \nQ 54.890625 11.625 47.5625 5.09375 \nQ 40.234375 -1.421875 26.90625 -1.421875 \nQ 22.3125 -1.421875 17.546875 -0.640625 \nQ 12.796875 0.140625 7.71875 1.703125 \nL 7.71875 11.625 \nQ 12.109375 9.234375 16.796875 8.0625 \nQ 21.484375 6.890625 26.703125 6.890625 \nQ 35.15625 6.890625 40.078125 11.328125 \nQ 45.015625 15.765625 45.015625 23.390625 \nQ 45.015625 31 40.078125 35.4375 \nQ 35.15625 39.890625 26.703125 39.890625 \nQ 22.75 39.890625 18.8125 39.015625 \nQ 14.890625 38.140625 10.796875 36.28125 \nz\n\" id=\"DejaVuSans-53\"/>\n       </defs>\n       <use xlink:href=\"#DejaVuSans-53\"/>\n       <use x=\"63.623047\" xlink:href=\"#DejaVuSans-48\"/>\n       <use x=\"127.246094\" xlink:href=\"#DejaVuSans-48\"/>\n      </g>\n     </g>\n    </g>\n    <g id=\"xtick_3\">\n     <g id=\"line2d_3\">\n      <g>\n       <use style=\"stroke:#000000;stroke-width:0.8;\" x=\"168.044088\" xlink:href=\"#m36cfc62f1b\" y=\"224.64\"/>\n      </g>\n     </g>\n     <g id=\"text_3\">\n      <!-- 1000 -->\n      <g transform=\"translate(155.319088 239.238437)scale(0.1 -0.1)\">\n       <defs>\n        <path d=\"M 12.40625 8.296875 \nL 28.515625 8.296875 \nL 28.515625 63.921875 \nL 10.984375 60.40625 \nL 10.984375 69.390625 \nL 28.421875 72.90625 \nL 38.28125 72.90625 \nL 38.28125 8.296875 \nL 54.390625 8.296875 \nL 54.390625 0 \nL 12.40625 0 \nz\n\" id=\"DejaVuSans-49\"/>\n       </defs>\n       <use xlink:href=\"#DejaVuSans-49\"/>\n       <use x=\"63.623047\" xlink:href=\"#DejaVuSans-48\"/>\n       <use x=\"127.246094\" xlink:href=\"#DejaVuSans-48\"/>\n       <use x=\"190.869141\" xlink:href=\"#DejaVuSans-48\"/>\n      </g>\n     </g>\n    </g>\n    <g id=\"xtick_4\">\n     <g id=\"line2d_4\">\n      <g>\n       <use style=\"stroke:#000000;stroke-width:0.8;\" x=\"218.773052\" xlink:href=\"#m36cfc62f1b\" y=\"224.64\"/>\n      </g>\n     </g>\n     <g id=\"text_4\">\n      <!-- 1500 -->\n      <g transform=\"translate(206.048052 239.238437)scale(0.1 -0.1)\">\n       <use xlink:href=\"#DejaVuSans-49\"/>\n       <use x=\"63.623047\" xlink:href=\"#DejaVuSans-53\"/>\n       <use x=\"127.246094\" xlink:href=\"#DejaVuSans-48\"/>\n       <use x=\"190.869141\" xlink:href=\"#DejaVuSans-48\"/>\n      </g>\n     </g>\n    </g>\n    <g id=\"xtick_5\">\n     <g id=\"line2d_5\">\n      <g>\n       <use style=\"stroke:#000000;stroke-width:0.8;\" x=\"269.502016\" xlink:href=\"#m36cfc62f1b\" y=\"224.64\"/>\n      </g>\n     </g>\n     <g id=\"text_5\">\n      <!-- 2000 -->\n      <g transform=\"translate(256.777016 239.238437)scale(0.1 -0.1)\">\n       <defs>\n        <path d=\"M 19.1875 8.296875 \nL 53.609375 8.296875 \nL 53.609375 0 \nL 7.328125 0 \nL 7.328125 8.296875 \nQ 12.9375 14.109375 22.625 23.890625 \nQ 32.328125 33.6875 34.8125 36.53125 \nQ 39.546875 41.84375 41.421875 45.53125 \nQ 43.3125 49.21875 43.3125 52.78125 \nQ 43.3125 58.59375 39.234375 62.25 \nQ 35.15625 65.921875 28.609375 65.921875 \nQ 23.96875 65.921875 18.8125 64.3125 \nQ 13.671875 62.703125 7.8125 59.421875 \nL 7.8125 69.390625 \nQ 13.765625 71.78125 18.9375 73 \nQ 24.125 74.21875 28.421875 74.21875 \nQ 39.75 74.21875 46.484375 68.546875 \nQ 53.21875 62.890625 53.21875 53.421875 \nQ 53.21875 48.921875 51.53125 44.890625 \nQ 49.859375 40.875 45.40625 35.40625 \nQ 44.1875 33.984375 37.640625 27.21875 \nQ 31.109375 20.453125 19.1875 8.296875 \nz\n\" id=\"DejaVuSans-50\"/>\n       </defs>\n       <use xlink:href=\"#DejaVuSans-50\"/>\n       <use x=\"63.623047\" xlink:href=\"#DejaVuSans-48\"/>\n       <use x=\"127.246094\" xlink:href=\"#DejaVuSans-48\"/>\n       <use x=\"190.869141\" xlink:href=\"#DejaVuSans-48\"/>\n      </g>\n     </g>\n    </g>\n    <g id=\"xtick_6\">\n     <g id=\"line2d_6\">\n      <g>\n       <use style=\"stroke:#000000;stroke-width:0.8;\" x=\"320.230979\" xlink:href=\"#m36cfc62f1b\" y=\"224.64\"/>\n      </g>\n     </g>\n     <g id=\"text_6\">\n      <!-- 2500 -->\n      <g transform=\"translate(307.505979 239.238437)scale(0.1 -0.1)\">\n       <use xlink:href=\"#DejaVuSans-50\"/>\n       <use x=\"63.623047\" xlink:href=\"#DejaVuSans-53\"/>\n       <use x=\"127.246094\" xlink:href=\"#DejaVuSans-48\"/>\n       <use x=\"190.869141\" xlink:href=\"#DejaVuSans-48\"/>\n      </g>\n     </g>\n    </g>\n    <g id=\"xtick_7\">\n     <g id=\"line2d_7\">\n      <g>\n       <use style=\"stroke:#000000;stroke-width:0.8;\" x=\"370.959943\" xlink:href=\"#m36cfc62f1b\" y=\"224.64\"/>\n      </g>\n     </g>\n     <g id=\"text_7\">\n      <!-- 3000 -->\n      <g transform=\"translate(358.234943 239.238437)scale(0.1 -0.1)\">\n       <defs>\n        <path d=\"M 40.578125 39.3125 \nQ 47.65625 37.796875 51.625 33 \nQ 55.609375 28.21875 55.609375 21.1875 \nQ 55.609375 10.40625 48.1875 4.484375 \nQ 40.765625 -1.421875 27.09375 -1.421875 \nQ 22.515625 -1.421875 17.65625 -0.515625 \nQ 12.796875 0.390625 7.625 2.203125 \nL 7.625 11.71875 \nQ 11.71875 9.328125 16.59375 8.109375 \nQ 21.484375 6.890625 26.8125 6.890625 \nQ 36.078125 6.890625 40.9375 10.546875 \nQ 45.796875 14.203125 45.796875 21.1875 \nQ 45.796875 27.640625 41.28125 31.265625 \nQ 36.765625 34.90625 28.71875 34.90625 \nL 20.21875 34.90625 \nL 20.21875 43.015625 \nL 29.109375 43.015625 \nQ 36.375 43.015625 40.234375 45.921875 \nQ 44.09375 48.828125 44.09375 54.296875 \nQ 44.09375 59.90625 40.109375 62.90625 \nQ 36.140625 65.921875 28.71875 65.921875 \nQ 24.65625 65.921875 20.015625 65.03125 \nQ 15.375 64.15625 9.8125 62.3125 \nL 9.8125 71.09375 \nQ 15.4375 72.65625 20.34375 73.4375 \nQ 25.25 74.21875 29.59375 74.21875 \nQ 40.828125 74.21875 47.359375 69.109375 \nQ 53.90625 64.015625 53.90625 55.328125 \nQ 53.90625 49.265625 50.4375 45.09375 \nQ 46.96875 40.921875 40.578125 39.3125 \nz\n\" id=\"DejaVuSans-51\"/>\n       </defs>\n       <use xlink:href=\"#DejaVuSans-51\"/>\n       <use x=\"63.623047\" xlink:href=\"#DejaVuSans-48\"/>\n       <use x=\"127.246094\" xlink:href=\"#DejaVuSans-48\"/>\n       <use x=\"190.869141\" xlink:href=\"#DejaVuSans-48\"/>\n      </g>\n     </g>\n    </g>\n    <g id=\"text_8\">\n     <!-- Energy (eV) -->\n     <g transform=\"translate(189.284375 252.916562)scale(0.1 -0.1)\">\n      <defs>\n       <path d=\"M 9.8125 72.90625 \nL 55.90625 72.90625 \nL 55.90625 64.59375 \nL 19.671875 64.59375 \nL 19.671875 43.015625 \nL 54.390625 43.015625 \nL 54.390625 34.71875 \nL 19.671875 34.71875 \nL 19.671875 8.296875 \nL 56.78125 8.296875 \nL 56.78125 0 \nL 9.8125 0 \nz\n\" id=\"DejaVuSans-69\"/>\n       <path d=\"M 54.890625 33.015625 \nL 54.890625 0 \nL 45.90625 0 \nL 45.90625 32.71875 \nQ 45.90625 40.484375 42.875 44.328125 \nQ 39.84375 48.1875 33.796875 48.1875 \nQ 26.515625 48.1875 22.3125 43.546875 \nQ 18.109375 38.921875 18.109375 30.90625 \nL 18.109375 0 \nL 9.078125 0 \nL 9.078125 54.6875 \nL 18.109375 54.6875 \nL 18.109375 46.1875 \nQ 21.34375 51.125 25.703125 53.5625 \nQ 30.078125 56 35.796875 56 \nQ 45.21875 56 50.046875 50.171875 \nQ 54.890625 44.34375 54.890625 33.015625 \nz\n\" id=\"DejaVuSans-110\"/>\n       <path d=\"M 56.203125 29.59375 \nL 56.203125 25.203125 \nL 14.890625 25.203125 \nQ 15.484375 15.921875 20.484375 11.0625 \nQ 25.484375 6.203125 34.421875 6.203125 \nQ 39.59375 6.203125 44.453125 7.46875 \nQ 49.3125 8.734375 54.109375 11.28125 \nL 54.109375 2.78125 \nQ 49.265625 0.734375 44.1875 -0.34375 \nQ 39.109375 -1.421875 33.890625 -1.421875 \nQ 20.796875 -1.421875 13.15625 6.1875 \nQ 5.515625 13.8125 5.515625 26.8125 \nQ 5.515625 40.234375 12.765625 48.109375 \nQ 20.015625 56 32.328125 56 \nQ 43.359375 56 49.78125 48.890625 \nQ 56.203125 41.796875 56.203125 29.59375 \nz\nM 47.21875 32.234375 \nQ 47.125 39.59375 43.09375 43.984375 \nQ 39.0625 48.390625 32.421875 48.390625 \nQ 24.90625 48.390625 20.390625 44.140625 \nQ 15.875 39.890625 15.1875 32.171875 \nz\n\" id=\"DejaVuSans-101\"/>\n       <path d=\"M 41.109375 46.296875 \nQ 39.59375 47.171875 37.8125 47.578125 \nQ 36.03125 48 33.890625 48 \nQ 26.265625 48 22.1875 43.046875 \nQ 18.109375 38.09375 18.109375 28.8125 \nL 18.109375 0 \nL 9.078125 0 \nL 9.078125 54.6875 \nL 18.109375 54.6875 \nL 18.109375 46.1875 \nQ 20.953125 51.171875 25.484375 53.578125 \nQ 30.03125 56 36.53125 56 \nQ 37.453125 56 38.578125 55.875 \nQ 39.703125 55.765625 41.0625 55.515625 \nz\n\" id=\"DejaVuSans-114\"/>\n       <path d=\"M 45.40625 27.984375 \nQ 45.40625 37.75 41.375 43.109375 \nQ 37.359375 48.484375 30.078125 48.484375 \nQ 22.859375 48.484375 18.828125 43.109375 \nQ 14.796875 37.75 14.796875 27.984375 \nQ 14.796875 18.265625 18.828125 12.890625 \nQ 22.859375 7.515625 30.078125 7.515625 \nQ 37.359375 7.515625 41.375 12.890625 \nQ 45.40625 18.265625 45.40625 27.984375 \nz\nM 54.390625 6.78125 \nQ 54.390625 -7.171875 48.1875 -13.984375 \nQ 42 -20.796875 29.203125 -20.796875 \nQ 24.46875 -20.796875 20.265625 -20.09375 \nQ 16.0625 -19.390625 12.109375 -17.921875 \nL 12.109375 -9.1875 \nQ 16.0625 -11.328125 19.921875 -12.34375 \nQ 23.78125 -13.375 27.78125 -13.375 \nQ 36.625 -13.375 41.015625 -8.765625 \nQ 45.40625 -4.15625 45.40625 5.171875 \nL 45.40625 9.625 \nQ 42.625 4.78125 38.28125 2.390625 \nQ 33.9375 0 27.875 0 \nQ 17.828125 0 11.671875 7.65625 \nQ 5.515625 15.328125 5.515625 27.984375 \nQ 5.515625 40.671875 11.671875 48.328125 \nQ 17.828125 56 27.875 56 \nQ 33.9375 56 38.28125 53.609375 \nQ 42.625 51.21875 45.40625 46.390625 \nL 45.40625 54.6875 \nL 54.390625 54.6875 \nz\n\" id=\"DejaVuSans-103\"/>\n       <path d=\"M 32.171875 -5.078125 \nQ 28.375 -14.84375 24.75 -17.8125 \nQ 21.140625 -20.796875 15.09375 -20.796875 \nL 7.90625 -20.796875 \nL 7.90625 -13.28125 \nL 13.1875 -13.28125 \nQ 16.890625 -13.28125 18.9375 -11.515625 \nQ 21 -9.765625 23.484375 -3.21875 \nL 25.09375 0.875 \nL 2.984375 54.6875 \nL 12.5 54.6875 \nL 29.59375 11.921875 \nL 46.6875 54.6875 \nL 56.203125 54.6875 \nz\n\" id=\"DejaVuSans-121\"/>\n       <path id=\"DejaVuSans-32\"/>\n       <path d=\"M 31 75.875 \nQ 24.46875 64.65625 21.28125 53.65625 \nQ 18.109375 42.671875 18.109375 31.390625 \nQ 18.109375 20.125 21.3125 9.0625 \nQ 24.515625 -2 31 -13.1875 \nL 23.1875 -13.1875 \nQ 15.875 -1.703125 12.234375 9.375 \nQ 8.59375 20.453125 8.59375 31.390625 \nQ 8.59375 42.28125 12.203125 53.3125 \nQ 15.828125 64.359375 23.1875 75.875 \nz\n\" id=\"DejaVuSans-40\"/>\n       <path d=\"M 28.609375 0 \nL 0.78125 72.90625 \nL 11.078125 72.90625 \nL 34.1875 11.53125 \nL 57.328125 72.90625 \nL 67.578125 72.90625 \nL 39.796875 0 \nz\n\" id=\"DejaVuSans-86\"/>\n       <path d=\"M 8.015625 75.875 \nL 15.828125 75.875 \nQ 23.140625 64.359375 26.78125 53.3125 \nQ 30.421875 42.28125 30.421875 31.390625 \nQ 30.421875 20.453125 26.78125 9.375 \nQ 23.140625 -1.703125 15.828125 -13.1875 \nL 8.015625 -13.1875 \nQ 14.5 -2 17.703125 9.0625 \nQ 20.90625 20.125 20.90625 31.390625 \nQ 20.90625 42.671875 17.703125 53.65625 \nQ 14.5 64.65625 8.015625 75.875 \nz\n\" id=\"DejaVuSans-41\"/>\n      </defs>\n      <use xlink:href=\"#DejaVuSans-69\"/>\n      <use x=\"63.183594\" xlink:href=\"#DejaVuSans-110\"/>\n      <use x=\"126.5625\" xlink:href=\"#DejaVuSans-101\"/>\n      <use x=\"188.085938\" xlink:href=\"#DejaVuSans-114\"/>\n      <use x=\"227.449219\" xlink:href=\"#DejaVuSans-103\"/>\n      <use x=\"290.925781\" xlink:href=\"#DejaVuSans-121\"/>\n      <use x=\"350.105469\" xlink:href=\"#DejaVuSans-32\"/>\n      <use x=\"381.892578\" xlink:href=\"#DejaVuSans-40\"/>\n      <use x=\"420.90625\" xlink:href=\"#DejaVuSans-101\"/>\n      <use x=\"482.429688\" xlink:href=\"#DejaVuSans-86\"/>\n      <use x=\"550.837891\" xlink:href=\"#DejaVuSans-41\"/>\n     </g>\n    </g>\n   </g>\n   <g id=\"matplotlib.axis_2\">\n    <g id=\"ytick_1\">\n     <g id=\"line2d_8\">\n      <defs>\n       <path d=\"M 0 0 \nL -3.5 0 \n\" id=\"m36001e0c38\" style=\"stroke:#000000;stroke-width:0.8;\"/>\n      </defs>\n      <g>\n       <use style=\"stroke:#000000;stroke-width:0.8;\" x=\"51.378125\" xlink:href=\"#m36001e0c38\" y=\"201.63277\"/>\n      </g>\n     </g>\n     <g id=\"text_9\">\n      <!-- $\\mathdefault{10^{-5}}$ -->\n      <g transform=\"translate(20.878125 205.431989)scale(0.1 -0.1)\">\n       <defs>\n        <path d=\"M 10.59375 35.5 \nL 73.1875 35.5 \nL 73.1875 27.203125 \nL 10.59375 27.203125 \nz\n\" id=\"DejaVuSans-8722\"/>\n       </defs>\n       <use transform=\"translate(0 0.684375)\" xlink:href=\"#DejaVuSans-49\"/>\n       <use transform=\"translate(63.623047 0.684375)\" xlink:href=\"#DejaVuSans-48\"/>\n       <use transform=\"translate(128.203125 38.965625)scale(0.7)\" xlink:href=\"#DejaVuSans-8722\"/>\n       <use transform=\"translate(186.855469 38.965625)scale(0.7)\" xlink:href=\"#DejaVuSans-53\"/>\n      </g>\n     </g>\n    </g>\n    <g id=\"ytick_2\">\n     <g id=\"line2d_9\">\n      <g>\n       <use style=\"stroke:#000000;stroke-width:0.8;\" x=\"51.378125\" xlink:href=\"#m36001e0c38\" y=\"171.720036\"/>\n      </g>\n     </g>\n     <g id=\"text_10\">\n      <!-- $\\mathdefault{10^{-3}}$ -->\n      <g transform=\"translate(20.878125 175.519255)scale(0.1 -0.1)\">\n       <use transform=\"translate(0 0.765625)\" xlink:href=\"#DejaVuSans-49\"/>\n       <use transform=\"translate(63.623047 0.765625)\" xlink:href=\"#DejaVuSans-48\"/>\n       <use transform=\"translate(128.203125 39.046875)scale(0.7)\" xlink:href=\"#DejaVuSans-8722\"/>\n       <use transform=\"translate(186.855469 39.046875)scale(0.7)\" xlink:href=\"#DejaVuSans-51\"/>\n      </g>\n     </g>\n    </g>\n    <g id=\"ytick_3\">\n     <g id=\"line2d_10\">\n      <g>\n       <use style=\"stroke:#000000;stroke-width:0.8;\" x=\"51.378125\" xlink:href=\"#m36001e0c38\" y=\"141.807303\"/>\n      </g>\n     </g>\n     <g id=\"text_11\">\n      <!-- $\\mathdefault{10^{-1}}$ -->\n      <g transform=\"translate(20.878125 145.606521)scale(0.1 -0.1)\">\n       <use transform=\"translate(0 0.684375)\" xlink:href=\"#DejaVuSans-49\"/>\n       <use transform=\"translate(63.623047 0.684375)\" xlink:href=\"#DejaVuSans-48\"/>\n       <use transform=\"translate(128.203125 38.965625)scale(0.7)\" xlink:href=\"#DejaVuSans-8722\"/>\n       <use transform=\"translate(186.855469 38.965625)scale(0.7)\" xlink:href=\"#DejaVuSans-49\"/>\n      </g>\n     </g>\n    </g>\n    <g id=\"ytick_4\">\n     <g id=\"line2d_11\">\n      <g>\n       <use style=\"stroke:#000000;stroke-width:0.8;\" x=\"51.378125\" xlink:href=\"#m36001e0c38\" y=\"111.894569\"/>\n      </g>\n     </g>\n     <g id=\"text_12\">\n      <!-- $\\mathdefault{10^{1}}$ -->\n      <g transform=\"translate(26.778125 115.693787)scale(0.1 -0.1)\">\n       <use transform=\"translate(0 0.684375)\" xlink:href=\"#DejaVuSans-49\"/>\n       <use transform=\"translate(63.623047 0.684375)\" xlink:href=\"#DejaVuSans-48\"/>\n       <use transform=\"translate(128.203125 38.965625)scale(0.7)\" xlink:href=\"#DejaVuSans-49\"/>\n      </g>\n     </g>\n    </g>\n    <g id=\"ytick_5\">\n     <g id=\"line2d_12\">\n      <g>\n       <use style=\"stroke:#000000;stroke-width:0.8;\" x=\"51.378125\" xlink:href=\"#m36001e0c38\" y=\"81.981835\"/>\n      </g>\n     </g>\n     <g id=\"text_13\">\n      <!-- $\\mathdefault{10^{3}}$ -->\n      <g transform=\"translate(26.778125 85.781053)scale(0.1 -0.1)\">\n       <use transform=\"translate(0 0.765625)\" xlink:href=\"#DejaVuSans-49\"/>\n       <use transform=\"translate(63.623047 0.765625)\" xlink:href=\"#DejaVuSans-48\"/>\n       <use transform=\"translate(128.203125 39.046875)scale(0.7)\" xlink:href=\"#DejaVuSans-51\"/>\n      </g>\n     </g>\n    </g>\n    <g id=\"ytick_6\">\n     <g id=\"line2d_13\">\n      <g>\n       <use style=\"stroke:#000000;stroke-width:0.8;\" x=\"51.378125\" xlink:href=\"#m36001e0c38\" y=\"52.069101\"/>\n      </g>\n     </g>\n     <g id=\"text_14\">\n      <!-- $\\mathdefault{10^{5}}$ -->\n      <g transform=\"translate(26.778125 55.86832)scale(0.1 -0.1)\">\n       <use transform=\"translate(0 0.684375)\" xlink:href=\"#DejaVuSans-49\"/>\n       <use transform=\"translate(63.623047 0.684375)\" xlink:href=\"#DejaVuSans-48\"/>\n       <use transform=\"translate(128.203125 38.965625)scale(0.7)\" xlink:href=\"#DejaVuSans-53\"/>\n      </g>\n     </g>\n    </g>\n    <g id=\"ytick_7\">\n     <g id=\"line2d_14\">\n      <g>\n       <use style=\"stroke:#000000;stroke-width:0.8;\" x=\"51.378125\" xlink:href=\"#m36001e0c38\" y=\"22.156367\"/>\n      </g>\n     </g>\n     <g id=\"text_15\">\n      <!-- $\\mathdefault{10^{7}}$ -->\n      <g transform=\"translate(26.778125 25.955586)scale(0.1 -0.1)\">\n       <defs>\n        <path d=\"M 8.203125 72.90625 \nL 55.078125 72.90625 \nL 55.078125 68.703125 \nL 28.609375 0 \nL 18.3125 0 \nL 43.21875 64.59375 \nL 8.203125 64.59375 \nz\n\" id=\"DejaVuSans-55\"/>\n       </defs>\n       <use transform=\"translate(0 0.684375)\" xlink:href=\"#DejaVuSans-49\"/>\n       <use transform=\"translate(63.623047 0.684375)\" xlink:href=\"#DejaVuSans-48\"/>\n       <use transform=\"translate(128.203125 38.965625)scale(0.7)\" xlink:href=\"#DejaVuSans-55\"/>\n      </g>\n     </g>\n    </g>\n    <g id=\"text_16\">\n     <!-- y(E) -->\n     <g transform=\"translate(14.798438 125.940312)rotate(-90)scale(0.1 -0.1)\">\n      <use xlink:href=\"#DejaVuSans-121\"/>\n      <use x=\"59.179688\" xlink:href=\"#DejaVuSans-40\"/>\n      <use x=\"98.193359\" xlink:href=\"#DejaVuSans-69\"/>\n      <use x=\"161.376953\" xlink:href=\"#DejaVuSans-41\"/>\n     </g>\n    </g>\n   </g>\n   <g id=\"line2d_15\">\n    <path clip-path=\"url(#p3c9146f6d7)\" d=\"M 115.654697 -1 \nL 142.687216 196.801499 \nL 218.778125 83.697043 \nL 294.869034 81.602612 \nL 370.959943 80.02783 \n\" style=\"fill:none;stroke:#1f77b4;stroke-linecap:square;stroke-width:1.5;\"/>\n   </g>\n   <g id=\"patch_3\">\n    <path d=\"M 51.378125 224.64 \nL 51.378125 7.2 \n\" style=\"fill:none;stroke:#000000;stroke-linecap:square;stroke-linejoin:miter;stroke-width:0.8;\"/>\n   </g>\n   <g id=\"patch_4\">\n    <path d=\"M 386.178125 224.64 \nL 386.178125 7.2 \n\" style=\"fill:none;stroke:#000000;stroke-linecap:square;stroke-linejoin:miter;stroke-width:0.8;\"/>\n   </g>\n   <g id=\"patch_5\">\n    <path d=\"M 51.378125 224.64 \nL 386.178125 224.64 \n\" style=\"fill:none;stroke:#000000;stroke-linecap:square;stroke-linejoin:miter;stroke-width:0.8;\"/>\n   </g>\n   <g id=\"patch_6\">\n    <path d=\"M 51.378125 7.2 \nL 386.178125 7.2 \n\" style=\"fill:none;stroke:#000000;stroke-linecap:square;stroke-linejoin:miter;stroke-width:0.8;\"/>\n   </g>\n  </g>\n </g>\n <defs>\n  <clipPath id=\"p3c9146f6d7\">\n   <rect height=\"217.44\" width=\"334.8\" x=\"51.378125\" y=\"7.2\"/>\n  </clipPath>\n </defs>\n</svg>\n",
      "image/png": "[encoded data removed]"
     },
     "metadata": {
      "needs_background": "light"
     }
    }
   ],
   "source": [
    "import matplotlib.pyplot as plt\n",
    "\n",
    "plt.figure(dpi=150)\n",
    "plt.semilogy(energy_grid.grid, electron_spectrum)\n",
    "plt.ylim(0, 1e8)\n",
    "plt.xlabel(\"Energy (eV)\")\n",
    "plt.ylabel(\"y(E)\")"
   ]
  },
  {
   "cell_type": "code",
   "execution_count": 11,
   "metadata": {},
   "outputs": [
    {
     "output_type": "execute_result",
     "data": {
      "text/plain": [
       "array([3.54251767e+32, 2.10389657e-05, 7.67925711e+02, 1.06012060e+03,\n",
       "       1.35097409e+03])"
      ]
     },
     "metadata": {},
     "execution_count": 11
    }
   ],
   "source": [
    "electron_spectrum"
   ]
  },
  {
   "cell_type": "code",
   "execution_count": 12,
   "metadata": {
    "tags": []
   },
   "outputs": [
    {
     "output_type": "stream",
     "name": "stdout",
     "text": [
      "fractional_ionization_of_shell(n 2 l 1): \n",
      "0.0 (ionpot 13.6 eV)\n",
      "  cross section at 750.0750000 eV and 3000 eV 4.04e-17 and 1.45e-17\n",
      "fractional_ionization_of_shell(n 2 l 0): \n",
      "0.0 (ionpot 28.5 eV)\n",
      "  cross section at 750.0750000 eV and 3000 eV 9.57e-18 and 3.07e-18\n",
      "fractional_ionization_of_shell(n 2 l 1): \n",
      "0.015 (ionpot 35.1 eV)\n",
      "  cross section at 750.0750000 eV and 3000 eV 1.45e-17 and 5.01e-18\n",
      "fractional_ionization_of_shell(n 2 l 0): \n",
      "0.0072 (ionpot 42.6 eV)\n",
      "  cross section at 750.0750000 eV and 3000 eV 5.88e-18 and 1.96e-18\n",
      "fractional_ionization_of_shell(n 2 l 1): \n",
      "0.0 (ionpot 54.9 eV)\n",
      "  cross section at 750.0750000 eV and 3000 eV 6.50e-18 and 2.22e-18\n",
      "fractional_ionization_of_shell(n 2 l 0): \n",
      "0.0 (ionpot 63.8 eV)\n",
      "  cross section at 750.0750000 eV and 3000 eV 3.48e-18 and 1.22e-18\n",
      "fractional_ionization_of_shell(n 2 l 1): \n",
      "0.0 (ionpot 77.4 eV)\n",
      "  cross section at 750.0750000 eV and 3000 eV 2.06e-18 and 7.29e-19\n",
      "fractional_ionization_of_shell(n 2 l 0): \n",
      "0.0 (ionpot 87.6 eV)\n",
      "  cross section at 750.0750000 eV and 3000 eV 2.24e-18 and 8.23e-19\n",
      "fractional_ionization_of_shell(n 2 l 0): \n",
      "0.0 (ionpot 114.0 eV)\n",
      "  cross section at 750.0750000 eV and 3000 eV 1.61e-18 and 6.14e-19\n",
      "fractional_ionization_of_shell(n 1 l 0): \n",
      "0.0 (ionpot 644.0 eV)\n",
      "  cross section at 750.0750000 eV and 3000 eV 2.26e-20 and 6.73e-20\n",
      "fractional_ionization_of_shell(n 2 l 0): \n",
      "0.0 (ionpot 138.0 eV)\n",
      "  cross section at 750.0750000 eV and 3000 eV 6.14e-19 and 2.46e-19\n",
      "fractional_ionization_of_shell(n 1 l 0): \n",
      "0.0 (ionpot 670.0 eV)\n",
      "  cross section at 750.0750000 eV and 3000 eV 1.59e-20 and 6.30e-20\n",
      "fractional_ionization_of_shell(n 1 l 0): \n",
      "0.0 (ionpot 739.0 eV)\n",
      "  cross section at 750.0750000 eV and 3000 eV 1.91e-21 and 5.39e-20\n",
      "fractional_ionization_of_shell(n 1 l 0): \n",
      "0.0 (ionpot 871.0 eV)\n",
      "  cross section at 1500.0500000 eV and 3000 eV 1.71e-20 and 2.05e-20\n",
      "fraction excitation:  448963.46757768217\n",
      "fraction ionization:  0.022275557987217965\n",
      "fraction heating:  [0.22376993]\n"
     ]
    },
    {
     "output_type": "execute_result",
     "data": {
      "text/plain": [
       "(0.022275557987217965, 448963.46757768217, array([0.22376993]))"
      ]
     },
     "metadata": {},
     "execution_count": 12
    }
   ],
   "source": [
    "import tardis.energy_input.non_thermal_fractions as ntf\n",
    "\n",
    "ntf.total_fractions(energy_grid, electron_spectrum, transitions_dict, ion_collision_data, ion_populations, energy_deposition_density, electron_number_density,\n",
    "number_density)"
   ]
  },
  {
   "cell_type": "code",
   "execution_count": 13,
   "metadata": {},
   "outputs": [
    {
     "output_type": "error",
     "ename": "NameError",
     "evalue": "name 'x' is not defined",
     "traceback": [
      "\u001b[0;31m---------------------------------------------------------------------------\u001b[0m",
      "\u001b[0;31mNameError\u001b[0m                                 Traceback (most recent call last)",
      "\u001b[0;32m<ipython-input-13-9b49b0d5c0a8>\u001b[0m in \u001b[0;36m<module>\u001b[0;34m\u001b[0m\n\u001b[1;32m      1\u001b[0m \u001b[0;32mimport\u001b[0m \u001b[0mmatplotlib\u001b[0m\u001b[0;34m.\u001b[0m\u001b[0mpyplot\u001b[0m \u001b[0;32mas\u001b[0m \u001b[0mplt\u001b[0m\u001b[0;34m\u001b[0m\u001b[0;34m\u001b[0m\u001b[0m\n\u001b[1;32m      2\u001b[0m \u001b[0;34m\u001b[0m\u001b[0m\n\u001b[0;32m----> 3\u001b[0;31m \u001b[0mlevel\u001b[0m \u001b[0;34m=\u001b[0m \u001b[0mx\u001b[0m\u001b[0;34m.\u001b[0m\u001b[0mindex\u001b[0m\u001b[0;34m.\u001b[0m\u001b[0mget_level_values\u001b[0m\u001b[0;34m(\u001b[0m\u001b[0;34m\"level_number\"\u001b[0m\u001b[0;34m)\u001b[0m\u001b[0;34m\u001b[0m\u001b[0;34m\u001b[0m\u001b[0m\n\u001b[0m\u001b[1;32m      4\u001b[0m \u001b[0menergy\u001b[0m \u001b[0;34m=\u001b[0m \u001b[0mx\u001b[0m\u001b[0;34m.\u001b[0m\u001b[0menergy\u001b[0m\u001b[0;34m.\u001b[0m\u001b[0mvalues\u001b[0m\u001b[0;34m\u001b[0m\u001b[0;34m\u001b[0m\u001b[0m\n\u001b[1;32m      5\u001b[0m \u001b[0;34m\u001b[0m\u001b[0m\n",
      "\u001b[0;31mNameError\u001b[0m: name 'x' is not defined"
     ]
    }
   ],
   "source": [
    "import matplotlib.pyplot as plt\n",
    "\n",
    "level = x.index.get_level_values(\"level_number\")\n",
    "energy = x.energy.values\n",
    "\n",
    "plt.plot(level, energy, \".\")"
   ]
  },
  {
   "cell_type": "code",
   "execution_count": 10,
   "metadata": {},
   "outputs": [
    {
     "output_type": "execute_result",
     "data": {
      "text/plain": [
       "                                                 0             1   \\\n",
       "atomic_number ion_number level_number                               \n",
       "8             0          0             5.000000e+00  5.000000e+00   \n",
       "                         1             2.932256e+00  2.931760e+00   \n",
       "                         2             9.677744e-01  9.675397e-01   \n",
       "                         3             5.063458e-01  4.978298e-01   \n",
       "                         4             7.621496e-03  7.351105e-03   \n",
       "...                                             ...           ...   \n",
       "              5          37            4.462813e-66  1.449121e-66   \n",
       "                         38            6.681673e-66  2.169577e-66   \n",
       "              6          0             1.000000e+00  1.000000e+00   \n",
       "              7          0             2.000000e+00  2.000000e+00   \n",
       "              8          0             1.000000e+00  1.000000e+00   \n",
       "\n",
       "                                                 2             3   \\\n",
       "atomic_number ion_number level_number                               \n",
       "8             0          0             5.000000e+00  5.000000e+00   \n",
       "                         1             2.931562e+00  2.931414e+00   \n",
       "                         2             9.674458e-01  9.673755e-01   \n",
       "                         3             4.944648e-01  4.919580e-01   \n",
       "                         4             7.245693e-03  7.167688e-03   \n",
       "...                                             ...           ...   \n",
       "              5          37            9.242160e-67  6.597690e-67   \n",
       "                         38            1.383699e-66  9.877752e-67   \n",
       "              6          0             1.000000e+00  1.000000e+00   \n",
       "              7          0             2.000000e+00  2.000000e+00   \n",
       "              8          0             1.000000e+00  1.000000e+00   \n",
       "\n",
       "                                                 4             5   \\\n",
       "atomic_number ion_number level_number                               \n",
       "8             0          0             5.000000e+00  5.000000e+00   \n",
       "                         1             2.931290e+00  2.930971e+00   \n",
       "                         2             9.673170e-01  9.671661e-01   \n",
       "                         3             4.898835e-01  4.845686e-01   \n",
       "                         4             7.103473e-03  6.940354e-03   \n",
       "...                                             ...           ...   \n",
       "              5          37            4.985262e-67  2.418332e-67   \n",
       "                         38            7.463675e-67  3.620569e-67   \n",
       "              6          0             1.000000e+00  1.000000e+00   \n",
       "              7          0             2.000000e+00  2.000000e+00   \n",
       "              8          0             1.000000e+00  1.000000e+00   \n",
       "\n",
       "                                                 6             7   \\\n",
       "atomic_number ion_number level_number                               \n",
       "8             0          0             5.000000e+00  5.000000e+00   \n",
       "                         1             2.931095e+00  2.930985e+00   \n",
       "                         2             9.672248e-01  9.671729e-01   \n",
       "                         3             4.866299e-01  4.848068e-01   \n",
       "                         4             7.003379e-03  6.947621e-03   \n",
       "...                                             ...           ...   \n",
       "              5          37            3.204576e-67  2.498445e-67   \n",
       "                         38            4.797698e-67  3.740510e-67   \n",
       "              6          0             1.000000e+00  1.000000e+00   \n",
       "              7          0             2.000000e+00  2.000000e+00   \n",
       "              8          0             1.000000e+00  1.000000e+00   \n",
       "\n",
       "                                                 8             9   \\\n",
       "atomic_number ion_number level_number                               \n",
       "8             0          0             5.000000e+00  5.000000e+00   \n",
       "                         1             2.930957e+00  2.930705e+00   \n",
       "                         2             9.671593e-01  9.670400e-01   \n",
       "                         3             4.843303e-01  4.801731e-01   \n",
       "                         4             6.933087e-03  6.806967e-03   \n",
       "...                                             ...           ...   \n",
       "              5          37            2.340713e-67  1.321517e-67   \n",
       "                         38            3.504361e-67  1.978475e-67   \n",
       "              6          0             1.000000e+00  1.000000e+00   \n",
       "              7          0             2.000000e+00  2.000000e+00   \n",
       "              8          0             1.000000e+00  1.000000e+00   \n",
       "\n",
       "                                                 10            11  \\\n",
       "atomic_number ion_number level_number                               \n",
       "8             0          0             5.000000e+00  5.000000e+00   \n",
       "                         1             2.930538e+00  2.930317e+00   \n",
       "                         2             9.669614e-01  9.668564e-01   \n",
       "                         3             4.774505e-01  4.738414e-01   \n",
       "                         4             6.725035e-03  6.617238e-03   \n",
       "...                                             ...           ...   \n",
       "              5          37            9.063710e-68  5.479927e-68   \n",
       "                         38            1.356943e-67  8.204038e-68   \n",
       "              6          0             1.000000e+00  1.000000e+00   \n",
       "              7          0             2.000000e+00  2.000000e+00   \n",
       "              8          0             1.000000e+00  1.000000e+00   \n",
       "\n",
       "                                                 12            13  \\\n",
       "atomic_number ion_number level_number                               \n",
       "8             0          0             5.000000e+00  5.000000e+00   \n",
       "                         1             2.930161e+00  2.930029e+00   \n",
       "                         2             9.667826e-01  9.667205e-01   \n",
       "                         3             4.713200e-01  4.692061e-01   \n",
       "                         4             6.542476e-03  6.480145e-03   \n",
       "...                                             ...           ...   \n",
       "              5          37            3.846913e-68  2.855298e-68   \n",
       "                         38            5.759215e-68  4.274653e-68   \n",
       "              6          0             1.000000e+00  1.000000e+00   \n",
       "              7          0             2.000000e+00  2.000000e+00   \n",
       "              8          0             1.000000e+00  1.000000e+00   \n",
       "\n",
       "                                                 14            15  \\\n",
       "atomic_number ion_number level_number                               \n",
       "8             0          0             5.000000e+00  5.000000e+00   \n",
       "                         1             2.929961e+00  2.929777e+00   \n",
       "                         2             9.666879e-01  9.666013e-01   \n",
       "                         3             4.681022e-01  4.651778e-01   \n",
       "                         4             6.447719e-03  6.362238e-03   \n",
       "...                                             ...           ...   \n",
       "              5          37            2.442367e-68  1.611834e-68   \n",
       "                         38            3.656449e-68  2.413051e-68   \n",
       "              6          0             1.000000e+00  1.000000e+00   \n",
       "              7          0             2.000000e+00  2.000000e+00   \n",
       "              8          0             1.000000e+00  1.000000e+00   \n",
       "\n",
       "                                                 16            17  \\\n",
       "atomic_number ion_number level_number                               \n",
       "8             0          0             5.000000e+00  5.000000e+00   \n",
       "                         1             2.929530e+00  2.929353e+00   \n",
       "                         2             9.664842e-01  9.664006e-01   \n",
       "                         3             4.612568e-01  4.584758e-01   \n",
       "                         4             6.248575e-03  6.168618e-03   \n",
       "...                                             ...           ...   \n",
       "              5          37            9.194552e-69  6.156905e-69   \n",
       "                         38            1.376493e-68  9.217298e-69   \n",
       "              6          0             1.000000e+00  1.000000e+00   \n",
       "              7          0             2.000000e+00  2.000000e+00   \n",
       "              8          0             1.000000e+00  1.000000e+00   \n",
       "\n",
       "                                                 18            19  \n",
       "atomic_number ion_number level_number                              \n",
       "8             0          0             5.000000e+00  5.000000e+00  \n",
       "                         1             2.929192e+00  2.929065e+00  \n",
       "                         2             9.663241e-01  9.662643e-01  \n",
       "                         3             4.559445e-01  4.539769e-01  \n",
       "                         4             6.096312e-03  6.040423e-03  \n",
       "...                                             ...           ...  \n",
       "              5          37            4.264886e-69  3.201491e-69  \n",
       "                         38            6.384789e-69  4.792806e-69  \n",
       "              6          0             1.000000e+00  1.000000e+00  \n",
       "              7          0             2.000000e+00  2.000000e+00  \n",
       "              8          0             1.000000e+00  1.000000e+00  \n",
       "\n",
       "[749 rows x 20 columns]"
      ],
      "text/html": "<div>\n<style scoped>\n    .dataframe tbody tr th:only-of-type {\n        vertical-align: middle;\n    }\n\n    .dataframe tbody tr th {\n        vertical-align: top;\n    }\n\n    .dataframe thead th {\n        text-align: right;\n    }\n</style>\n<table border=\"1\" class=\"dataframe\">\n  <thead>\n    <tr style=\"text-align: right;\">\n      <th></th>\n      <th></th>\n      <th></th>\n      <th>0</th>\n      <th>1</th>\n      <th>2</th>\n      <th>3</th>\n      <th>4</th>\n      <th>5</th>\n      <th>6</th>\n      <th>7</th>\n      <th>8</th>\n      <th>9</th>\n      <th>10</th>\n      <th>11</th>\n      <th>12</th>\n      <th>13</th>\n      <th>14</th>\n      <th>15</th>\n      <th>16</th>\n      <th>17</th>\n      <th>18</th>\n      <th>19</th>\n    </tr>\n    <tr>\n      <th>atomic_number</th>\n      <th>ion_number</th>\n      <th>level_number</th>\n      <th></th>\n      <th></th>\n      <th></th>\n      <th></th>\n      <th></th>\n      <th></th>\n      <th></th>\n      <th></th>\n      <th></th>\n      <th></th>\n      <th></th>\n      <th></th>\n      <th></th>\n      <th></th>\n      <th></th>\n      <th></th>\n      <th></th>\n      <th></th>\n      <th></th>\n      <th></th>\n    </tr>\n  </thead>\n  <tbody>\n    <tr>\n      <th rowspan=\"11\" valign=\"top\">8</th>\n      <th rowspan=\"5\" valign=\"top\">0</th>\n      <th>0</th>\n      <td>5.000000e+00</td>\n      <td>5.000000e+00</td>\n      <td>5.000000e+00</td>\n      <td>5.000000e+00</td>\n      <td>5.000000e+00</td>\n      <td>5.000000e+00</td>\n      <td>5.000000e+00</td>\n      <td>5.000000e+00</td>\n      <td>5.000000e+00</td>\n      <td>5.000000e+00</td>\n      <td>5.000000e+00</td>\n      <td>5.000000e+00</td>\n      <td>5.000000e+00</td>\n      <td>5.000000e+00</td>\n      <td>5.000000e+00</td>\n      <td>5.000000e+00</td>\n      <td>5.000000e+00</td>\n      <td>5.000000e+00</td>\n      <td>5.000000e+00</td>\n      <td>5.000000e+00</td>\n    </tr>\n    <tr>\n      <th>1</th>\n      <td>2.932256e+00</td>\n      <td>2.931760e+00</td>\n      <td>2.931562e+00</td>\n      <td>2.931414e+00</td>\n      <td>2.931290e+00</td>\n      <td>2.930971e+00</td>\n      <td>2.931095e+00</td>\n      <td>2.930985e+00</td>\n      <td>2.930957e+00</td>\n      <td>2.930705e+00</td>\n      <td>2.930538e+00</td>\n      <td>2.930317e+00</td>\n      <td>2.930161e+00</td>\n      <td>2.930029e+00</td>\n      <td>2.929961e+00</td>\n      <td>2.929777e+00</td>\n      <td>2.929530e+00</td>\n      <td>2.929353e+00</td>\n      <td>2.929192e+00</td>\n      <td>2.929065e+00</td>\n    </tr>\n    <tr>\n      <th>2</th>\n      <td>9.677744e-01</td>\n      <td>9.675397e-01</td>\n      <td>9.674458e-01</td>\n      <td>9.673755e-01</td>\n      <td>9.673170e-01</td>\n      <td>9.671661e-01</td>\n      <td>9.672248e-01</td>\n      <td>9.671729e-01</td>\n      <td>9.671593e-01</td>\n      <td>9.670400e-01</td>\n      <td>9.669614e-01</td>\n      <td>9.668564e-01</td>\n      <td>9.667826e-01</td>\n      <td>9.667205e-01</td>\n      <td>9.666879e-01</td>\n      <td>9.666013e-01</td>\n      <td>9.664842e-01</td>\n      <td>9.664006e-01</td>\n      <td>9.663241e-01</td>\n      <td>9.662643e-01</td>\n    </tr>\n    <tr>\n      <th>3</th>\n      <td>5.063458e-01</td>\n      <td>4.978298e-01</td>\n      <td>4.944648e-01</td>\n      <td>4.919580e-01</td>\n      <td>4.898835e-01</td>\n      <td>4.845686e-01</td>\n      <td>4.866299e-01</td>\n      <td>4.848068e-01</td>\n      <td>4.843303e-01</td>\n      <td>4.801731e-01</td>\n      <td>4.774505e-01</td>\n      <td>4.738414e-01</td>\n      <td>4.713200e-01</td>\n      <td>4.692061e-01</td>\n      <td>4.681022e-01</td>\n      <td>4.651778e-01</td>\n      <td>4.612568e-01</td>\n      <td>4.584758e-01</td>\n      <td>4.559445e-01</td>\n      <td>4.539769e-01</td>\n    </tr>\n    <tr>\n      <th>4</th>\n      <td>7.621496e-03</td>\n      <td>7.351105e-03</td>\n      <td>7.245693e-03</td>\n      <td>7.167688e-03</td>\n      <td>7.103473e-03</td>\n      <td>6.940354e-03</td>\n      <td>7.003379e-03</td>\n      <td>6.947621e-03</td>\n      <td>6.933087e-03</td>\n      <td>6.806967e-03</td>\n      <td>6.725035e-03</td>\n      <td>6.617238e-03</td>\n      <td>6.542476e-03</td>\n      <td>6.480145e-03</td>\n      <td>6.447719e-03</td>\n      <td>6.362238e-03</td>\n      <td>6.248575e-03</td>\n      <td>6.168618e-03</td>\n      <td>6.096312e-03</td>\n      <td>6.040423e-03</td>\n    </tr>\n    <tr>\n      <th>...</th>\n      <th>...</th>\n      <td>...</td>\n      <td>...</td>\n      <td>...</td>\n      <td>...</td>\n      <td>...</td>\n      <td>...</td>\n      <td>...</td>\n      <td>...</td>\n      <td>...</td>\n      <td>...</td>\n      <td>...</td>\n      <td>...</td>\n      <td>...</td>\n      <td>...</td>\n      <td>...</td>\n      <td>...</td>\n      <td>...</td>\n      <td>...</td>\n      <td>...</td>\n      <td>...</td>\n    </tr>\n    <tr>\n      <th rowspan=\"2\" valign=\"top\">5</th>\n      <th>37</th>\n      <td>4.462813e-66</td>\n      <td>1.449121e-66</td>\n      <td>9.242160e-67</td>\n      <td>6.597690e-67</td>\n      <td>4.985262e-67</td>\n      <td>2.418332e-67</td>\n      <td>3.204576e-67</td>\n      <td>2.498445e-67</td>\n      <td>2.340713e-67</td>\n      <td>1.321517e-67</td>\n      <td>9.063710e-68</td>\n      <td>5.479927e-68</td>\n      <td>3.846913e-68</td>\n      <td>2.855298e-68</td>\n      <td>2.442367e-68</td>\n      <td>1.611834e-68</td>\n      <td>9.194552e-69</td>\n      <td>6.156905e-69</td>\n      <td>4.264886e-69</td>\n      <td>3.201491e-69</td>\n    </tr>\n    <tr>\n      <th>38</th>\n      <td>6.681673e-66</td>\n      <td>2.169577e-66</td>\n      <td>1.383699e-66</td>\n      <td>9.877752e-67</td>\n      <td>7.463675e-67</td>\n      <td>3.620569e-67</td>\n      <td>4.797698e-67</td>\n      <td>3.740510e-67</td>\n      <td>3.504361e-67</td>\n      <td>1.978475e-67</td>\n      <td>1.356943e-67</td>\n      <td>8.204038e-68</td>\n      <td>5.759215e-68</td>\n      <td>4.274653e-68</td>\n      <td>3.656449e-68</td>\n      <td>2.413051e-68</td>\n      <td>1.376493e-68</td>\n      <td>9.217298e-69</td>\n      <td>6.384789e-69</td>\n      <td>4.792806e-69</td>\n    </tr>\n    <tr>\n      <th>6</th>\n      <th>0</th>\n      <td>1.000000e+00</td>\n      <td>1.000000e+00</td>\n      <td>1.000000e+00</td>\n      <td>1.000000e+00</td>\n      <td>1.000000e+00</td>\n      <td>1.000000e+00</td>\n      <td>1.000000e+00</td>\n      <td>1.000000e+00</td>\n      <td>1.000000e+00</td>\n      <td>1.000000e+00</td>\n      <td>1.000000e+00</td>\n      <td>1.000000e+00</td>\n      <td>1.000000e+00</td>\n      <td>1.000000e+00</td>\n      <td>1.000000e+00</td>\n      <td>1.000000e+00</td>\n      <td>1.000000e+00</td>\n      <td>1.000000e+00</td>\n      <td>1.000000e+00</td>\n      <td>1.000000e+00</td>\n    </tr>\n    <tr>\n      <th>7</th>\n      <th>0</th>\n      <td>2.000000e+00</td>\n      <td>2.000000e+00</td>\n      <td>2.000000e+00</td>\n      <td>2.000000e+00</td>\n      <td>2.000000e+00</td>\n      <td>2.000000e+00</td>\n      <td>2.000000e+00</td>\n      <td>2.000000e+00</td>\n      <td>2.000000e+00</td>\n      <td>2.000000e+00</td>\n      <td>2.000000e+00</td>\n      <td>2.000000e+00</td>\n      <td>2.000000e+00</td>\n      <td>2.000000e+00</td>\n      <td>2.000000e+00</td>\n      <td>2.000000e+00</td>\n      <td>2.000000e+00</td>\n      <td>2.000000e+00</td>\n      <td>2.000000e+00</td>\n      <td>2.000000e+00</td>\n    </tr>\n    <tr>\n      <th>8</th>\n      <th>0</th>\n      <td>1.000000e+00</td>\n      <td>1.000000e+00</td>\n      <td>1.000000e+00</td>\n      <td>1.000000e+00</td>\n      <td>1.000000e+00</td>\n      <td>1.000000e+00</td>\n      <td>1.000000e+00</td>\n      <td>1.000000e+00</td>\n      <td>1.000000e+00</td>\n      <td>1.000000e+00</td>\n      <td>1.000000e+00</td>\n      <td>1.000000e+00</td>\n      <td>1.000000e+00</td>\n      <td>1.000000e+00</td>\n      <td>1.000000e+00</td>\n      <td>1.000000e+00</td>\n      <td>1.000000e+00</td>\n      <td>1.000000e+00</td>\n      <td>1.000000e+00</td>\n      <td>1.000000e+00</td>\n    </tr>\n  </tbody>\n</table>\n<p>749 rows × 20 columns</p>\n</div>"
     },
     "metadata": {},
     "execution_count": 10
    }
   ],
   "source": [
    "sim.plasma.level_boltzmann_factor"
   ]
  },
  {
   "cell_type": "code",
   "execution_count": 11,
   "metadata": {},
   "outputs": [
    {
     "output_type": "execute_result",
     "data": {
      "text/plain": [
       "                                0         1         2         3         4   \\\n",
       "atomic_number ion_number                                                     \n",
       "8             0           9.414450  9.404892  9.401114  9.398299  9.395969   \n",
       "              1           4.225967  4.219335  4.216739  4.214814  4.213227   \n",
       "              2           9.007027  8.999164  8.996058  8.993744  8.991830   \n",
       "              3           5.783713  5.782124  5.781490  5.781014  5.780619   \n",
       "              4           1.000063  1.000058  1.000056  1.000054  1.000053   \n",
       "              5           2.000005  2.000005  2.000004  2.000004  2.000004   \n",
       "              6           1.000000  1.000000  1.000000  1.000000  1.000000   \n",
       "              7           2.000000  2.000000  2.000000  2.000000  2.000000   \n",
       "              8           1.000000  1.000000  1.000000  1.000000  1.000000   \n",
       "\n",
       "                                5         6         7         8         9   \\\n",
       "atomic_number ion_number                                                     \n",
       "8             0           9.389999  9.392314  9.390266  9.389731  9.385060   \n",
       "              1           4.209185  4.210748  4.209365  4.209004  4.205868   \n",
       "              2           8.986924  8.988827  8.987144  8.986705  8.982868   \n",
       "              3           5.779600  5.779997  5.779646  5.779555  5.778750   \n",
       "              4           1.000050  1.000051  1.000050  1.000050  1.000048   \n",
       "              5           2.000004  2.000004  2.000004  2.000004  2.000004   \n",
       "              6           1.000000  1.000000  1.000000  1.000000  1.000000   \n",
       "              7           2.000000  2.000000  2.000000  2.000000  2.000000   \n",
       "              8           1.000000  1.000000  1.000000  1.000000  1.000000   \n",
       "\n",
       "                                10        11        12        13        14  \\\n",
       "atomic_number ion_number                                                     \n",
       "8             0           9.382000  9.377943  9.375108  9.372730  9.371489   \n",
       "              1           4.203825  4.201131  4.199259  4.197695  4.196881   \n",
       "              2           8.980355  8.977025  8.974697  8.972746  8.971727   \n",
       "              3           5.778220  5.777513  5.777016  5.776597  5.776378   \n",
       "              4           1.000047  1.000045  1.000044  1.000043  1.000042   \n",
       "              5           2.000004  2.000003  2.000003  2.000003  2.000003   \n",
       "              6           1.000000  1.000000  1.000000  1.000000  1.000000   \n",
       "              7           2.000000  2.000000  2.000000  2.000000  2.000000   \n",
       "              8           1.000000  1.000000  1.000000  1.000000  1.000000   \n",
       "\n",
       "                                15        16        17        18        19  \n",
       "atomic_number ion_number                                                    \n",
       "8             0           9.368199  9.363787  9.360657  9.357807  9.355591  \n",
       "              1           4.194730  4.191864  4.189842  4.188010  4.186592  \n",
       "              2           8.969028  8.965409  8.962841  8.960504  8.958687  \n",
       "              3           5.775795  5.775008  5.774446  5.773932  5.773530  \n",
       "              4           1.000041  1.000039  1.000038  1.000037  1.000036  \n",
       "              5           2.000003  2.000003  2.000003  2.000003  2.000003  \n",
       "              6           1.000000  1.000000  1.000000  1.000000  1.000000  \n",
       "              7           2.000000  2.000000  2.000000  2.000000  2.000000  \n",
       "              8           1.000000  1.000000  1.000000  1.000000  1.000000  "
      ],
      "text/html": "<div>\n<style scoped>\n    .dataframe tbody tr th:only-of-type {\n        vertical-align: middle;\n    }\n\n    .dataframe tbody tr th {\n        vertical-align: top;\n    }\n\n    .dataframe thead th {\n        text-align: right;\n    }\n</style>\n<table border=\"1\" class=\"dataframe\">\n  <thead>\n    <tr style=\"text-align: right;\">\n      <th></th>\n      <th></th>\n      <th>0</th>\n      <th>1</th>\n      <th>2</th>\n      <th>3</th>\n      <th>4</th>\n      <th>5</th>\n      <th>6</th>\n      <th>7</th>\n      <th>8</th>\n      <th>9</th>\n      <th>10</th>\n      <th>11</th>\n      <th>12</th>\n      <th>13</th>\n      <th>14</th>\n      <th>15</th>\n      <th>16</th>\n      <th>17</th>\n      <th>18</th>\n      <th>19</th>\n    </tr>\n    <tr>\n      <th>atomic_number</th>\n      <th>ion_number</th>\n      <th></th>\n      <th></th>\n      <th></th>\n      <th></th>\n      <th></th>\n      <th></th>\n      <th></th>\n      <th></th>\n      <th></th>\n      <th></th>\n      <th></th>\n      <th></th>\n      <th></th>\n      <th></th>\n      <th></th>\n      <th></th>\n      <th></th>\n      <th></th>\n      <th></th>\n      <th></th>\n    </tr>\n  </thead>\n  <tbody>\n    <tr>\n      <th rowspan=\"9\" valign=\"top\">8</th>\n      <th>0</th>\n      <td>9.414450</td>\n      <td>9.404892</td>\n      <td>9.401114</td>\n      <td>9.398299</td>\n      <td>9.395969</td>\n      <td>9.389999</td>\n      <td>9.392314</td>\n      <td>9.390266</td>\n      <td>9.389731</td>\n      <td>9.385060</td>\n      <td>9.382000</td>\n      <td>9.377943</td>\n      <td>9.375108</td>\n      <td>9.372730</td>\n      <td>9.371489</td>\n      <td>9.368199</td>\n      <td>9.363787</td>\n      <td>9.360657</td>\n      <td>9.357807</td>\n      <td>9.355591</td>\n    </tr>\n    <tr>\n      <th>1</th>\n      <td>4.225967</td>\n      <td>4.219335</td>\n      <td>4.216739</td>\n      <td>4.214814</td>\n      <td>4.213227</td>\n      <td>4.209185</td>\n      <td>4.210748</td>\n      <td>4.209365</td>\n      <td>4.209004</td>\n      <td>4.205868</td>\n      <td>4.203825</td>\n      <td>4.201131</td>\n      <td>4.199259</td>\n      <td>4.197695</td>\n      <td>4.196881</td>\n      <td>4.194730</td>\n      <td>4.191864</td>\n      <td>4.189842</td>\n      <td>4.188010</td>\n      <td>4.186592</td>\n    </tr>\n    <tr>\n      <th>2</th>\n      <td>9.007027</td>\n      <td>8.999164</td>\n      <td>8.996058</td>\n      <td>8.993744</td>\n      <td>8.991830</td>\n      <td>8.986924</td>\n      <td>8.988827</td>\n      <td>8.987144</td>\n      <td>8.986705</td>\n      <td>8.982868</td>\n      <td>8.980355</td>\n      <td>8.977025</td>\n      <td>8.974697</td>\n      <td>8.972746</td>\n      <td>8.971727</td>\n      <td>8.969028</td>\n      <td>8.965409</td>\n      <td>8.962841</td>\n      <td>8.960504</td>\n      <td>8.958687</td>\n    </tr>\n    <tr>\n      <th>3</th>\n      <td>5.783713</td>\n      <td>5.782124</td>\n      <td>5.781490</td>\n      <td>5.781014</td>\n      <td>5.780619</td>\n      <td>5.779600</td>\n      <td>5.779997</td>\n      <td>5.779646</td>\n      <td>5.779555</td>\n      <td>5.778750</td>\n      <td>5.778220</td>\n      <td>5.777513</td>\n      <td>5.777016</td>\n      <td>5.776597</td>\n      <td>5.776378</td>\n      <td>5.775795</td>\n      <td>5.775008</td>\n      <td>5.774446</td>\n      <td>5.773932</td>\n      <td>5.773530</td>\n    </tr>\n    <tr>\n      <th>4</th>\n      <td>1.000063</td>\n      <td>1.000058</td>\n      <td>1.000056</td>\n      <td>1.000054</td>\n      <td>1.000053</td>\n      <td>1.000050</td>\n      <td>1.000051</td>\n      <td>1.000050</td>\n      <td>1.000050</td>\n      <td>1.000048</td>\n      <td>1.000047</td>\n      <td>1.000045</td>\n      <td>1.000044</td>\n      <td>1.000043</td>\n      <td>1.000042</td>\n      <td>1.000041</td>\n      <td>1.000039</td>\n      <td>1.000038</td>\n      <td>1.000037</td>\n      <td>1.000036</td>\n    </tr>\n    <tr>\n      <th>5</th>\n      <td>2.000005</td>\n      <td>2.000005</td>\n      <td>2.000004</td>\n      <td>2.000004</td>\n      <td>2.000004</td>\n      <td>2.000004</td>\n      <td>2.000004</td>\n      <td>2.000004</td>\n      <td>2.000004</td>\n      <td>2.000004</td>\n      <td>2.000004</td>\n      <td>2.000003</td>\n      <td>2.000003</td>\n      <td>2.000003</td>\n      <td>2.000003</td>\n      <td>2.000003</td>\n      <td>2.000003</td>\n      <td>2.000003</td>\n      <td>2.000003</td>\n      <td>2.000003</td>\n    </tr>\n    <tr>\n      <th>6</th>\n      <td>1.000000</td>\n      <td>1.000000</td>\n      <td>1.000000</td>\n      <td>1.000000</td>\n      <td>1.000000</td>\n      <td>1.000000</td>\n      <td>1.000000</td>\n      <td>1.000000</td>\n      <td>1.000000</td>\n      <td>1.000000</td>\n      <td>1.000000</td>\n      <td>1.000000</td>\n      <td>1.000000</td>\n      <td>1.000000</td>\n      <td>1.000000</td>\n      <td>1.000000</td>\n      <td>1.000000</td>\n      <td>1.000000</td>\n      <td>1.000000</td>\n      <td>1.000000</td>\n    </tr>\n    <tr>\n      <th>7</th>\n      <td>2.000000</td>\n      <td>2.000000</td>\n      <td>2.000000</td>\n      <td>2.000000</td>\n      <td>2.000000</td>\n      <td>2.000000</td>\n      <td>2.000000</td>\n      <td>2.000000</td>\n      <td>2.000000</td>\n      <td>2.000000</td>\n      <td>2.000000</td>\n      <td>2.000000</td>\n      <td>2.000000</td>\n      <td>2.000000</td>\n      <td>2.000000</td>\n      <td>2.000000</td>\n      <td>2.000000</td>\n      <td>2.000000</td>\n      <td>2.000000</td>\n      <td>2.000000</td>\n    </tr>\n    <tr>\n      <th>8</th>\n      <td>1.000000</td>\n      <td>1.000000</td>\n      <td>1.000000</td>\n      <td>1.000000</td>\n      <td>1.000000</td>\n      <td>1.000000</td>\n      <td>1.000000</td>\n      <td>1.000000</td>\n      <td>1.000000</td>\n      <td>1.000000</td>\n      <td>1.000000</td>\n      <td>1.000000</td>\n      <td>1.000000</td>\n      <td>1.000000</td>\n      <td>1.000000</td>\n      <td>1.000000</td>\n      <td>1.000000</td>\n      <td>1.000000</td>\n      <td>1.000000</td>\n      <td>1.000000</td>\n    </tr>\n  </tbody>\n</table>\n</div>"
     },
     "metadata": {},
     "execution_count": 11
    }
   ],
   "source": [
    "sim.plasma.partition_function"
   ]
  },
  {
   "cell_type": "code",
   "execution_count": 12,
   "metadata": {},
   "outputs": [
    {
     "output_type": "execute_result",
     "data": {
      "text/plain": [
       "atomic_number  ion_number\n",
       "8              0             9.414450\n",
       "               1             4.225967\n",
       "               2             9.007027\n",
       "               3             5.783713\n",
       "               4             1.000063\n",
       "               5             2.000005\n",
       "               6             1.000000\n",
       "               7             2.000000\n",
       "               8             1.000000\n",
       "Name: 0, dtype: float64"
      ]
     },
     "metadata": {},
     "execution_count": 12
    }
   ],
   "source": [
    "sim.plasma.partition_function.loc[:, 0]"
   ]
  },
  {
   "cell_type": "code",
   "execution_count": 13,
   "metadata": {},
   "outputs": [
    {
     "output_type": "error",
     "ename": "NameError",
     "evalue": "name 'ion' is not defined",
     "traceback": [
      "\u001b[0;31m---------------------------------------------------------------------------\u001b[0m",
      "\u001b[0;31mNameError\u001b[0m                                 Traceback (most recent call last)",
      "\u001b[0;32m<ipython-input-13-2f85ad4d1b9d>\u001b[0m in \u001b[0;36m<module>\u001b[0;34m\u001b[0m\n\u001b[0;32m----> 1\u001b[0;31m \u001b[0mion\u001b[0m\u001b[0;34m.\u001b[0m\u001b[0mname\u001b[0m\u001b[0;34m\u001b[0m\u001b[0;34m\u001b[0m\u001b[0m\n\u001b[0m",
      "\u001b[0;31mNameError\u001b[0m: name 'ion' is not defined"
     ]
    }
   ],
   "source": [
    "ion.name"
   ]
  },
  {
   "cell_type": "code",
   "execution_count": 1,
   "metadata": {},
   "outputs": [
    {
     "output_type": "error",
     "ename": "NameError",
     "evalue": "name 'sim' is not defined",
     "traceback": [
      "\u001b[0;31m---------------------------------------------------------------------------\u001b[0m",
      "\u001b[0;31mNameError\u001b[0m                                 Traceback (most recent call last)",
      "\u001b[0;32m<ipython-input-1-66a562ceddbc>\u001b[0m in \u001b[0;36m<module>\u001b[0;34m\u001b[0m\n\u001b[0;32m----> 1\u001b[0;31m \u001b[0matomic_transition_data\u001b[0m \u001b[0;34m=\u001b[0m \u001b[0msim\u001b[0m\u001b[0;34m.\u001b[0m\u001b[0mplasma\u001b[0m\u001b[0;34m.\u001b[0m\u001b[0matomic_data\u001b[0m\u001b[0;34m.\u001b[0m\u001b[0mmacro_atom_data\u001b[0m\u001b[0;34m\u001b[0m\u001b[0;34m\u001b[0m\u001b[0m\n\u001b[0m",
      "\u001b[0;31mNameError\u001b[0m: name 'sim' is not defined"
     ]
    }
   ],
   "source": [
    "atomic_transition_data = sim.plasma.atomic_data.macro_atom_data"
   ]
  },
  {
   "cell_type": "code",
   "execution_count": 11,
   "metadata": {},
   "outputs": [],
   "source": [
    "atomic_number = 8\n",
    "ion_number = 0\n",
    "\n",
    "ion = atomic_transition_data.query(\n",
    "            \"atomic_number == @atomic_number and ion_number == @ion_number\"\n",
    "        )"
   ]
  },
  {
   "cell_type": "code",
   "execution_count": 39,
   "metadata": {
    "tags": []
   },
   "outputs": [
    {
     "output_type": "stream",
     "name": "stdout",
     "text": [
      "2562\n"
     ]
    }
   ],
   "source": [
    "levels = sim.plasma.atomic_data.levels.query(\n",
    "            \"ion_number == 0\" + \" and atomic_number == 8\"\n",
    "        )\n",
    "\n",
    "ion = sim.plasma.atomic_data.macro_atom_data.query(\n",
    "            \"atomic_number == 8 and ion_number == 0\"\n",
    "        )\n",
    "\n",
    "print(len(ion))\n",
    "\n",
    "src_energy= []\n",
    "dest_energy= []\n",
    "\n",
    "for level_id in ion[\"destination_level_number\"]:\n",
    "    dest_energy.append(levels.query('level_number == @level_id').energy.values)\n",
    "\n",
    "for level_id in ion[\"source_level_number\"]:\n",
    "    src_energy.append(levels.query('level_number == @level_id').energy.values)\n",
    "\n"
   ]
  },
  {
   "cell_type": "code",
   "execution_count": 43,
   "metadata": {},
   "outputs": [
    {
     "output_type": "execute_result",
     "data": {
      "text/plain": [
       "array([[ True],\n",
       "       [ True],\n",
       "       [ True],\n",
       "       ...,\n",
       "       [False],\n",
       "       [False],\n",
       "       [False]])"
      ]
     },
     "metadata": {},
     "execution_count": 43
    }
   ],
   "source": [
    "np.array(dest_energy) - np.array(src_energy) > 0"
   ]
  },
  {
   "cell_type": "code",
   "execution_count": null,
   "metadata": {},
   "outputs": [],
   "source": []
  }
 ]
}