{
 "cells": [
  {
   "cell_type": "code",
   "execution_count": 1,
   "metadata": {},
   "outputs": [
    {
     "data": {
      "application/vnd.jupyter.widget-view+json": {
       "model_id": "",
       "version_major": 2,
       "version_minor": 0
      },
      "text/plain": [
       "Iterations:          0/? [00:00<?, ?it/s]"
      ]
     },
     "metadata": {},
     "output_type": "display_data"
    },
    {
     "data": {
      "application/vnd.jupyter.widget-view+json": {
       "model_id": "",
       "version_major": 2,
       "version_minor": 0
      },
      "text/plain": [
       "Packets:             0/? [00:00<?, ?it/s]"
      ]
     },
     "metadata": {},
     "output_type": "display_data"
    }
   ],
   "source": [
    "from tardis.workflows.standard_simulation_solver import StandardSimulationSolver\n",
    "from tardis.workflows.v_inner_simulation_solver import InnerVelocitySimulationSolver\n",
    "from tardis.io.configuration.config_reader import Configuration"
   ]
  },
  {
   "cell_type": "code",
   "execution_count": 2,
   "metadata": {},
   "outputs": [
    {
     "data": {
      "text/plain": [
       "(<Quantity [0., 1., 2., 3., 4., 5., 6., 7., 8., 9.] K>,\n",
       " <Quantity [2.561e-320, 3.067e-320, 3.573e-320, 4.079e-320, 4.332e-320] K>,\n",
       " <Quantity [5., 6., 7., 8., 9.] K>,\n",
       " <Quantity [0.00000e+000, 3.03865e-319, 3.16202e-322, 1.04347e-320,\n",
       "            2.05531e-320, 2.56124e-320, 3.06716e-320, 3.57308e-320,\n",
       "            4.07901e-320, 4.33197e-320] K>)"
      ]
     },
     "execution_count": 2,
     "metadata": {},
     "output_type": "execute_result"
    }
   ],
   "source": [
    "import numpy as np\n",
    "from functools import reduce\n",
    "from astropy import units as u\n",
    "import numpy.ma as ma\n",
    "\n",
    "a = np.arange(10) * u.K\n",
    "b = a[5:]\n",
    "c = a[4:-1]\n",
    "\n",
    "b.base, b.newbyteorder(), b, b.base.newbyteorder()\n"
   ]
  },
  {
   "cell_type": "code",
   "execution_count": 3,
   "metadata": {},
   "outputs": [
    {
     "data": {
      "text/latex": [
       "$[0,~2,~4,~6,~8,~10,~12,~14,~16,~18] \\; \\mathrm{K}$"
      ],
      "text/plain": [
       "<Quantity [ 0.,  2.,  4.,  6.,  8., 10., 12., 14., 16., 18.] K>"
      ]
     },
     "execution_count": 3,
     "metadata": {},
     "output_type": "execute_result"
    }
   ],
   "source": [
    "d = ma.masked_array(a, mask=np.zeros(10, dtype=bool))\n",
    "d, d.data\n",
    "\n",
    "(d * 2).data\n"
   ]
  },
  {
   "cell_type": "code",
   "execution_count": 4,
   "metadata": {},
   "outputs": [
    {
     "data": {
      "text/plain": [
       "[<Quantity [5., 6., 7., 8.] K>, <Quantity [5., 6., 7., 8.] K>]"
      ]
     },
     "execution_count": 4,
     "metadata": {},
     "output_type": "execute_result"
    }
   ],
   "source": [
    "def reproject(*arrs):\n",
    "\n",
    "    masks = []\n",
    "    for a in arrs:\n",
    "        base_byteorder = a.base.newbyteorder()\n",
    "        current_byteorder = a.newbyteorder()\n",
    "        if hasattr(current_byteorder, 'unit'):\n",
    "            current_byteorder = current_byteorder.value\n",
    "        if hasattr(base_byteorder, 'unit'):\n",
    "            base_byteorder = base_byteorder.value\n",
    "        position_mask = np.in1d(base_byteorder, current_byteorder)\n",
    "        masks.append(position_mask)\n",
    "\n",
    "    joint_mask = reduce(np.ndarray.__and__, masks)\n",
    "    outputs = []\n",
    "    for a in arrs:\n",
    "        a_joined = a.base[joint_mask]\n",
    "        if not hasattr(a_joined, 'unit') and hasattr(a, 'unit'):\n",
    "            a_joined = a_joined * a.unit\n",
    "        outputs.append(a_joined)\n",
    "    return outputs\n",
    "reproject(b, c)"
   ]
  },
  {
   "cell_type": "code",
   "execution_count": 5,
   "metadata": {},
   "outputs": [
    {
     "data": {
      "text/plain": [
       "[<Quantity [5., 6., 7., 8., 9.] K>, <Quantity [5., 6., 7., 8., 9.] K>]"
      ]
     },
     "execution_count": 5,
     "metadata": {},
     "output_type": "execute_result"
    }
   ],
   "source": [
    "reproject(a, b)"
   ]
  },
  {
   "cell_type": "code",
   "execution_count": 6,
   "metadata": {},
   "outputs": [],
   "source": [
    "config = Configuration.from_yaml('../tardis_example.yml')\n"
   ]
  },
  {
   "cell_type": "code",
   "execution_count": 7,
   "metadata": {},
   "outputs": [
    {
     "name": "stderr",
     "output_type": "stream",
     "text": [
      "Number of density points larger than number of shells. Assuming inner point irrelevant\n"
     ]
    }
   ],
   "source": [
    "solver = InnerVelocitySimulationSolver(config)"
   ]
  },
  {
   "cell_type": "code",
   "execution_count": 8,
   "metadata": {},
   "outputs": [
    {
     "name": "stderr",
     "output_type": "stream",
     "text": [
      "/home/jobrien/Documents/soft/tardis/tardis/transport/montecarlo/montecarlo_main_loop.py:142: NumbaTypeSafetyWarning: \u001b[1m\u001b[1m\u001b[1munsafe cast from uint64 to int64. Precision may be lost.\u001b[0m\u001b[0m\u001b[0m\n",
      "  vpacket_collection = vpacket_collections[i]\n"
     ]
    },
    {
     "name": "stdout",
     "output_type": "stream",
     "text": [
      "Emitted Luminosity: 1.641184580261326e+42 erg / s\n",
      "1058871589.2676698 cm / s\n",
      "{'t_radiative': <Quantity [12625.037612  , 12860.53394613, 12980.79070524, 13215.76366688,\n",
      "           13363.89878945, 13657.14421301, 13763.63823313, 13804.67011851,\n",
      "           13958.82452403, 14072.71071308, 14170.37621888, 14284.27251711,\n",
      "           14254.01748483, 14271.4519333 , 14326.51256447, 14413.81498266,\n",
      "           14436.60593629, 14298.86614474, 14369.33440387, 14455.37717072,\n",
      "           14281.61044524, 14315.33110458, 14398.72767221, 14248.36704032,\n",
      "           14299.58975802, 14131.11483101, 14011.09856031, 14172.95687047,\n",
      "           14053.30885316, 14104.26525104, 13950.492525  , 14083.66093865,\n",
      "           13958.00574775, 13835.47644023, 13842.33838291, 13733.92571628,\n",
      "           13628.17158291, 13524.38615799, 13696.73931507, 13697.48811155,\n",
      "           13665.86456317, 13544.81069125, 13464.140919  , 13283.55314878,\n",
      "           13081.62886491, 12956.89458443, 12817.44163039, 12691.15610746,\n",
      "           12595.21808795, 12518.88526376] K>, 'dilution_factor': array([0.75315882, 0.54126539, 0.40566584, 0.29877871, 0.22794476,\n",
      "       0.16889808, 0.1327069 , 0.10882525, 0.08733157, 0.07070244,\n",
      "       0.05791282, 0.04961338, 0.0423656 , 0.03693441, 0.03194851,\n",
      "       0.02707658, 0.0242623 , 0.02257652, 0.019637  , 0.01737946,\n",
      "       0.01657579, 0.01535852, 0.01360658, 0.01314051, 0.01210897,\n",
      "       0.01183055, 0.01135728, 0.01016923, 0.0098964 , 0.00913285,\n",
      "       0.00882523, 0.00811379, 0.00789615, 0.00773205, 0.0073003 ,\n",
      "       0.0070372 , 0.00692124, 0.0067555 , 0.00618513, 0.00589739,\n",
      "       0.00568776, 0.00561328, 0.00549889, 0.00548556, 0.00553385,\n",
      "       0.00545875, 0.00543757, 0.00538305, 0.00533239, 0.00524928]), 't_inner': <Quantity 31637.00080678 K>, 'v_inner_boundary': <Quantity 1.05887159e+09 cm / s>}\n",
      "key t_radiative\n",
      "[12447.47021787 12436.68896743 12425.92637697 12415.18239809\n",
      " 12404.45698255 12393.75008229 12383.06164939 12372.39163613\n",
      " 12361.73999493 12351.10667837 12340.49163922 12329.89483038\n",
      " 12319.31620494 12308.75571613 12298.21331736 12287.68896217\n",
      " 12277.18260428 12266.69419758 12256.22369608 12245.77105399\n",
      " 12235.33622564 12224.91916554 12214.51982834 12204.13816886\n",
      " 12193.77414204 12183.42770302 12173.09880706 12162.78740957\n",
      " 12152.49346613 12142.21693246 12131.95776444 12121.71591807\n",
      " 12111.49134953 12101.28401513 12091.09387134 12080.92087477\n",
      " 12070.76498217 12060.62615044 12050.50433662 12040.39949791\n",
      " 12030.31159164 12020.24057529 12010.18640647 12000.14904294\n",
      " 11990.1284426  11980.1245635  11970.13736382 11960.16680187\n",
      " 11950.21283611 11940.27542515] K\n",
      "[12625.037612   12860.53394613 12980.79070524 13215.76366688\n",
      " 13363.89878945 13657.14421301 13763.63823313 13804.67011851\n",
      " 13958.82452403 14072.71071308 14170.37621888 14284.27251711\n",
      " 14254.01748483 14271.4519333  14326.51256447 14413.81498266\n",
      " 14436.60593629 14298.86614474 14369.33440387 14455.37717072\n",
      " 14281.61044524 14315.33110458 14398.72767221 14248.36704032\n",
      " 14299.58975802 14131.11483101 14011.09856031 14172.95687047\n",
      " 14053.30885316 14104.26525104 13950.492525   14083.66093865\n",
      " 13958.00574775 13835.47644023 13842.33838291 13733.92571628\n",
      " 13628.17158291 13524.38615799 13696.73931507 13697.48811155\n",
      " 13665.86456317 13544.81069125 13464.140919   13283.55314878\n",
      " 13081.62886491 12956.89458443 12817.44163039 12691.15610746\n",
      " 12595.21808795 12518.88526376] K\n",
      "t_radiative has __len__\n",
      "key dilution_factor\n",
      "[0.40495632 0.3397167  0.29831014 0.26716244 0.24216987 0.22139211\n",
      " 0.20371815 0.1884379  0.17506386 0.16324403 0.15271465 0.14327233\n",
      " 0.13475661 0.12703857 0.12001304 0.1135931  0.10770609 0.10229077\n",
      " 0.09729498 0.09267407 0.08838949 0.08440779 0.0806998  0.07723994\n",
      " 0.07400566 0.07097705 0.06813641 0.06546799 0.06295771 0.06059294\n",
      " 0.05836233 0.05625565 0.05426365 0.05237796 0.05059096 0.04889573\n",
      " 0.04728596 0.04575589 0.04430023 0.04291415 0.0415932  0.0403333\n",
      " 0.03913068 0.03798185 0.03688362 0.035833   0.03482725 0.03386381\n",
      " 0.03294031 0.03205453]\n",
      "[0.75315882 0.54126539 0.40566584 0.29877871 0.22794476 0.16889808\n",
      " 0.1327069  0.10882525 0.08733157 0.07070244 0.05791282 0.04961338\n",
      " 0.0423656  0.03693441 0.03194851 0.02707658 0.0242623  0.02257652\n",
      " 0.019637   0.01737946 0.01657579 0.01535852 0.01360658 0.01314051\n",
      " 0.01210897 0.01183055 0.01135728 0.01016923 0.0098964  0.00913285\n",
      " 0.00882523 0.00811379 0.00789615 0.00773205 0.0073003  0.0070372\n",
      " 0.00692124 0.0067555  0.00618513 0.00589739 0.00568776 0.00561328\n",
      " 0.00549889 0.00548556 0.00553385 0.00545875 0.00543757 0.00538305\n",
      " 0.00533239 0.00524928]\n",
      "dilution_factor has __len__\n",
      "key t_inner\n",
      "12452.867855751114 K\n",
      "31637.000806776872 K\n",
      "key v_inner_boundary\n",
      "700000000.0 cm / s\n",
      "1058871589.2676698 cm / s\n",
      "next v_inner 789717897.3169174 cm / s\n"
     ]
    },
    {
     "ename": "KeyError",
     "evalue": "'lines'",
     "output_type": "error",
     "traceback": [
      "\u001b[0;31m---------------------------------------------------------------------------\u001b[0m",
      "\u001b[0;31mKeyError\u001b[0m                                  Traceback (most recent call last)",
      "File \u001b[0;32m~/miniconda3/envs/tardis/lib/python3.12/site-packages/pandas/core/indexes/base.py:3805\u001b[0m, in \u001b[0;36mIndex.get_loc\u001b[0;34m(self, key)\u001b[0m\n\u001b[1;32m   3804\u001b[0m \u001b[38;5;28;01mtry\u001b[39;00m:\n\u001b[0;32m-> 3805\u001b[0m     \u001b[38;5;28;01mreturn\u001b[39;00m \u001b[38;5;28;43mself\u001b[39;49m\u001b[38;5;241;43m.\u001b[39;49m\u001b[43m_engine\u001b[49m\u001b[38;5;241;43m.\u001b[39;49m\u001b[43mget_loc\u001b[49m\u001b[43m(\u001b[49m\u001b[43mcasted_key\u001b[49m\u001b[43m)\u001b[49m\n\u001b[1;32m   3806\u001b[0m \u001b[38;5;28;01mexcept\u001b[39;00m \u001b[38;5;167;01mKeyError\u001b[39;00m \u001b[38;5;28;01mas\u001b[39;00m err:\n",
      "File \u001b[0;32mindex.pyx:167\u001b[0m, in \u001b[0;36mpandas._libs.index.IndexEngine.get_loc\u001b[0;34m()\u001b[0m\n",
      "File \u001b[0;32mindex.pyx:196\u001b[0m, in \u001b[0;36mpandas._libs.index.IndexEngine.get_loc\u001b[0;34m()\u001b[0m\n",
      "File \u001b[0;32mpandas/_libs/hashtable_class_helper.pxi:7081\u001b[0m, in \u001b[0;36mpandas._libs.hashtable.PyObjectHashTable.get_item\u001b[0;34m()\u001b[0m\n",
      "File \u001b[0;32mpandas/_libs/hashtable_class_helper.pxi:7089\u001b[0m, in \u001b[0;36mpandas._libs.hashtable.PyObjectHashTable.get_item\u001b[0;34m()\u001b[0m\n",
      "\u001b[0;31mKeyError\u001b[0m: 'lines'",
      "\nThe above exception was the direct cause of the following exception:\n",
      "\u001b[0;31mKeyError\u001b[0m                                  Traceback (most recent call last)",
      "Cell \u001b[0;32mIn[8], line 1\u001b[0m\n\u001b[0;32m----> 1\u001b[0m \u001b[43msolver\u001b[49m\u001b[38;5;241;43m.\u001b[39;49m\u001b[43msolve\u001b[49m\u001b[43m(\u001b[49m\u001b[43m)\u001b[49m\n",
      "File \u001b[0;32m~/Documents/soft/tardis/tardis/workflows/v_inner_simulation_solver.py:265\u001b[0m, in \u001b[0;36mInnerVelocitySimulationSolver.solve\u001b[0;34m(self)\u001b[0m\n\u001b[1;32m    259\u001b[0m estimated_values \u001b[38;5;241m=\u001b[39m \u001b[38;5;28mself\u001b[39m\u001b[38;5;241m.\u001b[39mget_convergence_estimates(\n\u001b[1;32m    260\u001b[0m     transport_state\n\u001b[1;32m    261\u001b[0m )\n\u001b[1;32m    263\u001b[0m \u001b[38;5;28mself\u001b[39m\u001b[38;5;241m.\u001b[39msolve_simulation_state(estimated_values)\n\u001b[0;32m--> 265\u001b[0m \u001b[38;5;28;43mself\u001b[39;49m\u001b[38;5;241;43m.\u001b[39;49m\u001b[43msolve_plasma\u001b[49m\u001b[43m(\u001b[49m\u001b[43mtransport_state\u001b[49m\u001b[43m)\u001b[49m\n\u001b[1;32m    267\u001b[0m converged \u001b[38;5;241m=\u001b[39m \u001b[38;5;28mself\u001b[39m\u001b[38;5;241m.\u001b[39mcheck_convergence(estimated_values)\n\u001b[1;32m    268\u001b[0m \u001b[38;5;28mself\u001b[39m\u001b[38;5;241m.\u001b[39mcompleted_iterations \u001b[38;5;241m+\u001b[39m\u001b[38;5;241m=\u001b[39m \u001b[38;5;241m1\u001b[39m\n",
      "File \u001b[0;32m~/Documents/soft/tardis/tardis/workflows/v_inner_simulation_solver.py:249\u001b[0m, in \u001b[0;36mInnerVelocitySimulationSolver.solve_plasma\u001b[0;34m(self, transport_state)\u001b[0m\n\u001b[1;32m    243\u001b[0m \u001b[38;5;28;01mif\u001b[39;00m \u001b[38;5;124m\"\u001b[39m\u001b[38;5;124mj_blue_estimator\u001b[39m\u001b[38;5;124m\"\u001b[39m \u001b[38;5;129;01min\u001b[39;00m \u001b[38;5;28mself\u001b[39m\u001b[38;5;241m.\u001b[39mplasma_solver\u001b[38;5;241m.\u001b[39moutputs_dict:\n\u001b[1;32m    244\u001b[0m     update_properties\u001b[38;5;241m.\u001b[39mupdate(\n\u001b[1;32m    245\u001b[0m         t_inner\u001b[38;5;241m=\u001b[39m\u001b[38;5;28mself\u001b[39m\u001b[38;5;241m.\u001b[39msimulation_state\u001b[38;5;241m.\u001b[39mblackbody_packet_source\u001b[38;5;241m.\u001b[39mtemperature,\n\u001b[1;32m    246\u001b[0m         j_blue_estimator\u001b[38;5;241m=\u001b[39mtransport_state\u001b[38;5;241m.\u001b[39mradfield_mc_estimators\u001b[38;5;241m.\u001b[39mj_blue_estimator,\n\u001b[1;32m    247\u001b[0m     )\n\u001b[0;32m--> 249\u001b[0m \u001b[38;5;28;43mself\u001b[39;49m\u001b[38;5;241;43m.\u001b[39;49m\u001b[43mplasma_solver\u001b[49m\u001b[38;5;241;43m.\u001b[39;49m\u001b[43mupdate\u001b[49m\u001b[43m(\u001b[49m\u001b[38;5;241;43m*\u001b[39;49m\u001b[38;5;241;43m*\u001b[39;49m\u001b[43mupdate_properties\u001b[49m\u001b[43m)\u001b[49m\n",
      "File \u001b[0;32m~/Documents/soft/tardis/tardis/plasma/base.py:181\u001b[0m, in \u001b[0;36mBasePlasma.update\u001b[0;34m(self, **kwargs)\u001b[0m\n\u001b[1;32m    178\u001b[0m     \u001b[38;5;28mself\u001b[39m\u001b[38;5;241m.\u001b[39moutputs_dict[key]\u001b[38;5;241m.\u001b[39mset_value(kwargs[key])\n\u001b[1;32m    180\u001b[0m \u001b[38;5;28;01mfor\u001b[39;00m module_name \u001b[38;5;129;01min\u001b[39;00m \u001b[38;5;28mself\u001b[39m\u001b[38;5;241m.\u001b[39m_resolve_update_list(kwargs\u001b[38;5;241m.\u001b[39mkeys()):\n\u001b[0;32m--> 181\u001b[0m     \u001b[38;5;28;43mself\u001b[39;49m\u001b[38;5;241;43m.\u001b[39;49m\u001b[43mplasma_properties_dict\u001b[49m\u001b[43m[\u001b[49m\u001b[43mmodule_name\u001b[49m\u001b[43m]\u001b[49m\u001b[38;5;241;43m.\u001b[39;49m\u001b[43mupdate\u001b[49m\u001b[43m(\u001b[49m\u001b[43m)\u001b[49m\n",
      "File \u001b[0;32m~/Documents/soft/tardis/tardis/plasma/properties/base.py:116\u001b[0m, in \u001b[0;36mProcessingPlasmaProperty.update\u001b[0;34m(self)\u001b[0m\n\u001b[1;32m    114\u001b[0m \u001b[38;5;28;01mif\u001b[39;00m \u001b[38;5;28mhasattr\u001b[39m(new_values, \u001b[38;5;124m'\u001b[39m\u001b[38;5;124mloc\u001b[39m\u001b[38;5;124m'\u001b[39m):\n\u001b[1;32m    115\u001b[0m     \u001b[38;5;28;01mfor\u001b[39;00m output \u001b[38;5;129;01min\u001b[39;00m \u001b[38;5;28mself\u001b[39m\u001b[38;5;241m.\u001b[39moutputs:\n\u001b[0;32m--> 116\u001b[0m         \u001b[38;5;28msetattr\u001b[39m(\u001b[38;5;28mself\u001b[39m, output, \u001b[43mnew_values\u001b[49m\u001b[43m[\u001b[49m\u001b[43moutput\u001b[49m\u001b[43m]\u001b[49m)\n\u001b[1;32m    117\u001b[0m \u001b[38;5;28;01melse\u001b[39;00m:\n\u001b[1;32m    118\u001b[0m     \u001b[38;5;28;01mfor\u001b[39;00m i, output \u001b[38;5;129;01min\u001b[39;00m \u001b[38;5;28menumerate\u001b[39m(\u001b[38;5;28mself\u001b[39m\u001b[38;5;241m.\u001b[39moutputs):\n",
      "File \u001b[0;32m~/miniconda3/envs/tardis/lib/python3.12/site-packages/pandas/core/frame.py:4102\u001b[0m, in \u001b[0;36mDataFrame.__getitem__\u001b[0;34m(self, key)\u001b[0m\n\u001b[1;32m   4100\u001b[0m \u001b[38;5;28;01mif\u001b[39;00m \u001b[38;5;28mself\u001b[39m\u001b[38;5;241m.\u001b[39mcolumns\u001b[38;5;241m.\u001b[39mnlevels \u001b[38;5;241m>\u001b[39m \u001b[38;5;241m1\u001b[39m:\n\u001b[1;32m   4101\u001b[0m     \u001b[38;5;28;01mreturn\u001b[39;00m \u001b[38;5;28mself\u001b[39m\u001b[38;5;241m.\u001b[39m_getitem_multilevel(key)\n\u001b[0;32m-> 4102\u001b[0m indexer \u001b[38;5;241m=\u001b[39m \u001b[38;5;28;43mself\u001b[39;49m\u001b[38;5;241;43m.\u001b[39;49m\u001b[43mcolumns\u001b[49m\u001b[38;5;241;43m.\u001b[39;49m\u001b[43mget_loc\u001b[49m\u001b[43m(\u001b[49m\u001b[43mkey\u001b[49m\u001b[43m)\u001b[49m\n\u001b[1;32m   4103\u001b[0m \u001b[38;5;28;01mif\u001b[39;00m is_integer(indexer):\n\u001b[1;32m   4104\u001b[0m     indexer \u001b[38;5;241m=\u001b[39m [indexer]\n",
      "File \u001b[0;32m~/miniconda3/envs/tardis/lib/python3.12/site-packages/pandas/core/indexes/base.py:3812\u001b[0m, in \u001b[0;36mIndex.get_loc\u001b[0;34m(self, key)\u001b[0m\n\u001b[1;32m   3807\u001b[0m     \u001b[38;5;28;01mif\u001b[39;00m \u001b[38;5;28misinstance\u001b[39m(casted_key, \u001b[38;5;28mslice\u001b[39m) \u001b[38;5;129;01mor\u001b[39;00m (\n\u001b[1;32m   3808\u001b[0m         \u001b[38;5;28misinstance\u001b[39m(casted_key, abc\u001b[38;5;241m.\u001b[39mIterable)\n\u001b[1;32m   3809\u001b[0m         \u001b[38;5;129;01mand\u001b[39;00m \u001b[38;5;28many\u001b[39m(\u001b[38;5;28misinstance\u001b[39m(x, \u001b[38;5;28mslice\u001b[39m) \u001b[38;5;28;01mfor\u001b[39;00m x \u001b[38;5;129;01min\u001b[39;00m casted_key)\n\u001b[1;32m   3810\u001b[0m     ):\n\u001b[1;32m   3811\u001b[0m         \u001b[38;5;28;01mraise\u001b[39;00m InvalidIndexError(key)\n\u001b[0;32m-> 3812\u001b[0m     \u001b[38;5;28;01mraise\u001b[39;00m \u001b[38;5;167;01mKeyError\u001b[39;00m(key) \u001b[38;5;28;01mfrom\u001b[39;00m \u001b[38;5;21;01merr\u001b[39;00m\n\u001b[1;32m   3813\u001b[0m \u001b[38;5;28;01mexcept\u001b[39;00m \u001b[38;5;167;01mTypeError\u001b[39;00m:\n\u001b[1;32m   3814\u001b[0m     \u001b[38;5;66;03m# If we have a listlike key, _check_indexing_error will raise\u001b[39;00m\n\u001b[1;32m   3815\u001b[0m     \u001b[38;5;66;03m#  InvalidIndexError. Otherwise we fall through and re-raise\u001b[39;00m\n\u001b[1;32m   3816\u001b[0m     \u001b[38;5;66;03m#  the TypeError.\u001b[39;00m\n\u001b[1;32m   3817\u001b[0m     \u001b[38;5;28mself\u001b[39m\u001b[38;5;241m.\u001b[39m_check_indexing_error(key)\n",
      "\u001b[0;31mKeyError\u001b[0m: 'lines'"
     ]
    }
   ],
   "source": [
    "solver.solve()"
   ]
  },
  {
   "cell_type": "code",
   "execution_count": null,
   "metadata": {},
   "outputs": [
    {
     "name": "stdout",
     "output_type": "stream",
     "text": [
      "> \u001b[0;32m/home/jobrien/miniconda3/envs/tardis/lib/python3.12/site-packages/pandas/core/indexes/base.py\u001b[0m(3812)\u001b[0;36mget_loc\u001b[0;34m()\u001b[0m\n",
      "\u001b[0;32m   3810 \u001b[0;31m            \u001b[0;34m)\u001b[0m\u001b[0;34m:\u001b[0m\u001b[0;34m\u001b[0m\u001b[0;34m\u001b[0m\u001b[0m\n",
      "\u001b[0m\u001b[0;32m   3811 \u001b[0;31m                \u001b[0;32mraise\u001b[0m \u001b[0mInvalidIndexError\u001b[0m\u001b[0;34m(\u001b[0m\u001b[0mkey\u001b[0m\u001b[0;34m)\u001b[0m\u001b[0;34m\u001b[0m\u001b[0;34m\u001b[0m\u001b[0m\n",
      "\u001b[0m\u001b[0;32m-> 3812 \u001b[0;31m            \u001b[0;32mraise\u001b[0m \u001b[0mKeyError\u001b[0m\u001b[0;34m(\u001b[0m\u001b[0mkey\u001b[0m\u001b[0;34m)\u001b[0m \u001b[0;32mfrom\u001b[0m \u001b[0merr\u001b[0m\u001b[0;34m\u001b[0m\u001b[0;34m\u001b[0m\u001b[0m\n",
      "\u001b[0m\u001b[0;32m   3813 \u001b[0;31m        \u001b[0;32mexcept\u001b[0m \u001b[0mTypeError\u001b[0m\u001b[0;34m:\u001b[0m\u001b[0;34m\u001b[0m\u001b[0;34m\u001b[0m\u001b[0m\n",
      "\u001b[0m\u001b[0;32m   3814 \u001b[0;31m            \u001b[0;31m# If we have a listlike key, _check_indexing_error will raise\u001b[0m\u001b[0;34m\u001b[0m\u001b[0;34m\u001b[0m\u001b[0m\n",
      "\u001b[0m\n",
      "ipdb> u\n",
      "> \u001b[0;32m/home/jobrien/miniconda3/envs/tardis/lib/python3.12/site-packages/pandas/core/frame.py\u001b[0m(4102)\u001b[0;36m__getitem__\u001b[0;34m()\u001b[0m\n",
      "\u001b[0;32m   4100 \u001b[0;31m            \u001b[0;32mif\u001b[0m \u001b[0mself\u001b[0m\u001b[0;34m.\u001b[0m\u001b[0mcolumns\u001b[0m\u001b[0;34m.\u001b[0m\u001b[0mnlevels\u001b[0m \u001b[0;34m>\u001b[0m \u001b[0;36m1\u001b[0m\u001b[0;34m:\u001b[0m\u001b[0;34m\u001b[0m\u001b[0;34m\u001b[0m\u001b[0m\n",
      "\u001b[0m\u001b[0;32m   4101 \u001b[0;31m                \u001b[0;32mreturn\u001b[0m \u001b[0mself\u001b[0m\u001b[0;34m.\u001b[0m\u001b[0m_getitem_multilevel\u001b[0m\u001b[0;34m(\u001b[0m\u001b[0mkey\u001b[0m\u001b[0;34m)\u001b[0m\u001b[0;34m\u001b[0m\u001b[0;34m\u001b[0m\u001b[0m\n",
      "\u001b[0m\u001b[0;32m-> 4102 \u001b[0;31m            \u001b[0mindexer\u001b[0m \u001b[0;34m=\u001b[0m \u001b[0mself\u001b[0m\u001b[0;34m.\u001b[0m\u001b[0mcolumns\u001b[0m\u001b[0;34m.\u001b[0m\u001b[0mget_loc\u001b[0m\u001b[0;34m(\u001b[0m\u001b[0mkey\u001b[0m\u001b[0;34m)\u001b[0m\u001b[0;34m\u001b[0m\u001b[0;34m\u001b[0m\u001b[0m\n",
      "\u001b[0m\u001b[0;32m   4103 \u001b[0;31m            \u001b[0;32mif\u001b[0m \u001b[0mis_integer\u001b[0m\u001b[0;34m(\u001b[0m\u001b[0mindexer\u001b[0m\u001b[0;34m)\u001b[0m\u001b[0;34m:\u001b[0m\u001b[0;34m\u001b[0m\u001b[0;34m\u001b[0m\u001b[0m\n",
      "\u001b[0m\u001b[0;32m   4104 \u001b[0;31m                \u001b[0mindexer\u001b[0m \u001b[0;34m=\u001b[0m \u001b[0;34m[\u001b[0m\u001b[0mindexer\u001b[0m\u001b[0;34m]\u001b[0m\u001b[0;34m\u001b[0m\u001b[0;34m\u001b[0m\u001b[0m\n",
      "\u001b[0m\n",
      "ipdb> u\n",
      "> \u001b[0;32m/home/jobrien/Documents/soft/tardis/tardis/plasma/properties/base.py\u001b[0m(116)\u001b[0;36mupdate\u001b[0;34m()\u001b[0m\n",
      "\u001b[0;32m    114 \u001b[0;31m                \u001b[0;32mfor\u001b[0m \u001b[0mi\u001b[0m\u001b[0;34m,\u001b[0m \u001b[0moutput\u001b[0m \u001b[0;32min\u001b[0m \u001b[0menumerate\u001b[0m\u001b[0;34m(\u001b[0m\u001b[0mself\u001b[0m\u001b[0;34m.\u001b[0m\u001b[0moutputs\u001b[0m\u001b[0;34m)\u001b[0m\u001b[0;34m:\u001b[0m\u001b[0;34m\u001b[0m\u001b[0;34m\u001b[0m\u001b[0m\n",
      "\u001b[0m\u001b[0;32m    115 \u001b[0;31m                    \u001b[0msetattr\u001b[0m\u001b[0;34m(\u001b[0m\u001b[0mself\u001b[0m\u001b[0;34m,\u001b[0m \u001b[0moutput\u001b[0m\u001b[0;34m,\u001b[0m \u001b[0mnew_values\u001b[0m\u001b[0;34m[\u001b[0m\u001b[0mi\u001b[0m\u001b[0;34m]\u001b[0m\u001b[0;34m)\u001b[0m\u001b[0;34m\u001b[0m\u001b[0;34m\u001b[0m\u001b[0m\n",
      "\u001b[0m\u001b[0;32m--> 116 \u001b[0;31m        \u001b[0;32melse\u001b[0m\u001b[0;34m:\u001b[0m\u001b[0;34m\u001b[0m\u001b[0;34m\u001b[0m\u001b[0m\n",
      "\u001b[0m\u001b[0;32m    117 \u001b[0;31m            \u001b[0mlogger\u001b[0m\u001b[0;34m.\u001b[0m\u001b[0minfo\u001b[0m\u001b[0;34m(\u001b[0m\u001b[0;34m\"{} has been frozen!\"\u001b[0m\u001b[0;34m.\u001b[0m\u001b[0mformat\u001b[0m\u001b[0;34m(\u001b[0m\u001b[0mself\u001b[0m\u001b[0;34m.\u001b[0m\u001b[0mname\u001b[0m\u001b[0;34m)\u001b[0m\u001b[0;34m)\u001b[0m\u001b[0;34m\u001b[0m\u001b[0;34m\u001b[0m\u001b[0m\n",
      "\u001b[0m\u001b[0;32m    118 \u001b[0;31m\u001b[0;34m\u001b[0m\u001b[0m\n",
      "\u001b[0m\n",
      "ipdb> new_values\n",
      "                                                                line_id  \\\n",
      "atomic_number ion_number level_number_lower level_number_upper            \n",
      "14            5          0                  36                    67813   \n",
      "                                            35                    67814   \n",
      "                                            34                    67815   \n",
      "                         1                  35                    67816   \n",
      "                         0                  33                    67817   \n",
      "...                                                                 ...   \n",
      "20            0          176                191                  104458   \n",
      "                         177                191                  104459   \n",
      "                         178                191                  104460   \n",
      "                         138                144                  104461   \n",
      "                         177                190                  104462   \n",
      "\n",
      "                                                                   wavelength  \\\n",
      "atomic_number ion_number level_number_lower level_number_upper                  \n",
      "14            5          0                  36                      66.772000   \n",
      "                                            35                      69.204000   \n",
      "                                            34                      69.236000   \n",
      "                         1                  35                      69.448000   \n",
      "                         0                  33                      71.181000   \n",
      "...                                                                       ...   \n",
      "20            0          176                191                 992063.502847   \n",
      "                         177                191                 992555.837031   \n",
      "                         178                191                 993541.985801   \n",
      "                         138                144                 997804.837623   \n",
      "                         177                190                 999900.018655   \n",
      "\n",
      "                                                                    f_ul  \\\n",
      "atomic_number ion_number level_number_lower level_number_upper             \n",
      "14            5          0                  36                  0.027030   \n",
      "                                            35                  0.086684   \n",
      "                                            34                  0.061923   \n",
      "                         1                  35                  0.017699   \n",
      "                         0                  33                  0.091590   \n",
      "...                                                                  ...   \n",
      "20            0          176                191                 0.033180   \n",
      "                         177                191                 0.024882   \n",
      "                         178                191                 0.001655   \n",
      "                         138                144                 3.380648   \n",
      "                         177                190                 0.000265   \n",
      "\n",
      "                                                                    f_lu  \\\n",
      "atomic_number ion_number level_number_lower level_number_upper             \n",
      "14            5          0                  36                  0.040545   \n",
      "                                            35                  0.086684   \n",
      "                                            34                  0.092884   \n",
      "                         1                  35                  0.035397   \n",
      "                         0                  33                  0.137385   \n",
      "...                                                                  ...   \n",
      "20            0          176                191                 0.099541   \n",
      "                         177                191                 0.024882   \n",
      "                         178                191                 0.000993   \n",
      "                         138                144                 1.126883   \n",
      "                         177                190                 0.000441   \n",
      "\n",
      "                                                                          nu  \\\n",
      "atomic_number ion_number level_number_lower level_number_upper                 \n",
      "14            5          0                  36                  4.489793e+16   \n",
      "                                            35                  4.332011e+16   \n",
      "                                            34                  4.330008e+16   \n",
      "                         1                  35                  4.316790e+16   \n",
      "                         0                  33                  4.211692e+16   \n",
      "...                                                                      ...   \n",
      "20            0          176                191                 3.021908e+12   \n",
      "                         177                191                 3.020409e+12   \n",
      "                         178                191                 3.017411e+12   \n",
      "                         138                144                 3.004520e+12   \n",
      "                         177                190                 2.998224e+12   \n",
      "\n",
      "                                                                        B_lu  \\\n",
      "atomic_number ion_number level_number_lower level_number_upper                 \n",
      "14            5          0                  36                  4.545377e+07   \n",
      "                                            35                  1.007179e+08   \n",
      "                                            34                  1.079711e+08   \n",
      "                         1                  35                  4.127293e+07   \n",
      "                         0                  33                  1.641873e+08   \n",
      "...                                                                      ...   \n",
      "20            0          176                191                 1.657964e+12   \n",
      "                         177                191                 4.146381e+11   \n",
      "                         178                191                 1.656730e+10   \n",
      "                         138                144                 1.887817e+13   \n",
      "                         177                190                 7.410898e+09   \n",
      "\n",
      "                                                                        B_ul  \\\n",
      "atomic_number ion_number level_number_lower level_number_upper                 \n",
      "14            5          0                  36                  3.030251e+07   \n",
      "                                            35                  1.007179e+08   \n",
      "                                            34                  7.198073e+07   \n",
      "                         1                  35                  2.063646e+07   \n",
      "                         0                  33                  1.094582e+08   \n",
      "...                                                                      ...   \n",
      "20            0          176                191                 5.526546e+11   \n",
      "                         177                191                 4.146381e+11   \n",
      "                         178                191                 2.761217e+10   \n",
      "                         138                144                 5.663451e+13   \n",
      "                         177                190                 4.446539e+09   \n",
      "\n",
      "                                                                        A_ul  \\\n",
      "atomic_number ion_number level_number_lower level_number_upper                 \n",
      "14            5          0                  36                  4.043917e+10   \n",
      "                                            35                  1.207313e+11   \n",
      "                                            34                  8.616424e+10   \n",
      "                         1                  35                  2.447726e+10   \n",
      "                         0                  33                  1.205765e+11   \n",
      "...                                                                      ...   \n",
      "20            0          176                191                 2.248754e+02   \n",
      "                         177                191                 1.684655e+02   \n",
      "                         178                191                 1.118532e+01   \n",
      "                         138                144                 2.264910e+04   \n",
      "                         177                190                 1.767092e+00   \n",
      "\n",
      "                                                                wavelength_cm  \n",
      "atomic_number ion_number level_number_lower level_number_upper                 \n",
      "14            5          0                  36                   6.677200e-07  \n",
      "                                            35                   6.920400e-07  \n",
      "                                            34                   6.923600e-07  \n",
      "                         1                  35                   6.944800e-07  \n",
      "                         0                  33                   7.118100e-07  \n",
      "...                                                                       ...  \n",
      "20            0          176                191                  9.920635e-03  \n",
      "                         177                191                  9.925558e-03  \n",
      "                         178                191                  9.935420e-03  \n",
      "                         138                144                  9.978048e-03  \n",
      "                         177                190                  9.999000e-03  \n",
      "\n",
      "[29224 rows x 9 columns]\n"
     ]
    },
    {
     "name": "stdout",
     "output_type": "stream",
     "text": [
      "ipdb> len(new_values)\n",
      "29224\n"
     ]
    }
   ],
   "source": [
    "%debug"
   ]
  },
  {
   "cell_type": "code",
   "execution_count": null,
   "metadata": {},
   "outputs": [],
   "source": [
    "config = Configuration.from_yaml('../tardis_example.yml')\n",
    "config.model.structure.velocity.start = solver.simulation_state.v_inner_boundary\n",
    "config.model.structure.velocity.num = solver.simulation_state.no_of_shells\n",
    "print(solver.simulation_state.v_inner_boundary)\n",
    "solver2 = StandardSimulationSolver(config)\n",
    "solver2.solve()"
   ]
  },
  {
   "cell_type": "markdown",
   "metadata": {},
   "source": [
    "%debug"
   ]
  },
  {
   "cell_type": "code",
   "execution_count": null,
   "metadata": {},
   "outputs": [],
   "source": [
    "import matplotlib.pyplot as plt"
   ]
  },
  {
   "cell_type": "code",
   "execution_count": null,
   "metadata": {},
   "outputs": [],
   "source": [
    "spectrum = solver.spectrum_solver.spectrum_real_packets\n",
    "spectrum_virtual = solver.spectrum_solver.spectrum_virtual_packets\n",
    "spectrum_integrated = solver.spectrum_solver.spectrum_integrated\n",
    "\n",
    "spectrum2 = solver2.spectrum_solver.spectrum_real_packets\n",
    "spectrum_virtual2 = solver2.spectrum_solver.spectrum_virtual_packets\n",
    "spectrum_integrated2 = solver2.spectrum_solver.spectrum_integrated"
   ]
  },
  {
   "cell_type": "code",
   "execution_count": null,
   "metadata": {},
   "outputs": [],
   "source": [
    "%matplotlib inline\n",
    "plt.figure(figsize=(10, 6.5))\n",
    "\n",
    "#spectrum.plot(label=\"Normal packets\")\n",
    "spectrum_virtual.plot(label=\"Virtual packets\")\n",
    "#spectrum_integrated.plot(label='Formal integral')\n",
    "\n",
    "#spectrum2.plot(label=\"Normal packets Original\")\n",
    "spectrum_virtual2.plot(label=\"Virtual packets Original\")\n",
    "#spectrum_integrated2.plot(label='Formal integral Original')\n",
    "\n",
    "plt.xlim(500, 9000)\n",
    "plt.title(\"TARDIS example model spectrum\")\n",
    "plt.xlabel(\"Wavelength [$\\AA$]\")\n",
    "plt.ylabel(\"Luminosity density [erg/s/$\\AA$]\")\n",
    "plt.legend()\n",
    "plt.show()"
   ]
  },
  {
   "cell_type": "code",
   "execution_count": null,
   "metadata": {},
   "outputs": [],
   "source": [
    "solver.simulation_state.v_inner"
   ]
  },
  {
   "cell_type": "code",
   "execution_count": null,
   "metadata": {},
   "outputs": [],
   "source": [
    "solver2.simulation_state.v_inner"
   ]
  },
  {
   "cell_type": "code",
   "execution_count": null,
   "metadata": {},
   "outputs": [],
   "source": [
    "plt.plot(solver.simulation_state.v_inner, solver.simulation_state.t_radiative, label='Vinner Solver')\n",
    "plt.plot(solver2.simulation_state.v_inner, solver2.simulation_state.t_radiative, label='Original Solver')\n",
    "\n",
    "plt.xlabel('v_inner')\n",
    "plt.ylabel('t_rad')\n",
    "plt.legend()"
   ]
  },
  {
   "cell_type": "code",
   "execution_count": null,
   "metadata": {},
   "outputs": [],
   "source": [
    "plt.plot(solver.simulation_state.v_inner, solver.simulation_state.dilution_factor, label='Vinner Solver')\n",
    "plt.plot(solver2.simulation_state.v_inner, solver2.simulation_state.dilution_factor, label='Original Solver')\n",
    "\n",
    "plt.xlabel('v_inner')\n",
    "plt.ylabel('w')\n",
    "plt.legend()"
   ]
  },
  {
   "cell_type": "code",
   "execution_count": null,
   "metadata": {},
   "outputs": [],
   "source": [
    "solver.simulation_state.t_inner, solver2.simulation_state.t_inner"
   ]
  },
  {
   "cell_type": "code",
   "execution_count": null,
   "metadata": {},
   "outputs": [],
   "source": [
    "solver.simulation_state.dilution_factor"
   ]
  },
  {
   "cell_type": "code",
   "execution_count": null,
   "metadata": {},
   "outputs": [],
   "source": [
    "solver2.simulation_state.dilution_factor"
   ]
  },
  {
   "cell_type": "code",
   "execution_count": null,
   "metadata": {},
   "outputs": [],
   "source": [
    "from tardis.workflows.util import get_tau_integ\n",
    "import numpy as np\n",
    "\n",
    "tau_integ =  get_tau_integ(\n",
    "                solver.plasma_solver,\n",
    "                solver.simulation_state,\n",
    "            )['rossland']\n",
    "        "
   ]
  },
  {
   "cell_type": "code",
   "execution_count": null,
   "metadata": {},
   "outputs": [],
   "source": [
    "tau_integ"
   ]
  },
  {
   "cell_type": "code",
   "execution_count": null,
   "metadata": {},
   "outputs": [],
   "source": [
    "plt.plot(solver.simulation_state.v_inner, tau_integ)"
   ]
  },
  {
   "cell_type": "code",
   "execution_count": null,
   "metadata": {},
   "outputs": [],
   "source": [
    "tau_integ2 = get_tau_integ(\n",
    "                solver2.plasma_solver,\n",
    "                solver2.simulation_state,\n",
    "            )['rossland']"
   ]
  },
  {
   "cell_type": "code",
   "execution_count": null,
   "metadata": {},
   "outputs": [],
   "source": [
    "plt.plot(solver2.simulation_state.v_inner, tau_integ2)"
   ]
  },
  {
   "cell_type": "code",
   "execution_count": null,
   "metadata": {},
   "outputs": [],
   "source": [
    "solver.plasma_solver.electron_densities"
   ]
  },
  {
   "cell_type": "code",
   "execution_count": null,
   "metadata": {},
   "outputs": [],
   "source": [
    "transport_state, virtual_packet_energies = solver.solve_montecarlo(\n",
    "                solver.real_packet_count\n",
    "            )"
   ]
  },
  {
   "cell_type": "code",
   "execution_count": null,
   "metadata": {},
   "outputs": [],
   "source": [
    "transport_state.radfield_mc_estimators.nu_bar_estimator.shape"
   ]
  },
  {
   "cell_type": "code",
   "execution_count": null,
   "metadata": {},
   "outputs": [],
   "source": [
    "transport_state2, virtual_packet_energies2 = solver2.solve_montecarlo(\n",
    "                solver.real_packet_count\n",
    "            )\n",
    "transport_state2.radfield_mc_estimators.nu_bar_estimator.shape"
   ]
  },
  {
   "cell_type": "code",
   "execution_count": null,
   "metadata": {},
   "outputs": [],
   "source": [
    "transport_state.radfield_mc_estimators.j_estimator.shape, transport_state2.radfield_mc_estimators.j_estimator.shape"
   ]
  },
  {
   "cell_type": "code",
   "execution_count": null,
   "metadata": {},
   "outputs": [],
   "source": [
    "solver.plasma_solver.electron_densities"
   ]
  },
  {
   "cell_type": "code",
   "execution_count": null,
   "metadata": {},
   "outputs": [],
   "source": [
    "solver2.plasma_solver.electron_densities"
   ]
  },
  {
   "cell_type": "code",
   "execution_count": null,
   "metadata": {},
   "outputs": [],
   "source": [
    "plt.plot(solver.simulation_state.v_inner, \n",
    "         solver.plasma_solver.electron_densities, \n",
    "         label='V_inner Solver')\n",
    "plt.plot(solver2.simulation_state.v_inner, \n",
    "         solver2.plasma_solver.electron_densities, \n",
    "         label='Original Solver')\n",
    "plt.ylabel('electron_densities')"
   ]
  },
  {
   "cell_type": "code",
   "execution_count": null,
   "metadata": {},
   "outputs": [],
   "source": [
    "plt.plot(solver.simulation_state.geometry.v_inner, \n",
    "         solver.simulation_state.composition.elemental_number_density.loc[8], \n",
    "         label='V_inner Solver')\n",
    "plt.plot(solver2.simulation_state.geometry.v_inner, \n",
    "         solver2.simulation_state.composition.elemental_number_density.loc[8], \n",
    "         label='Original Solver')"
   ]
  },
  {
   "cell_type": "code",
   "execution_count": null,
   "metadata": {},
   "outputs": [],
   "source": [
    "solver2.simulation_state.composition.elemental_number_density"
   ]
  },
  {
   "cell_type": "code",
   "execution_count": null,
   "metadata": {},
   "outputs": [],
   "source": [
    "solver.plasma_solver.outputs_dict.keys()"
   ]
  },
  {
   "cell_type": "code",
   "execution_count": null,
   "metadata": {},
   "outputs": [],
   "source": [
    "solver.plasma_solver.outputs_dict['abundance'].name"
   ]
  },
  {
   "cell_type": "code",
   "execution_count": null,
   "metadata": {},
   "outputs": [],
   "source": [
    "solver.simulation_state.abundance"
   ]
  },
  {
   "cell_type": "code",
   "execution_count": null,
   "metadata": {},
   "outputs": [],
   "source": []
  }
 ],
 "metadata": {
  "kernelspec": {
   "display_name": "Python [conda env:miniconda3-tardis]",
   "language": "python",
   "name": "conda-env-miniconda3-tardis-py"
  },
  "language_info": {
   "codemirror_mode": {
    "name": "ipython",
    "version": 3
   },
   "file_extension": ".py",
   "mimetype": "text/x-python",
   "name": "python",
   "nbconvert_exporter": "python",
   "pygments_lexer": "ipython3",
   "version": "3.12.4"
  }
 },
 "nbformat": 4,
 "nbformat_minor": 2
}
