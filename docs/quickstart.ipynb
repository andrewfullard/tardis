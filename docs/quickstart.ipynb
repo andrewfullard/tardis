{
 "cells": [
  {
   "cell_type": "markdown",
   "metadata": {},
   "source": [
    "# Quickstart for TARDIS"
   ]
  },
  {
   "cell_type": "markdown",
   "metadata": {},
   "source": [
    "Every simulation run requires [atomic data](io/configuration/components/atomic/atomic_data.rst) and a [configuration file](io/configuration/index.rst). \n",
    "\n",
    "## Atomic Data\n",
    "\n",
    "We recommend using the [kurucz_cd23_chianti_H_He.h5](https://dev.azure.com/tardis-sn/TARDIS/_apis/git/repositories/tardis-refdata/items?path=atom_data/kurucz_cd23_chianti_H_He.h5&resolveLfs=true) dataset."
   ]
  },
  {
   "cell_type": "code",
   "execution_count": 1,
   "metadata": {},
   "outputs": [
    {
     "data": {
      "application/vnd.jupyter.widget-view+json": {
       "model_id": "",
       "version_major": 2,
       "version_minor": 0
      },
      "text/plain": [
       "Iterations:          0/? [00:00<?, ?it/s]"
      ]
     },
     "metadata": {},
     "output_type": "display_data"
    },
    {
     "data": {
      "application/vnd.jupyter.widget-view+json": {
       "model_id": "",
       "version_major": 2,
       "version_minor": 0
      },
      "text/plain": [
       "Packets:             0/? [00:00<?, ?it/s]"
      ]
     },
     "metadata": {},
     "output_type": "display_data"
    }
   ],
   "source": [
    "from tardis.io.atom_data.util import download_atom_data"
   ]
  },
  {
   "cell_type": "code",
   "execution_count": 2,
   "metadata": {},
   "outputs": [
    {
     "name": "stderr",
     "output_type": "stream",
     "text": [
      "Atomic Data kurucz_cd23_chianti_H_He already exists in /home/jobrien/Downloads/tardis-data/kurucz_cd23_chianti_H_He.h5. Will not download - override with force_download=True.\n"
     ]
    }
   ],
   "source": [
    "download_atom_data('kurucz_cd23_chianti_H_He')"
   ]
  },
  {
   "cell_type": "markdown",
   "metadata": {},
   "source": [
    "You can also obtain a copy of the atomic data from the [tardis-refdata](https://github.com/tardis-sn/tardis-refdata/tree/master/atom_data) repository."
   ]
  },
  {
   "cell_type": "markdown",
   "metadata": {},
   "source": [
    "## Example Configuration File\n",
    "\n",
    "The configuration file [tardis_example.yml](https://github.com/tardis-sn/tardis/tree/master/docs/tardis_example.yml) is used throughout this Quickstart."
   ]
  },
  {
   "cell_type": "code",
   "execution_count": 3,
   "metadata": {},
   "outputs": [],
   "source": [
    "!wget -q -nc https://raw.githubusercontent.com/tardis-sn/tardis/master/docs/tardis_example.yml"
   ]
  },
  {
   "cell_type": "code",
   "execution_count": 4,
   "metadata": {},
   "outputs": [
    {
     "name": "stdout",
     "output_type": "stream",
     "text": [
      "# Example YAML configuration for TARDIS\r\n",
      "tardis_config_version: v1.0\r\n",
      "\r\n",
      "supernova:\r\n",
      "  luminosity_requested: 9.44 log_lsun\r\n",
      "  time_explosion: 13 day\r\n",
      "\r\n",
      "atom_data: kurucz_cd23_chianti_H_He.h5\r\n",
      "\r\n",
      "model:\r\n",
      "  structure:\r\n",
      "    type: specific\r\n",
      "    velocity:\r\n",
      "      start: 1.1e4 km/s\r\n",
      "      stop: 20000 km/s\r\n",
      "      num: 20\r\n",
      "    density:\r\n",
      "      type: branch85_w7\r\n",
      "\r\n",
      "  abundances:\r\n",
      "    type: uniform\r\n",
      "    O: 0.19\r\n",
      "    Mg: 0.03\r\n",
      "    Si: 0.52\r\n",
      "    S: 0.19\r\n",
      "    Ar: 0.04\r\n",
      "    Ca: 0.03\r\n",
      "\r\n",
      "plasma:\r\n",
      "  disable_electron_scattering: no\r\n",
      "  ionization: lte\r\n",
      "  excitation: lte\r\n",
      "  radiative_rates_type: dilute-blackbody\r\n",
      "  line_interaction_type: macroatom\r\n",
      "\r\n",
      "montecarlo:\r\n",
      "  seed: 23111963\r\n",
      "  no_of_packets: 4.0e+4\r\n",
      "  iterations: 20\r\n",
      "  nthreads: 1\r\n",
      "\r\n",
      "  last_no_of_packets: 1.e+5\r\n",
      "  no_of_virtual_packets: 10\r\n",
      "\r\n",
      "  convergence_strategy:\r\n",
      "    type: damped\r\n",
      "    damping_constant: 1.0\r\n",
      "    threshold: 0.05\r\n",
      "    fraction: 0.8\r\n",
      "    hold_iterations: 3\r\n",
      "    t_inner:\r\n",
      "      damping_constant: 0.5\r\n",
      "\r\n",
      "spectrum:\r\n",
      "  start: 500 angstrom\r\n",
      "  stop: 20000 angstrom\r\n",
      "  num: 10000\r\n"
     ]
    }
   ],
   "source": [
    "!cat tardis_example.yml"
   ]
  },
  {
   "cell_type": "markdown",
   "metadata": {},
   "source": [
    "## Running the Simulation\n",
    "\n",
    "To run the simulation, import the `run_tardis` function and create the `sim` object. "
   ]
  },
  {
   "cell_type": "code",
   "execution_count": 1,
   "metadata": {},
   "outputs": [],
   "source": [
    "from tardis import run_tardis"
   ]
  },
  {
   "cell_type": "markdown",
   "metadata": {},
   "source": [
    "<div class=\"alert alert-info\">\n",
    "\n",
    "**Note:**\n",
    "\n",
    "Get more information about the [progress bars](io/output/progress_bars.rst), [logging configuration](io/optional/tutorial_logging_configuration.ipynb), and [convergence plots](io/visualization/tutorial_convergence_plot.ipynb). \n",
    "    \n",
    "</div>"
   ]
  },
  {
   "cell_type": "code",
   "execution_count": 2,
   "metadata": {},
   "outputs": [
    {
     "data": {
      "application/vnd.jupyter.widget-view+json": {
       "model_id": "",
       "version_major": 2,
       "version_minor": 0
      },
      "text/plain": [
       "Iterations:          0/? [00:00<?, ?it/s]"
      ]
     },
     "metadata": {},
     "output_type": "display_data"
    },
    {
     "data": {
      "application/vnd.jupyter.widget-view+json": {
       "model_id": "",
       "version_major": 2,
       "version_minor": 0
      },
      "text/plain": [
       "Packets:             0/? [00:00<?, ?it/s]"
      ]
     },
     "metadata": {},
     "output_type": "display_data"
    },
    {
     "name": "stdout",
     "output_type": "stream",
     "text": [
      "[\u001b[1mpy.warnings         \u001b[0m][\u001b[1;33mWARNING\u001b[0m]  \n",
      "\t/home/jobrien/Documents/soft/tardis/tardis/spectrum/formal_integral_cuda.py:58: SyntaxWarning: invalid escape sequence '\\e'\n",
      "  \"\"\"\n",
      " (\u001b[1mwarnings.py\u001b[0m:112)\n",
      "[\u001b[1mtardis.simulation.base\u001b[0m][\u001b[1;37mINFO\u001b[0m   ]  \n",
      "\t\n",
      "\tReading Atomic Data from kurucz_cd23_chianti_H_He.h5 (\u001b[1mbase.py\u001b[0m:673)\n",
      "[\u001b[1mtardis.io.atom_data.util\u001b[0m][\u001b[1;37mINFO\u001b[0m   ]  \n",
      "\t\n",
      "\tAtom Data kurucz_cd23_chianti_H_He.h5 not found in local path.\n",
      "\tExists in TARDIS Data repo /home/jobrien/Downloads/tardis-data/kurucz_cd23_chianti_H_He.h5 (\u001b[1mutil.py\u001b[0m:36)\n",
      "[\u001b[1mtardis.io.atom_data.base\u001b[0m][\u001b[1;37mINFO\u001b[0m   ]  \n",
      "\tReading Atom Data with: UUID = 6f7b09e887a311e7a06b246e96350010 MD5  = 864f1753714343c41f99cb065710cace  (\u001b[1mbase.py\u001b[0m:258)\n",
      "[\u001b[1mtardis.io.atom_data.base\u001b[0m][\u001b[1;37mINFO\u001b[0m   ]  \n",
      "\tNon provided Atomic Data: synpp_refs, photoionization_data, yg_data, two_photon_data, linelist, decay_radiation_data (\u001b[1mbase.py\u001b[0m:262)\n",
      "[\u001b[1mtardis.io.model.parse_density_configuration\u001b[0m][\u001b[1;33mWARNING\u001b[0m]  \n",
      "\tNumber of density points larger than number of shells. Assuming inner point irrelevant (\u001b[1mparse_density_configuration.py\u001b[0m:114)\n",
      "[\u001b[1mtardis.model.matter.decay\u001b[0m][\u001b[1;37mINFO\u001b[0m   ]  \n",
      "\tDecaying abundances for 1123200.0 seconds (\u001b[1mdecay.py\u001b[0m:101)\n",
      "[\u001b[1mtardis.simulation.base\u001b[0m][\u001b[1;37mINFO\u001b[0m   ]  \n",
      "\t\n",
      "\tStarting iteration 1 of 20 (\u001b[1mbase.py\u001b[0m:378)\n",
      "[\u001b[1mpy.warnings         \u001b[0m][\u001b[1;33mWARNING\u001b[0m]  \n",
      "\t/home/jobrien/Documents/soft/tardis/tardis/transport/montecarlo/montecarlo_main_loop.py:142: NumbaTypeSafetyWarning: \u001b[1m\u001b[1m\u001b[1munsafe cast from uint64 to int64. Precision may be lost.\u001b[0m\u001b[0m\u001b[0m\n",
      "  vpacket_collection = vpacket_collections[i]\n",
      " (\u001b[1mwarnings.py\u001b[0m:112)\n"
     ]
    },
    {
     "data": {
      "application/vnd.jupyter.widget-view+json": {
       "model_id": "c68f0af5bcf44e4c9f78cd26d7ab40aa",
       "version_major": 2,
       "version_minor": 0
      },
      "text/plain": [
       "TqdmHBox(children=(HTML(value='Iterations:', layout=Layout(width='6%')), FloatProgress(value=0.0, layout=Layou…"
      ]
     },
     "metadata": {},
     "output_type": "display_data"
    },
    {
     "data": {
      "application/vnd.jupyter.widget-view+json": {
       "model_id": "b4cdbcb6168640c8a6b2e31bae2cb57c",
       "version_major": 2,
       "version_minor": 0
      },
      "text/plain": [
       "TqdmHBox(children=(HTML(value='Packets:\\u2007\\u2007\\u2007', layout=Layout(width='6%')), FloatProgress(value=0.…"
      ]
     },
     "metadata": {},
     "output_type": "display_data"
    },
    {
     "name": "stdout",
     "output_type": "stream",
     "text": [
      "[\u001b[1mtardis.simulation.base\u001b[0m][\u001b[1;37mINFO\u001b[0m   ]  \n",
      "\t\n",
      "\tLuminosity emitted   = 7.942e+42 erg / s\n",
      "\tLuminosity absorbed  = 2.659e+42 erg / s\n",
      "\tLuminosity requested = 1.059e+43 erg / s\n",
      " (\u001b[1mbase.py\u001b[0m:571)\n",
      "[\u001b[1mtardis.simulation.base\u001b[0m][\u001b[1;37mINFO\u001b[0m   ]  \n",
      "\t\n",
      "\tPlasma stratification: (\u001b[1mbase.py\u001b[0m:539)\n"
     ]
    },
    {
     "data": {
      "text/html": [
       "<style type=\"text/css\">\n",
       "</style>\n",
       "<table id=\"T_533e3\">\n",
       "  <thead>\n",
       "    <tr>\n",
       "      <th class=\"index_name level0\" >Shell No.</th>\n",
       "      <th id=\"T_533e3_level0_col0\" class=\"col_heading level0 col0\" >t_rad</th>\n",
       "      <th id=\"T_533e3_level0_col1\" class=\"col_heading level0 col1\" >next_t_rad</th>\n",
       "      <th id=\"T_533e3_level0_col2\" class=\"col_heading level0 col2\" >w</th>\n",
       "      <th id=\"T_533e3_level0_col3\" class=\"col_heading level0 col3\" >next_w</th>\n",
       "    </tr>\n",
       "  </thead>\n",
       "  <tbody>\n",
       "    <tr>\n",
       "      <th id=\"T_533e3_level0_row0\" class=\"row_heading level0 row0\" >0</th>\n",
       "      <td id=\"T_533e3_row0_col0\" class=\"data row0 col0\" >9.93e+03 K</td>\n",
       "      <td id=\"T_533e3_row0_col1\" class=\"data row0 col1\" >1.01e+04 K</td>\n",
       "      <td id=\"T_533e3_row0_col2\" class=\"data row0 col2\" >0.4</td>\n",
       "      <td id=\"T_533e3_row0_col3\" class=\"data row0 col3\" >0.507</td>\n",
       "    </tr>\n",
       "    <tr>\n",
       "      <th id=\"T_533e3_level0_row1\" class=\"row_heading level0 row1\" >5</th>\n",
       "      <td id=\"T_533e3_row1_col0\" class=\"data row1 col0\" >9.85e+03 K</td>\n",
       "      <td id=\"T_533e3_row1_col1\" class=\"data row1 col1\" >1.02e+04 K</td>\n",
       "      <td id=\"T_533e3_row1_col2\" class=\"data row1 col2\" >0.211</td>\n",
       "      <td id=\"T_533e3_row1_col3\" class=\"data row1 col3\" >0.197</td>\n",
       "    </tr>\n",
       "    <tr>\n",
       "      <th id=\"T_533e3_level0_row2\" class=\"row_heading level0 row2\" >10</th>\n",
       "      <td id=\"T_533e3_row2_col0\" class=\"data row2 col0\" >9.78e+03 K</td>\n",
       "      <td id=\"T_533e3_row2_col1\" class=\"data row2 col1\" >1.01e+04 K</td>\n",
       "      <td id=\"T_533e3_row2_col2\" class=\"data row2 col2\" >0.143</td>\n",
       "      <td id=\"T_533e3_row2_col3\" class=\"data row2 col3\" >0.117</td>\n",
       "    </tr>\n",
       "    <tr>\n",
       "      <th id=\"T_533e3_level0_row3\" class=\"row_heading level0 row3\" >15</th>\n",
       "      <td id=\"T_533e3_row3_col0\" class=\"data row3 col0\" >9.71e+03 K</td>\n",
       "      <td id=\"T_533e3_row3_col1\" class=\"data row3 col1\" >9.87e+03 K</td>\n",
       "      <td id=\"T_533e3_row3_col2\" class=\"data row3 col2\" >0.105</td>\n",
       "      <td id=\"T_533e3_row3_col3\" class=\"data row3 col3\" >0.0869</td>\n",
       "    </tr>\n",
       "  </tbody>\n",
       "</table>\n"
      ],
      "text/plain": [
       "<pandas.io.formats.style.Styler at 0x7f0c5c410b00>"
      ]
     },
     "metadata": {},
     "output_type": "display_data"
    },
    {
     "name": "stdout",
     "output_type": "stream",
     "text": [
      "[\u001b[1mtardis.simulation.base\u001b[0m][\u001b[1;37mINFO\u001b[0m   ]  \n",
      "\t\n",
      "\tCurrent t_inner = 9933.952 K\n",
      "\tExpected t_inner for next iteration = 10703.212 K\n",
      " (\u001b[1mbase.py\u001b[0m:566)\n"
     ]
    },
    {
     "data": {
      "application/vnd.jupyter.widget-view+json": {
       "model_id": "62dd115a7e42421280132a132cf0008f",
       "version_major": 2,
       "version_minor": 0
      },
      "text/plain": [
       "VBox(children=(FigureWidget({\n",
       "    'data': [{'type': 'scatter', 'uid': '0e11de2b-fee1-4bda-bbf2-8b36e2e9a45a', …"
      ]
     },
     "metadata": {},
     "output_type": "display_data"
    },
    {
     "name": "stdout",
     "output_type": "stream",
     "text": [
      "[\u001b[1mtardis.simulation.base\u001b[0m][\u001b[1;37mINFO\u001b[0m   ]  \n",
      "\t\n",
      "\tStarting iteration 2 of 20 (\u001b[1mbase.py\u001b[0m:378)\n",
      "[\u001b[1mtardis.simulation.base\u001b[0m][\u001b[1;37mINFO\u001b[0m   ]  \n",
      "\t\n",
      "\tLuminosity emitted   = 1.071e+43 erg / s\n",
      "\tLuminosity absorbed  = 3.576e+42 erg / s\n",
      "\tLuminosity requested = 1.059e+43 erg / s\n",
      " (\u001b[1mbase.py\u001b[0m:571)\n",
      "[\u001b[1mtardis.simulation.base\u001b[0m][\u001b[1;37mINFO\u001b[0m   ]  \n",
      "\t\n",
      "\tPlasma stratification: (\u001b[1mbase.py\u001b[0m:539)\n"
     ]
    },
    {
     "data": {
      "text/html": [
       "<style type=\"text/css\">\n",
       "</style>\n",
       "<table id=\"T_63c15\">\n",
       "  <thead>\n",
       "    <tr>\n",
       "      <th class=\"index_name level0\" >Shell No.</th>\n",
       "      <th id=\"T_63c15_level0_col0\" class=\"col_heading level0 col0\" >t_rad</th>\n",
       "      <th id=\"T_63c15_level0_col1\" class=\"col_heading level0 col1\" >next_t_rad</th>\n",
       "      <th id=\"T_63c15_level0_col2\" class=\"col_heading level0 col2\" >w</th>\n",
       "      <th id=\"T_63c15_level0_col3\" class=\"col_heading level0 col3\" >next_w</th>\n",
       "    </tr>\n",
       "  </thead>\n",
       "  <tbody>\n",
       "    <tr>\n",
       "      <th id=\"T_63c15_level0_row0\" class=\"row_heading level0 row0\" >0</th>\n",
       "      <td id=\"T_63c15_row0_col0\" class=\"data row0 col0\" >1.01e+04 K</td>\n",
       "      <td id=\"T_63c15_row0_col1\" class=\"data row0 col1\" >1.08e+04 K</td>\n",
       "      <td id=\"T_63c15_row0_col2\" class=\"data row0 col2\" >0.507</td>\n",
       "      <td id=\"T_63c15_row0_col3\" class=\"data row0 col3\" >0.525</td>\n",
       "    </tr>\n",
       "    <tr>\n",
       "      <th id=\"T_63c15_level0_row1\" class=\"row_heading level0 row1\" >5</th>\n",
       "      <td id=\"T_63c15_row1_col0\" class=\"data row1 col0\" >1.02e+04 K</td>\n",
       "      <td id=\"T_63c15_row1_col1\" class=\"data row1 col1\" >1.1e+04 K</td>\n",
       "      <td id=\"T_63c15_row1_col2\" class=\"data row1 col2\" >0.197</td>\n",
       "      <td id=\"T_63c15_row1_col3\" class=\"data row1 col3\" >0.203</td>\n",
       "    </tr>\n",
       "    <tr>\n",
       "      <th id=\"T_63c15_level0_row2\" class=\"row_heading level0 row2\" >10</th>\n",
       "      <td id=\"T_63c15_row2_col0\" class=\"data row2 col0\" >1.01e+04 K</td>\n",
       "      <td id=\"T_63c15_row2_col1\" class=\"data row2 col1\" >1.08e+04 K</td>\n",
       "      <td id=\"T_63c15_row2_col2\" class=\"data row2 col2\" >0.117</td>\n",
       "      <td id=\"T_63c15_row2_col3\" class=\"data row2 col3\" >0.125</td>\n",
       "    </tr>\n",
       "    <tr>\n",
       "      <th id=\"T_63c15_level0_row3\" class=\"row_heading level0 row3\" >15</th>\n",
       "      <td id=\"T_63c15_row3_col0\" class=\"data row3 col0\" >9.87e+03 K</td>\n",
       "      <td id=\"T_63c15_row3_col1\" class=\"data row3 col1\" >1.05e+04 K</td>\n",
       "      <td id=\"T_63c15_row3_col2\" class=\"data row3 col2\" >0.0869</td>\n",
       "      <td id=\"T_63c15_row3_col3\" class=\"data row3 col3\" >0.0933</td>\n",
       "    </tr>\n",
       "  </tbody>\n",
       "</table>\n"
      ],
      "text/plain": [
       "<pandas.io.formats.style.Styler at 0x7f0c407765a0>"
      ]
     },
     "metadata": {},
     "output_type": "display_data"
    },
    {
     "name": "stdout",
     "output_type": "stream",
     "text": [
      "[\u001b[1mtardis.simulation.base\u001b[0m][\u001b[1;37mINFO\u001b[0m   ]  \n",
      "\t\n",
      "\tCurrent t_inner = 10703.212 K\n",
      "\tExpected t_inner for next iteration = 10673.712 K\n",
      " (\u001b[1mbase.py\u001b[0m:566)\n",
      "[\u001b[1mtardis.simulation.base\u001b[0m][\u001b[1;37mINFO\u001b[0m   ]  \n",
      "\t\n",
      "\tStarting iteration 3 of 20 (\u001b[1mbase.py\u001b[0m:378)\n",
      "[\u001b[1mtardis.simulation.base\u001b[0m][\u001b[1;37mINFO\u001b[0m   ]  \n",
      "\t\n",
      "\tLuminosity emitted   = 1.074e+43 erg / s\n",
      "\tLuminosity absorbed  = 3.391e+42 erg / s\n",
      "\tLuminosity requested = 1.059e+43 erg / s\n",
      " (\u001b[1mbase.py\u001b[0m:571)\n",
      "[\u001b[1mtardis.simulation.base\u001b[0m][\u001b[1;37mINFO\u001b[0m   ]  \n",
      "\tIteration converged 1/4 consecutive times. (\u001b[1mbase.py\u001b[0m:251)\n",
      "[\u001b[1mtardis.simulation.base\u001b[0m][\u001b[1;37mINFO\u001b[0m   ]  \n",
      "\t\n",
      "\tPlasma stratification: (\u001b[1mbase.py\u001b[0m:539)\n"
     ]
    },
    {
     "data": {
      "text/html": [
       "<style type=\"text/css\">\n",
       "</style>\n",
       "<table id=\"T_2ab17\">\n",
       "  <thead>\n",
       "    <tr>\n",
       "      <th class=\"index_name level0\" >Shell No.</th>\n",
       "      <th id=\"T_2ab17_level0_col0\" class=\"col_heading level0 col0\" >t_rad</th>\n",
       "      <th id=\"T_2ab17_level0_col1\" class=\"col_heading level0 col1\" >next_t_rad</th>\n",
       "      <th id=\"T_2ab17_level0_col2\" class=\"col_heading level0 col2\" >w</th>\n",
       "      <th id=\"T_2ab17_level0_col3\" class=\"col_heading level0 col3\" >next_w</th>\n",
       "    </tr>\n",
       "  </thead>\n",
       "  <tbody>\n",
       "    <tr>\n",
       "      <th id=\"T_2ab17_level0_row0\" class=\"row_heading level0 row0\" >0</th>\n",
       "      <td id=\"T_2ab17_row0_col0\" class=\"data row0 col0\" >1.08e+04 K</td>\n",
       "      <td id=\"T_2ab17_row0_col1\" class=\"data row0 col1\" >1.1e+04 K</td>\n",
       "      <td id=\"T_2ab17_row0_col2\" class=\"data row0 col2\" >0.525</td>\n",
       "      <td id=\"T_2ab17_row0_col3\" class=\"data row0 col3\" >0.483</td>\n",
       "    </tr>\n",
       "    <tr>\n",
       "      <th id=\"T_2ab17_level0_row1\" class=\"row_heading level0 row1\" >5</th>\n",
       "      <td id=\"T_2ab17_row1_col0\" class=\"data row1 col0\" >1.1e+04 K</td>\n",
       "      <td id=\"T_2ab17_row1_col1\" class=\"data row1 col1\" >1.12e+04 K</td>\n",
       "      <td id=\"T_2ab17_row1_col2\" class=\"data row1 col2\" >0.203</td>\n",
       "      <td id=\"T_2ab17_row1_col3\" class=\"data row1 col3\" >0.189</td>\n",
       "    </tr>\n",
       "    <tr>\n",
       "      <th id=\"T_2ab17_level0_row2\" class=\"row_heading level0 row2\" >10</th>\n",
       "      <td id=\"T_2ab17_row2_col0\" class=\"data row2 col0\" >1.08e+04 K</td>\n",
       "      <td id=\"T_2ab17_row2_col1\" class=\"data row2 col1\" >1.1e+04 K</td>\n",
       "      <td id=\"T_2ab17_row2_col2\" class=\"data row2 col2\" >0.125</td>\n",
       "      <td id=\"T_2ab17_row2_col3\" class=\"data row2 col3\" >0.118</td>\n",
       "    </tr>\n",
       "    <tr>\n",
       "      <th id=\"T_2ab17_level0_row3\" class=\"row_heading level0 row3\" >15</th>\n",
       "      <td id=\"T_2ab17_row3_col0\" class=\"data row3 col0\" >1.05e+04 K</td>\n",
       "      <td id=\"T_2ab17_row3_col1\" class=\"data row3 col1\" >1.06e+04 K</td>\n",
       "      <td id=\"T_2ab17_row3_col2\" class=\"data row3 col2\" >0.0933</td>\n",
       "      <td id=\"T_2ab17_row3_col3\" class=\"data row3 col3\" >0.0895</td>\n",
       "    </tr>\n",
       "  </tbody>\n",
       "</table>\n"
      ],
      "text/plain": [
       "<pandas.io.formats.style.Styler at 0x7f0c5c22b2c0>"
      ]
     },
     "metadata": {},
     "output_type": "display_data"
    },
    {
     "name": "stdout",
     "output_type": "stream",
     "text": [
      "[\u001b[1mtardis.simulation.base\u001b[0m][\u001b[1;37mINFO\u001b[0m   ]  \n",
      "\t\n",
      "\tCurrent t_inner = 10673.712 K\n",
      "\tExpected t_inner for next iteration = 10635.953 K\n",
      " (\u001b[1mbase.py\u001b[0m:566)\n",
      "[\u001b[1mtardis.simulation.base\u001b[0m][\u001b[1;37mINFO\u001b[0m   ]  \n",
      "\t\n",
      "\tStarting iteration 4 of 20 (\u001b[1mbase.py\u001b[0m:378)\n",
      "[\u001b[1mtardis.simulation.base\u001b[0m][\u001b[1;37mINFO\u001b[0m   ]  \n",
      "\t\n",
      "\tLuminosity emitted   = 1.058e+43 erg / s\n",
      "\tLuminosity absorbed  = 3.352e+42 erg / s\n",
      "\tLuminosity requested = 1.059e+43 erg / s\n",
      " (\u001b[1mbase.py\u001b[0m:571)\n",
      "[\u001b[1mtardis.simulation.base\u001b[0m][\u001b[1;37mINFO\u001b[0m   ]  \n",
      "\tIteration converged 2/4 consecutive times. (\u001b[1mbase.py\u001b[0m:251)\n",
      "[\u001b[1mtardis.simulation.base\u001b[0m][\u001b[1;37mINFO\u001b[0m   ]  \n",
      "\t\n",
      "\tPlasma stratification: (\u001b[1mbase.py\u001b[0m:539)\n"
     ]
    },
    {
     "data": {
      "text/html": [
       "<style type=\"text/css\">\n",
       "</style>\n",
       "<table id=\"T_245d3\">\n",
       "  <thead>\n",
       "    <tr>\n",
       "      <th class=\"index_name level0\" >Shell No.</th>\n",
       "      <th id=\"T_245d3_level0_col0\" class=\"col_heading level0 col0\" >t_rad</th>\n",
       "      <th id=\"T_245d3_level0_col1\" class=\"col_heading level0 col1\" >next_t_rad</th>\n",
       "      <th id=\"T_245d3_level0_col2\" class=\"col_heading level0 col2\" >w</th>\n",
       "      <th id=\"T_245d3_level0_col3\" class=\"col_heading level0 col3\" >next_w</th>\n",
       "    </tr>\n",
       "  </thead>\n",
       "  <tbody>\n",
       "    <tr>\n",
       "      <th id=\"T_245d3_level0_row0\" class=\"row_heading level0 row0\" >0</th>\n",
       "      <td id=\"T_245d3_row0_col0\" class=\"data row0 col0\" >1.1e+04 K</td>\n",
       "      <td id=\"T_245d3_row0_col1\" class=\"data row0 col1\" >1.1e+04 K</td>\n",
       "      <td id=\"T_245d3_row0_col2\" class=\"data row0 col2\" >0.483</td>\n",
       "      <td id=\"T_245d3_row0_col3\" class=\"data row0 col3\" >0.469</td>\n",
       "    </tr>\n",
       "    <tr>\n",
       "      <th id=\"T_245d3_level0_row1\" class=\"row_heading level0 row1\" >5</th>\n",
       "      <td id=\"T_245d3_row1_col0\" class=\"data row1 col0\" >1.12e+04 K</td>\n",
       "      <td id=\"T_245d3_row1_col1\" class=\"data row1 col1\" >1.12e+04 K</td>\n",
       "      <td id=\"T_245d3_row1_col2\" class=\"data row1 col2\" >0.189</td>\n",
       "      <td id=\"T_245d3_row1_col3\" class=\"data row1 col3\" >0.182</td>\n",
       "    </tr>\n",
       "    <tr>\n",
       "      <th id=\"T_245d3_level0_row2\" class=\"row_heading level0 row2\" >10</th>\n",
       "      <td id=\"T_245d3_row2_col0\" class=\"data row2 col0\" >1.1e+04 K</td>\n",
       "      <td id=\"T_245d3_row2_col1\" class=\"data row2 col1\" >1.1e+04 K</td>\n",
       "      <td id=\"T_245d3_row2_col2\" class=\"data row2 col2\" >0.118</td>\n",
       "      <td id=\"T_245d3_row2_col3\" class=\"data row2 col3\" >0.113</td>\n",
       "    </tr>\n",
       "    <tr>\n",
       "      <th id=\"T_245d3_level0_row3\" class=\"row_heading level0 row3\" >15</th>\n",
       "      <td id=\"T_245d3_row3_col0\" class=\"data row3 col0\" >1.06e+04 K</td>\n",
       "      <td id=\"T_245d3_row3_col1\" class=\"data row3 col1\" >1.07e+04 K</td>\n",
       "      <td id=\"T_245d3_row3_col2\" class=\"data row3 col2\" >0.0895</td>\n",
       "      <td id=\"T_245d3_row3_col3\" class=\"data row3 col3\" >0.0861</td>\n",
       "    </tr>\n",
       "  </tbody>\n",
       "</table>\n"
      ],
      "text/plain": [
       "<pandas.io.formats.style.Styler at 0x7f0c6228b3b0>"
      ]
     },
     "metadata": {},
     "output_type": "display_data"
    },
    {
     "name": "stdout",
     "output_type": "stream",
     "text": [
      "[\u001b[1mtardis.simulation.base\u001b[0m][\u001b[1;37mINFO\u001b[0m   ]  \n",
      "\t\n",
      "\tCurrent t_inner = 10635.953 K\n",
      "\tExpected t_inner for next iteration = 10638.407 K\n",
      " (\u001b[1mbase.py\u001b[0m:566)\n",
      "[\u001b[1mtardis.simulation.base\u001b[0m][\u001b[1;37mINFO\u001b[0m   ]  \n",
      "\t\n",
      "\tStarting iteration 5 of 20 (\u001b[1mbase.py\u001b[0m:378)\n",
      "[\u001b[1mtardis.simulation.base\u001b[0m][\u001b[1;37mINFO\u001b[0m   ]  \n",
      "\t\n",
      "\tLuminosity emitted   = 1.055e+43 erg / s\n",
      "\tLuminosity absorbed  = 3.399e+42 erg / s\n",
      "\tLuminosity requested = 1.059e+43 erg / s\n",
      " (\u001b[1mbase.py\u001b[0m:571)\n",
      "[\u001b[1mtardis.simulation.base\u001b[0m][\u001b[1;37mINFO\u001b[0m   ]  \n",
      "\tIteration converged 3/4 consecutive times. (\u001b[1mbase.py\u001b[0m:251)\n",
      "[\u001b[1mtardis.simulation.base\u001b[0m][\u001b[1;37mINFO\u001b[0m   ]  \n",
      "\t\n",
      "\tPlasma stratification: (\u001b[1mbase.py\u001b[0m:539)\n"
     ]
    },
    {
     "data": {
      "text/html": [
       "<style type=\"text/css\">\n",
       "</style>\n",
       "<table id=\"T_597f1\">\n",
       "  <thead>\n",
       "    <tr>\n",
       "      <th class=\"index_name level0\" >Shell No.</th>\n",
       "      <th id=\"T_597f1_level0_col0\" class=\"col_heading level0 col0\" >t_rad</th>\n",
       "      <th id=\"T_597f1_level0_col1\" class=\"col_heading level0 col1\" >next_t_rad</th>\n",
       "      <th id=\"T_597f1_level0_col2\" class=\"col_heading level0 col2\" >w</th>\n",
       "      <th id=\"T_597f1_level0_col3\" class=\"col_heading level0 col3\" >next_w</th>\n",
       "    </tr>\n",
       "  </thead>\n",
       "  <tbody>\n",
       "    <tr>\n",
       "      <th id=\"T_597f1_level0_row0\" class=\"row_heading level0 row0\" >0</th>\n",
       "      <td id=\"T_597f1_row0_col0\" class=\"data row0 col0\" >1.1e+04 K</td>\n",
       "      <td id=\"T_597f1_row0_col1\" class=\"data row0 col1\" >1.1e+04 K</td>\n",
       "      <td id=\"T_597f1_row0_col2\" class=\"data row0 col2\" >0.469</td>\n",
       "      <td id=\"T_597f1_row0_col3\" class=\"data row0 col3\" >0.479</td>\n",
       "    </tr>\n",
       "    <tr>\n",
       "      <th id=\"T_597f1_level0_row1\" class=\"row_heading level0 row1\" >5</th>\n",
       "      <td id=\"T_597f1_row1_col0\" class=\"data row1 col0\" >1.12e+04 K</td>\n",
       "      <td id=\"T_597f1_row1_col1\" class=\"data row1 col1\" >1.13e+04 K</td>\n",
       "      <td id=\"T_597f1_row1_col2\" class=\"data row1 col2\" >0.182</td>\n",
       "      <td id=\"T_597f1_row1_col3\" class=\"data row1 col3\" >0.178</td>\n",
       "    </tr>\n",
       "    <tr>\n",
       "      <th id=\"T_597f1_level0_row2\" class=\"row_heading level0 row2\" >10</th>\n",
       "      <td id=\"T_597f1_row2_col0\" class=\"data row2 col0\" >1.1e+04 K</td>\n",
       "      <td id=\"T_597f1_row2_col1\" class=\"data row2 col1\" >1.1e+04 K</td>\n",
       "      <td id=\"T_597f1_row2_col2\" class=\"data row2 col2\" >0.113</td>\n",
       "      <td id=\"T_597f1_row2_col3\" class=\"data row2 col3\" >0.113</td>\n",
       "    </tr>\n",
       "    <tr>\n",
       "      <th id=\"T_597f1_level0_row3\" class=\"row_heading level0 row3\" >15</th>\n",
       "      <td id=\"T_597f1_row3_col0\" class=\"data row3 col0\" >1.07e+04 K</td>\n",
       "      <td id=\"T_597f1_row3_col1\" class=\"data row3 col1\" >1.07e+04 K</td>\n",
       "      <td id=\"T_597f1_row3_col2\" class=\"data row3 col2\" >0.0861</td>\n",
       "      <td id=\"T_597f1_row3_col3\" class=\"data row3 col3\" >0.0839</td>\n",
       "    </tr>\n",
       "  </tbody>\n",
       "</table>\n"
      ],
      "text/plain": [
       "<pandas.io.formats.style.Styler at 0x7f0c5c228ef0>"
      ]
     },
     "metadata": {},
     "output_type": "display_data"
    },
    {
     "name": "stdout",
     "output_type": "stream",
     "text": [
      "[\u001b[1mtardis.simulation.base\u001b[0m][\u001b[1;37mINFO\u001b[0m   ]  \n",
      "\t\n",
      "\tCurrent t_inner = 10638.407 K\n",
      "\tExpected t_inner for next iteration = 10650.202 K\n",
      " (\u001b[1mbase.py\u001b[0m:566)\n",
      "[\u001b[1mtardis.simulation.base\u001b[0m][\u001b[1;37mINFO\u001b[0m   ]  \n",
      "\t\n",
      "\tStarting iteration 6 of 20 (\u001b[1mbase.py\u001b[0m:378)\n",
      "[\u001b[1mtardis.simulation.base\u001b[0m][\u001b[1;37mINFO\u001b[0m   ]  \n",
      "\t\n",
      "\tLuminosity emitted   = 1.061e+43 erg / s\n",
      "\tLuminosity absorbed  = 3.398e+42 erg / s\n",
      "\tLuminosity requested = 1.059e+43 erg / s\n",
      " (\u001b[1mbase.py\u001b[0m:571)\n",
      "[\u001b[1mtardis.simulation.base\u001b[0m][\u001b[1;37mINFO\u001b[0m   ]  \n",
      "\tIteration converged 4/4 consecutive times. (\u001b[1mbase.py\u001b[0m:251)\n",
      "[\u001b[1mtardis.simulation.base\u001b[0m][\u001b[1;37mINFO\u001b[0m   ]  \n",
      "\t\n",
      "\tPlasma stratification: (\u001b[1mbase.py\u001b[0m:539)\n"
     ]
    },
    {
     "data": {
      "text/html": [
       "<style type=\"text/css\">\n",
       "</style>\n",
       "<table id=\"T_f8790\">\n",
       "  <thead>\n",
       "    <tr>\n",
       "      <th class=\"index_name level0\" >Shell No.</th>\n",
       "      <th id=\"T_f8790_level0_col0\" class=\"col_heading level0 col0\" >t_rad</th>\n",
       "      <th id=\"T_f8790_level0_col1\" class=\"col_heading level0 col1\" >next_t_rad</th>\n",
       "      <th id=\"T_f8790_level0_col2\" class=\"col_heading level0 col2\" >w</th>\n",
       "      <th id=\"T_f8790_level0_col3\" class=\"col_heading level0 col3\" >next_w</th>\n",
       "    </tr>\n",
       "  </thead>\n",
       "  <tbody>\n",
       "    <tr>\n",
       "      <th id=\"T_f8790_level0_row0\" class=\"row_heading level0 row0\" >0</th>\n",
       "      <td id=\"T_f8790_row0_col0\" class=\"data row0 col0\" >1.1e+04 K</td>\n",
       "      <td id=\"T_f8790_row0_col1\" class=\"data row0 col1\" >1.1e+04 K</td>\n",
       "      <td id=\"T_f8790_row0_col2\" class=\"data row0 col2\" >0.479</td>\n",
       "      <td id=\"T_f8790_row0_col3\" class=\"data row0 col3\" >0.47</td>\n",
       "    </tr>\n",
       "    <tr>\n",
       "      <th id=\"T_f8790_level0_row1\" class=\"row_heading level0 row1\" >5</th>\n",
       "      <td id=\"T_f8790_row1_col0\" class=\"data row1 col0\" >1.13e+04 K</td>\n",
       "      <td id=\"T_f8790_row1_col1\" class=\"data row1 col1\" >1.12e+04 K</td>\n",
       "      <td id=\"T_f8790_row1_col2\" class=\"data row1 col2\" >0.178</td>\n",
       "      <td id=\"T_f8790_row1_col3\" class=\"data row1 col3\" >0.185</td>\n",
       "    </tr>\n",
       "    <tr>\n",
       "      <th id=\"T_f8790_level0_row2\" class=\"row_heading level0 row2\" >10</th>\n",
       "      <td id=\"T_f8790_row2_col0\" class=\"data row2 col0\" >1.1e+04 K</td>\n",
       "      <td id=\"T_f8790_row2_col1\" class=\"data row2 col1\" >1.11e+04 K</td>\n",
       "      <td id=\"T_f8790_row2_col2\" class=\"data row2 col2\" >0.113</td>\n",
       "      <td id=\"T_f8790_row2_col3\" class=\"data row2 col3\" >0.112</td>\n",
       "    </tr>\n",
       "    <tr>\n",
       "      <th id=\"T_f8790_level0_row3\" class=\"row_heading level0 row3\" >15</th>\n",
       "      <td id=\"T_f8790_row3_col0\" class=\"data row3 col0\" >1.07e+04 K</td>\n",
       "      <td id=\"T_f8790_row3_col1\" class=\"data row3 col1\" >1.07e+04 K</td>\n",
       "      <td id=\"T_f8790_row3_col2\" class=\"data row3 col2\" >0.0839</td>\n",
       "      <td id=\"T_f8790_row3_col3\" class=\"data row3 col3\" >0.0856</td>\n",
       "    </tr>\n",
       "  </tbody>\n",
       "</table>\n"
      ],
      "text/plain": [
       "<pandas.io.formats.style.Styler at 0x7f0c5c229460>"
      ]
     },
     "metadata": {},
     "output_type": "display_data"
    },
    {
     "name": "stdout",
     "output_type": "stream",
     "text": [
      "[\u001b[1mtardis.simulation.base\u001b[0m][\u001b[1;37mINFO\u001b[0m   ]  \n",
      "\t\n",
      "\tCurrent t_inner = 10650.202 K\n",
      "\tExpected t_inner for next iteration = 10645.955 K\n",
      " (\u001b[1mbase.py\u001b[0m:566)\n",
      "[\u001b[1mtardis.simulation.base\u001b[0m][\u001b[1;37mINFO\u001b[0m   ]  \n",
      "\t\n",
      "\tStarting iteration 7 of 20 (\u001b[1mbase.py\u001b[0m:378)\n",
      "[\u001b[1mtardis.simulation.base\u001b[0m][\u001b[1;37mINFO\u001b[0m   ]  \n",
      "\t\n",
      "\tLuminosity emitted   = 1.061e+43 erg / s\n",
      "\tLuminosity absorbed  = 3.382e+42 erg / s\n",
      "\tLuminosity requested = 1.059e+43 erg / s\n",
      " (\u001b[1mbase.py\u001b[0m:571)\n",
      "[\u001b[1mtardis.simulation.base\u001b[0m][\u001b[1;37mINFO\u001b[0m   ]  \n",
      "\tIteration converged 5/4 consecutive times. (\u001b[1mbase.py\u001b[0m:251)\n",
      "[\u001b[1mtardis.simulation.base\u001b[0m][\u001b[1;37mINFO\u001b[0m   ]  \n",
      "\t\n",
      "\tPlasma stratification: (\u001b[1mbase.py\u001b[0m:539)\n"
     ]
    },
    {
     "data": {
      "text/html": [
       "<style type=\"text/css\">\n",
       "</style>\n",
       "<table id=\"T_0063a\">\n",
       "  <thead>\n",
       "    <tr>\n",
       "      <th class=\"index_name level0\" >Shell No.</th>\n",
       "      <th id=\"T_0063a_level0_col0\" class=\"col_heading level0 col0\" >t_rad</th>\n",
       "      <th id=\"T_0063a_level0_col1\" class=\"col_heading level0 col1\" >next_t_rad</th>\n",
       "      <th id=\"T_0063a_level0_col2\" class=\"col_heading level0 col2\" >w</th>\n",
       "      <th id=\"T_0063a_level0_col3\" class=\"col_heading level0 col3\" >next_w</th>\n",
       "    </tr>\n",
       "  </thead>\n",
       "  <tbody>\n",
       "    <tr>\n",
       "      <th id=\"T_0063a_level0_row0\" class=\"row_heading level0 row0\" >0</th>\n",
       "      <td id=\"T_0063a_row0_col0\" class=\"data row0 col0\" >1.1e+04 K</td>\n",
       "      <td id=\"T_0063a_row0_col1\" class=\"data row0 col1\" >1.1e+04 K</td>\n",
       "      <td id=\"T_0063a_row0_col2\" class=\"data row0 col2\" >0.47</td>\n",
       "      <td id=\"T_0063a_row0_col3\" class=\"data row0 col3\" >0.47</td>\n",
       "    </tr>\n",
       "    <tr>\n",
       "      <th id=\"T_0063a_level0_row1\" class=\"row_heading level0 row1\" >5</th>\n",
       "      <td id=\"T_0063a_row1_col0\" class=\"data row1 col0\" >1.12e+04 K</td>\n",
       "      <td id=\"T_0063a_row1_col1\" class=\"data row1 col1\" >1.13e+04 K</td>\n",
       "      <td id=\"T_0063a_row1_col2\" class=\"data row1 col2\" >0.185</td>\n",
       "      <td id=\"T_0063a_row1_col3\" class=\"data row1 col3\" >0.178</td>\n",
       "    </tr>\n",
       "    <tr>\n",
       "      <th id=\"T_0063a_level0_row2\" class=\"row_heading level0 row2\" >10</th>\n",
       "      <td id=\"T_0063a_row2_col0\" class=\"data row2 col0\" >1.11e+04 K</td>\n",
       "      <td id=\"T_0063a_row2_col1\" class=\"data row2 col1\" >1.11e+04 K</td>\n",
       "      <td id=\"T_0063a_row2_col2\" class=\"data row2 col2\" >0.112</td>\n",
       "      <td id=\"T_0063a_row2_col3\" class=\"data row2 col3\" >0.112</td>\n",
       "    </tr>\n",
       "    <tr>\n",
       "      <th id=\"T_0063a_level0_row3\" class=\"row_heading level0 row3\" >15</th>\n",
       "      <td id=\"T_0063a_row3_col0\" class=\"data row3 col0\" >1.07e+04 K</td>\n",
       "      <td id=\"T_0063a_row3_col1\" class=\"data row3 col1\" >1.07e+04 K</td>\n",
       "      <td id=\"T_0063a_row3_col2\" class=\"data row3 col2\" >0.0856</td>\n",
       "      <td id=\"T_0063a_row3_col3\" class=\"data row3 col3\" >0.086</td>\n",
       "    </tr>\n",
       "  </tbody>\n",
       "</table>\n"
      ],
      "text/plain": [
       "<pandas.io.formats.style.Styler at 0x7f0c5c2321e0>"
      ]
     },
     "metadata": {},
     "output_type": "display_data"
    },
    {
     "name": "stdout",
     "output_type": "stream",
     "text": [
      "[\u001b[1mtardis.simulation.base\u001b[0m][\u001b[1;37mINFO\u001b[0m   ]  \n",
      "\t\n",
      "\tCurrent t_inner = 10645.955 K\n",
      "\tExpected t_inner for next iteration = 10642.050 K\n",
      " (\u001b[1mbase.py\u001b[0m:566)\n",
      "[\u001b[1mtardis.simulation.base\u001b[0m][\u001b[1;37mINFO\u001b[0m   ]  \n",
      "\t\n",
      "\tStarting iteration 8 of 20 (\u001b[1mbase.py\u001b[0m:378)\n",
      "[\u001b[1mtardis.simulation.base\u001b[0m][\u001b[1;37mINFO\u001b[0m   ]  \n",
      "\t\n",
      "\tLuminosity emitted   = 1.062e+43 erg / s\n",
      "\tLuminosity absorbed  = 3.350e+42 erg / s\n",
      "\tLuminosity requested = 1.059e+43 erg / s\n",
      " (\u001b[1mbase.py\u001b[0m:571)\n",
      "[\u001b[1mtardis.simulation.base\u001b[0m][\u001b[1;37mINFO\u001b[0m   ]  \n",
      "\tIteration converged 6/4 consecutive times. (\u001b[1mbase.py\u001b[0m:251)\n",
      "[\u001b[1mtardis.simulation.base\u001b[0m][\u001b[1;37mINFO\u001b[0m   ]  \n",
      "\t\n",
      "\tPlasma stratification: (\u001b[1mbase.py\u001b[0m:539)\n"
     ]
    },
    {
     "data": {
      "text/html": [
       "<style type=\"text/css\">\n",
       "</style>\n",
       "<table id=\"T_d3b49\">\n",
       "  <thead>\n",
       "    <tr>\n",
       "      <th class=\"index_name level0\" >Shell No.</th>\n",
       "      <th id=\"T_d3b49_level0_col0\" class=\"col_heading level0 col0\" >t_rad</th>\n",
       "      <th id=\"T_d3b49_level0_col1\" class=\"col_heading level0 col1\" >next_t_rad</th>\n",
       "      <th id=\"T_d3b49_level0_col2\" class=\"col_heading level0 col2\" >w</th>\n",
       "      <th id=\"T_d3b49_level0_col3\" class=\"col_heading level0 col3\" >next_w</th>\n",
       "    </tr>\n",
       "  </thead>\n",
       "  <tbody>\n",
       "    <tr>\n",
       "      <th id=\"T_d3b49_level0_row0\" class=\"row_heading level0 row0\" >0</th>\n",
       "      <td id=\"T_d3b49_row0_col0\" class=\"data row0 col0\" >1.1e+04 K</td>\n",
       "      <td id=\"T_d3b49_row0_col1\" class=\"data row0 col1\" >1.11e+04 K</td>\n",
       "      <td id=\"T_d3b49_row0_col2\" class=\"data row0 col2\" >0.47</td>\n",
       "      <td id=\"T_d3b49_row0_col3\" class=\"data row0 col3\" >0.472</td>\n",
       "    </tr>\n",
       "    <tr>\n",
       "      <th id=\"T_d3b49_level0_row1\" class=\"row_heading level0 row1\" >5</th>\n",
       "      <td id=\"T_d3b49_row1_col0\" class=\"data row1 col0\" >1.13e+04 K</td>\n",
       "      <td id=\"T_d3b49_row1_col1\" class=\"data row1 col1\" >1.14e+04 K</td>\n",
       "      <td id=\"T_d3b49_row1_col2\" class=\"data row1 col2\" >0.178</td>\n",
       "      <td id=\"T_d3b49_row1_col3\" class=\"data row1 col3\" >0.175</td>\n",
       "    </tr>\n",
       "    <tr>\n",
       "      <th id=\"T_d3b49_level0_row2\" class=\"row_heading level0 row2\" >10</th>\n",
       "      <td id=\"T_d3b49_row2_col0\" class=\"data row2 col0\" >1.11e+04 K</td>\n",
       "      <td id=\"T_d3b49_row2_col1\" class=\"data row2 col1\" >1.11e+04 K</td>\n",
       "      <td id=\"T_d3b49_row2_col2\" class=\"data row2 col2\" >0.112</td>\n",
       "      <td id=\"T_d3b49_row2_col3\" class=\"data row2 col3\" >0.111</td>\n",
       "    </tr>\n",
       "    <tr>\n",
       "      <th id=\"T_d3b49_level0_row3\" class=\"row_heading level0 row3\" >15</th>\n",
       "      <td id=\"T_d3b49_row3_col0\" class=\"data row3 col0\" >1.07e+04 K</td>\n",
       "      <td id=\"T_d3b49_row3_col1\" class=\"data row3 col1\" >1.07e+04 K</td>\n",
       "      <td id=\"T_d3b49_row3_col2\" class=\"data row3 col2\" >0.086</td>\n",
       "      <td id=\"T_d3b49_row3_col3\" class=\"data row3 col3\" >0.084</td>\n",
       "    </tr>\n",
       "  </tbody>\n",
       "</table>\n"
      ],
      "text/plain": [
       "<pandas.io.formats.style.Styler at 0x7f0c5c231580>"
      ]
     },
     "metadata": {},
     "output_type": "display_data"
    },
    {
     "name": "stdout",
     "output_type": "stream",
     "text": [
      "[\u001b[1mtardis.simulation.base\u001b[0m][\u001b[1;37mINFO\u001b[0m   ]  \n",
      "\t\n",
      "\tCurrent t_inner = 10642.050 K\n",
      "\tExpected t_inner for next iteration = 10636.106 K\n",
      " (\u001b[1mbase.py\u001b[0m:566)\n",
      "[\u001b[1mtardis.simulation.base\u001b[0m][\u001b[1;37mINFO\u001b[0m   ]  \n",
      "\t\n",
      "\tStarting iteration 9 of 20 (\u001b[1mbase.py\u001b[0m:378)\n",
      "[\u001b[1mtardis.simulation.base\u001b[0m][\u001b[1;37mINFO\u001b[0m   ]  \n",
      "\t\n",
      "\tLuminosity emitted   = 1.052e+43 erg / s\n",
      "\tLuminosity absorbed  = 3.411e+42 erg / s\n",
      "\tLuminosity requested = 1.059e+43 erg / s\n",
      " (\u001b[1mbase.py\u001b[0m:571)\n",
      "[\u001b[1mtardis.simulation.base\u001b[0m][\u001b[1;37mINFO\u001b[0m   ]  \n",
      "\tIteration converged 7/4 consecutive times. (\u001b[1mbase.py\u001b[0m:251)\n",
      "[\u001b[1mtardis.simulation.base\u001b[0m][\u001b[1;37mINFO\u001b[0m   ]  \n",
      "\t\n",
      "\tPlasma stratification: (\u001b[1mbase.py\u001b[0m:539)\n"
     ]
    },
    {
     "data": {
      "text/html": [
       "<style type=\"text/css\">\n",
       "</style>\n",
       "<table id=\"T_17d4c\">\n",
       "  <thead>\n",
       "    <tr>\n",
       "      <th class=\"index_name level0\" >Shell No.</th>\n",
       "      <th id=\"T_17d4c_level0_col0\" class=\"col_heading level0 col0\" >t_rad</th>\n",
       "      <th id=\"T_17d4c_level0_col1\" class=\"col_heading level0 col1\" >next_t_rad</th>\n",
       "      <th id=\"T_17d4c_level0_col2\" class=\"col_heading level0 col2\" >w</th>\n",
       "      <th id=\"T_17d4c_level0_col3\" class=\"col_heading level0 col3\" >next_w</th>\n",
       "    </tr>\n",
       "  </thead>\n",
       "  <tbody>\n",
       "    <tr>\n",
       "      <th id=\"T_17d4c_level0_row0\" class=\"row_heading level0 row0\" >0</th>\n",
       "      <td id=\"T_17d4c_row0_col0\" class=\"data row0 col0\" >1.11e+04 K</td>\n",
       "      <td id=\"T_17d4c_row0_col1\" class=\"data row0 col1\" >1.11e+04 K</td>\n",
       "      <td id=\"T_17d4c_row0_col2\" class=\"data row0 col2\" >0.472</td>\n",
       "      <td id=\"T_17d4c_row0_col3\" class=\"data row0 col3\" >0.469</td>\n",
       "    </tr>\n",
       "    <tr>\n",
       "      <th id=\"T_17d4c_level0_row1\" class=\"row_heading level0 row1\" >5</th>\n",
       "      <td id=\"T_17d4c_row1_col0\" class=\"data row1 col0\" >1.14e+04 K</td>\n",
       "      <td id=\"T_17d4c_row1_col1\" class=\"data row1 col1\" >1.15e+04 K</td>\n",
       "      <td id=\"T_17d4c_row1_col2\" class=\"data row1 col2\" >0.175</td>\n",
       "      <td id=\"T_17d4c_row1_col3\" class=\"data row1 col3\" >0.17</td>\n",
       "    </tr>\n",
       "    <tr>\n",
       "      <th id=\"T_17d4c_level0_row2\" class=\"row_heading level0 row2\" >10</th>\n",
       "      <td id=\"T_17d4c_row2_col0\" class=\"data row2 col0\" >1.11e+04 K</td>\n",
       "      <td id=\"T_17d4c_row2_col1\" class=\"data row2 col1\" >1.11e+04 K</td>\n",
       "      <td id=\"T_17d4c_row2_col2\" class=\"data row2 col2\" >0.111</td>\n",
       "      <td id=\"T_17d4c_row2_col3\" class=\"data row2 col3\" >0.109</td>\n",
       "    </tr>\n",
       "    <tr>\n",
       "      <th id=\"T_17d4c_level0_row3\" class=\"row_heading level0 row3\" >15</th>\n",
       "      <td id=\"T_17d4c_row3_col0\" class=\"data row3 col0\" >1.07e+04 K</td>\n",
       "      <td id=\"T_17d4c_row3_col1\" class=\"data row3 col1\" >1.08e+04 K</td>\n",
       "      <td id=\"T_17d4c_row3_col2\" class=\"data row3 col2\" >0.084</td>\n",
       "      <td id=\"T_17d4c_row3_col3\" class=\"data row3 col3\" >0.0822</td>\n",
       "    </tr>\n",
       "  </tbody>\n",
       "</table>\n"
      ],
      "text/plain": [
       "<pandas.io.formats.style.Styler at 0x7f0c483355b0>"
      ]
     },
     "metadata": {},
     "output_type": "display_data"
    },
    {
     "name": "stdout",
     "output_type": "stream",
     "text": [
      "[\u001b[1mtardis.simulation.base\u001b[0m][\u001b[1;37mINFO\u001b[0m   ]  \n",
      "\t\n",
      "\tCurrent t_inner = 10636.106 K\n",
      "\tExpected t_inner for next iteration = 10654.313 K\n",
      " (\u001b[1mbase.py\u001b[0m:566)\n",
      "[\u001b[1mtardis.simulation.base\u001b[0m][\u001b[1;37mINFO\u001b[0m   ]  \n",
      "\t\n",
      "\tStarting iteration 10 of 20 (\u001b[1mbase.py\u001b[0m:378)\n",
      "[\u001b[1mtardis.simulation.base\u001b[0m][\u001b[1;37mINFO\u001b[0m   ]  \n",
      "\t\n",
      "\tLuminosity emitted   = 1.070e+43 erg / s\n",
      "\tLuminosity absorbed  = 3.335e+42 erg / s\n",
      "\tLuminosity requested = 1.059e+43 erg / s\n",
      " (\u001b[1mbase.py\u001b[0m:571)\n",
      "[\u001b[1mtardis.simulation.base\u001b[0m][\u001b[1;37mINFO\u001b[0m   ]  \n",
      "\tIteration converged 8/4 consecutive times. (\u001b[1mbase.py\u001b[0m:251)\n",
      "[\u001b[1mtardis.simulation.base\u001b[0m][\u001b[1;37mINFO\u001b[0m   ]  \n",
      "\t\n",
      "\tPlasma stratification: (\u001b[1mbase.py\u001b[0m:539)\n"
     ]
    },
    {
     "data": {
      "text/html": [
       "<style type=\"text/css\">\n",
       "</style>\n",
       "<table id=\"T_6f8d4\">\n",
       "  <thead>\n",
       "    <tr>\n",
       "      <th class=\"index_name level0\" >Shell No.</th>\n",
       "      <th id=\"T_6f8d4_level0_col0\" class=\"col_heading level0 col0\" >t_rad</th>\n",
       "      <th id=\"T_6f8d4_level0_col1\" class=\"col_heading level0 col1\" >next_t_rad</th>\n",
       "      <th id=\"T_6f8d4_level0_col2\" class=\"col_heading level0 col2\" >w</th>\n",
       "      <th id=\"T_6f8d4_level0_col3\" class=\"col_heading level0 col3\" >next_w</th>\n",
       "    </tr>\n",
       "  </thead>\n",
       "  <tbody>\n",
       "    <tr>\n",
       "      <th id=\"T_6f8d4_level0_row0\" class=\"row_heading level0 row0\" >0</th>\n",
       "      <td id=\"T_6f8d4_row0_col0\" class=\"data row0 col0\" >1.11e+04 K</td>\n",
       "      <td id=\"T_6f8d4_row0_col1\" class=\"data row0 col1\" >1.1e+04 K</td>\n",
       "      <td id=\"T_6f8d4_row0_col2\" class=\"data row0 col2\" >0.469</td>\n",
       "      <td id=\"T_6f8d4_row0_col3\" class=\"data row0 col3\" >0.475</td>\n",
       "    </tr>\n",
       "    <tr>\n",
       "      <th id=\"T_6f8d4_level0_row1\" class=\"row_heading level0 row1\" >5</th>\n",
       "      <td id=\"T_6f8d4_row1_col0\" class=\"data row1 col0\" >1.15e+04 K</td>\n",
       "      <td id=\"T_6f8d4_row1_col1\" class=\"data row1 col1\" >1.14e+04 K</td>\n",
       "      <td id=\"T_6f8d4_row1_col2\" class=\"data row1 col2\" >0.17</td>\n",
       "      <td id=\"T_6f8d4_row1_col3\" class=\"data row1 col3\" >0.177</td>\n",
       "    </tr>\n",
       "    <tr>\n",
       "      <th id=\"T_6f8d4_level0_row2\" class=\"row_heading level0 row2\" >10</th>\n",
       "      <td id=\"T_6f8d4_row2_col0\" class=\"data row2 col0\" >1.11e+04 K</td>\n",
       "      <td id=\"T_6f8d4_row2_col1\" class=\"data row2 col1\" >1.11e+04 K</td>\n",
       "      <td id=\"T_6f8d4_row2_col2\" class=\"data row2 col2\" >0.109</td>\n",
       "      <td id=\"T_6f8d4_row2_col3\" class=\"data row2 col3\" >0.112</td>\n",
       "    </tr>\n",
       "    <tr>\n",
       "      <th id=\"T_6f8d4_level0_row3\" class=\"row_heading level0 row3\" >15</th>\n",
       "      <td id=\"T_6f8d4_row3_col0\" class=\"data row3 col0\" >1.08e+04 K</td>\n",
       "      <td id=\"T_6f8d4_row3_col1\" class=\"data row3 col1\" >1.06e+04 K</td>\n",
       "      <td id=\"T_6f8d4_row3_col2\" class=\"data row3 col2\" >0.0822</td>\n",
       "      <td id=\"T_6f8d4_row3_col3\" class=\"data row3 col3\" >0.0878</td>\n",
       "    </tr>\n",
       "  </tbody>\n",
       "</table>\n"
      ],
      "text/plain": [
       "<pandas.io.formats.style.Styler at 0x7f0c5c231580>"
      ]
     },
     "metadata": {},
     "output_type": "display_data"
    },
    {
     "name": "stdout",
     "output_type": "stream",
     "text": [
      "[\u001b[1mtardis.simulation.base\u001b[0m][\u001b[1;37mINFO\u001b[0m   ]  \n",
      "\t\n",
      "\tCurrent t_inner = 10654.313 K\n",
      "\tExpected t_inner for next iteration = 10628.190 K\n",
      " (\u001b[1mbase.py\u001b[0m:566)\n",
      "[\u001b[1mtardis.simulation.base\u001b[0m][\u001b[1;37mINFO\u001b[0m   ]  \n",
      "\t\n",
      "\tStarting iteration 11 of 20 (\u001b[1mbase.py\u001b[0m:378)\n",
      "[\u001b[1mtardis.simulation.base\u001b[0m][\u001b[1;37mINFO\u001b[0m   ]  \n",
      "\t\n",
      "\tLuminosity emitted   = 1.053e+43 erg / s\n",
      "\tLuminosity absorbed  = 3.363e+42 erg / s\n",
      "\tLuminosity requested = 1.059e+43 erg / s\n",
      " (\u001b[1mbase.py\u001b[0m:571)\n",
      "[\u001b[1mtardis.simulation.base\u001b[0m][\u001b[1;37mINFO\u001b[0m   ]  \n",
      "\tIteration converged 9/4 consecutive times. (\u001b[1mbase.py\u001b[0m:251)\n",
      "[\u001b[1mtardis.simulation.base\u001b[0m][\u001b[1;37mINFO\u001b[0m   ]  \n",
      "\t\n",
      "\tPlasma stratification: (\u001b[1mbase.py\u001b[0m:539)\n"
     ]
    },
    {
     "data": {
      "text/html": [
       "<style type=\"text/css\">\n",
       "</style>\n",
       "<table id=\"T_37848\">\n",
       "  <thead>\n",
       "    <tr>\n",
       "      <th class=\"index_name level0\" >Shell No.</th>\n",
       "      <th id=\"T_37848_level0_col0\" class=\"col_heading level0 col0\" >t_rad</th>\n",
       "      <th id=\"T_37848_level0_col1\" class=\"col_heading level0 col1\" >next_t_rad</th>\n",
       "      <th id=\"T_37848_level0_col2\" class=\"col_heading level0 col2\" >w</th>\n",
       "      <th id=\"T_37848_level0_col3\" class=\"col_heading level0 col3\" >next_w</th>\n",
       "    </tr>\n",
       "  </thead>\n",
       "  <tbody>\n",
       "    <tr>\n",
       "      <th id=\"T_37848_level0_row0\" class=\"row_heading level0 row0\" >0</th>\n",
       "      <td id=\"T_37848_row0_col0\" class=\"data row0 col0\" >1.1e+04 K</td>\n",
       "      <td id=\"T_37848_row0_col1\" class=\"data row0 col1\" >1.1e+04 K</td>\n",
       "      <td id=\"T_37848_row0_col2\" class=\"data row0 col2\" >0.475</td>\n",
       "      <td id=\"T_37848_row0_col3\" class=\"data row0 col3\" >0.472</td>\n",
       "    </tr>\n",
       "    <tr>\n",
       "      <th id=\"T_37848_level0_row1\" class=\"row_heading level0 row1\" >5</th>\n",
       "      <td id=\"T_37848_row1_col0\" class=\"data row1 col0\" >1.14e+04 K</td>\n",
       "      <td id=\"T_37848_row1_col1\" class=\"data row1 col1\" >1.12e+04 K</td>\n",
       "      <td id=\"T_37848_row1_col2\" class=\"data row1 col2\" >0.177</td>\n",
       "      <td id=\"T_37848_row1_col3\" class=\"data row1 col3\" >0.184</td>\n",
       "    </tr>\n",
       "    <tr>\n",
       "      <th id=\"T_37848_level0_row2\" class=\"row_heading level0 row2\" >10</th>\n",
       "      <td id=\"T_37848_row2_col0\" class=\"data row2 col0\" >1.11e+04 K</td>\n",
       "      <td id=\"T_37848_row2_col1\" class=\"data row2 col1\" >1.1e+04 K</td>\n",
       "      <td id=\"T_37848_row2_col2\" class=\"data row2 col2\" >0.112</td>\n",
       "      <td id=\"T_37848_row2_col3\" class=\"data row2 col3\" >0.114</td>\n",
       "    </tr>\n",
       "    <tr>\n",
       "      <th id=\"T_37848_level0_row3\" class=\"row_heading level0 row3\" >15</th>\n",
       "      <td id=\"T_37848_row3_col0\" class=\"data row3 col0\" >1.06e+04 K</td>\n",
       "      <td id=\"T_37848_row3_col1\" class=\"data row3 col1\" >1.06e+04 K</td>\n",
       "      <td id=\"T_37848_row3_col2\" class=\"data row3 col2\" >0.0878</td>\n",
       "      <td id=\"T_37848_row3_col3\" class=\"data row3 col3\" >0.0859</td>\n",
       "    </tr>\n",
       "  </tbody>\n",
       "</table>\n"
      ],
      "text/plain": [
       "<pandas.io.formats.style.Styler at 0x7f0c5c661fd0>"
      ]
     },
     "metadata": {},
     "output_type": "display_data"
    },
    {
     "name": "stdout",
     "output_type": "stream",
     "text": [
      "[\u001b[1mtardis.simulation.base\u001b[0m][\u001b[1;37mINFO\u001b[0m   ]  \n",
      "\t\n",
      "\tCurrent t_inner = 10628.190 K\n",
      "\tExpected t_inner for next iteration = 10644.054 K\n",
      " (\u001b[1mbase.py\u001b[0m:566)\n",
      "[\u001b[1mtardis.simulation.base\u001b[0m][\u001b[1;37mINFO\u001b[0m   ]  \n",
      "\t\n",
      "\tStarting iteration 12 of 20 (\u001b[1mbase.py\u001b[0m:378)\n",
      "[\u001b[1mtardis.simulation.base\u001b[0m][\u001b[1;37mINFO\u001b[0m   ]  \n",
      "\t\n",
      "\tLuminosity emitted   = 1.056e+43 erg / s\n",
      "\tLuminosity absorbed  = 3.420e+42 erg / s\n",
      "\tLuminosity requested = 1.059e+43 erg / s\n",
      " (\u001b[1mbase.py\u001b[0m:571)\n",
      "[\u001b[1mtardis.simulation.base\u001b[0m][\u001b[1;37mINFO\u001b[0m   ]  \n",
      "\tIteration converged 10/4 consecutive times. (\u001b[1mbase.py\u001b[0m:251)\n",
      "[\u001b[1mtardis.simulation.base\u001b[0m][\u001b[1;37mINFO\u001b[0m   ]  \n",
      "\t\n",
      "\tPlasma stratification: (\u001b[1mbase.py\u001b[0m:539)\n"
     ]
    },
    {
     "data": {
      "text/html": [
       "<style type=\"text/css\">\n",
       "</style>\n",
       "<table id=\"T_9d89d\">\n",
       "  <thead>\n",
       "    <tr>\n",
       "      <th class=\"index_name level0\" >Shell No.</th>\n",
       "      <th id=\"T_9d89d_level0_col0\" class=\"col_heading level0 col0\" >t_rad</th>\n",
       "      <th id=\"T_9d89d_level0_col1\" class=\"col_heading level0 col1\" >next_t_rad</th>\n",
       "      <th id=\"T_9d89d_level0_col2\" class=\"col_heading level0 col2\" >w</th>\n",
       "      <th id=\"T_9d89d_level0_col3\" class=\"col_heading level0 col3\" >next_w</th>\n",
       "    </tr>\n",
       "  </thead>\n",
       "  <tbody>\n",
       "    <tr>\n",
       "      <th id=\"T_9d89d_level0_row0\" class=\"row_heading level0 row0\" >0</th>\n",
       "      <td id=\"T_9d89d_row0_col0\" class=\"data row0 col0\" >1.1e+04 K</td>\n",
       "      <td id=\"T_9d89d_row0_col1\" class=\"data row0 col1\" >1.11e+04 K</td>\n",
       "      <td id=\"T_9d89d_row0_col2\" class=\"data row0 col2\" >0.472</td>\n",
       "      <td id=\"T_9d89d_row0_col3\" class=\"data row0 col3\" >0.467</td>\n",
       "    </tr>\n",
       "    <tr>\n",
       "      <th id=\"T_9d89d_level0_row1\" class=\"row_heading level0 row1\" >5</th>\n",
       "      <td id=\"T_9d89d_row1_col0\" class=\"data row1 col0\" >1.12e+04 K</td>\n",
       "      <td id=\"T_9d89d_row1_col1\" class=\"data row1 col1\" >1.13e+04 K</td>\n",
       "      <td id=\"T_9d89d_row1_col2\" class=\"data row1 col2\" >0.184</td>\n",
       "      <td id=\"T_9d89d_row1_col3\" class=\"data row1 col3\" >0.176</td>\n",
       "    </tr>\n",
       "    <tr>\n",
       "      <th id=\"T_9d89d_level0_row2\" class=\"row_heading level0 row2\" >10</th>\n",
       "      <td id=\"T_9d89d_row2_col0\" class=\"data row2 col0\" >1.1e+04 K</td>\n",
       "      <td id=\"T_9d89d_row2_col1\" class=\"data row2 col1\" >1.11e+04 K</td>\n",
       "      <td id=\"T_9d89d_row2_col2\" class=\"data row2 col2\" >0.114</td>\n",
       "      <td id=\"T_9d89d_row2_col3\" class=\"data row2 col3\" >0.11</td>\n",
       "    </tr>\n",
       "    <tr>\n",
       "      <th id=\"T_9d89d_level0_row3\" class=\"row_heading level0 row3\" >15</th>\n",
       "      <td id=\"T_9d89d_row3_col0\" class=\"data row3 col0\" >1.06e+04 K</td>\n",
       "      <td id=\"T_9d89d_row3_col1\" class=\"data row3 col1\" >1.08e+04 K</td>\n",
       "      <td id=\"T_9d89d_row3_col2\" class=\"data row3 col2\" >0.0859</td>\n",
       "      <td id=\"T_9d89d_row3_col3\" class=\"data row3 col3\" >0.0821</td>\n",
       "    </tr>\n",
       "  </tbody>\n",
       "</table>\n"
      ],
      "text/plain": [
       "<pandas.io.formats.style.Styler at 0x7f0c5c2321e0>"
      ]
     },
     "metadata": {},
     "output_type": "display_data"
    },
    {
     "name": "stdout",
     "output_type": "stream",
     "text": [
      "[\u001b[1mtardis.simulation.base\u001b[0m][\u001b[1;37mINFO\u001b[0m   ]  \n",
      "\t\n",
      "\tCurrent t_inner = 10644.054 K\n",
      "\tExpected t_inner for next iteration = 10653.543 K\n",
      " (\u001b[1mbase.py\u001b[0m:566)\n",
      "[\u001b[1mtardis.simulation.base\u001b[0m][\u001b[1;37mINFO\u001b[0m   ]  \n",
      "\t\n",
      "\tStarting iteration 13 of 20 (\u001b[1mbase.py\u001b[0m:378)\n",
      "[\u001b[1mtardis.simulation.base\u001b[0m][\u001b[1;37mINFO\u001b[0m   ]  \n",
      "\t\n",
      "\tLuminosity emitted   = 1.062e+43 erg / s\n",
      "\tLuminosity absorbed  = 3.406e+42 erg / s\n",
      "\tLuminosity requested = 1.059e+43 erg / s\n",
      " (\u001b[1mbase.py\u001b[0m:571)\n",
      "[\u001b[1mtardis.simulation.base\u001b[0m][\u001b[1;37mINFO\u001b[0m   ]  \n",
      "\tIteration converged 11/4 consecutive times. (\u001b[1mbase.py\u001b[0m:251)\n",
      "[\u001b[1mtardis.simulation.base\u001b[0m][\u001b[1;37mINFO\u001b[0m   ]  \n",
      "\t\n",
      "\tPlasma stratification: (\u001b[1mbase.py\u001b[0m:539)\n"
     ]
    },
    {
     "data": {
      "text/html": [
       "<style type=\"text/css\">\n",
       "</style>\n",
       "<table id=\"T_f3016\">\n",
       "  <thead>\n",
       "    <tr>\n",
       "      <th class=\"index_name level0\" >Shell No.</th>\n",
       "      <th id=\"T_f3016_level0_col0\" class=\"col_heading level0 col0\" >t_rad</th>\n",
       "      <th id=\"T_f3016_level0_col1\" class=\"col_heading level0 col1\" >next_t_rad</th>\n",
       "      <th id=\"T_f3016_level0_col2\" class=\"col_heading level0 col2\" >w</th>\n",
       "      <th id=\"T_f3016_level0_col3\" class=\"col_heading level0 col3\" >next_w</th>\n",
       "    </tr>\n",
       "  </thead>\n",
       "  <tbody>\n",
       "    <tr>\n",
       "      <th id=\"T_f3016_level0_row0\" class=\"row_heading level0 row0\" >0</th>\n",
       "      <td id=\"T_f3016_row0_col0\" class=\"data row0 col0\" >1.11e+04 K</td>\n",
       "      <td id=\"T_f3016_row0_col1\" class=\"data row0 col1\" >1.11e+04 K</td>\n",
       "      <td id=\"T_f3016_row0_col2\" class=\"data row0 col2\" >0.467</td>\n",
       "      <td id=\"T_f3016_row0_col3\" class=\"data row0 col3\" >0.466</td>\n",
       "    </tr>\n",
       "    <tr>\n",
       "      <th id=\"T_f3016_level0_row1\" class=\"row_heading level0 row1\" >5</th>\n",
       "      <td id=\"T_f3016_row1_col0\" class=\"data row1 col0\" >1.13e+04 K</td>\n",
       "      <td id=\"T_f3016_row1_col1\" class=\"data row1 col1\" >1.13e+04 K</td>\n",
       "      <td id=\"T_f3016_row1_col2\" class=\"data row1 col2\" >0.176</td>\n",
       "      <td id=\"T_f3016_row1_col3\" class=\"data row1 col3\" >0.18</td>\n",
       "    </tr>\n",
       "    <tr>\n",
       "      <th id=\"T_f3016_level0_row2\" class=\"row_heading level0 row2\" >10</th>\n",
       "      <td id=\"T_f3016_row2_col0\" class=\"data row2 col0\" >1.11e+04 K</td>\n",
       "      <td id=\"T_f3016_row2_col1\" class=\"data row2 col1\" >1.11e+04 K</td>\n",
       "      <td id=\"T_f3016_row2_col2\" class=\"data row2 col2\" >0.11</td>\n",
       "      <td id=\"T_f3016_row2_col3\" class=\"data row2 col3\" >0.111</td>\n",
       "    </tr>\n",
       "    <tr>\n",
       "      <th id=\"T_f3016_level0_row3\" class=\"row_heading level0 row3\" >15</th>\n",
       "      <td id=\"T_f3016_row3_col0\" class=\"data row3 col0\" >1.08e+04 K</td>\n",
       "      <td id=\"T_f3016_row3_col1\" class=\"data row3 col1\" >1.08e+04 K</td>\n",
       "      <td id=\"T_f3016_row3_col2\" class=\"data row3 col2\" >0.0821</td>\n",
       "      <td id=\"T_f3016_row3_col3\" class=\"data row3 col3\" >0.0841</td>\n",
       "    </tr>\n",
       "  </tbody>\n",
       "</table>\n"
      ],
      "text/plain": [
       "<pandas.io.formats.style.Styler at 0x7f0c5c20f140>"
      ]
     },
     "metadata": {},
     "output_type": "display_data"
    },
    {
     "name": "stdout",
     "output_type": "stream",
     "text": [
      "[\u001b[1mtardis.simulation.base\u001b[0m][\u001b[1;37mINFO\u001b[0m   ]  \n",
      "\t\n",
      "\tCurrent t_inner = 10653.543 K\n",
      "\tExpected t_inner for next iteration = 10647.277 K\n",
      " (\u001b[1mbase.py\u001b[0m:566)\n",
      "[\u001b[1mtardis.simulation.base\u001b[0m][\u001b[1;37mINFO\u001b[0m   ]  \n",
      "\t\n",
      "\tStarting iteration 14 of 20 (\u001b[1mbase.py\u001b[0m:378)\n",
      "[\u001b[1mtardis.simulation.base\u001b[0m][\u001b[1;37mINFO\u001b[0m   ]  \n",
      "\t\n",
      "\tLuminosity emitted   = 1.063e+43 erg / s\n",
      "\tLuminosity absorbed  = 3.369e+42 erg / s\n",
      "\tLuminosity requested = 1.059e+43 erg / s\n",
      " (\u001b[1mbase.py\u001b[0m:571)\n",
      "[\u001b[1mtardis.simulation.base\u001b[0m][\u001b[1;37mINFO\u001b[0m   ]  \n",
      "\tIteration converged 12/4 consecutive times. (\u001b[1mbase.py\u001b[0m:251)\n",
      "[\u001b[1mtardis.simulation.base\u001b[0m][\u001b[1;37mINFO\u001b[0m   ]  \n",
      "\t\n",
      "\tPlasma stratification: (\u001b[1mbase.py\u001b[0m:539)\n"
     ]
    },
    {
     "data": {
      "text/html": [
       "<style type=\"text/css\">\n",
       "</style>\n",
       "<table id=\"T_7129c\">\n",
       "  <thead>\n",
       "    <tr>\n",
       "      <th class=\"index_name level0\" >Shell No.</th>\n",
       "      <th id=\"T_7129c_level0_col0\" class=\"col_heading level0 col0\" >t_rad</th>\n",
       "      <th id=\"T_7129c_level0_col1\" class=\"col_heading level0 col1\" >next_t_rad</th>\n",
       "      <th id=\"T_7129c_level0_col2\" class=\"col_heading level0 col2\" >w</th>\n",
       "      <th id=\"T_7129c_level0_col3\" class=\"col_heading level0 col3\" >next_w</th>\n",
       "    </tr>\n",
       "  </thead>\n",
       "  <tbody>\n",
       "    <tr>\n",
       "      <th id=\"T_7129c_level0_row0\" class=\"row_heading level0 row0\" >0</th>\n",
       "      <td id=\"T_7129c_row0_col0\" class=\"data row0 col0\" >1.11e+04 K</td>\n",
       "      <td id=\"T_7129c_row0_col1\" class=\"data row0 col1\" >1.11e+04 K</td>\n",
       "      <td id=\"T_7129c_row0_col2\" class=\"data row0 col2\" >0.466</td>\n",
       "      <td id=\"T_7129c_row0_col3\" class=\"data row0 col3\" >0.469</td>\n",
       "    </tr>\n",
       "    <tr>\n",
       "      <th id=\"T_7129c_level0_row1\" class=\"row_heading level0 row1\" >5</th>\n",
       "      <td id=\"T_7129c_row1_col0\" class=\"data row1 col0\" >1.13e+04 K</td>\n",
       "      <td id=\"T_7129c_row1_col1\" class=\"data row1 col1\" >1.13e+04 K</td>\n",
       "      <td id=\"T_7129c_row1_col2\" class=\"data row1 col2\" >0.18</td>\n",
       "      <td id=\"T_7129c_row1_col3\" class=\"data row1 col3\" >0.182</td>\n",
       "    </tr>\n",
       "    <tr>\n",
       "      <th id=\"T_7129c_level0_row2\" class=\"row_heading level0 row2\" >10</th>\n",
       "      <td id=\"T_7129c_row2_col0\" class=\"data row2 col0\" >1.11e+04 K</td>\n",
       "      <td id=\"T_7129c_row2_col1\" class=\"data row2 col1\" >1.1e+04 K</td>\n",
       "      <td id=\"T_7129c_row2_col2\" class=\"data row2 col2\" >0.111</td>\n",
       "      <td id=\"T_7129c_row2_col3\" class=\"data row2 col3\" >0.113</td>\n",
       "    </tr>\n",
       "    <tr>\n",
       "      <th id=\"T_7129c_level0_row3\" class=\"row_heading level0 row3\" >15</th>\n",
       "      <td id=\"T_7129c_row3_col0\" class=\"data row3 col0\" >1.08e+04 K</td>\n",
       "      <td id=\"T_7129c_row3_col1\" class=\"data row3 col1\" >1.07e+04 K</td>\n",
       "      <td id=\"T_7129c_row3_col2\" class=\"data row3 col2\" >0.0841</td>\n",
       "      <td id=\"T_7129c_row3_col3\" class=\"data row3 col3\" >0.0854</td>\n",
       "    </tr>\n",
       "  </tbody>\n",
       "</table>\n"
      ],
      "text/plain": [
       "<pandas.io.formats.style.Styler at 0x7f0c5c160800>"
      ]
     },
     "metadata": {},
     "output_type": "display_data"
    },
    {
     "name": "stdout",
     "output_type": "stream",
     "text": [
      "[\u001b[1mtardis.simulation.base\u001b[0m][\u001b[1;37mINFO\u001b[0m   ]  \n",
      "\t\n",
      "\tCurrent t_inner = 10647.277 K\n",
      "\tExpected t_inner for next iteration = 10638.875 K\n",
      " (\u001b[1mbase.py\u001b[0m:566)\n",
      "[\u001b[1mtardis.simulation.base\u001b[0m][\u001b[1;37mINFO\u001b[0m   ]  \n",
      "\t\n",
      "\tStarting iteration 15 of 20 (\u001b[1mbase.py\u001b[0m:378)\n",
      "[\u001b[1mtardis.simulation.base\u001b[0m][\u001b[1;37mINFO\u001b[0m   ]  \n",
      "\t\n",
      "\tLuminosity emitted   = 1.053e+43 erg / s\n",
      "\tLuminosity absorbed  = 3.417e+42 erg / s\n",
      "\tLuminosity requested = 1.059e+43 erg / s\n",
      " (\u001b[1mbase.py\u001b[0m:571)\n",
      "[\u001b[1mtardis.simulation.base\u001b[0m][\u001b[1;37mINFO\u001b[0m   ]  \n",
      "\tIteration converged 13/4 consecutive times. (\u001b[1mbase.py\u001b[0m:251)\n",
      "[\u001b[1mtardis.simulation.base\u001b[0m][\u001b[1;37mINFO\u001b[0m   ]  \n",
      "\t\n",
      "\tPlasma stratification: (\u001b[1mbase.py\u001b[0m:539)\n"
     ]
    },
    {
     "data": {
      "text/html": [
       "<style type=\"text/css\">\n",
       "</style>\n",
       "<table id=\"T_b0589\">\n",
       "  <thead>\n",
       "    <tr>\n",
       "      <th class=\"index_name level0\" >Shell No.</th>\n",
       "      <th id=\"T_b0589_level0_col0\" class=\"col_heading level0 col0\" >t_rad</th>\n",
       "      <th id=\"T_b0589_level0_col1\" class=\"col_heading level0 col1\" >next_t_rad</th>\n",
       "      <th id=\"T_b0589_level0_col2\" class=\"col_heading level0 col2\" >w</th>\n",
       "      <th id=\"T_b0589_level0_col3\" class=\"col_heading level0 col3\" >next_w</th>\n",
       "    </tr>\n",
       "  </thead>\n",
       "  <tbody>\n",
       "    <tr>\n",
       "      <th id=\"T_b0589_level0_row0\" class=\"row_heading level0 row0\" >0</th>\n",
       "      <td id=\"T_b0589_row0_col0\" class=\"data row0 col0\" >1.11e+04 K</td>\n",
       "      <td id=\"T_b0589_row0_col1\" class=\"data row0 col1\" >1.1e+04 K</td>\n",
       "      <td id=\"T_b0589_row0_col2\" class=\"data row0 col2\" >0.469</td>\n",
       "      <td id=\"T_b0589_row0_col3\" class=\"data row0 col3\" >0.484</td>\n",
       "    </tr>\n",
       "    <tr>\n",
       "      <th id=\"T_b0589_level0_row1\" class=\"row_heading level0 row1\" >5</th>\n",
       "      <td id=\"T_b0589_row1_col0\" class=\"data row1 col0\" >1.13e+04 K</td>\n",
       "      <td id=\"T_b0589_row1_col1\" class=\"data row1 col1\" >1.13e+04 K</td>\n",
       "      <td id=\"T_b0589_row1_col2\" class=\"data row1 col2\" >0.182</td>\n",
       "      <td id=\"T_b0589_row1_col3\" class=\"data row1 col3\" >0.181</td>\n",
       "    </tr>\n",
       "    <tr>\n",
       "      <th id=\"T_b0589_level0_row2\" class=\"row_heading level0 row2\" >10</th>\n",
       "      <td id=\"T_b0589_row2_col0\" class=\"data row2 col0\" >1.1e+04 K</td>\n",
       "      <td id=\"T_b0589_row2_col1\" class=\"data row2 col1\" >1.1e+04 K</td>\n",
       "      <td id=\"T_b0589_row2_col2\" class=\"data row2 col2\" >0.113</td>\n",
       "      <td id=\"T_b0589_row2_col3\" class=\"data row2 col3\" >0.113</td>\n",
       "    </tr>\n",
       "    <tr>\n",
       "      <th id=\"T_b0589_level0_row3\" class=\"row_heading level0 row3\" >15</th>\n",
       "      <td id=\"T_b0589_row3_col0\" class=\"data row3 col0\" >1.07e+04 K</td>\n",
       "      <td id=\"T_b0589_row3_col1\" class=\"data row3 col1\" >1.07e+04 K</td>\n",
       "      <td id=\"T_b0589_row3_col2\" class=\"data row3 col2\" >0.0854</td>\n",
       "      <td id=\"T_b0589_row3_col3\" class=\"data row3 col3\" >0.0858</td>\n",
       "    </tr>\n",
       "  </tbody>\n",
       "</table>\n"
      ],
      "text/plain": [
       "<pandas.io.formats.style.Styler at 0x7f0c5c2318b0>"
      ]
     },
     "metadata": {},
     "output_type": "display_data"
    },
    {
     "name": "stdout",
     "output_type": "stream",
     "text": [
      "[\u001b[1mtardis.simulation.base\u001b[0m][\u001b[1;37mINFO\u001b[0m   ]  \n",
      "\t\n",
      "\tCurrent t_inner = 10638.875 K\n",
      "\tExpected t_inner for next iteration = 10655.125 K\n",
      " (\u001b[1mbase.py\u001b[0m:566)\n",
      "[\u001b[1mtardis.simulation.base\u001b[0m][\u001b[1;37mINFO\u001b[0m   ]  \n",
      "\t\n",
      "\tStarting iteration 16 of 20 (\u001b[1mbase.py\u001b[0m:378)\n",
      "[\u001b[1mtardis.simulation.base\u001b[0m][\u001b[1;37mINFO\u001b[0m   ]  \n",
      "\t\n",
      "\tLuminosity emitted   = 1.059e+43 erg / s\n",
      "\tLuminosity absorbed  = 3.445e+42 erg / s\n",
      "\tLuminosity requested = 1.059e+43 erg / s\n",
      " (\u001b[1mbase.py\u001b[0m:571)\n",
      "[\u001b[1mtardis.simulation.base\u001b[0m][\u001b[1;37mINFO\u001b[0m   ]  \n",
      "\tIteration converged 14/4 consecutive times. (\u001b[1mbase.py\u001b[0m:251)\n",
      "[\u001b[1mtardis.simulation.base\u001b[0m][\u001b[1;37mINFO\u001b[0m   ]  \n",
      "\t\n",
      "\tPlasma stratification: (\u001b[1mbase.py\u001b[0m:539)\n"
     ]
    },
    {
     "data": {
      "text/html": [
       "<style type=\"text/css\">\n",
       "</style>\n",
       "<table id=\"T_bebc8\">\n",
       "  <thead>\n",
       "    <tr>\n",
       "      <th class=\"index_name level0\" >Shell No.</th>\n",
       "      <th id=\"T_bebc8_level0_col0\" class=\"col_heading level0 col0\" >t_rad</th>\n",
       "      <th id=\"T_bebc8_level0_col1\" class=\"col_heading level0 col1\" >next_t_rad</th>\n",
       "      <th id=\"T_bebc8_level0_col2\" class=\"col_heading level0 col2\" >w</th>\n",
       "      <th id=\"T_bebc8_level0_col3\" class=\"col_heading level0 col3\" >next_w</th>\n",
       "    </tr>\n",
       "  </thead>\n",
       "  <tbody>\n",
       "    <tr>\n",
       "      <th id=\"T_bebc8_level0_row0\" class=\"row_heading level0 row0\" >0</th>\n",
       "      <td id=\"T_bebc8_row0_col0\" class=\"data row0 col0\" >1.1e+04 K</td>\n",
       "      <td id=\"T_bebc8_row0_col1\" class=\"data row0 col1\" >1.1e+04 K</td>\n",
       "      <td id=\"T_bebc8_row0_col2\" class=\"data row0 col2\" >0.484</td>\n",
       "      <td id=\"T_bebc8_row0_col3\" class=\"data row0 col3\" >0.472</td>\n",
       "    </tr>\n",
       "    <tr>\n",
       "      <th id=\"T_bebc8_level0_row1\" class=\"row_heading level0 row1\" >5</th>\n",
       "      <td id=\"T_bebc8_row1_col0\" class=\"data row1 col0\" >1.13e+04 K</td>\n",
       "      <td id=\"T_bebc8_row1_col1\" class=\"data row1 col1\" >1.13e+04 K</td>\n",
       "      <td id=\"T_bebc8_row1_col2\" class=\"data row1 col2\" >0.181</td>\n",
       "      <td id=\"T_bebc8_row1_col3\" class=\"data row1 col3\" >0.177</td>\n",
       "    </tr>\n",
       "    <tr>\n",
       "      <th id=\"T_bebc8_level0_row2\" class=\"row_heading level0 row2\" >10</th>\n",
       "      <td id=\"T_bebc8_row2_col0\" class=\"data row2 col0\" >1.1e+04 K</td>\n",
       "      <td id=\"T_bebc8_row2_col1\" class=\"data row2 col1\" >1.1e+04 K</td>\n",
       "      <td id=\"T_bebc8_row2_col2\" class=\"data row2 col2\" >0.113</td>\n",
       "      <td id=\"T_bebc8_row2_col3\" class=\"data row2 col3\" >0.113</td>\n",
       "    </tr>\n",
       "    <tr>\n",
       "      <th id=\"T_bebc8_level0_row3\" class=\"row_heading level0 row3\" >15</th>\n",
       "      <td id=\"T_bebc8_row3_col0\" class=\"data row3 col0\" >1.07e+04 K</td>\n",
       "      <td id=\"T_bebc8_row3_col1\" class=\"data row3 col1\" >1.06e+04 K</td>\n",
       "      <td id=\"T_bebc8_row3_col2\" class=\"data row3 col2\" >0.0858</td>\n",
       "      <td id=\"T_bebc8_row3_col3\" class=\"data row3 col3\" >0.0858</td>\n",
       "    </tr>\n",
       "  </tbody>\n",
       "</table>\n"
      ],
      "text/plain": [
       "<pandas.io.formats.style.Styler at 0x7f0c5c2318b0>"
      ]
     },
     "metadata": {},
     "output_type": "display_data"
    },
    {
     "name": "stdout",
     "output_type": "stream",
     "text": [
      "[\u001b[1mtardis.simulation.base\u001b[0m][\u001b[1;37mINFO\u001b[0m   ]  \n",
      "\t\n",
      "\tCurrent t_inner = 10655.125 K\n",
      "\tExpected t_inner for next iteration = 10655.561 K\n",
      " (\u001b[1mbase.py\u001b[0m:566)\n",
      "[\u001b[1mtardis.simulation.base\u001b[0m][\u001b[1;37mINFO\u001b[0m   ]  \n",
      "\t\n",
      "\tStarting iteration 17 of 20 (\u001b[1mbase.py\u001b[0m:378)\n",
      "[\u001b[1mtardis.simulation.base\u001b[0m][\u001b[1;37mINFO\u001b[0m   ]  \n",
      "\t\n",
      "\tLuminosity emitted   = 1.067e+43 erg / s\n",
      "\tLuminosity absorbed  = 3.372e+42 erg / s\n",
      "\tLuminosity requested = 1.059e+43 erg / s\n",
      " (\u001b[1mbase.py\u001b[0m:571)\n",
      "[\u001b[1mtardis.simulation.base\u001b[0m][\u001b[1;37mINFO\u001b[0m   ]  \n",
      "\tIteration converged 15/4 consecutive times. (\u001b[1mbase.py\u001b[0m:251)\n",
      "[\u001b[1mtardis.simulation.base\u001b[0m][\u001b[1;37mINFO\u001b[0m   ]  \n",
      "\t\n",
      "\tPlasma stratification: (\u001b[1mbase.py\u001b[0m:539)\n"
     ]
    },
    {
     "data": {
      "text/html": [
       "<style type=\"text/css\">\n",
       "</style>\n",
       "<table id=\"T_1f88a\">\n",
       "  <thead>\n",
       "    <tr>\n",
       "      <th class=\"index_name level0\" >Shell No.</th>\n",
       "      <th id=\"T_1f88a_level0_col0\" class=\"col_heading level0 col0\" >t_rad</th>\n",
       "      <th id=\"T_1f88a_level0_col1\" class=\"col_heading level0 col1\" >next_t_rad</th>\n",
       "      <th id=\"T_1f88a_level0_col2\" class=\"col_heading level0 col2\" >w</th>\n",
       "      <th id=\"T_1f88a_level0_col3\" class=\"col_heading level0 col3\" >next_w</th>\n",
       "    </tr>\n",
       "  </thead>\n",
       "  <tbody>\n",
       "    <tr>\n",
       "      <th id=\"T_1f88a_level0_row0\" class=\"row_heading level0 row0\" >0</th>\n",
       "      <td id=\"T_1f88a_row0_col0\" class=\"data row0 col0\" >1.1e+04 K</td>\n",
       "      <td id=\"T_1f88a_row0_col1\" class=\"data row0 col1\" >1.11e+04 K</td>\n",
       "      <td id=\"T_1f88a_row0_col2\" class=\"data row0 col2\" >0.472</td>\n",
       "      <td id=\"T_1f88a_row0_col3\" class=\"data row0 col3\" >0.468</td>\n",
       "    </tr>\n",
       "    <tr>\n",
       "      <th id=\"T_1f88a_level0_row1\" class=\"row_heading level0 row1\" >5</th>\n",
       "      <td id=\"T_1f88a_row1_col0\" class=\"data row1 col0\" >1.13e+04 K</td>\n",
       "      <td id=\"T_1f88a_row1_col1\" class=\"data row1 col1\" >1.14e+04 K</td>\n",
       "      <td id=\"T_1f88a_row1_col2\" class=\"data row1 col2\" >0.177</td>\n",
       "      <td id=\"T_1f88a_row1_col3\" class=\"data row1 col3\" >0.175</td>\n",
       "    </tr>\n",
       "    <tr>\n",
       "      <th id=\"T_1f88a_level0_row2\" class=\"row_heading level0 row2\" >10</th>\n",
       "      <td id=\"T_1f88a_row2_col0\" class=\"data row2 col0\" >1.1e+04 K</td>\n",
       "      <td id=\"T_1f88a_row2_col1\" class=\"data row2 col1\" >1.11e+04 K</td>\n",
       "      <td id=\"T_1f88a_row2_col2\" class=\"data row2 col2\" >0.113</td>\n",
       "      <td id=\"T_1f88a_row2_col3\" class=\"data row2 col3\" >0.11</td>\n",
       "    </tr>\n",
       "    <tr>\n",
       "      <th id=\"T_1f88a_level0_row3\" class=\"row_heading level0 row3\" >15</th>\n",
       "      <td id=\"T_1f88a_row3_col0\" class=\"data row3 col0\" >1.06e+04 K</td>\n",
       "      <td id=\"T_1f88a_row3_col1\" class=\"data row3 col1\" >1.08e+04 K</td>\n",
       "      <td id=\"T_1f88a_row3_col2\" class=\"data row3 col2\" >0.0858</td>\n",
       "      <td id=\"T_1f88a_row3_col3\" class=\"data row3 col3\" >0.0816</td>\n",
       "    </tr>\n",
       "  </tbody>\n",
       "</table>\n"
      ],
      "text/plain": [
       "<pandas.io.formats.style.Styler at 0x7f0c5c230c80>"
      ]
     },
     "metadata": {},
     "output_type": "display_data"
    },
    {
     "name": "stdout",
     "output_type": "stream",
     "text": [
      "[\u001b[1mtardis.simulation.base\u001b[0m][\u001b[1;37mINFO\u001b[0m   ]  \n",
      "\t\n",
      "\tCurrent t_inner = 10655.561 K\n",
      "\tExpected t_inner for next iteration = 10636.536 K\n",
      " (\u001b[1mbase.py\u001b[0m:566)\n",
      "[\u001b[1mtardis.simulation.base\u001b[0m][\u001b[1;37mINFO\u001b[0m   ]  \n",
      "\t\n",
      "\tStarting iteration 18 of 20 (\u001b[1mbase.py\u001b[0m:378)\n",
      "[\u001b[1mtardis.simulation.base\u001b[0m][\u001b[1;37mINFO\u001b[0m   ]  \n",
      "\t\n",
      "\tLuminosity emitted   = 1.057e+43 erg / s\n",
      "\tLuminosity absorbed  = 3.365e+42 erg / s\n",
      "\tLuminosity requested = 1.059e+43 erg / s\n",
      " (\u001b[1mbase.py\u001b[0m:571)\n",
      "[\u001b[1mtardis.simulation.base\u001b[0m][\u001b[1;37mINFO\u001b[0m   ]  \n",
      "\tIteration converged 16/4 consecutive times. (\u001b[1mbase.py\u001b[0m:251)\n",
      "[\u001b[1mtardis.simulation.base\u001b[0m][\u001b[1;37mINFO\u001b[0m   ]  \n",
      "\t\n",
      "\tPlasma stratification: (\u001b[1mbase.py\u001b[0m:539)\n"
     ]
    },
    {
     "data": {
      "text/html": [
       "<style type=\"text/css\">\n",
       "</style>\n",
       "<table id=\"T_4f0fb\">\n",
       "  <thead>\n",
       "    <tr>\n",
       "      <th class=\"index_name level0\" >Shell No.</th>\n",
       "      <th id=\"T_4f0fb_level0_col0\" class=\"col_heading level0 col0\" >t_rad</th>\n",
       "      <th id=\"T_4f0fb_level0_col1\" class=\"col_heading level0 col1\" >next_t_rad</th>\n",
       "      <th id=\"T_4f0fb_level0_col2\" class=\"col_heading level0 col2\" >w</th>\n",
       "      <th id=\"T_4f0fb_level0_col3\" class=\"col_heading level0 col3\" >next_w</th>\n",
       "    </tr>\n",
       "  </thead>\n",
       "  <tbody>\n",
       "    <tr>\n",
       "      <th id=\"T_4f0fb_level0_row0\" class=\"row_heading level0 row0\" >0</th>\n",
       "      <td id=\"T_4f0fb_row0_col0\" class=\"data row0 col0\" >1.11e+04 K</td>\n",
       "      <td id=\"T_4f0fb_row0_col1\" class=\"data row0 col1\" >1.11e+04 K</td>\n",
       "      <td id=\"T_4f0fb_row0_col2\" class=\"data row0 col2\" >0.468</td>\n",
       "      <td id=\"T_4f0fb_row0_col3\" class=\"data row0 col3\" >0.464</td>\n",
       "    </tr>\n",
       "    <tr>\n",
       "      <th id=\"T_4f0fb_level0_row1\" class=\"row_heading level0 row1\" >5</th>\n",
       "      <td id=\"T_4f0fb_row1_col0\" class=\"data row1 col0\" >1.14e+04 K</td>\n",
       "      <td id=\"T_4f0fb_row1_col1\" class=\"data row1 col1\" >1.13e+04 K</td>\n",
       "      <td id=\"T_4f0fb_row1_col2\" class=\"data row1 col2\" >0.175</td>\n",
       "      <td id=\"T_4f0fb_row1_col3\" class=\"data row1 col3\" >0.177</td>\n",
       "    </tr>\n",
       "    <tr>\n",
       "      <th id=\"T_4f0fb_level0_row2\" class=\"row_heading level0 row2\" >10</th>\n",
       "      <td id=\"T_4f0fb_row2_col0\" class=\"data row2 col0\" >1.11e+04 K</td>\n",
       "      <td id=\"T_4f0fb_row2_col1\" class=\"data row2 col1\" >1.1e+04 K</td>\n",
       "      <td id=\"T_4f0fb_row2_col2\" class=\"data row2 col2\" >0.11</td>\n",
       "      <td id=\"T_4f0fb_row2_col3\" class=\"data row2 col3\" >0.113</td>\n",
       "    </tr>\n",
       "    <tr>\n",
       "      <th id=\"T_4f0fb_level0_row3\" class=\"row_heading level0 row3\" >15</th>\n",
       "      <td id=\"T_4f0fb_row3_col0\" class=\"data row3 col0\" >1.08e+04 K</td>\n",
       "      <td id=\"T_4f0fb_row3_col1\" class=\"data row3 col1\" >1.07e+04 K</td>\n",
       "      <td id=\"T_4f0fb_row3_col2\" class=\"data row3 col2\" >0.0816</td>\n",
       "      <td id=\"T_4f0fb_row3_col3\" class=\"data row3 col3\" >0.0848</td>\n",
       "    </tr>\n",
       "  </tbody>\n",
       "</table>\n"
      ],
      "text/plain": [
       "<pandas.io.formats.style.Styler at 0x7f0c5c232810>"
      ]
     },
     "metadata": {},
     "output_type": "display_data"
    },
    {
     "name": "stdout",
     "output_type": "stream",
     "text": [
      "[\u001b[1mtardis.simulation.base\u001b[0m][\u001b[1;37mINFO\u001b[0m   ]  \n",
      "\t\n",
      "\tCurrent t_inner = 10636.536 K\n",
      "\tExpected t_inner for next iteration = 10641.692 K\n",
      " (\u001b[1mbase.py\u001b[0m:566)\n",
      "[\u001b[1mtardis.simulation.base\u001b[0m][\u001b[1;37mINFO\u001b[0m   ]  \n",
      "\t\n",
      "\tStarting iteration 19 of 20 (\u001b[1mbase.py\u001b[0m:378)\n",
      "[\u001b[1mtardis.simulation.base\u001b[0m][\u001b[1;37mINFO\u001b[0m   ]  \n",
      "\t\n",
      "\tLuminosity emitted   = 1.056e+43 erg / s\n",
      "\tLuminosity absorbed  = 3.405e+42 erg / s\n",
      "\tLuminosity requested = 1.059e+43 erg / s\n",
      " (\u001b[1mbase.py\u001b[0m:571)\n",
      "[\u001b[1mtardis.simulation.base\u001b[0m][\u001b[1;37mINFO\u001b[0m   ]  \n",
      "\tIteration converged 17/4 consecutive times. (\u001b[1mbase.py\u001b[0m:251)\n",
      "[\u001b[1mtardis.simulation.base\u001b[0m][\u001b[1;37mINFO\u001b[0m   ]  \n",
      "\t\n",
      "\tPlasma stratification: (\u001b[1mbase.py\u001b[0m:539)\n"
     ]
    },
    {
     "data": {
      "text/html": [
       "<style type=\"text/css\">\n",
       "</style>\n",
       "<table id=\"T_81c21\">\n",
       "  <thead>\n",
       "    <tr>\n",
       "      <th class=\"index_name level0\" >Shell No.</th>\n",
       "      <th id=\"T_81c21_level0_col0\" class=\"col_heading level0 col0\" >t_rad</th>\n",
       "      <th id=\"T_81c21_level0_col1\" class=\"col_heading level0 col1\" >next_t_rad</th>\n",
       "      <th id=\"T_81c21_level0_col2\" class=\"col_heading level0 col2\" >w</th>\n",
       "      <th id=\"T_81c21_level0_col3\" class=\"col_heading level0 col3\" >next_w</th>\n",
       "    </tr>\n",
       "  </thead>\n",
       "  <tbody>\n",
       "    <tr>\n",
       "      <th id=\"T_81c21_level0_row0\" class=\"row_heading level0 row0\" >0</th>\n",
       "      <td id=\"T_81c21_row0_col0\" class=\"data row0 col0\" >1.11e+04 K</td>\n",
       "      <td id=\"T_81c21_row0_col1\" class=\"data row0 col1\" >1.11e+04 K</td>\n",
       "      <td id=\"T_81c21_row0_col2\" class=\"data row0 col2\" >0.464</td>\n",
       "      <td id=\"T_81c21_row0_col3\" class=\"data row0 col3\" >0.466</td>\n",
       "    </tr>\n",
       "    <tr>\n",
       "      <th id=\"T_81c21_level0_row1\" class=\"row_heading level0 row1\" >5</th>\n",
       "      <td id=\"T_81c21_row1_col0\" class=\"data row1 col0\" >1.13e+04 K</td>\n",
       "      <td id=\"T_81c21_row1_col1\" class=\"data row1 col1\" >1.13e+04 K</td>\n",
       "      <td id=\"T_81c21_row1_col2\" class=\"data row1 col2\" >0.177</td>\n",
       "      <td id=\"T_81c21_row1_col3\" class=\"data row1 col3\" >0.177</td>\n",
       "    </tr>\n",
       "    <tr>\n",
       "      <th id=\"T_81c21_level0_row2\" class=\"row_heading level0 row2\" >10</th>\n",
       "      <td id=\"T_81c21_row2_col0\" class=\"data row2 col0\" >1.1e+04 K</td>\n",
       "      <td id=\"T_81c21_row2_col1\" class=\"data row2 col1\" >1.11e+04 K</td>\n",
       "      <td id=\"T_81c21_row2_col2\" class=\"data row2 col2\" >0.113</td>\n",
       "      <td id=\"T_81c21_row2_col3\" class=\"data row2 col3\" >0.111</td>\n",
       "    </tr>\n",
       "    <tr>\n",
       "      <th id=\"T_81c21_level0_row3\" class=\"row_heading level0 row3\" >15</th>\n",
       "      <td id=\"T_81c21_row3_col0\" class=\"data row3 col0\" >1.07e+04 K</td>\n",
       "      <td id=\"T_81c21_row3_col1\" class=\"data row3 col1\" >1.07e+04 K</td>\n",
       "      <td id=\"T_81c21_row3_col2\" class=\"data row3 col2\" >0.0848</td>\n",
       "      <td id=\"T_81c21_row3_col3\" class=\"data row3 col3\" >0.0853</td>\n",
       "    </tr>\n",
       "  </tbody>\n",
       "</table>\n"
      ],
      "text/plain": [
       "<pandas.io.formats.style.Styler at 0x7f0c5c160800>"
      ]
     },
     "metadata": {},
     "output_type": "display_data"
    },
    {
     "name": "stdout",
     "output_type": "stream",
     "text": [
      "[\u001b[1mtardis.simulation.base\u001b[0m][\u001b[1;37mINFO\u001b[0m   ]  \n",
      "\t\n",
      "\tCurrent t_inner = 10641.692 K\n",
      "\tExpected t_inner for next iteration = 10650.463 K\n",
      " (\u001b[1mbase.py\u001b[0m:566)\n",
      "[\u001b[1mtardis.simulation.base\u001b[0m][\u001b[1;37mINFO\u001b[0m   ]  \n",
      "\t\n",
      "\tSimulation finished in 19 iterations \n",
      "\tSimulation took 28.04 s\n",
      " (\u001b[1mbase.py\u001b[0m:461)\n",
      "[\u001b[1mtardis.simulation.base\u001b[0m][\u001b[1;37mINFO\u001b[0m   ]  \n",
      "\t\n",
      "\tStarting iteration 20 of 20 (\u001b[1mbase.py\u001b[0m:378)\n",
      "[\u001b[1mtardis.simulation.base\u001b[0m][\u001b[1;37mINFO\u001b[0m   ]  \n",
      "\t\n",
      "\tLuminosity emitted   = 1.061e+43 erg / s\n",
      "\tLuminosity absorbed  = 3.401e+42 erg / s\n",
      "\tLuminosity requested = 1.059e+43 erg / s\n",
      " (\u001b[1mbase.py\u001b[0m:571)\n"
     ]
    },
    {
     "data": {
      "text/html": [
       "        <script type=\"text/javascript\">\n",
       "        window.PlotlyConfig = {MathJaxConfig: 'local'};\n",
       "        if (window.MathJax && window.MathJax.Hub && window.MathJax.Hub.Config) {window.MathJax.Hub.Config({SVG: {font: \"STIX-Web\"}});}\n",
       "        if (typeof require !== 'undefined') {\n",
       "        require.undef(\"plotly\");\n",
       "        requirejs.config({\n",
       "            paths: {\n",
       "                'plotly': ['https://cdn.plot.ly/plotly-2.32.0.min']\n",
       "            }\n",
       "        });\n",
       "        require(['plotly'], function(Plotly) {\n",
       "            window._Plotly = Plotly;\n",
       "        });\n",
       "        }\n",
       "        </script>\n",
       "        "
      ]
     },
     "metadata": {},
     "output_type": "display_data"
    },
    {
     "data": {
      "text/html": [
       "<div>                            <div id=\"95a9bf2e-0e57-45f1-ac5a-3ea10918ff88\" class=\"plotly-graph-div\" style=\"height:450px; width:100%;\"></div>            <script type=\"text/javascript\">                require([\"plotly\"], function(Plotly) {                    window.PLOTLYENV=window.PLOTLYENV || {};                                    if (document.getElementById(\"95a9bf2e-0e57-45f1-ac5a-3ea10918ff88\")) {                    Plotly.newPlot(                        \"95a9bf2e-0e57-45f1-ac5a-3ea10918ff88\",                        [{\"type\":\"scatter\",\"uid\":\"0e11de2b-fee1-4bda-bbf2-8b36e2e9a45a\",\"xaxis\":\"x\",\"yaxis\":\"y\"},{\"type\":\"scatter\",\"uid\":\"a025775c-1602-4db0-bb9c-2516397dc6cc\",\"xaxis\":\"x2\",\"yaxis\":\"y2\"},{\"customdata\":[\"\\u003cbr\\u003eEmitted Luminosity: 7.942e+42\\u003cbr\\u003eRequested Luminosity: 1.059e+43\\u003cbr\\u003eAbsorbed Luminosity: 2.659e+42\",\"\\u003cbr\\u003eEmitted Luminosity: 7.942e+42\\u003cbr\\u003eRequested Luminosity: 1.059e+43\\u003cbr\\u003eAbsorbed Luminosity: 2.659e+42\",\"\\u003cbr\\u003eEmitted Luminosity: 7.942e+42\\u003cbr\\u003eRequested Luminosity: 1.059e+43\\u003cbr\\u003eAbsorbed Luminosity: 2.659e+42\",\"\\u003cbr\\u003eEmitted Luminosity: 7.942e+42\\u003cbr\\u003eRequested Luminosity: 1.059e+43\\u003cbr\\u003eAbsorbed Luminosity: 2.659e+42\",\"\\u003cbr\\u003eEmitted Luminosity: 7.942e+42\\u003cbr\\u003eRequested Luminosity: 1.059e+43\\u003cbr\\u003eAbsorbed Luminosity: 2.659e+42\",\"\\u003cbr\\u003eEmitted Luminosity: 7.942e+42\\u003cbr\\u003eRequested Luminosity: 1.059e+43\\u003cbr\\u003eAbsorbed Luminosity: 2.659e+42\",\"\\u003cbr\\u003eEmitted Luminosity: 7.942e+42\\u003cbr\\u003eRequested Luminosity: 1.059e+43\\u003cbr\\u003eAbsorbed Luminosity: 2.659e+42\",\"\\u003cbr\\u003eEmitted Luminosity: 7.942e+42\\u003cbr\\u003eRequested Luminosity: 1.059e+43\\u003cbr\\u003eAbsorbed Luminosity: 2.659e+42\",\"\\u003cbr\\u003eEmitted Luminosity: 7.942e+42\\u003cbr\\u003eRequested Luminosity: 1.059e+43\\u003cbr\\u003eAbsorbed Luminosity: 2.659e+42\",\"\\u003cbr\\u003eEmitted Luminosity: 7.942e+42\\u003cbr\\u003eRequested Luminosity: 1.059e+43\\u003cbr\\u003eAbsorbed Luminosity: 2.659e+42\",\"\\u003cbr\\u003eEmitted Luminosity: 7.942e+42\\u003cbr\\u003eRequested Luminosity: 1.059e+43\\u003cbr\\u003eAbsorbed Luminosity: 2.659e+42\",\"\\u003cbr\\u003eEmitted Luminosity: 7.942e+42\\u003cbr\\u003eRequested Luminosity: 1.059e+43\\u003cbr\\u003eAbsorbed Luminosity: 2.659e+42\",\"\\u003cbr\\u003eEmitted Luminosity: 7.942e+42\\u003cbr\\u003eRequested Luminosity: 1.059e+43\\u003cbr\\u003eAbsorbed Luminosity: 2.659e+42\",\"\\u003cbr\\u003eEmitted Luminosity: 7.942e+42\\u003cbr\\u003eRequested Luminosity: 1.059e+43\\u003cbr\\u003eAbsorbed Luminosity: 2.659e+42\",\"\\u003cbr\\u003eEmitted Luminosity: 7.942e+42\\u003cbr\\u003eRequested Luminosity: 1.059e+43\\u003cbr\\u003eAbsorbed Luminosity: 2.659e+42\",\"\\u003cbr\\u003eEmitted Luminosity: 7.942e+42\\u003cbr\\u003eRequested Luminosity: 1.059e+43\\u003cbr\\u003eAbsorbed Luminosity: 2.659e+42\",\"\\u003cbr\\u003eEmitted Luminosity: 7.942e+42\\u003cbr\\u003eRequested Luminosity: 1.059e+43\\u003cbr\\u003eAbsorbed Luminosity: 2.659e+42\",\"\\u003cbr\\u003eEmitted Luminosity: 7.942e+42\\u003cbr\\u003eRequested Luminosity: 1.059e+43\\u003cbr\\u003eAbsorbed Luminosity: 2.659e+42\",\"\\u003cbr\\u003eEmitted Luminosity: 7.942e+42\\u003cbr\\u003eRequested Luminosity: 1.059e+43\\u003cbr\\u003eAbsorbed Luminosity: 2.659e+42\",\"\\u003cbr\\u003eEmitted Luminosity: 7.942e+42\\u003cbr\\u003eRequested Luminosity: 1.059e+43\\u003cbr\\u003eAbsorbed Luminosity: 2.659e+42\",\"\\u003cbr\\u003eEmitted Luminosity: 7.942e+42\\u003cbr\\u003eRequested Luminosity: 1.059e+43\\u003cbr\\u003eAbsorbed Luminosity: 2.659e+42\"],\"hovertemplate\":\"\\u003cb\\u003eY\\u003c\\u002fb\\u003e: %{y:.3f} at \\u003cb\\u003eX\\u003c\\u002fb\\u003e = %{x:,.0f}%{customdata}\",\"legendgroup\":\"group-1\",\"line\":{\"color\":\"#000080\",\"shape\":\"hv\"},\"name\":\"1\",\"showlegend\":false,\"x\":[11000.0,11450.000000000002,11900.000000000002,12350.000000000002,12800.000000000002,13250.000000000002,13700.000000000002,14150.000000000002,14600.000000000002,15050.000000000002,15500.000000000002,15950.000000000002,16400.0,16850.0,17300.0,17750.0,18200.0,18650.0,19100.0,19550.0,20000.0],\"y\":[10140.644658439534,10163.14095375729,10199.392781222341,10228.793058184696,10271.147759281086,10224.009713529733,10228.73252393663,10216.980499751191,10217.783033963959,10193.706231603874,10148.77879424612,10080.136790247394,10031.646882137085,10030.25454966704,9988.127023793657,9874.634222100432,9844.474903130316,9776.381862231505,9680.562581778322,9611.59305842706,9611.59305842706],\"type\":\"scatter\",\"uid\":\"040004ab-fc2d-41e3-be0f-fe3f176b4b1c\",\"xaxis\":\"x\",\"yaxis\":\"y\"},{\"customdata\":[\"\\u003cbr\\u003eEmitted Luminosity: 7.942e+42\\u003cbr\\u003eRequested Luminosity: 1.059e+43\\u003cbr\\u003eAbsorbed Luminosity: 2.659e+42\",\"\\u003cbr\\u003eEmitted Luminosity: 7.942e+42\\u003cbr\\u003eRequested Luminosity: 1.059e+43\\u003cbr\\u003eAbsorbed Luminosity: 2.659e+42\",\"\\u003cbr\\u003eEmitted Luminosity: 7.942e+42\\u003cbr\\u003eRequested Luminosity: 1.059e+43\\u003cbr\\u003eAbsorbed Luminosity: 2.659e+42\",\"\\u003cbr\\u003eEmitted Luminosity: 7.942e+42\\u003cbr\\u003eRequested Luminosity: 1.059e+43\\u003cbr\\u003eAbsorbed Luminosity: 2.659e+42\",\"\\u003cbr\\u003eEmitted Luminosity: 7.942e+42\\u003cbr\\u003eRequested Luminosity: 1.059e+43\\u003cbr\\u003eAbsorbed Luminosity: 2.659e+42\",\"\\u003cbr\\u003eEmitted Luminosity: 7.942e+42\\u003cbr\\u003eRequested Luminosity: 1.059e+43\\u003cbr\\u003eAbsorbed Luminosity: 2.659e+42\",\"\\u003cbr\\u003eEmitted Luminosity: 7.942e+42\\u003cbr\\u003eRequested Luminosity: 1.059e+43\\u003cbr\\u003eAbsorbed Luminosity: 2.659e+42\",\"\\u003cbr\\u003eEmitted Luminosity: 7.942e+42\\u003cbr\\u003eRequested Luminosity: 1.059e+43\\u003cbr\\u003eAbsorbed Luminosity: 2.659e+42\",\"\\u003cbr\\u003eEmitted Luminosity: 7.942e+42\\u003cbr\\u003eRequested Luminosity: 1.059e+43\\u003cbr\\u003eAbsorbed Luminosity: 2.659e+42\",\"\\u003cbr\\u003eEmitted Luminosity: 7.942e+42\\u003cbr\\u003eRequested Luminosity: 1.059e+43\\u003cbr\\u003eAbsorbed Luminosity: 2.659e+42\",\"\\u003cbr\\u003eEmitted Luminosity: 7.942e+42\\u003cbr\\u003eRequested Luminosity: 1.059e+43\\u003cbr\\u003eAbsorbed Luminosity: 2.659e+42\",\"\\u003cbr\\u003eEmitted Luminosity: 7.942e+42\\u003cbr\\u003eRequested Luminosity: 1.059e+43\\u003cbr\\u003eAbsorbed Luminosity: 2.659e+42\",\"\\u003cbr\\u003eEmitted Luminosity: 7.942e+42\\u003cbr\\u003eRequested Luminosity: 1.059e+43\\u003cbr\\u003eAbsorbed Luminosity: 2.659e+42\",\"\\u003cbr\\u003eEmitted Luminosity: 7.942e+42\\u003cbr\\u003eRequested Luminosity: 1.059e+43\\u003cbr\\u003eAbsorbed Luminosity: 2.659e+42\",\"\\u003cbr\\u003eEmitted Luminosity: 7.942e+42\\u003cbr\\u003eRequested Luminosity: 1.059e+43\\u003cbr\\u003eAbsorbed Luminosity: 2.659e+42\",\"\\u003cbr\\u003eEmitted Luminosity: 7.942e+42\\u003cbr\\u003eRequested Luminosity: 1.059e+43\\u003cbr\\u003eAbsorbed Luminosity: 2.659e+42\",\"\\u003cbr\\u003eEmitted Luminosity: 7.942e+42\\u003cbr\\u003eRequested Luminosity: 1.059e+43\\u003cbr\\u003eAbsorbed Luminosity: 2.659e+42\",\"\\u003cbr\\u003eEmitted Luminosity: 7.942e+42\\u003cbr\\u003eRequested Luminosity: 1.059e+43\\u003cbr\\u003eAbsorbed Luminosity: 2.659e+42\",\"\\u003cbr\\u003eEmitted Luminosity: 7.942e+42\\u003cbr\\u003eRequested Luminosity: 1.059e+43\\u003cbr\\u003eAbsorbed Luminosity: 2.659e+42\",\"\\u003cbr\\u003eEmitted Luminosity: 7.942e+42\\u003cbr\\u003eRequested Luminosity: 1.059e+43\\u003cbr\\u003eAbsorbed Luminosity: 2.659e+42\",\"\\u003cbr\\u003eEmitted Luminosity: 7.942e+42\\u003cbr\\u003eRequested Luminosity: 1.059e+43\\u003cbr\\u003eAbsorbed Luminosity: 2.659e+42\"],\"hovertemplate\":\"\\u003cb\\u003eY\\u003c\\u002fb\\u003e: %{y:.3f} at \\u003cb\\u003eX\\u003c\\u002fb\\u003e = %{x:,.0f}%{customdata}\",\"legendgroup\":\"group-1\",\"line\":{\"color\":\"#000080\",\"shape\":\"hv\"},\"name\":\"1\",\"x\":[11000.0,11450.000000000002,11900.000000000002,12350.000000000002,12800.000000000002,13250.000000000002,13700.000000000002,14150.000000000002,14600.000000000002,15050.000000000002,15500.000000000002,15950.000000000002,16400.0,16850.0,17300.0,17750.0,18200.0,18650.0,19100.0,19550.0,20000.0],\"y\":[0.5074939829206941,0.3959383116289194,0.3215048588865517,0.2657378763088829,0.22365159665751336,0.19686688849248554,0.17464279538061075,0.15625093331810844,0.13946942342362373,0.12759533918829527,0.11697794966442035,0.10915672831486281,0.10296463647641299,0.09515332126864073,0.08981745405810694,0.08689548233577357,0.08198790793189181,0.07881149990806681,0.07637264409196322,0.073451980614954,0.073451980614954],\"type\":\"scatter\",\"uid\":\"6d773710-7897-43e2-94bf-8936e6f72801\",\"xaxis\":\"x2\",\"yaxis\":\"y2\"},{\"customdata\":[\"\\u003cbr\\u003eEmitted Luminosity: 1.071e+43\\u003cbr\\u003eRequested Luminosity: 1.059e+43\\u003cbr\\u003eAbsorbed Luminosity: 3.576e+42\",\"\\u003cbr\\u003eEmitted Luminosity: 1.071e+43\\u003cbr\\u003eRequested Luminosity: 1.059e+43\\u003cbr\\u003eAbsorbed Luminosity: 3.576e+42\",\"\\u003cbr\\u003eEmitted Luminosity: 1.071e+43\\u003cbr\\u003eRequested Luminosity: 1.059e+43\\u003cbr\\u003eAbsorbed Luminosity: 3.576e+42\",\"\\u003cbr\\u003eEmitted Luminosity: 1.071e+43\\u003cbr\\u003eRequested Luminosity: 1.059e+43\\u003cbr\\u003eAbsorbed Luminosity: 3.576e+42\",\"\\u003cbr\\u003eEmitted Luminosity: 1.071e+43\\u003cbr\\u003eRequested Luminosity: 1.059e+43\\u003cbr\\u003eAbsorbed Luminosity: 3.576e+42\",\"\\u003cbr\\u003eEmitted Luminosity: 1.071e+43\\u003cbr\\u003eRequested Luminosity: 1.059e+43\\u003cbr\\u003eAbsorbed Luminosity: 3.576e+42\",\"\\u003cbr\\u003eEmitted Luminosity: 1.071e+43\\u003cbr\\u003eRequested Luminosity: 1.059e+43\\u003cbr\\u003eAbsorbed Luminosity: 3.576e+42\",\"\\u003cbr\\u003eEmitted Luminosity: 1.071e+43\\u003cbr\\u003eRequested Luminosity: 1.059e+43\\u003cbr\\u003eAbsorbed Luminosity: 3.576e+42\",\"\\u003cbr\\u003eEmitted Luminosity: 1.071e+43\\u003cbr\\u003eRequested Luminosity: 1.059e+43\\u003cbr\\u003eAbsorbed Luminosity: 3.576e+42\",\"\\u003cbr\\u003eEmitted Luminosity: 1.071e+43\\u003cbr\\u003eRequested Luminosity: 1.059e+43\\u003cbr\\u003eAbsorbed Luminosity: 3.576e+42\",\"\\u003cbr\\u003eEmitted Luminosity: 1.071e+43\\u003cbr\\u003eRequested Luminosity: 1.059e+43\\u003cbr\\u003eAbsorbed Luminosity: 3.576e+42\",\"\\u003cbr\\u003eEmitted Luminosity: 1.071e+43\\u003cbr\\u003eRequested Luminosity: 1.059e+43\\u003cbr\\u003eAbsorbed Luminosity: 3.576e+42\",\"\\u003cbr\\u003eEmitted Luminosity: 1.071e+43\\u003cbr\\u003eRequested Luminosity: 1.059e+43\\u003cbr\\u003eAbsorbed Luminosity: 3.576e+42\",\"\\u003cbr\\u003eEmitted Luminosity: 1.071e+43\\u003cbr\\u003eRequested Luminosity: 1.059e+43\\u003cbr\\u003eAbsorbed Luminosity: 3.576e+42\",\"\\u003cbr\\u003eEmitted Luminosity: 1.071e+43\\u003cbr\\u003eRequested Luminosity: 1.059e+43\\u003cbr\\u003eAbsorbed Luminosity: 3.576e+42\",\"\\u003cbr\\u003eEmitted Luminosity: 1.071e+43\\u003cbr\\u003eRequested Luminosity: 1.059e+43\\u003cbr\\u003eAbsorbed Luminosity: 3.576e+42\",\"\\u003cbr\\u003eEmitted Luminosity: 1.071e+43\\u003cbr\\u003eRequested Luminosity: 1.059e+43\\u003cbr\\u003eAbsorbed Luminosity: 3.576e+42\",\"\\u003cbr\\u003eEmitted Luminosity: 1.071e+43\\u003cbr\\u003eRequested Luminosity: 1.059e+43\\u003cbr\\u003eAbsorbed Luminosity: 3.576e+42\",\"\\u003cbr\\u003eEmitted Luminosity: 1.071e+43\\u003cbr\\u003eRequested Luminosity: 1.059e+43\\u003cbr\\u003eAbsorbed Luminosity: 3.576e+42\",\"\\u003cbr\\u003eEmitted Luminosity: 1.071e+43\\u003cbr\\u003eRequested Luminosity: 1.059e+43\\u003cbr\\u003eAbsorbed Luminosity: 3.576e+42\",\"\\u003cbr\\u003eEmitted Luminosity: 1.071e+43\\u003cbr\\u003eRequested Luminosity: 1.059e+43\\u003cbr\\u003eAbsorbed Luminosity: 3.576e+42\"],\"hovertemplate\":\"\\u003cb\\u003eY\\u003c\\u002fb\\u003e: %{y:.3f} at \\u003cb\\u003eX\\u003c\\u002fb\\u003e = %{x:,.0f}%{customdata}\",\"legendgroup\":\"group-2\",\"line\":{\"color\":\"#0000bd\",\"shape\":\"hv\"},\"name\":\"2\",\"showlegend\":false,\"x\":[11000.0,11450.000000000002,11900.000000000002,12350.000000000002,12800.000000000002,13250.000000000002,13700.000000000002,14150.000000000002,14600.000000000002,15050.000000000002,15500.000000000002,15950.000000000002,16400.0,16850.0,17300.0,17750.0,18200.0,18650.0,19100.0,19550.0,20000.0],\"y\":[10821.384716452607,10824.073750748437,10898.79428258225,10931.58172803852,10962.883353030447,10956.472449386321,10935.661811838676,10896.394485335459,10868.778286813818,10846.86064742895,10799.24289997747,10741.078256171435,10679.036544922548,10616.641362769291,10548.485755133182,10483.027318852859,10402.588493175846,10353.528838881295,10280.79036467006,10205.898074506078,10205.898074506078],\"type\":\"scatter\",\"uid\":\"a5a456dc-cc66-4e41-b55d-9a8b2bb4bfba\",\"xaxis\":\"x\",\"yaxis\":\"y\"},{\"customdata\":[\"\\u003cbr\\u003eEmitted Luminosity: 1.071e+43\\u003cbr\\u003eRequested Luminosity: 1.059e+43\\u003cbr\\u003eAbsorbed Luminosity: 3.576e+42\",\"\\u003cbr\\u003eEmitted Luminosity: 1.071e+43\\u003cbr\\u003eRequested Luminosity: 1.059e+43\\u003cbr\\u003eAbsorbed Luminosity: 3.576e+42\",\"\\u003cbr\\u003eEmitted Luminosity: 1.071e+43\\u003cbr\\u003eRequested Luminosity: 1.059e+43\\u003cbr\\u003eAbsorbed Luminosity: 3.576e+42\",\"\\u003cbr\\u003eEmitted Luminosity: 1.071e+43\\u003cbr\\u003eRequested Luminosity: 1.059e+43\\u003cbr\\u003eAbsorbed Luminosity: 3.576e+42\",\"\\u003cbr\\u003eEmitted Luminosity: 1.071e+43\\u003cbr\\u003eRequested Luminosity: 1.059e+43\\u003cbr\\u003eAbsorbed Luminosity: 3.576e+42\",\"\\u003cbr\\u003eEmitted Luminosity: 1.071e+43\\u003cbr\\u003eRequested Luminosity: 1.059e+43\\u003cbr\\u003eAbsorbed Luminosity: 3.576e+42\",\"\\u003cbr\\u003eEmitted Luminosity: 1.071e+43\\u003cbr\\u003eRequested Luminosity: 1.059e+43\\u003cbr\\u003eAbsorbed Luminosity: 3.576e+42\",\"\\u003cbr\\u003eEmitted Luminosity: 1.071e+43\\u003cbr\\u003eRequested Luminosity: 1.059e+43\\u003cbr\\u003eAbsorbed Luminosity: 3.576e+42\",\"\\u003cbr\\u003eEmitted Luminosity: 1.071e+43\\u003cbr\\u003eRequested Luminosity: 1.059e+43\\u003cbr\\u003eAbsorbed Luminosity: 3.576e+42\",\"\\u003cbr\\u003eEmitted Luminosity: 1.071e+43\\u003cbr\\u003eRequested Luminosity: 1.059e+43\\u003cbr\\u003eAbsorbed Luminosity: 3.576e+42\",\"\\u003cbr\\u003eEmitted Luminosity: 1.071e+43\\u003cbr\\u003eRequested Luminosity: 1.059e+43\\u003cbr\\u003eAbsorbed Luminosity: 3.576e+42\",\"\\u003cbr\\u003eEmitted Luminosity: 1.071e+43\\u003cbr\\u003eRequested Luminosity: 1.059e+43\\u003cbr\\u003eAbsorbed Luminosity: 3.576e+42\",\"\\u003cbr\\u003eEmitted Luminosity: 1.071e+43\\u003cbr\\u003eRequested Luminosity: 1.059e+43\\u003cbr\\u003eAbsorbed Luminosity: 3.576e+42\",\"\\u003cbr\\u003eEmitted Luminosity: 1.071e+43\\u003cbr\\u003eRequested Luminosity: 1.059e+43\\u003cbr\\u003eAbsorbed Luminosity: 3.576e+42\",\"\\u003cbr\\u003eEmitted Luminosity: 1.071e+43\\u003cbr\\u003eRequested Luminosity: 1.059e+43\\u003cbr\\u003eAbsorbed Luminosity: 3.576e+42\",\"\\u003cbr\\u003eEmitted Luminosity: 1.071e+43\\u003cbr\\u003eRequested Luminosity: 1.059e+43\\u003cbr\\u003eAbsorbed Luminosity: 3.576e+42\",\"\\u003cbr\\u003eEmitted Luminosity: 1.071e+43\\u003cbr\\u003eRequested Luminosity: 1.059e+43\\u003cbr\\u003eAbsorbed Luminosity: 3.576e+42\",\"\\u003cbr\\u003eEmitted Luminosity: 1.071e+43\\u003cbr\\u003eRequested Luminosity: 1.059e+43\\u003cbr\\u003eAbsorbed Luminosity: 3.576e+42\",\"\\u003cbr\\u003eEmitted Luminosity: 1.071e+43\\u003cbr\\u003eRequested Luminosity: 1.059e+43\\u003cbr\\u003eAbsorbed Luminosity: 3.576e+42\",\"\\u003cbr\\u003eEmitted Luminosity: 1.071e+43\\u003cbr\\u003eRequested Luminosity: 1.059e+43\\u003cbr\\u003eAbsorbed Luminosity: 3.576e+42\",\"\\u003cbr\\u003eEmitted Luminosity: 1.071e+43\\u003cbr\\u003eRequested Luminosity: 1.059e+43\\u003cbr\\u003eAbsorbed Luminosity: 3.576e+42\"],\"hovertemplate\":\"\\u003cb\\u003eY\\u003c\\u002fb\\u003e: %{y:.3f} at \\u003cb\\u003eX\\u003c\\u002fb\\u003e = %{x:,.0f}%{customdata}\",\"legendgroup\":\"group-2\",\"line\":{\"color\":\"#0000bd\",\"shape\":\"hv\"},\"name\":\"2\",\"x\":[11000.0,11450.000000000002,11900.000000000002,12350.000000000002,12800.000000000002,13250.000000000002,13700.000000000002,14150.000000000002,14600.000000000002,15050.000000000002,15500.000000000002,15950.000000000002,16400.0,16850.0,17300.0,17750.0,18200.0,18650.0,19100.0,19550.0,20000.0],\"y\":[0.5246621760292558,0.41191697242104613,0.33082428419284426,0.27394158036494815,0.23102276356532642,0.20265771066458604,0.18068103823778603,0.16215467464075076,0.14618948104529386,0.13362668956992765,0.12450448547982748,0.11605105087549401,0.10925211388307204,0.10302987363746954,0.0983177899385244,0.09325771312762027,0.0890843578738483,0.08446805448195244,0.08117712884118694,0.07815148665239868,0.07815148665239868],\"type\":\"scatter\",\"uid\":\"cbfe1563-305b-420e-8479-260fb7d79290\",\"xaxis\":\"x2\",\"yaxis\":\"y2\"},{\"customdata\":[\"\\u003cbr\\u003eEmitted Luminosity: 1.074e+43\\u003cbr\\u003eRequested Luminosity: 1.059e+43\\u003cbr\\u003eAbsorbed Luminosity: 3.391e+42\",\"\\u003cbr\\u003eEmitted Luminosity: 1.074e+43\\u003cbr\\u003eRequested Luminosity: 1.059e+43\\u003cbr\\u003eAbsorbed Luminosity: 3.391e+42\",\"\\u003cbr\\u003eEmitted Luminosity: 1.074e+43\\u003cbr\\u003eRequested Luminosity: 1.059e+43\\u003cbr\\u003eAbsorbed Luminosity: 3.391e+42\",\"\\u003cbr\\u003eEmitted Luminosity: 1.074e+43\\u003cbr\\u003eRequested Luminosity: 1.059e+43\\u003cbr\\u003eAbsorbed Luminosity: 3.391e+42\",\"\\u003cbr\\u003eEmitted Luminosity: 1.074e+43\\u003cbr\\u003eRequested Luminosity: 1.059e+43\\u003cbr\\u003eAbsorbed Luminosity: 3.391e+42\",\"\\u003cbr\\u003eEmitted Luminosity: 1.074e+43\\u003cbr\\u003eRequested Luminosity: 1.059e+43\\u003cbr\\u003eAbsorbed Luminosity: 3.391e+42\",\"\\u003cbr\\u003eEmitted Luminosity: 1.074e+43\\u003cbr\\u003eRequested Luminosity: 1.059e+43\\u003cbr\\u003eAbsorbed Luminosity: 3.391e+42\",\"\\u003cbr\\u003eEmitted Luminosity: 1.074e+43\\u003cbr\\u003eRequested Luminosity: 1.059e+43\\u003cbr\\u003eAbsorbed Luminosity: 3.391e+42\",\"\\u003cbr\\u003eEmitted Luminosity: 1.074e+43\\u003cbr\\u003eRequested Luminosity: 1.059e+43\\u003cbr\\u003eAbsorbed Luminosity: 3.391e+42\",\"\\u003cbr\\u003eEmitted Luminosity: 1.074e+43\\u003cbr\\u003eRequested Luminosity: 1.059e+43\\u003cbr\\u003eAbsorbed Luminosity: 3.391e+42\",\"\\u003cbr\\u003eEmitted Luminosity: 1.074e+43\\u003cbr\\u003eRequested Luminosity: 1.059e+43\\u003cbr\\u003eAbsorbed Luminosity: 3.391e+42\",\"\\u003cbr\\u003eEmitted Luminosity: 1.074e+43\\u003cbr\\u003eRequested Luminosity: 1.059e+43\\u003cbr\\u003eAbsorbed Luminosity: 3.391e+42\",\"\\u003cbr\\u003eEmitted Luminosity: 1.074e+43\\u003cbr\\u003eRequested Luminosity: 1.059e+43\\u003cbr\\u003eAbsorbed Luminosity: 3.391e+42\",\"\\u003cbr\\u003eEmitted Luminosity: 1.074e+43\\u003cbr\\u003eRequested Luminosity: 1.059e+43\\u003cbr\\u003eAbsorbed Luminosity: 3.391e+42\",\"\\u003cbr\\u003eEmitted Luminosity: 1.074e+43\\u003cbr\\u003eRequested Luminosity: 1.059e+43\\u003cbr\\u003eAbsorbed Luminosity: 3.391e+42\",\"\\u003cbr\\u003eEmitted Luminosity: 1.074e+43\\u003cbr\\u003eRequested Luminosity: 1.059e+43\\u003cbr\\u003eAbsorbed Luminosity: 3.391e+42\",\"\\u003cbr\\u003eEmitted Luminosity: 1.074e+43\\u003cbr\\u003eRequested Luminosity: 1.059e+43\\u003cbr\\u003eAbsorbed Luminosity: 3.391e+42\",\"\\u003cbr\\u003eEmitted Luminosity: 1.074e+43\\u003cbr\\u003eRequested Luminosity: 1.059e+43\\u003cbr\\u003eAbsorbed Luminosity: 3.391e+42\",\"\\u003cbr\\u003eEmitted Luminosity: 1.074e+43\\u003cbr\\u003eRequested Luminosity: 1.059e+43\\u003cbr\\u003eAbsorbed Luminosity: 3.391e+42\",\"\\u003cbr\\u003eEmitted Luminosity: 1.074e+43\\u003cbr\\u003eRequested Luminosity: 1.059e+43\\u003cbr\\u003eAbsorbed Luminosity: 3.391e+42\",\"\\u003cbr\\u003eEmitted Luminosity: 1.074e+43\\u003cbr\\u003eRequested Luminosity: 1.059e+43\\u003cbr\\u003eAbsorbed Luminosity: 3.391e+42\"],\"hovertemplate\":\"\\u003cb\\u003eY\\u003c\\u002fb\\u003e: %{y:.3f} at \\u003cb\\u003eX\\u003c\\u002fb\\u003e = %{x:,.0f}%{customdata}\",\"legendgroup\":\"group-3\",\"line\":{\"color\":\"#0000fa\",\"shape\":\"hv\"},\"name\":\"3\",\"showlegend\":false,\"x\":[11000.0,11450.000000000002,11900.000000000002,12350.000000000002,12800.000000000002,13250.000000000002,13700.000000000002,14150.000000000002,14600.000000000002,15050.000000000002,15500.000000000002,15950.000000000002,16400.0,16850.0,17300.0,17750.0,18200.0,18650.0,19100.0,19550.0,20000.0],\"y\":[11001.634918288757,11064.199689011071,11146.787545057516,11182.280653331774,11189.736123692348,11179.45436942387,11213.792074052708,11157.651049771424,11091.366692176962,11032.681911673411,10951.71311170723,10882.347593647743,10815.565741490913,10758.06238844999,10666.645789560236,10589.476597771118,10519.279070600542,10489.380846260972,10394.331364500673,10280.445356607608,10280.445356607608],\"type\":\"scatter\",\"uid\":\"f9bc6f5d-c00c-432d-9754-81a90cff1a50\",\"xaxis\":\"x\",\"yaxis\":\"y\"},{\"customdata\":[\"\\u003cbr\\u003eEmitted Luminosity: 1.074e+43\\u003cbr\\u003eRequested Luminosity: 1.059e+43\\u003cbr\\u003eAbsorbed Luminosity: 3.391e+42\",\"\\u003cbr\\u003eEmitted Luminosity: 1.074e+43\\u003cbr\\u003eRequested Luminosity: 1.059e+43\\u003cbr\\u003eAbsorbed Luminosity: 3.391e+42\",\"\\u003cbr\\u003eEmitted Luminosity: 1.074e+43\\u003cbr\\u003eRequested Luminosity: 1.059e+43\\u003cbr\\u003eAbsorbed Luminosity: 3.391e+42\",\"\\u003cbr\\u003eEmitted Luminosity: 1.074e+43\\u003cbr\\u003eRequested Luminosity: 1.059e+43\\u003cbr\\u003eAbsorbed Luminosity: 3.391e+42\",\"\\u003cbr\\u003eEmitted Luminosity: 1.074e+43\\u003cbr\\u003eRequested Luminosity: 1.059e+43\\u003cbr\\u003eAbsorbed Luminosity: 3.391e+42\",\"\\u003cbr\\u003eEmitted Luminosity: 1.074e+43\\u003cbr\\u003eRequested Luminosity: 1.059e+43\\u003cbr\\u003eAbsorbed Luminosity: 3.391e+42\",\"\\u003cbr\\u003eEmitted Luminosity: 1.074e+43\\u003cbr\\u003eRequested Luminosity: 1.059e+43\\u003cbr\\u003eAbsorbed Luminosity: 3.391e+42\",\"\\u003cbr\\u003eEmitted Luminosity: 1.074e+43\\u003cbr\\u003eRequested Luminosity: 1.059e+43\\u003cbr\\u003eAbsorbed Luminosity: 3.391e+42\",\"\\u003cbr\\u003eEmitted Luminosity: 1.074e+43\\u003cbr\\u003eRequested Luminosity: 1.059e+43\\u003cbr\\u003eAbsorbed Luminosity: 3.391e+42\",\"\\u003cbr\\u003eEmitted Luminosity: 1.074e+43\\u003cbr\\u003eRequested Luminosity: 1.059e+43\\u003cbr\\u003eAbsorbed Luminosity: 3.391e+42\",\"\\u003cbr\\u003eEmitted Luminosity: 1.074e+43\\u003cbr\\u003eRequested Luminosity: 1.059e+43\\u003cbr\\u003eAbsorbed Luminosity: 3.391e+42\",\"\\u003cbr\\u003eEmitted Luminosity: 1.074e+43\\u003cbr\\u003eRequested Luminosity: 1.059e+43\\u003cbr\\u003eAbsorbed Luminosity: 3.391e+42\",\"\\u003cbr\\u003eEmitted Luminosity: 1.074e+43\\u003cbr\\u003eRequested Luminosity: 1.059e+43\\u003cbr\\u003eAbsorbed Luminosity: 3.391e+42\",\"\\u003cbr\\u003eEmitted Luminosity: 1.074e+43\\u003cbr\\u003eRequested Luminosity: 1.059e+43\\u003cbr\\u003eAbsorbed Luminosity: 3.391e+42\",\"\\u003cbr\\u003eEmitted Luminosity: 1.074e+43\\u003cbr\\u003eRequested Luminosity: 1.059e+43\\u003cbr\\u003eAbsorbed Luminosity: 3.391e+42\",\"\\u003cbr\\u003eEmitted Luminosity: 1.074e+43\\u003cbr\\u003eRequested Luminosity: 1.059e+43\\u003cbr\\u003eAbsorbed Luminosity: 3.391e+42\",\"\\u003cbr\\u003eEmitted Luminosity: 1.074e+43\\u003cbr\\u003eRequested Luminosity: 1.059e+43\\u003cbr\\u003eAbsorbed Luminosity: 3.391e+42\",\"\\u003cbr\\u003eEmitted Luminosity: 1.074e+43\\u003cbr\\u003eRequested Luminosity: 1.059e+43\\u003cbr\\u003eAbsorbed Luminosity: 3.391e+42\",\"\\u003cbr\\u003eEmitted Luminosity: 1.074e+43\\u003cbr\\u003eRequested Luminosity: 1.059e+43\\u003cbr\\u003eAbsorbed Luminosity: 3.391e+42\",\"\\u003cbr\\u003eEmitted Luminosity: 1.074e+43\\u003cbr\\u003eRequested Luminosity: 1.059e+43\\u003cbr\\u003eAbsorbed Luminosity: 3.391e+42\",\"\\u003cbr\\u003eEmitted Luminosity: 1.074e+43\\u003cbr\\u003eRequested Luminosity: 1.059e+43\\u003cbr\\u003eAbsorbed Luminosity: 3.391e+42\"],\"hovertemplate\":\"\\u003cb\\u003eY\\u003c\\u002fb\\u003e: %{y:.3f} at \\u003cb\\u003eX\\u003c\\u002fb\\u003e = %{x:,.0f}%{customdata}\",\"legendgroup\":\"group-3\",\"line\":{\"color\":\"#0000fa\",\"shape\":\"hv\"},\"name\":\"3\",\"x\":[11000.0,11450.000000000002,11900.000000000002,12350.000000000002,12800.000000000002,13250.000000000002,13700.000000000002,14150.000000000002,14600.000000000002,15050.000000000002,15500.000000000002,15950.000000000002,16400.0,16850.0,17300.0,17750.0,18200.0,18650.0,19100.0,19550.0,20000.0],\"y\":[0.4825561102740259,0.3753167390018877,0.3008854405436412,0.24970650566435165,0.21504788747698045,0.18892102325997567,0.16485989155704503,0.1492256721854658,0.13734334903666548,0.127062823928064,0.11816510452204783,0.11046612213518428,0.1040875156267667,0.0983770409578083,0.09380107799147926,0.08948233963910329,0.0853298602214404,0.08049857949608431,0.07819235373949858,0.07599589756382484,0.07599589756382484],\"type\":\"scatter\",\"uid\":\"117d4853-150f-4650-8b8d-42ae7860b08b\",\"xaxis\":\"x2\",\"yaxis\":\"y2\"},{\"customdata\":[\"\\u003cbr\\u003eEmitted Luminosity: 1.058e+43\\u003cbr\\u003eRequested Luminosity: 1.059e+43\\u003cbr\\u003eAbsorbed Luminosity: 3.352e+42\",\"\\u003cbr\\u003eEmitted Luminosity: 1.058e+43\\u003cbr\\u003eRequested Luminosity: 1.059e+43\\u003cbr\\u003eAbsorbed Luminosity: 3.352e+42\",\"\\u003cbr\\u003eEmitted Luminosity: 1.058e+43\\u003cbr\\u003eRequested Luminosity: 1.059e+43\\u003cbr\\u003eAbsorbed Luminosity: 3.352e+42\",\"\\u003cbr\\u003eEmitted Luminosity: 1.058e+43\\u003cbr\\u003eRequested Luminosity: 1.059e+43\\u003cbr\\u003eAbsorbed Luminosity: 3.352e+42\",\"\\u003cbr\\u003eEmitted Luminosity: 1.058e+43\\u003cbr\\u003eRequested Luminosity: 1.059e+43\\u003cbr\\u003eAbsorbed Luminosity: 3.352e+42\",\"\\u003cbr\\u003eEmitted Luminosity: 1.058e+43\\u003cbr\\u003eRequested Luminosity: 1.059e+43\\u003cbr\\u003eAbsorbed Luminosity: 3.352e+42\",\"\\u003cbr\\u003eEmitted Luminosity: 1.058e+43\\u003cbr\\u003eRequested Luminosity: 1.059e+43\\u003cbr\\u003eAbsorbed Luminosity: 3.352e+42\",\"\\u003cbr\\u003eEmitted Luminosity: 1.058e+43\\u003cbr\\u003eRequested Luminosity: 1.059e+43\\u003cbr\\u003eAbsorbed Luminosity: 3.352e+42\",\"\\u003cbr\\u003eEmitted Luminosity: 1.058e+43\\u003cbr\\u003eRequested Luminosity: 1.059e+43\\u003cbr\\u003eAbsorbed Luminosity: 3.352e+42\",\"\\u003cbr\\u003eEmitted Luminosity: 1.058e+43\\u003cbr\\u003eRequested Luminosity: 1.059e+43\\u003cbr\\u003eAbsorbed Luminosity: 3.352e+42\",\"\\u003cbr\\u003eEmitted Luminosity: 1.058e+43\\u003cbr\\u003eRequested Luminosity: 1.059e+43\\u003cbr\\u003eAbsorbed Luminosity: 3.352e+42\",\"\\u003cbr\\u003eEmitted Luminosity: 1.058e+43\\u003cbr\\u003eRequested Luminosity: 1.059e+43\\u003cbr\\u003eAbsorbed Luminosity: 3.352e+42\",\"\\u003cbr\\u003eEmitted Luminosity: 1.058e+43\\u003cbr\\u003eRequested Luminosity: 1.059e+43\\u003cbr\\u003eAbsorbed Luminosity: 3.352e+42\",\"\\u003cbr\\u003eEmitted Luminosity: 1.058e+43\\u003cbr\\u003eRequested Luminosity: 1.059e+43\\u003cbr\\u003eAbsorbed Luminosity: 3.352e+42\",\"\\u003cbr\\u003eEmitted Luminosity: 1.058e+43\\u003cbr\\u003eRequested Luminosity: 1.059e+43\\u003cbr\\u003eAbsorbed Luminosity: 3.352e+42\",\"\\u003cbr\\u003eEmitted Luminosity: 1.058e+43\\u003cbr\\u003eRequested Luminosity: 1.059e+43\\u003cbr\\u003eAbsorbed Luminosity: 3.352e+42\",\"\\u003cbr\\u003eEmitted Luminosity: 1.058e+43\\u003cbr\\u003eRequested Luminosity: 1.059e+43\\u003cbr\\u003eAbsorbed Luminosity: 3.352e+42\",\"\\u003cbr\\u003eEmitted Luminosity: 1.058e+43\\u003cbr\\u003eRequested Luminosity: 1.059e+43\\u003cbr\\u003eAbsorbed Luminosity: 3.352e+42\",\"\\u003cbr\\u003eEmitted Luminosity: 1.058e+43\\u003cbr\\u003eRequested Luminosity: 1.059e+43\\u003cbr\\u003eAbsorbed Luminosity: 3.352e+42\",\"\\u003cbr\\u003eEmitted Luminosity: 1.058e+43\\u003cbr\\u003eRequested Luminosity: 1.059e+43\\u003cbr\\u003eAbsorbed Luminosity: 3.352e+42\",\"\\u003cbr\\u003eEmitted Luminosity: 1.058e+43\\u003cbr\\u003eRequested Luminosity: 1.059e+43\\u003cbr\\u003eAbsorbed Luminosity: 3.352e+42\"],\"hovertemplate\":\"\\u003cb\\u003eY\\u003c\\u002fb\\u003e: %{y:.3f} at \\u003cb\\u003eX\\u003c\\u002fb\\u003e = %{x:,.0f}%{customdata}\",\"legendgroup\":\"group-4\",\"line\":{\"color\":\"#0022ff\",\"shape\":\"hv\"},\"name\":\"4\",\"showlegend\":false,\"x\":[11000.0,11450.000000000002,11900.000000000002,12350.000000000002,12800.000000000002,13250.000000000002,13700.000000000002,14150.000000000002,14600.000000000002,15050.000000000002,15500.000000000002,15950.000000000002,16400.0,16850.0,17300.0,17750.0,18200.0,18650.0,19100.0,19550.0,20000.0],\"y\":[11038.698133319709,11131.435799441562,11213.984633035083,11254.93853745894,11264.107561079194,11231.114026250589,11180.234767099437,11161.437575828268,11095.86109073445,11098.45860756486,11036.771405771044,10960.496906399836,10968.575819463365,10890.828989905973,10799.341137335294,10659.85338314794,10549.231623432097,10506.788250185064,10398.595227817397,10289.349894730589,10289.349894730589],\"type\":\"scatter\",\"uid\":\"8308dd90-2539-4f68-b9d9-d1578193f194\",\"xaxis\":\"x\",\"yaxis\":\"y\"},{\"customdata\":[\"\\u003cbr\\u003eEmitted Luminosity: 1.058e+43\\u003cbr\\u003eRequested Luminosity: 1.059e+43\\u003cbr\\u003eAbsorbed Luminosity: 3.352e+42\",\"\\u003cbr\\u003eEmitted Luminosity: 1.058e+43\\u003cbr\\u003eRequested Luminosity: 1.059e+43\\u003cbr\\u003eAbsorbed Luminosity: 3.352e+42\",\"\\u003cbr\\u003eEmitted Luminosity: 1.058e+43\\u003cbr\\u003eRequested Luminosity: 1.059e+43\\u003cbr\\u003eAbsorbed Luminosity: 3.352e+42\",\"\\u003cbr\\u003eEmitted Luminosity: 1.058e+43\\u003cbr\\u003eRequested Luminosity: 1.059e+43\\u003cbr\\u003eAbsorbed Luminosity: 3.352e+42\",\"\\u003cbr\\u003eEmitted Luminosity: 1.058e+43\\u003cbr\\u003eRequested Luminosity: 1.059e+43\\u003cbr\\u003eAbsorbed Luminosity: 3.352e+42\",\"\\u003cbr\\u003eEmitted Luminosity: 1.058e+43\\u003cbr\\u003eRequested Luminosity: 1.059e+43\\u003cbr\\u003eAbsorbed Luminosity: 3.352e+42\",\"\\u003cbr\\u003eEmitted Luminosity: 1.058e+43\\u003cbr\\u003eRequested Luminosity: 1.059e+43\\u003cbr\\u003eAbsorbed Luminosity: 3.352e+42\",\"\\u003cbr\\u003eEmitted Luminosity: 1.058e+43\\u003cbr\\u003eRequested Luminosity: 1.059e+43\\u003cbr\\u003eAbsorbed Luminosity: 3.352e+42\",\"\\u003cbr\\u003eEmitted Luminosity: 1.058e+43\\u003cbr\\u003eRequested Luminosity: 1.059e+43\\u003cbr\\u003eAbsorbed Luminosity: 3.352e+42\",\"\\u003cbr\\u003eEmitted Luminosity: 1.058e+43\\u003cbr\\u003eRequested Luminosity: 1.059e+43\\u003cbr\\u003eAbsorbed Luminosity: 3.352e+42\",\"\\u003cbr\\u003eEmitted Luminosity: 1.058e+43\\u003cbr\\u003eRequested Luminosity: 1.059e+43\\u003cbr\\u003eAbsorbed Luminosity: 3.352e+42\",\"\\u003cbr\\u003eEmitted Luminosity: 1.058e+43\\u003cbr\\u003eRequested Luminosity: 1.059e+43\\u003cbr\\u003eAbsorbed Luminosity: 3.352e+42\",\"\\u003cbr\\u003eEmitted Luminosity: 1.058e+43\\u003cbr\\u003eRequested Luminosity: 1.059e+43\\u003cbr\\u003eAbsorbed Luminosity: 3.352e+42\",\"\\u003cbr\\u003eEmitted Luminosity: 1.058e+43\\u003cbr\\u003eRequested Luminosity: 1.059e+43\\u003cbr\\u003eAbsorbed Luminosity: 3.352e+42\",\"\\u003cbr\\u003eEmitted Luminosity: 1.058e+43\\u003cbr\\u003eRequested Luminosity: 1.059e+43\\u003cbr\\u003eAbsorbed Luminosity: 3.352e+42\",\"\\u003cbr\\u003eEmitted Luminosity: 1.058e+43\\u003cbr\\u003eRequested Luminosity: 1.059e+43\\u003cbr\\u003eAbsorbed Luminosity: 3.352e+42\",\"\\u003cbr\\u003eEmitted Luminosity: 1.058e+43\\u003cbr\\u003eRequested Luminosity: 1.059e+43\\u003cbr\\u003eAbsorbed Luminosity: 3.352e+42\",\"\\u003cbr\\u003eEmitted Luminosity: 1.058e+43\\u003cbr\\u003eRequested Luminosity: 1.059e+43\\u003cbr\\u003eAbsorbed Luminosity: 3.352e+42\",\"\\u003cbr\\u003eEmitted Luminosity: 1.058e+43\\u003cbr\\u003eRequested Luminosity: 1.059e+43\\u003cbr\\u003eAbsorbed Luminosity: 3.352e+42\",\"\\u003cbr\\u003eEmitted Luminosity: 1.058e+43\\u003cbr\\u003eRequested Luminosity: 1.059e+43\\u003cbr\\u003eAbsorbed Luminosity: 3.352e+42\",\"\\u003cbr\\u003eEmitted Luminosity: 1.058e+43\\u003cbr\\u003eRequested Luminosity: 1.059e+43\\u003cbr\\u003eAbsorbed Luminosity: 3.352e+42\"],\"hovertemplate\":\"\\u003cb\\u003eY\\u003c\\u002fb\\u003e: %{y:.3f} at \\u003cb\\u003eX\\u003c\\u002fb\\u003e = %{x:,.0f}%{customdata}\",\"legendgroup\":\"group-4\",\"line\":{\"color\":\"#0022ff\",\"shape\":\"hv\"},\"name\":\"4\",\"x\":[11000.0,11450.000000000002,11900.000000000002,12350.000000000002,12800.000000000002,13250.000000000002,13700.000000000002,14150.000000000002,14600.000000000002,15050.000000000002,15500.000000000002,15950.000000000002,16400.0,16850.0,17300.0,17750.0,18200.0,18650.0,19100.0,19550.0,20000.0],\"y\":[0.468753847691812,0.35824407936049213,0.28599634589916484,0.2384107667344865,0.20840515079453284,0.18245979900971598,0.16385302822935266,0.14657197302070704,0.1350387510445352,0.12203984302262141,0.11334205862439242,0.10619057923554784,0.09765445785021067,0.09265039020379387,0.0885699482406472,0.08610301669396905,0.08350964472774919,0.07926097434257313,0.07675258324197368,0.07475268831395637,0.07475268831395637],\"type\":\"scatter\",\"uid\":\"d182270b-0458-4435-b21a-0eb5c7cf7d89\",\"xaxis\":\"x2\",\"yaxis\":\"y2\"},{\"customdata\":[\"\\u003cbr\\u003eEmitted Luminosity: 1.055e+43\\u003cbr\\u003eRequested Luminosity: 1.059e+43\\u003cbr\\u003eAbsorbed Luminosity: 3.399e+42\",\"\\u003cbr\\u003eEmitted Luminosity: 1.055e+43\\u003cbr\\u003eRequested Luminosity: 1.059e+43\\u003cbr\\u003eAbsorbed Luminosity: 3.399e+42\",\"\\u003cbr\\u003eEmitted Luminosity: 1.055e+43\\u003cbr\\u003eRequested Luminosity: 1.059e+43\\u003cbr\\u003eAbsorbed Luminosity: 3.399e+42\",\"\\u003cbr\\u003eEmitted Luminosity: 1.055e+43\\u003cbr\\u003eRequested Luminosity: 1.059e+43\\u003cbr\\u003eAbsorbed Luminosity: 3.399e+42\",\"\\u003cbr\\u003eEmitted Luminosity: 1.055e+43\\u003cbr\\u003eRequested Luminosity: 1.059e+43\\u003cbr\\u003eAbsorbed Luminosity: 3.399e+42\",\"\\u003cbr\\u003eEmitted Luminosity: 1.055e+43\\u003cbr\\u003eRequested Luminosity: 1.059e+43\\u003cbr\\u003eAbsorbed Luminosity: 3.399e+42\",\"\\u003cbr\\u003eEmitted Luminosity: 1.055e+43\\u003cbr\\u003eRequested Luminosity: 1.059e+43\\u003cbr\\u003eAbsorbed Luminosity: 3.399e+42\",\"\\u003cbr\\u003eEmitted Luminosity: 1.055e+43\\u003cbr\\u003eRequested Luminosity: 1.059e+43\\u003cbr\\u003eAbsorbed Luminosity: 3.399e+42\",\"\\u003cbr\\u003eEmitted Luminosity: 1.055e+43\\u003cbr\\u003eRequested Luminosity: 1.059e+43\\u003cbr\\u003eAbsorbed Luminosity: 3.399e+42\",\"\\u003cbr\\u003eEmitted Luminosity: 1.055e+43\\u003cbr\\u003eRequested Luminosity: 1.059e+43\\u003cbr\\u003eAbsorbed Luminosity: 3.399e+42\",\"\\u003cbr\\u003eEmitted Luminosity: 1.055e+43\\u003cbr\\u003eRequested Luminosity: 1.059e+43\\u003cbr\\u003eAbsorbed Luminosity: 3.399e+42\",\"\\u003cbr\\u003eEmitted Luminosity: 1.055e+43\\u003cbr\\u003eRequested Luminosity: 1.059e+43\\u003cbr\\u003eAbsorbed Luminosity: 3.399e+42\",\"\\u003cbr\\u003eEmitted Luminosity: 1.055e+43\\u003cbr\\u003eRequested Luminosity: 1.059e+43\\u003cbr\\u003eAbsorbed Luminosity: 3.399e+42\",\"\\u003cbr\\u003eEmitted Luminosity: 1.055e+43\\u003cbr\\u003eRequested Luminosity: 1.059e+43\\u003cbr\\u003eAbsorbed Luminosity: 3.399e+42\",\"\\u003cbr\\u003eEmitted Luminosity: 1.055e+43\\u003cbr\\u003eRequested Luminosity: 1.059e+43\\u003cbr\\u003eAbsorbed Luminosity: 3.399e+42\",\"\\u003cbr\\u003eEmitted Luminosity: 1.055e+43\\u003cbr\\u003eRequested Luminosity: 1.059e+43\\u003cbr\\u003eAbsorbed Luminosity: 3.399e+42\",\"\\u003cbr\\u003eEmitted Luminosity: 1.055e+43\\u003cbr\\u003eRequested Luminosity: 1.059e+43\\u003cbr\\u003eAbsorbed Luminosity: 3.399e+42\",\"\\u003cbr\\u003eEmitted Luminosity: 1.055e+43\\u003cbr\\u003eRequested Luminosity: 1.059e+43\\u003cbr\\u003eAbsorbed Luminosity: 3.399e+42\",\"\\u003cbr\\u003eEmitted Luminosity: 1.055e+43\\u003cbr\\u003eRequested Luminosity: 1.059e+43\\u003cbr\\u003eAbsorbed Luminosity: 3.399e+42\",\"\\u003cbr\\u003eEmitted Luminosity: 1.055e+43\\u003cbr\\u003eRequested Luminosity: 1.059e+43\\u003cbr\\u003eAbsorbed Luminosity: 3.399e+42\",\"\\u003cbr\\u003eEmitted Luminosity: 1.055e+43\\u003cbr\\u003eRequested Luminosity: 1.059e+43\\u003cbr\\u003eAbsorbed Luminosity: 3.399e+42\"],\"hovertemplate\":\"\\u003cb\\u003eY\\u003c\\u002fb\\u003e: %{y:.3f} at \\u003cb\\u003eX\\u003c\\u002fb\\u003e = %{x:,.0f}%{customdata}\",\"legendgroup\":\"group-5\",\"line\":{\"color\":\"#0057ff\",\"shape\":\"hv\"},\"name\":\"5\",\"showlegend\":false,\"x\":[11000.0,11450.000000000002,11900.000000000002,12350.000000000002,12800.000000000002,13250.000000000002,13700.000000000002,14150.000000000002,14600.000000000002,15050.000000000002,15500.000000000002,15950.000000000002,16400.0,16850.0,17300.0,17750.0,18200.0,18650.0,19100.0,19550.0,20000.0],\"y\":[11004.024489659856,11119.370907976156,11195.435272777377,11259.072184929835,11285.207808046449,11285.17736284527,11257.669785381582,11225.43557193647,11186.445768225189,11099.126705981125,11029.754124780757,10939.092352940206,10877.97750528015,10799.95286314021,10803.94962659836,10716.29418721306,10608.3902777673,10536.800302652622,10451.345002096892,10351.499433918867,10351.499433918867],\"type\":\"scatter\",\"uid\":\"c456a1cf-2818-4739-9dbb-6e93962f38ad\",\"xaxis\":\"x\",\"yaxis\":\"y\"},{\"customdata\":[\"\\u003cbr\\u003eEmitted Luminosity: 1.055e+43\\u003cbr\\u003eRequested Luminosity: 1.059e+43\\u003cbr\\u003eAbsorbed Luminosity: 3.399e+42\",\"\\u003cbr\\u003eEmitted Luminosity: 1.055e+43\\u003cbr\\u003eRequested Luminosity: 1.059e+43\\u003cbr\\u003eAbsorbed Luminosity: 3.399e+42\",\"\\u003cbr\\u003eEmitted Luminosity: 1.055e+43\\u003cbr\\u003eRequested Luminosity: 1.059e+43\\u003cbr\\u003eAbsorbed Luminosity: 3.399e+42\",\"\\u003cbr\\u003eEmitted Luminosity: 1.055e+43\\u003cbr\\u003eRequested Luminosity: 1.059e+43\\u003cbr\\u003eAbsorbed Luminosity: 3.399e+42\",\"\\u003cbr\\u003eEmitted Luminosity: 1.055e+43\\u003cbr\\u003eRequested Luminosity: 1.059e+43\\u003cbr\\u003eAbsorbed Luminosity: 3.399e+42\",\"\\u003cbr\\u003eEmitted Luminosity: 1.055e+43\\u003cbr\\u003eRequested Luminosity: 1.059e+43\\u003cbr\\u003eAbsorbed Luminosity: 3.399e+42\",\"\\u003cbr\\u003eEmitted Luminosity: 1.055e+43\\u003cbr\\u003eRequested Luminosity: 1.059e+43\\u003cbr\\u003eAbsorbed Luminosity: 3.399e+42\",\"\\u003cbr\\u003eEmitted Luminosity: 1.055e+43\\u003cbr\\u003eRequested Luminosity: 1.059e+43\\u003cbr\\u003eAbsorbed Luminosity: 3.399e+42\",\"\\u003cbr\\u003eEmitted Luminosity: 1.055e+43\\u003cbr\\u003eRequested Luminosity: 1.059e+43\\u003cbr\\u003eAbsorbed Luminosity: 3.399e+42\",\"\\u003cbr\\u003eEmitted Luminosity: 1.055e+43\\u003cbr\\u003eRequested Luminosity: 1.059e+43\\u003cbr\\u003eAbsorbed Luminosity: 3.399e+42\",\"\\u003cbr\\u003eEmitted Luminosity: 1.055e+43\\u003cbr\\u003eRequested Luminosity: 1.059e+43\\u003cbr\\u003eAbsorbed Luminosity: 3.399e+42\",\"\\u003cbr\\u003eEmitted Luminosity: 1.055e+43\\u003cbr\\u003eRequested Luminosity: 1.059e+43\\u003cbr\\u003eAbsorbed Luminosity: 3.399e+42\",\"\\u003cbr\\u003eEmitted Luminosity: 1.055e+43\\u003cbr\\u003eRequested Luminosity: 1.059e+43\\u003cbr\\u003eAbsorbed Luminosity: 3.399e+42\",\"\\u003cbr\\u003eEmitted Luminosity: 1.055e+43\\u003cbr\\u003eRequested Luminosity: 1.059e+43\\u003cbr\\u003eAbsorbed Luminosity: 3.399e+42\",\"\\u003cbr\\u003eEmitted Luminosity: 1.055e+43\\u003cbr\\u003eRequested Luminosity: 1.059e+43\\u003cbr\\u003eAbsorbed Luminosity: 3.399e+42\",\"\\u003cbr\\u003eEmitted Luminosity: 1.055e+43\\u003cbr\\u003eRequested Luminosity: 1.059e+43\\u003cbr\\u003eAbsorbed Luminosity: 3.399e+42\",\"\\u003cbr\\u003eEmitted Luminosity: 1.055e+43\\u003cbr\\u003eRequested Luminosity: 1.059e+43\\u003cbr\\u003eAbsorbed Luminosity: 3.399e+42\",\"\\u003cbr\\u003eEmitted Luminosity: 1.055e+43\\u003cbr\\u003eRequested Luminosity: 1.059e+43\\u003cbr\\u003eAbsorbed Luminosity: 3.399e+42\",\"\\u003cbr\\u003eEmitted Luminosity: 1.055e+43\\u003cbr\\u003eRequested Luminosity: 1.059e+43\\u003cbr\\u003eAbsorbed Luminosity: 3.399e+42\",\"\\u003cbr\\u003eEmitted Luminosity: 1.055e+43\\u003cbr\\u003eRequested Luminosity: 1.059e+43\\u003cbr\\u003eAbsorbed Luminosity: 3.399e+42\",\"\\u003cbr\\u003eEmitted Luminosity: 1.055e+43\\u003cbr\\u003eRequested Luminosity: 1.059e+43\\u003cbr\\u003eAbsorbed Luminosity: 3.399e+42\"],\"hovertemplate\":\"\\u003cb\\u003eY\\u003c\\u002fb\\u003e: %{y:.3f} at \\u003cb\\u003eX\\u003c\\u002fb\\u003e = %{x:,.0f}%{customdata}\",\"legendgroup\":\"group-5\",\"line\":{\"color\":\"#0057ff\",\"shape\":\"hv\"},\"name\":\"5\",\"x\":[11000.0,11450.000000000002,11900.000000000002,12350.000000000002,12800.000000000002,13250.000000000002,13700.000000000002,14150.000000000002,14600.000000000002,15050.000000000002,15500.000000000002,15950.000000000002,16400.0,16850.0,17300.0,17750.0,18200.0,18650.0,19100.0,19550.0,20000.0],\"y\":[0.4787951138933641,0.3672291183719119,0.2926208974449348,0.2423928881588173,0.20444578448471018,0.17802906434287588,0.15880728036632177,0.1435269927097085,0.13113431023478836,0.12123492206018953,0.11293848121019065,0.1072061153778961,0.09996151019829091,0.09452711171505682,0.08773741567449528,0.0838574125841501,0.08091696481124884,0.07741620755854638,0.07503066951006179,0.07273052861628199,0.07273052861628199],\"type\":\"scatter\",\"uid\":\"d15d6749-887f-4ed4-a580-61c61154a65a\",\"xaxis\":\"x2\",\"yaxis\":\"y2\"},{\"customdata\":[\"\\u003cbr\\u003eEmitted Luminosity: 1.061e+43\\u003cbr\\u003eRequested Luminosity: 1.059e+43\\u003cbr\\u003eAbsorbed Luminosity: 3.398e+42\",\"\\u003cbr\\u003eEmitted Luminosity: 1.061e+43\\u003cbr\\u003eRequested Luminosity: 1.059e+43\\u003cbr\\u003eAbsorbed Luminosity: 3.398e+42\",\"\\u003cbr\\u003eEmitted Luminosity: 1.061e+43\\u003cbr\\u003eRequested Luminosity: 1.059e+43\\u003cbr\\u003eAbsorbed Luminosity: 3.398e+42\",\"\\u003cbr\\u003eEmitted Luminosity: 1.061e+43\\u003cbr\\u003eRequested Luminosity: 1.059e+43\\u003cbr\\u003eAbsorbed Luminosity: 3.398e+42\",\"\\u003cbr\\u003eEmitted Luminosity: 1.061e+43\\u003cbr\\u003eRequested Luminosity: 1.059e+43\\u003cbr\\u003eAbsorbed Luminosity: 3.398e+42\",\"\\u003cbr\\u003eEmitted Luminosity: 1.061e+43\\u003cbr\\u003eRequested Luminosity: 1.059e+43\\u003cbr\\u003eAbsorbed Luminosity: 3.398e+42\",\"\\u003cbr\\u003eEmitted Luminosity: 1.061e+43\\u003cbr\\u003eRequested Luminosity: 1.059e+43\\u003cbr\\u003eAbsorbed Luminosity: 3.398e+42\",\"\\u003cbr\\u003eEmitted Luminosity: 1.061e+43\\u003cbr\\u003eRequested Luminosity: 1.059e+43\\u003cbr\\u003eAbsorbed Luminosity: 3.398e+42\",\"\\u003cbr\\u003eEmitted Luminosity: 1.061e+43\\u003cbr\\u003eRequested Luminosity: 1.059e+43\\u003cbr\\u003eAbsorbed Luminosity: 3.398e+42\",\"\\u003cbr\\u003eEmitted Luminosity: 1.061e+43\\u003cbr\\u003eRequested Luminosity: 1.059e+43\\u003cbr\\u003eAbsorbed Luminosity: 3.398e+42\",\"\\u003cbr\\u003eEmitted Luminosity: 1.061e+43\\u003cbr\\u003eRequested Luminosity: 1.059e+43\\u003cbr\\u003eAbsorbed Luminosity: 3.398e+42\",\"\\u003cbr\\u003eEmitted Luminosity: 1.061e+43\\u003cbr\\u003eRequested Luminosity: 1.059e+43\\u003cbr\\u003eAbsorbed Luminosity: 3.398e+42\",\"\\u003cbr\\u003eEmitted Luminosity: 1.061e+43\\u003cbr\\u003eRequested Luminosity: 1.059e+43\\u003cbr\\u003eAbsorbed Luminosity: 3.398e+42\",\"\\u003cbr\\u003eEmitted Luminosity: 1.061e+43\\u003cbr\\u003eRequested Luminosity: 1.059e+43\\u003cbr\\u003eAbsorbed Luminosity: 3.398e+42\",\"\\u003cbr\\u003eEmitted Luminosity: 1.061e+43\\u003cbr\\u003eRequested Luminosity: 1.059e+43\\u003cbr\\u003eAbsorbed Luminosity: 3.398e+42\",\"\\u003cbr\\u003eEmitted Luminosity: 1.061e+43\\u003cbr\\u003eRequested Luminosity: 1.059e+43\\u003cbr\\u003eAbsorbed Luminosity: 3.398e+42\",\"\\u003cbr\\u003eEmitted Luminosity: 1.061e+43\\u003cbr\\u003eRequested Luminosity: 1.059e+43\\u003cbr\\u003eAbsorbed Luminosity: 3.398e+42\",\"\\u003cbr\\u003eEmitted Luminosity: 1.061e+43\\u003cbr\\u003eRequested Luminosity: 1.059e+43\\u003cbr\\u003eAbsorbed Luminosity: 3.398e+42\",\"\\u003cbr\\u003eEmitted Luminosity: 1.061e+43\\u003cbr\\u003eRequested Luminosity: 1.059e+43\\u003cbr\\u003eAbsorbed Luminosity: 3.398e+42\",\"\\u003cbr\\u003eEmitted Luminosity: 1.061e+43\\u003cbr\\u003eRequested Luminosity: 1.059e+43\\u003cbr\\u003eAbsorbed Luminosity: 3.398e+42\",\"\\u003cbr\\u003eEmitted Luminosity: 1.061e+43\\u003cbr\\u003eRequested Luminosity: 1.059e+43\\u003cbr\\u003eAbsorbed Luminosity: 3.398e+42\"],\"hovertemplate\":\"\\u003cb\\u003eY\\u003c\\u002fb\\u003e: %{y:.3f} at \\u003cb\\u003eX\\u003c\\u002fb\\u003e = %{x:,.0f}%{customdata}\",\"legendgroup\":\"group-6\",\"line\":{\"color\":\"#008dff\",\"shape\":\"hv\"},\"name\":\"6\",\"showlegend\":false,\"x\":[11000.0,11450.000000000002,11900.000000000002,12350.000000000002,12800.000000000002,13250.000000000002,13700.000000000002,14150.000000000002,14600.000000000002,15050.000000000002,15500.000000000002,15950.000000000002,16400.0,16850.0,17300.0,17750.0,18200.0,18650.0,19100.0,19550.0,20000.0],\"y\":[11049.228732355568,11156.739354515767,11233.15917183881,11257.868198718561,11259.221213382078,11218.728487793966,11177.383540027484,11170.932602943094,11091.339644892245,11058.832588706176,11086.886472116774,10967.000400043995,10888.70551250996,10859.351173962059,10794.116212447125,10665.940454226311,10614.03676533678,10560.167635600472,10433.60010902553,10347.13545423143,10347.13545423143],\"type\":\"scatter\",\"uid\":\"85227f8b-20d0-46de-83e3-72044019aefa\",\"xaxis\":\"x\",\"yaxis\":\"y\"},{\"customdata\":[\"\\u003cbr\\u003eEmitted Luminosity: 1.061e+43\\u003cbr\\u003eRequested Luminosity: 1.059e+43\\u003cbr\\u003eAbsorbed Luminosity: 3.398e+42\",\"\\u003cbr\\u003eEmitted Luminosity: 1.061e+43\\u003cbr\\u003eRequested Luminosity: 1.059e+43\\u003cbr\\u003eAbsorbed Luminosity: 3.398e+42\",\"\\u003cbr\\u003eEmitted Luminosity: 1.061e+43\\u003cbr\\u003eRequested Luminosity: 1.059e+43\\u003cbr\\u003eAbsorbed Luminosity: 3.398e+42\",\"\\u003cbr\\u003eEmitted Luminosity: 1.061e+43\\u003cbr\\u003eRequested Luminosity: 1.059e+43\\u003cbr\\u003eAbsorbed Luminosity: 3.398e+42\",\"\\u003cbr\\u003eEmitted Luminosity: 1.061e+43\\u003cbr\\u003eRequested Luminosity: 1.059e+43\\u003cbr\\u003eAbsorbed Luminosity: 3.398e+42\",\"\\u003cbr\\u003eEmitted Luminosity: 1.061e+43\\u003cbr\\u003eRequested Luminosity: 1.059e+43\\u003cbr\\u003eAbsorbed Luminosity: 3.398e+42\",\"\\u003cbr\\u003eEmitted Luminosity: 1.061e+43\\u003cbr\\u003eRequested Luminosity: 1.059e+43\\u003cbr\\u003eAbsorbed Luminosity: 3.398e+42\",\"\\u003cbr\\u003eEmitted Luminosity: 1.061e+43\\u003cbr\\u003eRequested Luminosity: 1.059e+43\\u003cbr\\u003eAbsorbed Luminosity: 3.398e+42\",\"\\u003cbr\\u003eEmitted Luminosity: 1.061e+43\\u003cbr\\u003eRequested Luminosity: 1.059e+43\\u003cbr\\u003eAbsorbed Luminosity: 3.398e+42\",\"\\u003cbr\\u003eEmitted Luminosity: 1.061e+43\\u003cbr\\u003eRequested Luminosity: 1.059e+43\\u003cbr\\u003eAbsorbed Luminosity: 3.398e+42\",\"\\u003cbr\\u003eEmitted Luminosity: 1.061e+43\\u003cbr\\u003eRequested Luminosity: 1.059e+43\\u003cbr\\u003eAbsorbed Luminosity: 3.398e+42\",\"\\u003cbr\\u003eEmitted Luminosity: 1.061e+43\\u003cbr\\u003eRequested Luminosity: 1.059e+43\\u003cbr\\u003eAbsorbed Luminosity: 3.398e+42\",\"\\u003cbr\\u003eEmitted Luminosity: 1.061e+43\\u003cbr\\u003eRequested Luminosity: 1.059e+43\\u003cbr\\u003eAbsorbed Luminosity: 3.398e+42\",\"\\u003cbr\\u003eEmitted Luminosity: 1.061e+43\\u003cbr\\u003eRequested Luminosity: 1.059e+43\\u003cbr\\u003eAbsorbed Luminosity: 3.398e+42\",\"\\u003cbr\\u003eEmitted Luminosity: 1.061e+43\\u003cbr\\u003eRequested Luminosity: 1.059e+43\\u003cbr\\u003eAbsorbed Luminosity: 3.398e+42\",\"\\u003cbr\\u003eEmitted Luminosity: 1.061e+43\\u003cbr\\u003eRequested Luminosity: 1.059e+43\\u003cbr\\u003eAbsorbed Luminosity: 3.398e+42\",\"\\u003cbr\\u003eEmitted Luminosity: 1.061e+43\\u003cbr\\u003eRequested Luminosity: 1.059e+43\\u003cbr\\u003eAbsorbed Luminosity: 3.398e+42\",\"\\u003cbr\\u003eEmitted Luminosity: 1.061e+43\\u003cbr\\u003eRequested Luminosity: 1.059e+43\\u003cbr\\u003eAbsorbed Luminosity: 3.398e+42\",\"\\u003cbr\\u003eEmitted Luminosity: 1.061e+43\\u003cbr\\u003eRequested Luminosity: 1.059e+43\\u003cbr\\u003eAbsorbed Luminosity: 3.398e+42\",\"\\u003cbr\\u003eEmitted Luminosity: 1.061e+43\\u003cbr\\u003eRequested Luminosity: 1.059e+43\\u003cbr\\u003eAbsorbed Luminosity: 3.398e+42\",\"\\u003cbr\\u003eEmitted Luminosity: 1.061e+43\\u003cbr\\u003eRequested Luminosity: 1.059e+43\\u003cbr\\u003eAbsorbed Luminosity: 3.398e+42\"],\"hovertemplate\":\"\\u003cb\\u003eY\\u003c\\u002fb\\u003e: %{y:.3f} at \\u003cb\\u003eX\\u003c\\u002fb\\u003e = %{x:,.0f}%{customdata}\",\"legendgroup\":\"group-6\",\"line\":{\"color\":\"#008dff\",\"shape\":\"hv\"},\"name\":\"6\",\"x\":[11000.0,11450.000000000002,11900.000000000002,12350.000000000002,12800.000000000002,13250.000000000002,13700.000000000002,14150.000000000002,14600.000000000002,15050.000000000002,15500.000000000002,15950.000000000002,16400.0,16850.0,17300.0,17750.0,18200.0,18650.0,19100.0,19550.0,20000.0],\"y\":[0.4697400940159954,0.35887006970475827,0.29077776563828694,0.24436511846991765,0.2077667342514169,0.1852074960564373,0.16487114788798898,0.14711076442391705,0.13525030370898508,0.12403257789506711,0.11208234573021579,0.10708808842987452,0.10081990994107475,0.09351009430956632,0.08797758265708866,0.08557481001143157,0.08167863229931291,0.07764065281949269,0.07578960072572699,0.07324774090303497,0.07324774090303497],\"type\":\"scatter\",\"uid\":\"6c2f41d2-ebfd-4494-b31b-6aa51b168e39\",\"xaxis\":\"x2\",\"yaxis\":\"y2\"},{\"customdata\":[\"\\u003cbr\\u003eEmitted Luminosity: 1.061e+43\\u003cbr\\u003eRequested Luminosity: 1.059e+43\\u003cbr\\u003eAbsorbed Luminosity: 3.382e+42\",\"\\u003cbr\\u003eEmitted Luminosity: 1.061e+43\\u003cbr\\u003eRequested Luminosity: 1.059e+43\\u003cbr\\u003eAbsorbed Luminosity: 3.382e+42\",\"\\u003cbr\\u003eEmitted Luminosity: 1.061e+43\\u003cbr\\u003eRequested Luminosity: 1.059e+43\\u003cbr\\u003eAbsorbed Luminosity: 3.382e+42\",\"\\u003cbr\\u003eEmitted Luminosity: 1.061e+43\\u003cbr\\u003eRequested Luminosity: 1.059e+43\\u003cbr\\u003eAbsorbed Luminosity: 3.382e+42\",\"\\u003cbr\\u003eEmitted Luminosity: 1.061e+43\\u003cbr\\u003eRequested Luminosity: 1.059e+43\\u003cbr\\u003eAbsorbed Luminosity: 3.382e+42\",\"\\u003cbr\\u003eEmitted Luminosity: 1.061e+43\\u003cbr\\u003eRequested Luminosity: 1.059e+43\\u003cbr\\u003eAbsorbed Luminosity: 3.382e+42\",\"\\u003cbr\\u003eEmitted Luminosity: 1.061e+43\\u003cbr\\u003eRequested Luminosity: 1.059e+43\\u003cbr\\u003eAbsorbed Luminosity: 3.382e+42\",\"\\u003cbr\\u003eEmitted Luminosity: 1.061e+43\\u003cbr\\u003eRequested Luminosity: 1.059e+43\\u003cbr\\u003eAbsorbed Luminosity: 3.382e+42\",\"\\u003cbr\\u003eEmitted Luminosity: 1.061e+43\\u003cbr\\u003eRequested Luminosity: 1.059e+43\\u003cbr\\u003eAbsorbed Luminosity: 3.382e+42\",\"\\u003cbr\\u003eEmitted Luminosity: 1.061e+43\\u003cbr\\u003eRequested Luminosity: 1.059e+43\\u003cbr\\u003eAbsorbed Luminosity: 3.382e+42\",\"\\u003cbr\\u003eEmitted Luminosity: 1.061e+43\\u003cbr\\u003eRequested Luminosity: 1.059e+43\\u003cbr\\u003eAbsorbed Luminosity: 3.382e+42\",\"\\u003cbr\\u003eEmitted Luminosity: 1.061e+43\\u003cbr\\u003eRequested Luminosity: 1.059e+43\\u003cbr\\u003eAbsorbed Luminosity: 3.382e+42\",\"\\u003cbr\\u003eEmitted Luminosity: 1.061e+43\\u003cbr\\u003eRequested Luminosity: 1.059e+43\\u003cbr\\u003eAbsorbed Luminosity: 3.382e+42\",\"\\u003cbr\\u003eEmitted Luminosity: 1.061e+43\\u003cbr\\u003eRequested Luminosity: 1.059e+43\\u003cbr\\u003eAbsorbed Luminosity: 3.382e+42\",\"\\u003cbr\\u003eEmitted Luminosity: 1.061e+43\\u003cbr\\u003eRequested Luminosity: 1.059e+43\\u003cbr\\u003eAbsorbed Luminosity: 3.382e+42\",\"\\u003cbr\\u003eEmitted Luminosity: 1.061e+43\\u003cbr\\u003eRequested Luminosity: 1.059e+43\\u003cbr\\u003eAbsorbed Luminosity: 3.382e+42\",\"\\u003cbr\\u003eEmitted Luminosity: 1.061e+43\\u003cbr\\u003eRequested Luminosity: 1.059e+43\\u003cbr\\u003eAbsorbed Luminosity: 3.382e+42\",\"\\u003cbr\\u003eEmitted Luminosity: 1.061e+43\\u003cbr\\u003eRequested Luminosity: 1.059e+43\\u003cbr\\u003eAbsorbed Luminosity: 3.382e+42\",\"\\u003cbr\\u003eEmitted Luminosity: 1.061e+43\\u003cbr\\u003eRequested Luminosity: 1.059e+43\\u003cbr\\u003eAbsorbed Luminosity: 3.382e+42\",\"\\u003cbr\\u003eEmitted Luminosity: 1.061e+43\\u003cbr\\u003eRequested Luminosity: 1.059e+43\\u003cbr\\u003eAbsorbed Luminosity: 3.382e+42\",\"\\u003cbr\\u003eEmitted Luminosity: 1.061e+43\\u003cbr\\u003eRequested Luminosity: 1.059e+43\\u003cbr\\u003eAbsorbed Luminosity: 3.382e+42\"],\"hovertemplate\":\"\\u003cb\\u003eY\\u003c\\u002fb\\u003e: %{y:.3f} at \\u003cb\\u003eX\\u003c\\u002fb\\u003e = %{x:,.0f}%{customdata}\",\"legendgroup\":\"group-7\",\"line\":{\"color\":\"#00c3ff\",\"shape\":\"hv\"},\"name\":\"7\",\"showlegend\":false,\"x\":[11000.0,11450.000000000002,11900.000000000002,12350.000000000002,12800.000000000002,13250.000000000002,13700.000000000002,14150.000000000002,14600.000000000002,15050.000000000002,15500.000000000002,15950.000000000002,16400.0,16850.0,17300.0,17750.0,18200.0,18650.0,19100.0,19550.0,20000.0],\"y\":[11037.085037194023,11149.996498693186,11245.89599206628,11293.021085350521,11348.84454634056,11303.814507501293,11275.886160361562,11193.561854480466,11139.762040353029,11142.501672440301,11052.157105073493,10947.27834376517,10930.673397100478,10870.232618754218,10717.53851162746,10653.978725318417,10563.076210054709,10483.387471111886,10423.154014947206,10305.269629801813,10305.269629801813],\"type\":\"scatter\",\"uid\":\"954b32f9-beb8-49d1-a3f3-f05302b7f98b\",\"xaxis\":\"x\",\"yaxis\":\"y\"},{\"customdata\":[\"\\u003cbr\\u003eEmitted Luminosity: 1.061e+43\\u003cbr\\u003eRequested Luminosity: 1.059e+43\\u003cbr\\u003eAbsorbed Luminosity: 3.382e+42\",\"\\u003cbr\\u003eEmitted Luminosity: 1.061e+43\\u003cbr\\u003eRequested Luminosity: 1.059e+43\\u003cbr\\u003eAbsorbed Luminosity: 3.382e+42\",\"\\u003cbr\\u003eEmitted Luminosity: 1.061e+43\\u003cbr\\u003eRequested Luminosity: 1.059e+43\\u003cbr\\u003eAbsorbed Luminosity: 3.382e+42\",\"\\u003cbr\\u003eEmitted Luminosity: 1.061e+43\\u003cbr\\u003eRequested Luminosity: 1.059e+43\\u003cbr\\u003eAbsorbed Luminosity: 3.382e+42\",\"\\u003cbr\\u003eEmitted Luminosity: 1.061e+43\\u003cbr\\u003eRequested Luminosity: 1.059e+43\\u003cbr\\u003eAbsorbed Luminosity: 3.382e+42\",\"\\u003cbr\\u003eEmitted Luminosity: 1.061e+43\\u003cbr\\u003eRequested Luminosity: 1.059e+43\\u003cbr\\u003eAbsorbed Luminosity: 3.382e+42\",\"\\u003cbr\\u003eEmitted Luminosity: 1.061e+43\\u003cbr\\u003eRequested Luminosity: 1.059e+43\\u003cbr\\u003eAbsorbed Luminosity: 3.382e+42\",\"\\u003cbr\\u003eEmitted Luminosity: 1.061e+43\\u003cbr\\u003eRequested Luminosity: 1.059e+43\\u003cbr\\u003eAbsorbed Luminosity: 3.382e+42\",\"\\u003cbr\\u003eEmitted Luminosity: 1.061e+43\\u003cbr\\u003eRequested Luminosity: 1.059e+43\\u003cbr\\u003eAbsorbed Luminosity: 3.382e+42\",\"\\u003cbr\\u003eEmitted Luminosity: 1.061e+43\\u003cbr\\u003eRequested Luminosity: 1.059e+43\\u003cbr\\u003eAbsorbed Luminosity: 3.382e+42\",\"\\u003cbr\\u003eEmitted Luminosity: 1.061e+43\\u003cbr\\u003eRequested Luminosity: 1.059e+43\\u003cbr\\u003eAbsorbed Luminosity: 3.382e+42\",\"\\u003cbr\\u003eEmitted Luminosity: 1.061e+43\\u003cbr\\u003eRequested Luminosity: 1.059e+43\\u003cbr\\u003eAbsorbed Luminosity: 3.382e+42\",\"\\u003cbr\\u003eEmitted Luminosity: 1.061e+43\\u003cbr\\u003eRequested Luminosity: 1.059e+43\\u003cbr\\u003eAbsorbed Luminosity: 3.382e+42\",\"\\u003cbr\\u003eEmitted Luminosity: 1.061e+43\\u003cbr\\u003eRequested Luminosity: 1.059e+43\\u003cbr\\u003eAbsorbed Luminosity: 3.382e+42\",\"\\u003cbr\\u003eEmitted Luminosity: 1.061e+43\\u003cbr\\u003eRequested Luminosity: 1.059e+43\\u003cbr\\u003eAbsorbed Luminosity: 3.382e+42\",\"\\u003cbr\\u003eEmitted Luminosity: 1.061e+43\\u003cbr\\u003eRequested Luminosity: 1.059e+43\\u003cbr\\u003eAbsorbed Luminosity: 3.382e+42\",\"\\u003cbr\\u003eEmitted Luminosity: 1.061e+43\\u003cbr\\u003eRequested Luminosity: 1.059e+43\\u003cbr\\u003eAbsorbed Luminosity: 3.382e+42\",\"\\u003cbr\\u003eEmitted Luminosity: 1.061e+43\\u003cbr\\u003eRequested Luminosity: 1.059e+43\\u003cbr\\u003eAbsorbed Luminosity: 3.382e+42\",\"\\u003cbr\\u003eEmitted Luminosity: 1.061e+43\\u003cbr\\u003eRequested Luminosity: 1.059e+43\\u003cbr\\u003eAbsorbed Luminosity: 3.382e+42\",\"\\u003cbr\\u003eEmitted Luminosity: 1.061e+43\\u003cbr\\u003eRequested Luminosity: 1.059e+43\\u003cbr\\u003eAbsorbed Luminosity: 3.382e+42\",\"\\u003cbr\\u003eEmitted Luminosity: 1.061e+43\\u003cbr\\u003eRequested Luminosity: 1.059e+43\\u003cbr\\u003eAbsorbed Luminosity: 3.382e+42\"],\"hovertemplate\":\"\\u003cb\\u003eY\\u003c\\u002fb\\u003e: %{y:.3f} at \\u003cb\\u003eX\\u003c\\u002fb\\u003e = %{x:,.0f}%{customdata}\",\"legendgroup\":\"group-7\",\"line\":{\"color\":\"#00c3ff\",\"shape\":\"hv\"},\"name\":\"7\",\"x\":[11000.0,11450.000000000002,11900.000000000002,12350.000000000002,12800.000000000002,13250.000000000002,13700.000000000002,14150.000000000002,14600.000000000002,15050.000000000002,15500.000000000002,15950.000000000002,16400.0,16850.0,17300.0,17750.0,18200.0,18650.0,19100.0,19550.0,20000.0],\"y\":[0.4695170928704682,0.3558132377939087,0.2834438934285777,0.23679038121368653,0.20063186744576206,0.1775265568956186,0.15896810063770828,0.14566983788022742,0.13249513450931563,0.11945436911075154,0.11202516442423804,0.10653028310041782,0.09880763358506454,0.09250430944965754,0.0904904576740683,0.08597716733696563,0.08263854439908591,0.07942790299289673,0.07616188750490312,0.07438003691528057,0.07438003691528057],\"type\":\"scatter\",\"uid\":\"a50278b8-f3f0-4f21-903c-4822cae48e0e\",\"xaxis\":\"x2\",\"yaxis\":\"y2\"},{\"customdata\":[\"\\u003cbr\\u003eEmitted Luminosity: 1.062e+43\\u003cbr\\u003eRequested Luminosity: 1.059e+43\\u003cbr\\u003eAbsorbed Luminosity: 3.35e+42\",\"\\u003cbr\\u003eEmitted Luminosity: 1.062e+43\\u003cbr\\u003eRequested Luminosity: 1.059e+43\\u003cbr\\u003eAbsorbed Luminosity: 3.35e+42\",\"\\u003cbr\\u003eEmitted Luminosity: 1.062e+43\\u003cbr\\u003eRequested Luminosity: 1.059e+43\\u003cbr\\u003eAbsorbed Luminosity: 3.35e+42\",\"\\u003cbr\\u003eEmitted Luminosity: 1.062e+43\\u003cbr\\u003eRequested Luminosity: 1.059e+43\\u003cbr\\u003eAbsorbed Luminosity: 3.35e+42\",\"\\u003cbr\\u003eEmitted Luminosity: 1.062e+43\\u003cbr\\u003eRequested Luminosity: 1.059e+43\\u003cbr\\u003eAbsorbed Luminosity: 3.35e+42\",\"\\u003cbr\\u003eEmitted Luminosity: 1.062e+43\\u003cbr\\u003eRequested Luminosity: 1.059e+43\\u003cbr\\u003eAbsorbed Luminosity: 3.35e+42\",\"\\u003cbr\\u003eEmitted Luminosity: 1.062e+43\\u003cbr\\u003eRequested Luminosity: 1.059e+43\\u003cbr\\u003eAbsorbed Luminosity: 3.35e+42\",\"\\u003cbr\\u003eEmitted Luminosity: 1.062e+43\\u003cbr\\u003eRequested Luminosity: 1.059e+43\\u003cbr\\u003eAbsorbed Luminosity: 3.35e+42\",\"\\u003cbr\\u003eEmitted Luminosity: 1.062e+43\\u003cbr\\u003eRequested Luminosity: 1.059e+43\\u003cbr\\u003eAbsorbed Luminosity: 3.35e+42\",\"\\u003cbr\\u003eEmitted Luminosity: 1.062e+43\\u003cbr\\u003eRequested Luminosity: 1.059e+43\\u003cbr\\u003eAbsorbed Luminosity: 3.35e+42\",\"\\u003cbr\\u003eEmitted Luminosity: 1.062e+43\\u003cbr\\u003eRequested Luminosity: 1.059e+43\\u003cbr\\u003eAbsorbed Luminosity: 3.35e+42\",\"\\u003cbr\\u003eEmitted Luminosity: 1.062e+43\\u003cbr\\u003eRequested Luminosity: 1.059e+43\\u003cbr\\u003eAbsorbed Luminosity: 3.35e+42\",\"\\u003cbr\\u003eEmitted Luminosity: 1.062e+43\\u003cbr\\u003eRequested Luminosity: 1.059e+43\\u003cbr\\u003eAbsorbed Luminosity: 3.35e+42\",\"\\u003cbr\\u003eEmitted Luminosity: 1.062e+43\\u003cbr\\u003eRequested Luminosity: 1.059e+43\\u003cbr\\u003eAbsorbed Luminosity: 3.35e+42\",\"\\u003cbr\\u003eEmitted Luminosity: 1.062e+43\\u003cbr\\u003eRequested Luminosity: 1.059e+43\\u003cbr\\u003eAbsorbed Luminosity: 3.35e+42\",\"\\u003cbr\\u003eEmitted Luminosity: 1.062e+43\\u003cbr\\u003eRequested Luminosity: 1.059e+43\\u003cbr\\u003eAbsorbed Luminosity: 3.35e+42\",\"\\u003cbr\\u003eEmitted Luminosity: 1.062e+43\\u003cbr\\u003eRequested Luminosity: 1.059e+43\\u003cbr\\u003eAbsorbed Luminosity: 3.35e+42\",\"\\u003cbr\\u003eEmitted Luminosity: 1.062e+43\\u003cbr\\u003eRequested Luminosity: 1.059e+43\\u003cbr\\u003eAbsorbed Luminosity: 3.35e+42\",\"\\u003cbr\\u003eEmitted Luminosity: 1.062e+43\\u003cbr\\u003eRequested Luminosity: 1.059e+43\\u003cbr\\u003eAbsorbed Luminosity: 3.35e+42\",\"\\u003cbr\\u003eEmitted Luminosity: 1.062e+43\\u003cbr\\u003eRequested Luminosity: 1.059e+43\\u003cbr\\u003eAbsorbed Luminosity: 3.35e+42\",\"\\u003cbr\\u003eEmitted Luminosity: 1.062e+43\\u003cbr\\u003eRequested Luminosity: 1.059e+43\\u003cbr\\u003eAbsorbed Luminosity: 3.35e+42\"],\"hovertemplate\":\"\\u003cb\\u003eY\\u003c\\u002fb\\u003e: %{y:.3f} at \\u003cb\\u003eX\\u003c\\u002fb\\u003e = %{x:,.0f}%{customdata}\",\"legendgroup\":\"group-8\",\"line\":{\"color\":\"#0ff8e8\",\"shape\":\"hv\"},\"name\":\"8\",\"showlegend\":false,\"x\":[11000.0,11450.000000000002,11900.000000000002,12350.000000000002,12800.000000000002,13250.000000000002,13700.000000000002,14150.000000000002,14600.000000000002,15050.000000000002,15500.000000000002,15950.000000000002,16400.0,16850.0,17300.0,17750.0,18200.0,18650.0,19100.0,19550.0,20000.0],\"y\":[11052.295325496998,11212.705361919525,11368.864591182295,11398.789963745703,11425.82406508393,11374.755681704642,11321.373184735603,11274.453385553126,11206.414763213412,11152.83045284176,11103.737908148858,10987.819453975915,10971.696465389128,10850.543109804737,10728.169760230825,10715.360231738356,10614.329903571435,10533.83597401012,10505.237794759549,10368.719365121058,10368.719365121058],\"type\":\"scatter\",\"uid\":\"f0f7f824-0484-43b6-873d-8f96c5f2c016\",\"xaxis\":\"x\",\"yaxis\":\"y\"},{\"customdata\":[\"\\u003cbr\\u003eEmitted Luminosity: 1.062e+43\\u003cbr\\u003eRequested Luminosity: 1.059e+43\\u003cbr\\u003eAbsorbed Luminosity: 3.35e+42\",\"\\u003cbr\\u003eEmitted Luminosity: 1.062e+43\\u003cbr\\u003eRequested Luminosity: 1.059e+43\\u003cbr\\u003eAbsorbed Luminosity: 3.35e+42\",\"\\u003cbr\\u003eEmitted Luminosity: 1.062e+43\\u003cbr\\u003eRequested Luminosity: 1.059e+43\\u003cbr\\u003eAbsorbed Luminosity: 3.35e+42\",\"\\u003cbr\\u003eEmitted Luminosity: 1.062e+43\\u003cbr\\u003eRequested Luminosity: 1.059e+43\\u003cbr\\u003eAbsorbed Luminosity: 3.35e+42\",\"\\u003cbr\\u003eEmitted Luminosity: 1.062e+43\\u003cbr\\u003eRequested Luminosity: 1.059e+43\\u003cbr\\u003eAbsorbed Luminosity: 3.35e+42\",\"\\u003cbr\\u003eEmitted Luminosity: 1.062e+43\\u003cbr\\u003eRequested Luminosity: 1.059e+43\\u003cbr\\u003eAbsorbed Luminosity: 3.35e+42\",\"\\u003cbr\\u003eEmitted Luminosity: 1.062e+43\\u003cbr\\u003eRequested Luminosity: 1.059e+43\\u003cbr\\u003eAbsorbed Luminosity: 3.35e+42\",\"\\u003cbr\\u003eEmitted Luminosity: 1.062e+43\\u003cbr\\u003eRequested Luminosity: 1.059e+43\\u003cbr\\u003eAbsorbed Luminosity: 3.35e+42\",\"\\u003cbr\\u003eEmitted Luminosity: 1.062e+43\\u003cbr\\u003eRequested Luminosity: 1.059e+43\\u003cbr\\u003eAbsorbed Luminosity: 3.35e+42\",\"\\u003cbr\\u003eEmitted Luminosity: 1.062e+43\\u003cbr\\u003eRequested Luminosity: 1.059e+43\\u003cbr\\u003eAbsorbed Luminosity: 3.35e+42\",\"\\u003cbr\\u003eEmitted Luminosity: 1.062e+43\\u003cbr\\u003eRequested Luminosity: 1.059e+43\\u003cbr\\u003eAbsorbed Luminosity: 3.35e+42\",\"\\u003cbr\\u003eEmitted Luminosity: 1.062e+43\\u003cbr\\u003eRequested Luminosity: 1.059e+43\\u003cbr\\u003eAbsorbed Luminosity: 3.35e+42\",\"\\u003cbr\\u003eEmitted Luminosity: 1.062e+43\\u003cbr\\u003eRequested Luminosity: 1.059e+43\\u003cbr\\u003eAbsorbed Luminosity: 3.35e+42\",\"\\u003cbr\\u003eEmitted Luminosity: 1.062e+43\\u003cbr\\u003eRequested Luminosity: 1.059e+43\\u003cbr\\u003eAbsorbed Luminosity: 3.35e+42\",\"\\u003cbr\\u003eEmitted Luminosity: 1.062e+43\\u003cbr\\u003eRequested Luminosity: 1.059e+43\\u003cbr\\u003eAbsorbed Luminosity: 3.35e+42\",\"\\u003cbr\\u003eEmitted Luminosity: 1.062e+43\\u003cbr\\u003eRequested Luminosity: 1.059e+43\\u003cbr\\u003eAbsorbed Luminosity: 3.35e+42\",\"\\u003cbr\\u003eEmitted Luminosity: 1.062e+43\\u003cbr\\u003eRequested Luminosity: 1.059e+43\\u003cbr\\u003eAbsorbed Luminosity: 3.35e+42\",\"\\u003cbr\\u003eEmitted Luminosity: 1.062e+43\\u003cbr\\u003eRequested Luminosity: 1.059e+43\\u003cbr\\u003eAbsorbed Luminosity: 3.35e+42\",\"\\u003cbr\\u003eEmitted Luminosity: 1.062e+43\\u003cbr\\u003eRequested Luminosity: 1.059e+43\\u003cbr\\u003eAbsorbed Luminosity: 3.35e+42\",\"\\u003cbr\\u003eEmitted Luminosity: 1.062e+43\\u003cbr\\u003eRequested Luminosity: 1.059e+43\\u003cbr\\u003eAbsorbed Luminosity: 3.35e+42\",\"\\u003cbr\\u003eEmitted Luminosity: 1.062e+43\\u003cbr\\u003eRequested Luminosity: 1.059e+43\\u003cbr\\u003eAbsorbed Luminosity: 3.35e+42\"],\"hovertemplate\":\"\\u003cb\\u003eY\\u003c\\u002fb\\u003e: %{y:.3f} at \\u003cb\\u003eX\\u003c\\u002fb\\u003e = %{x:,.0f}%{customdata}\",\"legendgroup\":\"group-8\",\"line\":{\"color\":\"#0ff8e8\",\"shape\":\"hv\"},\"name\":\"8\",\"x\":[11000.0,11450.000000000002,11900.000000000002,12350.000000000002,12800.000000000002,13250.000000000002,13700.000000000002,14150.000000000002,14600.000000000002,15050.000000000002,15500.000000000002,15950.000000000002,16400.0,16850.0,17300.0,17750.0,18200.0,18650.0,19100.0,19550.0,20000.0],\"y\":[0.47175098459955817,0.3533364312643354,0.2769286400260424,0.23227462876251798,0.19923392730851505,0.17521545432354396,0.15695860796865863,0.14254015427092226,0.12987043769720247,0.11949812440071166,0.11065799714369275,0.10503597469582862,0.09725717606234557,0.09312192856965501,0.08970996968103687,0.08403489096779886,0.08128474934784587,0.07834393294338432,0.07382031722838764,0.07253718289337062,0.07253718289337062],\"type\":\"scatter\",\"uid\":\"ed708c82-2032-48a4-8552-023449ec3e6a\",\"xaxis\":\"x2\",\"yaxis\":\"y2\"},{\"customdata\":[\"\\u003cbr\\u003eEmitted Luminosity: 1.052e+43\\u003cbr\\u003eRequested Luminosity: 1.059e+43\\u003cbr\\u003eAbsorbed Luminosity: 3.411e+42\",\"\\u003cbr\\u003eEmitted Luminosity: 1.052e+43\\u003cbr\\u003eRequested Luminosity: 1.059e+43\\u003cbr\\u003eAbsorbed Luminosity: 3.411e+42\",\"\\u003cbr\\u003eEmitted Luminosity: 1.052e+43\\u003cbr\\u003eRequested Luminosity: 1.059e+43\\u003cbr\\u003eAbsorbed Luminosity: 3.411e+42\",\"\\u003cbr\\u003eEmitted Luminosity: 1.052e+43\\u003cbr\\u003eRequested Luminosity: 1.059e+43\\u003cbr\\u003eAbsorbed Luminosity: 3.411e+42\",\"\\u003cbr\\u003eEmitted Luminosity: 1.052e+43\\u003cbr\\u003eRequested Luminosity: 1.059e+43\\u003cbr\\u003eAbsorbed Luminosity: 3.411e+42\",\"\\u003cbr\\u003eEmitted Luminosity: 1.052e+43\\u003cbr\\u003eRequested Luminosity: 1.059e+43\\u003cbr\\u003eAbsorbed Luminosity: 3.411e+42\",\"\\u003cbr\\u003eEmitted Luminosity: 1.052e+43\\u003cbr\\u003eRequested Luminosity: 1.059e+43\\u003cbr\\u003eAbsorbed Luminosity: 3.411e+42\",\"\\u003cbr\\u003eEmitted Luminosity: 1.052e+43\\u003cbr\\u003eRequested Luminosity: 1.059e+43\\u003cbr\\u003eAbsorbed Luminosity: 3.411e+42\",\"\\u003cbr\\u003eEmitted Luminosity: 1.052e+43\\u003cbr\\u003eRequested Luminosity: 1.059e+43\\u003cbr\\u003eAbsorbed Luminosity: 3.411e+42\",\"\\u003cbr\\u003eEmitted Luminosity: 1.052e+43\\u003cbr\\u003eRequested Luminosity: 1.059e+43\\u003cbr\\u003eAbsorbed Luminosity: 3.411e+42\",\"\\u003cbr\\u003eEmitted Luminosity: 1.052e+43\\u003cbr\\u003eRequested Luminosity: 1.059e+43\\u003cbr\\u003eAbsorbed Luminosity: 3.411e+42\",\"\\u003cbr\\u003eEmitted Luminosity: 1.052e+43\\u003cbr\\u003eRequested Luminosity: 1.059e+43\\u003cbr\\u003eAbsorbed Luminosity: 3.411e+42\",\"\\u003cbr\\u003eEmitted Luminosity: 1.052e+43\\u003cbr\\u003eRequested Luminosity: 1.059e+43\\u003cbr\\u003eAbsorbed Luminosity: 3.411e+42\",\"\\u003cbr\\u003eEmitted Luminosity: 1.052e+43\\u003cbr\\u003eRequested Luminosity: 1.059e+43\\u003cbr\\u003eAbsorbed Luminosity: 3.411e+42\",\"\\u003cbr\\u003eEmitted Luminosity: 1.052e+43\\u003cbr\\u003eRequested Luminosity: 1.059e+43\\u003cbr\\u003eAbsorbed Luminosity: 3.411e+42\",\"\\u003cbr\\u003eEmitted Luminosity: 1.052e+43\\u003cbr\\u003eRequested Luminosity: 1.059e+43\\u003cbr\\u003eAbsorbed Luminosity: 3.411e+42\",\"\\u003cbr\\u003eEmitted Luminosity: 1.052e+43\\u003cbr\\u003eRequested Luminosity: 1.059e+43\\u003cbr\\u003eAbsorbed Luminosity: 3.411e+42\",\"\\u003cbr\\u003eEmitted Luminosity: 1.052e+43\\u003cbr\\u003eRequested Luminosity: 1.059e+43\\u003cbr\\u003eAbsorbed Luminosity: 3.411e+42\",\"\\u003cbr\\u003eEmitted Luminosity: 1.052e+43\\u003cbr\\u003eRequested Luminosity: 1.059e+43\\u003cbr\\u003eAbsorbed Luminosity: 3.411e+42\",\"\\u003cbr\\u003eEmitted Luminosity: 1.052e+43\\u003cbr\\u003eRequested Luminosity: 1.059e+43\\u003cbr\\u003eAbsorbed Luminosity: 3.411e+42\",\"\\u003cbr\\u003eEmitted Luminosity: 1.052e+43\\u003cbr\\u003eRequested Luminosity: 1.059e+43\\u003cbr\\u003eAbsorbed Luminosity: 3.411e+42\"],\"hovertemplate\":\"\\u003cb\\u003eY\\u003c\\u002fb\\u003e: %{y:.3f} at \\u003cb\\u003eX\\u003c\\u002fb\\u003e = %{x:,.0f}%{customdata}\",\"legendgroup\":\"group-9\",\"line\":{\"color\":\"#3affbc\",\"shape\":\"hv\"},\"name\":\"9\",\"showlegend\":false,\"x\":[11000.0,11450.000000000002,11900.000000000002,12350.000000000002,12800.000000000002,13250.000000000002,13700.000000000002,14150.000000000002,14600.000000000002,15050.000000000002,15500.000000000002,15950.000000000002,16400.0,16850.0,17300.0,17750.0,18200.0,18650.0,19100.0,19550.0,20000.0],\"y\":[11054.591787334166,11225.528282829346,11397.756567710428,11384.015365915035,11451.38927425491,11459.61058897772,11376.050029186541,11274.095516148445,11272.499217755454,11178.085961626626,11140.79175428766,11068.611912757293,11035.291654969551,10948.379622685034,10846.308434798459,10760.164548553743,10717.1426390622,10660.04707328944,10504.05945232599,10393.011181236434,10393.011181236434],\"type\":\"scatter\",\"uid\":\"0b041053-e63b-40c2-9e33-a84b70c6659b\",\"xaxis\":\"x\",\"yaxis\":\"y\"},{\"customdata\":[\"\\u003cbr\\u003eEmitted Luminosity: 1.052e+43\\u003cbr\\u003eRequested Luminosity: 1.059e+43\\u003cbr\\u003eAbsorbed Luminosity: 3.411e+42\",\"\\u003cbr\\u003eEmitted Luminosity: 1.052e+43\\u003cbr\\u003eRequested Luminosity: 1.059e+43\\u003cbr\\u003eAbsorbed Luminosity: 3.411e+42\",\"\\u003cbr\\u003eEmitted Luminosity: 1.052e+43\\u003cbr\\u003eRequested Luminosity: 1.059e+43\\u003cbr\\u003eAbsorbed Luminosity: 3.411e+42\",\"\\u003cbr\\u003eEmitted Luminosity: 1.052e+43\\u003cbr\\u003eRequested Luminosity: 1.059e+43\\u003cbr\\u003eAbsorbed Luminosity: 3.411e+42\",\"\\u003cbr\\u003eEmitted Luminosity: 1.052e+43\\u003cbr\\u003eRequested Luminosity: 1.059e+43\\u003cbr\\u003eAbsorbed Luminosity: 3.411e+42\",\"\\u003cbr\\u003eEmitted Luminosity: 1.052e+43\\u003cbr\\u003eRequested Luminosity: 1.059e+43\\u003cbr\\u003eAbsorbed Luminosity: 3.411e+42\",\"\\u003cbr\\u003eEmitted Luminosity: 1.052e+43\\u003cbr\\u003eRequested Luminosity: 1.059e+43\\u003cbr\\u003eAbsorbed Luminosity: 3.411e+42\",\"\\u003cbr\\u003eEmitted Luminosity: 1.052e+43\\u003cbr\\u003eRequested Luminosity: 1.059e+43\\u003cbr\\u003eAbsorbed Luminosity: 3.411e+42\",\"\\u003cbr\\u003eEmitted Luminosity: 1.052e+43\\u003cbr\\u003eRequested Luminosity: 1.059e+43\\u003cbr\\u003eAbsorbed Luminosity: 3.411e+42\",\"\\u003cbr\\u003eEmitted Luminosity: 1.052e+43\\u003cbr\\u003eRequested Luminosity: 1.059e+43\\u003cbr\\u003eAbsorbed Luminosity: 3.411e+42\",\"\\u003cbr\\u003eEmitted Luminosity: 1.052e+43\\u003cbr\\u003eRequested Luminosity: 1.059e+43\\u003cbr\\u003eAbsorbed Luminosity: 3.411e+42\",\"\\u003cbr\\u003eEmitted Luminosity: 1.052e+43\\u003cbr\\u003eRequested Luminosity: 1.059e+43\\u003cbr\\u003eAbsorbed Luminosity: 3.411e+42\",\"\\u003cbr\\u003eEmitted Luminosity: 1.052e+43\\u003cbr\\u003eRequested Luminosity: 1.059e+43\\u003cbr\\u003eAbsorbed Luminosity: 3.411e+42\",\"\\u003cbr\\u003eEmitted Luminosity: 1.052e+43\\u003cbr\\u003eRequested Luminosity: 1.059e+43\\u003cbr\\u003eAbsorbed Luminosity: 3.411e+42\",\"\\u003cbr\\u003eEmitted Luminosity: 1.052e+43\\u003cbr\\u003eRequested Luminosity: 1.059e+43\\u003cbr\\u003eAbsorbed Luminosity: 3.411e+42\",\"\\u003cbr\\u003eEmitted Luminosity: 1.052e+43\\u003cbr\\u003eRequested Luminosity: 1.059e+43\\u003cbr\\u003eAbsorbed Luminosity: 3.411e+42\",\"\\u003cbr\\u003eEmitted Luminosity: 1.052e+43\\u003cbr\\u003eRequested Luminosity: 1.059e+43\\u003cbr\\u003eAbsorbed Luminosity: 3.411e+42\",\"\\u003cbr\\u003eEmitted Luminosity: 1.052e+43\\u003cbr\\u003eRequested Luminosity: 1.059e+43\\u003cbr\\u003eAbsorbed Luminosity: 3.411e+42\",\"\\u003cbr\\u003eEmitted Luminosity: 1.052e+43\\u003cbr\\u003eRequested Luminosity: 1.059e+43\\u003cbr\\u003eAbsorbed Luminosity: 3.411e+42\",\"\\u003cbr\\u003eEmitted Luminosity: 1.052e+43\\u003cbr\\u003eRequested Luminosity: 1.059e+43\\u003cbr\\u003eAbsorbed Luminosity: 3.411e+42\",\"\\u003cbr\\u003eEmitted Luminosity: 1.052e+43\\u003cbr\\u003eRequested Luminosity: 1.059e+43\\u003cbr\\u003eAbsorbed Luminosity: 3.411e+42\"],\"hovertemplate\":\"\\u003cb\\u003eY\\u003c\\u002fb\\u003e: %{y:.3f} at \\u003cb\\u003eX\\u003c\\u002fb\\u003e = %{x:,.0f}%{customdata}\",\"legendgroup\":\"group-9\",\"line\":{\"color\":\"#3affbc\",\"shape\":\"hv\"},\"name\":\"9\",\"x\":[11000.0,11450.000000000002,11900.000000000002,12350.000000000002,12800.000000000002,13250.000000000002,13700.000000000002,14150.000000000002,14600.000000000002,15050.000000000002,15500.000000000002,15950.000000000002,16400.0,16850.0,17300.0,17750.0,18200.0,18650.0,19100.0,19550.0,20000.0],\"y\":[0.46869175429362603,0.3489553241372849,0.27224562269848734,0.23088331103266685,0.19396911644591547,0.16966303737984237,0.15365541714258288,0.1406685784693093,0.12625486648965276,0.11769844507310184,0.10873442822036475,0.1021735736679519,0.0942876078037416,0.0897420106007178,0.08619004289280495,0.08223115714542843,0.07778821666696957,0.07403971132288636,0.07307298001360527,0.07131405537195101,0.07131405537195101],\"type\":\"scatter\",\"uid\":\"7b4e2b0c-ae4a-4506-9474-33f4b210a749\",\"xaxis\":\"x2\",\"yaxis\":\"y2\"},{\"customdata\":[\"\\u003cbr\\u003eEmitted Luminosity: 1.07e+43\\u003cbr\\u003eRequested Luminosity: 1.059e+43\\u003cbr\\u003eAbsorbed Luminosity: 3.335e+42\",\"\\u003cbr\\u003eEmitted Luminosity: 1.07e+43\\u003cbr\\u003eRequested Luminosity: 1.059e+43\\u003cbr\\u003eAbsorbed Luminosity: 3.335e+42\",\"\\u003cbr\\u003eEmitted Luminosity: 1.07e+43\\u003cbr\\u003eRequested Luminosity: 1.059e+43\\u003cbr\\u003eAbsorbed Luminosity: 3.335e+42\",\"\\u003cbr\\u003eEmitted Luminosity: 1.07e+43\\u003cbr\\u003eRequested Luminosity: 1.059e+43\\u003cbr\\u003eAbsorbed Luminosity: 3.335e+42\",\"\\u003cbr\\u003eEmitted Luminosity: 1.07e+43\\u003cbr\\u003eRequested Luminosity: 1.059e+43\\u003cbr\\u003eAbsorbed Luminosity: 3.335e+42\",\"\\u003cbr\\u003eEmitted Luminosity: 1.07e+43\\u003cbr\\u003eRequested Luminosity: 1.059e+43\\u003cbr\\u003eAbsorbed Luminosity: 3.335e+42\",\"\\u003cbr\\u003eEmitted Luminosity: 1.07e+43\\u003cbr\\u003eRequested Luminosity: 1.059e+43\\u003cbr\\u003eAbsorbed Luminosity: 3.335e+42\",\"\\u003cbr\\u003eEmitted Luminosity: 1.07e+43\\u003cbr\\u003eRequested Luminosity: 1.059e+43\\u003cbr\\u003eAbsorbed Luminosity: 3.335e+42\",\"\\u003cbr\\u003eEmitted Luminosity: 1.07e+43\\u003cbr\\u003eRequested Luminosity: 1.059e+43\\u003cbr\\u003eAbsorbed Luminosity: 3.335e+42\",\"\\u003cbr\\u003eEmitted Luminosity: 1.07e+43\\u003cbr\\u003eRequested Luminosity: 1.059e+43\\u003cbr\\u003eAbsorbed Luminosity: 3.335e+42\",\"\\u003cbr\\u003eEmitted Luminosity: 1.07e+43\\u003cbr\\u003eRequested Luminosity: 1.059e+43\\u003cbr\\u003eAbsorbed Luminosity: 3.335e+42\",\"\\u003cbr\\u003eEmitted Luminosity: 1.07e+43\\u003cbr\\u003eRequested Luminosity: 1.059e+43\\u003cbr\\u003eAbsorbed Luminosity: 3.335e+42\",\"\\u003cbr\\u003eEmitted Luminosity: 1.07e+43\\u003cbr\\u003eRequested Luminosity: 1.059e+43\\u003cbr\\u003eAbsorbed Luminosity: 3.335e+42\",\"\\u003cbr\\u003eEmitted Luminosity: 1.07e+43\\u003cbr\\u003eRequested Luminosity: 1.059e+43\\u003cbr\\u003eAbsorbed Luminosity: 3.335e+42\",\"\\u003cbr\\u003eEmitted Luminosity: 1.07e+43\\u003cbr\\u003eRequested Luminosity: 1.059e+43\\u003cbr\\u003eAbsorbed Luminosity: 3.335e+42\",\"\\u003cbr\\u003eEmitted Luminosity: 1.07e+43\\u003cbr\\u003eRequested Luminosity: 1.059e+43\\u003cbr\\u003eAbsorbed Luminosity: 3.335e+42\",\"\\u003cbr\\u003eEmitted Luminosity: 1.07e+43\\u003cbr\\u003eRequested Luminosity: 1.059e+43\\u003cbr\\u003eAbsorbed Luminosity: 3.335e+42\",\"\\u003cbr\\u003eEmitted Luminosity: 1.07e+43\\u003cbr\\u003eRequested Luminosity: 1.059e+43\\u003cbr\\u003eAbsorbed Luminosity: 3.335e+42\",\"\\u003cbr\\u003eEmitted Luminosity: 1.07e+43\\u003cbr\\u003eRequested Luminosity: 1.059e+43\\u003cbr\\u003eAbsorbed Luminosity: 3.335e+42\",\"\\u003cbr\\u003eEmitted Luminosity: 1.07e+43\\u003cbr\\u003eRequested Luminosity: 1.059e+43\\u003cbr\\u003eAbsorbed Luminosity: 3.335e+42\",\"\\u003cbr\\u003eEmitted Luminosity: 1.07e+43\\u003cbr\\u003eRequested Luminosity: 1.059e+43\\u003cbr\\u003eAbsorbed Luminosity: 3.335e+42\"],\"hovertemplate\":\"\\u003cb\\u003eY\\u003c\\u002fb\\u003e: %{y:.3f} at \\u003cb\\u003eX\\u003c\\u002fb\\u003e = %{x:,.0f}%{customdata}\",\"legendgroup\":\"group-10\",\"line\":{\"color\":\"#66ff91\",\"shape\":\"hv\"},\"name\":\"10\",\"showlegend\":false,\"x\":[11000.0,11450.000000000002,11900.000000000002,12350.000000000002,12800.000000000002,13250.000000000002,13700.000000000002,14150.000000000002,14600.000000000002,15050.000000000002,15500.000000000002,15950.000000000002,16400.0,16850.0,17300.0,17750.0,18200.0,18650.0,19100.0,19550.0,20000.0],\"y\":[11038.824129738177,11205.221198116957,11257.276210948343,11249.98212483277,11346.904548780474,11369.200845314597,11327.975637400823,11265.702779702777,11242.695668674232,11125.713354976326,11085.643189312841,11003.76680745335,10952.9254630472,10818.865962225482,10751.827669918448,10622.890289468804,10581.153922616139,10457.765325669841,10406.863293593042,10293.690965995072,10293.690965995072],\"type\":\"scatter\",\"uid\":\"7b36ebed-2bb8-435f-b172-9b270f9b1bc2\",\"xaxis\":\"x\",\"yaxis\":\"y\"},{\"customdata\":[\"\\u003cbr\\u003eEmitted Luminosity: 1.07e+43\\u003cbr\\u003eRequested Luminosity: 1.059e+43\\u003cbr\\u003eAbsorbed Luminosity: 3.335e+42\",\"\\u003cbr\\u003eEmitted Luminosity: 1.07e+43\\u003cbr\\u003eRequested Luminosity: 1.059e+43\\u003cbr\\u003eAbsorbed Luminosity: 3.335e+42\",\"\\u003cbr\\u003eEmitted Luminosity: 1.07e+43\\u003cbr\\u003eRequested Luminosity: 1.059e+43\\u003cbr\\u003eAbsorbed Luminosity: 3.335e+42\",\"\\u003cbr\\u003eEmitted Luminosity: 1.07e+43\\u003cbr\\u003eRequested Luminosity: 1.059e+43\\u003cbr\\u003eAbsorbed Luminosity: 3.335e+42\",\"\\u003cbr\\u003eEmitted Luminosity: 1.07e+43\\u003cbr\\u003eRequested Luminosity: 1.059e+43\\u003cbr\\u003eAbsorbed Luminosity: 3.335e+42\",\"\\u003cbr\\u003eEmitted Luminosity: 1.07e+43\\u003cbr\\u003eRequested Luminosity: 1.059e+43\\u003cbr\\u003eAbsorbed Luminosity: 3.335e+42\",\"\\u003cbr\\u003eEmitted Luminosity: 1.07e+43\\u003cbr\\u003eRequested Luminosity: 1.059e+43\\u003cbr\\u003eAbsorbed Luminosity: 3.335e+42\",\"\\u003cbr\\u003eEmitted Luminosity: 1.07e+43\\u003cbr\\u003eRequested Luminosity: 1.059e+43\\u003cbr\\u003eAbsorbed Luminosity: 3.335e+42\",\"\\u003cbr\\u003eEmitted Luminosity: 1.07e+43\\u003cbr\\u003eRequested Luminosity: 1.059e+43\\u003cbr\\u003eAbsorbed Luminosity: 3.335e+42\",\"\\u003cbr\\u003eEmitted Luminosity: 1.07e+43\\u003cbr\\u003eRequested Luminosity: 1.059e+43\\u003cbr\\u003eAbsorbed Luminosity: 3.335e+42\",\"\\u003cbr\\u003eEmitted Luminosity: 1.07e+43\\u003cbr\\u003eRequested Luminosity: 1.059e+43\\u003cbr\\u003eAbsorbed Luminosity: 3.335e+42\",\"\\u003cbr\\u003eEmitted Luminosity: 1.07e+43\\u003cbr\\u003eRequested Luminosity: 1.059e+43\\u003cbr\\u003eAbsorbed Luminosity: 3.335e+42\",\"\\u003cbr\\u003eEmitted Luminosity: 1.07e+43\\u003cbr\\u003eRequested Luminosity: 1.059e+43\\u003cbr\\u003eAbsorbed Luminosity: 3.335e+42\",\"\\u003cbr\\u003eEmitted Luminosity: 1.07e+43\\u003cbr\\u003eRequested Luminosity: 1.059e+43\\u003cbr\\u003eAbsorbed Luminosity: 3.335e+42\",\"\\u003cbr\\u003eEmitted Luminosity: 1.07e+43\\u003cbr\\u003eRequested Luminosity: 1.059e+43\\u003cbr\\u003eAbsorbed Luminosity: 3.335e+42\",\"\\u003cbr\\u003eEmitted Luminosity: 1.07e+43\\u003cbr\\u003eRequested Luminosity: 1.059e+43\\u003cbr\\u003eAbsorbed Luminosity: 3.335e+42\",\"\\u003cbr\\u003eEmitted Luminosity: 1.07e+43\\u003cbr\\u003eRequested Luminosity: 1.059e+43\\u003cbr\\u003eAbsorbed Luminosity: 3.335e+42\",\"\\u003cbr\\u003eEmitted Luminosity: 1.07e+43\\u003cbr\\u003eRequested Luminosity: 1.059e+43\\u003cbr\\u003eAbsorbed Luminosity: 3.335e+42\",\"\\u003cbr\\u003eEmitted Luminosity: 1.07e+43\\u003cbr\\u003eRequested Luminosity: 1.059e+43\\u003cbr\\u003eAbsorbed Luminosity: 3.335e+42\",\"\\u003cbr\\u003eEmitted Luminosity: 1.07e+43\\u003cbr\\u003eRequested Luminosity: 1.059e+43\\u003cbr\\u003eAbsorbed Luminosity: 3.335e+42\",\"\\u003cbr\\u003eEmitted Luminosity: 1.07e+43\\u003cbr\\u003eRequested Luminosity: 1.059e+43\\u003cbr\\u003eAbsorbed Luminosity: 3.335e+42\"],\"hovertemplate\":\"\\u003cb\\u003eY\\u003c\\u002fb\\u003e: %{y:.3f} at \\u003cb\\u003eX\\u003c\\u002fb\\u003e = %{x:,.0f}%{customdata}\",\"legendgroup\":\"group-10\",\"line\":{\"color\":\"#66ff91\",\"shape\":\"hv\"},\"name\":\"10\",\"x\":[11000.0,11450.000000000002,11900.000000000002,12350.000000000002,12800.000000000002,13250.000000000002,13700.000000000002,14150.000000000002,14600.000000000002,15050.000000000002,15500.000000000002,15950.000000000002,16400.0,16850.0,17300.0,17750.0,18200.0,18650.0,19100.0,19550.0,20000.0],\"y\":[0.47454746626447986,0.35492209696574134,0.29087752114957627,0.2447086648188197,0.20504347418985933,0.17741364784201688,0.15853184856381095,0.1450182194643016,0.13008713859723556,0.1223353394305388,0.11238724105660704,0.10569730424606044,0.0982603790613871,0.09469637422940753,0.08992779920376878,0.08775182242155576,0.08291661849234538,0.08063515139722377,0.07697286067066757,0.0751747545515974,0.0751747545515974],\"type\":\"scatter\",\"uid\":\"ca71784e-fcf5-4eb8-9a25-d3046e140664\",\"xaxis\":\"x2\",\"yaxis\":\"y2\"},{\"customdata\":[\"\\u003cbr\\u003eEmitted Luminosity: 1.053e+43\\u003cbr\\u003eRequested Luminosity: 1.059e+43\\u003cbr\\u003eAbsorbed Luminosity: 3.363e+42\",\"\\u003cbr\\u003eEmitted Luminosity: 1.053e+43\\u003cbr\\u003eRequested Luminosity: 1.059e+43\\u003cbr\\u003eAbsorbed Luminosity: 3.363e+42\",\"\\u003cbr\\u003eEmitted Luminosity: 1.053e+43\\u003cbr\\u003eRequested Luminosity: 1.059e+43\\u003cbr\\u003eAbsorbed Luminosity: 3.363e+42\",\"\\u003cbr\\u003eEmitted Luminosity: 1.053e+43\\u003cbr\\u003eRequested Luminosity: 1.059e+43\\u003cbr\\u003eAbsorbed Luminosity: 3.363e+42\",\"\\u003cbr\\u003eEmitted Luminosity: 1.053e+43\\u003cbr\\u003eRequested Luminosity: 1.059e+43\\u003cbr\\u003eAbsorbed Luminosity: 3.363e+42\",\"\\u003cbr\\u003eEmitted Luminosity: 1.053e+43\\u003cbr\\u003eRequested Luminosity: 1.059e+43\\u003cbr\\u003eAbsorbed Luminosity: 3.363e+42\",\"\\u003cbr\\u003eEmitted Luminosity: 1.053e+43\\u003cbr\\u003eRequested Luminosity: 1.059e+43\\u003cbr\\u003eAbsorbed Luminosity: 3.363e+42\",\"\\u003cbr\\u003eEmitted Luminosity: 1.053e+43\\u003cbr\\u003eRequested Luminosity: 1.059e+43\\u003cbr\\u003eAbsorbed Luminosity: 3.363e+42\",\"\\u003cbr\\u003eEmitted Luminosity: 1.053e+43\\u003cbr\\u003eRequested Luminosity: 1.059e+43\\u003cbr\\u003eAbsorbed Luminosity: 3.363e+42\",\"\\u003cbr\\u003eEmitted Luminosity: 1.053e+43\\u003cbr\\u003eRequested Luminosity: 1.059e+43\\u003cbr\\u003eAbsorbed Luminosity: 3.363e+42\",\"\\u003cbr\\u003eEmitted Luminosity: 1.053e+43\\u003cbr\\u003eRequested Luminosity: 1.059e+43\\u003cbr\\u003eAbsorbed Luminosity: 3.363e+42\",\"\\u003cbr\\u003eEmitted Luminosity: 1.053e+43\\u003cbr\\u003eRequested Luminosity: 1.059e+43\\u003cbr\\u003eAbsorbed Luminosity: 3.363e+42\",\"\\u003cbr\\u003eEmitted Luminosity: 1.053e+43\\u003cbr\\u003eRequested Luminosity: 1.059e+43\\u003cbr\\u003eAbsorbed Luminosity: 3.363e+42\",\"\\u003cbr\\u003eEmitted Luminosity: 1.053e+43\\u003cbr\\u003eRequested Luminosity: 1.059e+43\\u003cbr\\u003eAbsorbed Luminosity: 3.363e+42\",\"\\u003cbr\\u003eEmitted Luminosity: 1.053e+43\\u003cbr\\u003eRequested Luminosity: 1.059e+43\\u003cbr\\u003eAbsorbed Luminosity: 3.363e+42\",\"\\u003cbr\\u003eEmitted Luminosity: 1.053e+43\\u003cbr\\u003eRequested Luminosity: 1.059e+43\\u003cbr\\u003eAbsorbed Luminosity: 3.363e+42\",\"\\u003cbr\\u003eEmitted Luminosity: 1.053e+43\\u003cbr\\u003eRequested Luminosity: 1.059e+43\\u003cbr\\u003eAbsorbed Luminosity: 3.363e+42\",\"\\u003cbr\\u003eEmitted Luminosity: 1.053e+43\\u003cbr\\u003eRequested Luminosity: 1.059e+43\\u003cbr\\u003eAbsorbed Luminosity: 3.363e+42\",\"\\u003cbr\\u003eEmitted Luminosity: 1.053e+43\\u003cbr\\u003eRequested Luminosity: 1.059e+43\\u003cbr\\u003eAbsorbed Luminosity: 3.363e+42\",\"\\u003cbr\\u003eEmitted Luminosity: 1.053e+43\\u003cbr\\u003eRequested Luminosity: 1.059e+43\\u003cbr\\u003eAbsorbed Luminosity: 3.363e+42\",\"\\u003cbr\\u003eEmitted Luminosity: 1.053e+43\\u003cbr\\u003eRequested Luminosity: 1.059e+43\\u003cbr\\u003eAbsorbed Luminosity: 3.363e+42\"],\"hovertemplate\":\"\\u003cb\\u003eY\\u003c\\u002fb\\u003e: %{y:.3f} at \\u003cb\\u003eX\\u003c\\u002fb\\u003e = %{x:,.0f}%{customdata}\",\"legendgroup\":\"group-11\",\"line\":{\"color\":\"#91ff66\",\"shape\":\"hv\"},\"name\":\"11\",\"showlegend\":false,\"x\":[11000.0,11450.000000000002,11900.000000000002,12350.000000000002,12800.000000000002,13250.000000000002,13700.000000000002,14150.000000000002,14600.000000000002,15050.000000000002,15500.000000000002,15950.000000000002,16400.0,16850.0,17300.0,17750.0,18200.0,18650.0,19100.0,19550.0,20000.0],\"y\":[11033.009303410297,11148.879430055602,11221.615762492977,11261.573428125692,11263.081991396075,11194.361016203124,11176.653686173826,11119.362957181704,11160.897203210403,11060.876370200302,11002.144956546508,10869.256977805007,10791.657316178947,10690.963307625208,10679.12676315943,10633.713758297,10563.593823093457,10475.666642067623,10394.486610589738,10307.337749004702,10307.337749004702],\"type\":\"scatter\",\"uid\":\"31868457-dd7f-45a1-bf92-3f17dfa30d52\",\"xaxis\":\"x\",\"yaxis\":\"y\"},{\"customdata\":[\"\\u003cbr\\u003eEmitted Luminosity: 1.053e+43\\u003cbr\\u003eRequested Luminosity: 1.059e+43\\u003cbr\\u003eAbsorbed Luminosity: 3.363e+42\",\"\\u003cbr\\u003eEmitted Luminosity: 1.053e+43\\u003cbr\\u003eRequested Luminosity: 1.059e+43\\u003cbr\\u003eAbsorbed Luminosity: 3.363e+42\",\"\\u003cbr\\u003eEmitted Luminosity: 1.053e+43\\u003cbr\\u003eRequested Luminosity: 1.059e+43\\u003cbr\\u003eAbsorbed Luminosity: 3.363e+42\",\"\\u003cbr\\u003eEmitted Luminosity: 1.053e+43\\u003cbr\\u003eRequested Luminosity: 1.059e+43\\u003cbr\\u003eAbsorbed Luminosity: 3.363e+42\",\"\\u003cbr\\u003eEmitted Luminosity: 1.053e+43\\u003cbr\\u003eRequested Luminosity: 1.059e+43\\u003cbr\\u003eAbsorbed Luminosity: 3.363e+42\",\"\\u003cbr\\u003eEmitted Luminosity: 1.053e+43\\u003cbr\\u003eRequested Luminosity: 1.059e+43\\u003cbr\\u003eAbsorbed Luminosity: 3.363e+42\",\"\\u003cbr\\u003eEmitted Luminosity: 1.053e+43\\u003cbr\\u003eRequested Luminosity: 1.059e+43\\u003cbr\\u003eAbsorbed Luminosity: 3.363e+42\",\"\\u003cbr\\u003eEmitted Luminosity: 1.053e+43\\u003cbr\\u003eRequested Luminosity: 1.059e+43\\u003cbr\\u003eAbsorbed Luminosity: 3.363e+42\",\"\\u003cbr\\u003eEmitted Luminosity: 1.053e+43\\u003cbr\\u003eRequested Luminosity: 1.059e+43\\u003cbr\\u003eAbsorbed Luminosity: 3.363e+42\",\"\\u003cbr\\u003eEmitted Luminosity: 1.053e+43\\u003cbr\\u003eRequested Luminosity: 1.059e+43\\u003cbr\\u003eAbsorbed Luminosity: 3.363e+42\",\"\\u003cbr\\u003eEmitted Luminosity: 1.053e+43\\u003cbr\\u003eRequested Luminosity: 1.059e+43\\u003cbr\\u003eAbsorbed Luminosity: 3.363e+42\",\"\\u003cbr\\u003eEmitted Luminosity: 1.053e+43\\u003cbr\\u003eRequested Luminosity: 1.059e+43\\u003cbr\\u003eAbsorbed Luminosity: 3.363e+42\",\"\\u003cbr\\u003eEmitted Luminosity: 1.053e+43\\u003cbr\\u003eRequested Luminosity: 1.059e+43\\u003cbr\\u003eAbsorbed Luminosity: 3.363e+42\",\"\\u003cbr\\u003eEmitted Luminosity: 1.053e+43\\u003cbr\\u003eRequested Luminosity: 1.059e+43\\u003cbr\\u003eAbsorbed Luminosity: 3.363e+42\",\"\\u003cbr\\u003eEmitted Luminosity: 1.053e+43\\u003cbr\\u003eRequested Luminosity: 1.059e+43\\u003cbr\\u003eAbsorbed Luminosity: 3.363e+42\",\"\\u003cbr\\u003eEmitted Luminosity: 1.053e+43\\u003cbr\\u003eRequested Luminosity: 1.059e+43\\u003cbr\\u003eAbsorbed Luminosity: 3.363e+42\",\"\\u003cbr\\u003eEmitted Luminosity: 1.053e+43\\u003cbr\\u003eRequested Luminosity: 1.059e+43\\u003cbr\\u003eAbsorbed Luminosity: 3.363e+42\",\"\\u003cbr\\u003eEmitted Luminosity: 1.053e+43\\u003cbr\\u003eRequested Luminosity: 1.059e+43\\u003cbr\\u003eAbsorbed Luminosity: 3.363e+42\",\"\\u003cbr\\u003eEmitted Luminosity: 1.053e+43\\u003cbr\\u003eRequested Luminosity: 1.059e+43\\u003cbr\\u003eAbsorbed Luminosity: 3.363e+42\",\"\\u003cbr\\u003eEmitted Luminosity: 1.053e+43\\u003cbr\\u003eRequested Luminosity: 1.059e+43\\u003cbr\\u003eAbsorbed Luminosity: 3.363e+42\",\"\\u003cbr\\u003eEmitted Luminosity: 1.053e+43\\u003cbr\\u003eRequested Luminosity: 1.059e+43\\u003cbr\\u003eAbsorbed Luminosity: 3.363e+42\"],\"hovertemplate\":\"\\u003cb\\u003eY\\u003c\\u002fb\\u003e: %{y:.3f} at \\u003cb\\u003eX\\u003c\\u002fb\\u003e = %{x:,.0f}%{customdata}\",\"legendgroup\":\"group-11\",\"line\":{\"color\":\"#91ff66\",\"shape\":\"hv\"},\"name\":\"11\",\"x\":[11000.0,11450.000000000002,11900.000000000002,12350.000000000002,12800.000000000002,13250.000000000002,13700.000000000002,14150.000000000002,14600.000000000002,15050.000000000002,15500.000000000002,15950.000000000002,16400.0,16850.0,17300.0,17750.0,18200.0,18650.0,19100.0,19550.0,20000.0],\"y\":[0.4716537027008294,0.35789002652139046,0.28915602828626197,0.24083880524214427,0.2078504637355015,0.18387932966247034,0.163191677143407,0.1478925081549274,0.13152997741799524,0.12372087214587825,0.11428466126416577,0.10883618535076535,0.10279474447387704,0.0976657214604842,0.09081568508209242,0.0859333060750828,0.0821637564879339,0.07911681363169591,0.07642694755200073,0.0738461530246493,0.0738461530246493],\"type\":\"scatter\",\"uid\":\"82c891dd-4444-43c4-9936-65072cb16e9a\",\"xaxis\":\"x2\",\"yaxis\":\"y2\"},{\"customdata\":[\"\\u003cbr\\u003eEmitted Luminosity: 1.056e+43\\u003cbr\\u003eRequested Luminosity: 1.059e+43\\u003cbr\\u003eAbsorbed Luminosity: 3.42e+42\",\"\\u003cbr\\u003eEmitted Luminosity: 1.056e+43\\u003cbr\\u003eRequested Luminosity: 1.059e+43\\u003cbr\\u003eAbsorbed Luminosity: 3.42e+42\",\"\\u003cbr\\u003eEmitted Luminosity: 1.056e+43\\u003cbr\\u003eRequested Luminosity: 1.059e+43\\u003cbr\\u003eAbsorbed Luminosity: 3.42e+42\",\"\\u003cbr\\u003eEmitted Luminosity: 1.056e+43\\u003cbr\\u003eRequested Luminosity: 1.059e+43\\u003cbr\\u003eAbsorbed Luminosity: 3.42e+42\",\"\\u003cbr\\u003eEmitted Luminosity: 1.056e+43\\u003cbr\\u003eRequested Luminosity: 1.059e+43\\u003cbr\\u003eAbsorbed Luminosity: 3.42e+42\",\"\\u003cbr\\u003eEmitted Luminosity: 1.056e+43\\u003cbr\\u003eRequested Luminosity: 1.059e+43\\u003cbr\\u003eAbsorbed Luminosity: 3.42e+42\",\"\\u003cbr\\u003eEmitted Luminosity: 1.056e+43\\u003cbr\\u003eRequested Luminosity: 1.059e+43\\u003cbr\\u003eAbsorbed Luminosity: 3.42e+42\",\"\\u003cbr\\u003eEmitted Luminosity: 1.056e+43\\u003cbr\\u003eRequested Luminosity: 1.059e+43\\u003cbr\\u003eAbsorbed Luminosity: 3.42e+42\",\"\\u003cbr\\u003eEmitted Luminosity: 1.056e+43\\u003cbr\\u003eRequested Luminosity: 1.059e+43\\u003cbr\\u003eAbsorbed Luminosity: 3.42e+42\",\"\\u003cbr\\u003eEmitted Luminosity: 1.056e+43\\u003cbr\\u003eRequested Luminosity: 1.059e+43\\u003cbr\\u003eAbsorbed Luminosity: 3.42e+42\",\"\\u003cbr\\u003eEmitted Luminosity: 1.056e+43\\u003cbr\\u003eRequested Luminosity: 1.059e+43\\u003cbr\\u003eAbsorbed Luminosity: 3.42e+42\",\"\\u003cbr\\u003eEmitted Luminosity: 1.056e+43\\u003cbr\\u003eRequested Luminosity: 1.059e+43\\u003cbr\\u003eAbsorbed Luminosity: 3.42e+42\",\"\\u003cbr\\u003eEmitted Luminosity: 1.056e+43\\u003cbr\\u003eRequested Luminosity: 1.059e+43\\u003cbr\\u003eAbsorbed Luminosity: 3.42e+42\",\"\\u003cbr\\u003eEmitted Luminosity: 1.056e+43\\u003cbr\\u003eRequested Luminosity: 1.059e+43\\u003cbr\\u003eAbsorbed Luminosity: 3.42e+42\",\"\\u003cbr\\u003eEmitted Luminosity: 1.056e+43\\u003cbr\\u003eRequested Luminosity: 1.059e+43\\u003cbr\\u003eAbsorbed Luminosity: 3.42e+42\",\"\\u003cbr\\u003eEmitted Luminosity: 1.056e+43\\u003cbr\\u003eRequested Luminosity: 1.059e+43\\u003cbr\\u003eAbsorbed Luminosity: 3.42e+42\",\"\\u003cbr\\u003eEmitted Luminosity: 1.056e+43\\u003cbr\\u003eRequested Luminosity: 1.059e+43\\u003cbr\\u003eAbsorbed Luminosity: 3.42e+42\",\"\\u003cbr\\u003eEmitted Luminosity: 1.056e+43\\u003cbr\\u003eRequested Luminosity: 1.059e+43\\u003cbr\\u003eAbsorbed Luminosity: 3.42e+42\",\"\\u003cbr\\u003eEmitted Luminosity: 1.056e+43\\u003cbr\\u003eRequested Luminosity: 1.059e+43\\u003cbr\\u003eAbsorbed Luminosity: 3.42e+42\",\"\\u003cbr\\u003eEmitted Luminosity: 1.056e+43\\u003cbr\\u003eRequested Luminosity: 1.059e+43\\u003cbr\\u003eAbsorbed Luminosity: 3.42e+42\",\"\\u003cbr\\u003eEmitted Luminosity: 1.056e+43\\u003cbr\\u003eRequested Luminosity: 1.059e+43\\u003cbr\\u003eAbsorbed Luminosity: 3.42e+42\"],\"hovertemplate\":\"\\u003cb\\u003eY\\u003c\\u002fb\\u003e: %{y:.3f} at \\u003cb\\u003eX\\u003c\\u002fb\\u003e = %{x:,.0f}%{customdata}\",\"legendgroup\":\"group-12\",\"line\":{\"color\":\"#bcff3a\",\"shape\":\"hv\"},\"name\":\"12\",\"showlegend\":false,\"x\":[11000.0,11450.000000000002,11900.000000000002,12350.000000000002,12800.000000000002,13250.000000000002,13700.000000000002,14150.000000000002,14600.000000000002,15050.000000000002,15500.000000000002,15950.000000000002,16400.0,16850.0,17300.0,17750.0,18200.0,18650.0,19100.0,19550.0,20000.0],\"y\":[11074.304190284545,11270.074704391547,11337.64675384449,11393.767844361691,11382.432493098273,11342.026259991258,11307.597681129115,11335.171775993913,11250.639254234302,11213.12741872704,11110.772199549245,11064.251343517115,11042.858520545064,10922.45088449995,10850.738987811243,10785.37659267631,10674.168878679406,10522.169892052727,10443.423599659382,10348.151354322661,10348.151354322661],\"type\":\"scatter\",\"uid\":\"bc42f054-79b1-418a-8c0b-8d86d69de6ac\",\"xaxis\":\"x\",\"yaxis\":\"y\"},{\"customdata\":[\"\\u003cbr\\u003eEmitted Luminosity: 1.056e+43\\u003cbr\\u003eRequested Luminosity: 1.059e+43\\u003cbr\\u003eAbsorbed Luminosity: 3.42e+42\",\"\\u003cbr\\u003eEmitted Luminosity: 1.056e+43\\u003cbr\\u003eRequested Luminosity: 1.059e+43\\u003cbr\\u003eAbsorbed Luminosity: 3.42e+42\",\"\\u003cbr\\u003eEmitted Luminosity: 1.056e+43\\u003cbr\\u003eRequested Luminosity: 1.059e+43\\u003cbr\\u003eAbsorbed Luminosity: 3.42e+42\",\"\\u003cbr\\u003eEmitted Luminosity: 1.056e+43\\u003cbr\\u003eRequested Luminosity: 1.059e+43\\u003cbr\\u003eAbsorbed Luminosity: 3.42e+42\",\"\\u003cbr\\u003eEmitted Luminosity: 1.056e+43\\u003cbr\\u003eRequested Luminosity: 1.059e+43\\u003cbr\\u003eAbsorbed Luminosity: 3.42e+42\",\"\\u003cbr\\u003eEmitted Luminosity: 1.056e+43\\u003cbr\\u003eRequested Luminosity: 1.059e+43\\u003cbr\\u003eAbsorbed Luminosity: 3.42e+42\",\"\\u003cbr\\u003eEmitted Luminosity: 1.056e+43\\u003cbr\\u003eRequested Luminosity: 1.059e+43\\u003cbr\\u003eAbsorbed Luminosity: 3.42e+42\",\"\\u003cbr\\u003eEmitted Luminosity: 1.056e+43\\u003cbr\\u003eRequested Luminosity: 1.059e+43\\u003cbr\\u003eAbsorbed Luminosity: 3.42e+42\",\"\\u003cbr\\u003eEmitted Luminosity: 1.056e+43\\u003cbr\\u003eRequested Luminosity: 1.059e+43\\u003cbr\\u003eAbsorbed Luminosity: 3.42e+42\",\"\\u003cbr\\u003eEmitted Luminosity: 1.056e+43\\u003cbr\\u003eRequested Luminosity: 1.059e+43\\u003cbr\\u003eAbsorbed Luminosity: 3.42e+42\",\"\\u003cbr\\u003eEmitted Luminosity: 1.056e+43\\u003cbr\\u003eRequested Luminosity: 1.059e+43\\u003cbr\\u003eAbsorbed Luminosity: 3.42e+42\",\"\\u003cbr\\u003eEmitted Luminosity: 1.056e+43\\u003cbr\\u003eRequested Luminosity: 1.059e+43\\u003cbr\\u003eAbsorbed Luminosity: 3.42e+42\",\"\\u003cbr\\u003eEmitted Luminosity: 1.056e+43\\u003cbr\\u003eRequested Luminosity: 1.059e+43\\u003cbr\\u003eAbsorbed Luminosity: 3.42e+42\",\"\\u003cbr\\u003eEmitted Luminosity: 1.056e+43\\u003cbr\\u003eRequested Luminosity: 1.059e+43\\u003cbr\\u003eAbsorbed Luminosity: 3.42e+42\",\"\\u003cbr\\u003eEmitted Luminosity: 1.056e+43\\u003cbr\\u003eRequested Luminosity: 1.059e+43\\u003cbr\\u003eAbsorbed Luminosity: 3.42e+42\",\"\\u003cbr\\u003eEmitted Luminosity: 1.056e+43\\u003cbr\\u003eRequested Luminosity: 1.059e+43\\u003cbr\\u003eAbsorbed Luminosity: 3.42e+42\",\"\\u003cbr\\u003eEmitted Luminosity: 1.056e+43\\u003cbr\\u003eRequested Luminosity: 1.059e+43\\u003cbr\\u003eAbsorbed Luminosity: 3.42e+42\",\"\\u003cbr\\u003eEmitted Luminosity: 1.056e+43\\u003cbr\\u003eRequested Luminosity: 1.059e+43\\u003cbr\\u003eAbsorbed Luminosity: 3.42e+42\",\"\\u003cbr\\u003eEmitted Luminosity: 1.056e+43\\u003cbr\\u003eRequested Luminosity: 1.059e+43\\u003cbr\\u003eAbsorbed Luminosity: 3.42e+42\",\"\\u003cbr\\u003eEmitted Luminosity: 1.056e+43\\u003cbr\\u003eRequested Luminosity: 1.059e+43\\u003cbr\\u003eAbsorbed Luminosity: 3.42e+42\",\"\\u003cbr\\u003eEmitted Luminosity: 1.056e+43\\u003cbr\\u003eRequested Luminosity: 1.059e+43\\u003cbr\\u003eAbsorbed Luminosity: 3.42e+42\"],\"hovertemplate\":\"\\u003cb\\u003eY\\u003c\\u002fb\\u003e: %{y:.3f} at \\u003cb\\u003eX\\u003c\\u002fb\\u003e = %{x:,.0f}%{customdata}\",\"legendgroup\":\"group-12\",\"line\":{\"color\":\"#bcff3a\",\"shape\":\"hv\"},\"name\":\"12\",\"x\":[11000.0,11450.000000000002,11900.000000000002,12350.000000000002,12800.000000000002,13250.000000000002,13700.000000000002,14150.000000000002,14600.000000000002,15050.000000000002,15500.000000000002,15950.000000000002,16400.0,16850.0,17300.0,17750.0,18200.0,18650.0,19100.0,19550.0,20000.0],\"y\":[0.4673427774299079,0.3416024423087194,0.27910321174566743,0.23050913043389815,0.19851418434126208,0.1756663406326511,0.1571189220370135,0.13858010782473987,0.12834380644402354,0.11712263507790228,0.11007392939205822,0.10251441617453592,0.09467131931672448,0.09072574589902772,0.08637417761144382,0.08205309967814439,0.0790759363245619,0.0777284974038101,0.075107365368481,0.07265137671612922,0.07265137671612922],\"type\":\"scatter\",\"uid\":\"7f86c507-33f6-46fa-89ee-0de0341d6ce4\",\"xaxis\":\"x2\",\"yaxis\":\"y2\"},{\"customdata\":[\"\\u003cbr\\u003eEmitted Luminosity: 1.062e+43\\u003cbr\\u003eRequested Luminosity: 1.059e+43\\u003cbr\\u003eAbsorbed Luminosity: 3.406e+42\",\"\\u003cbr\\u003eEmitted Luminosity: 1.062e+43\\u003cbr\\u003eRequested Luminosity: 1.059e+43\\u003cbr\\u003eAbsorbed Luminosity: 3.406e+42\",\"\\u003cbr\\u003eEmitted Luminosity: 1.062e+43\\u003cbr\\u003eRequested Luminosity: 1.059e+43\\u003cbr\\u003eAbsorbed Luminosity: 3.406e+42\",\"\\u003cbr\\u003eEmitted Luminosity: 1.062e+43\\u003cbr\\u003eRequested Luminosity: 1.059e+43\\u003cbr\\u003eAbsorbed Luminosity: 3.406e+42\",\"\\u003cbr\\u003eEmitted Luminosity: 1.062e+43\\u003cbr\\u003eRequested Luminosity: 1.059e+43\\u003cbr\\u003eAbsorbed Luminosity: 3.406e+42\",\"\\u003cbr\\u003eEmitted Luminosity: 1.062e+43\\u003cbr\\u003eRequested Luminosity: 1.059e+43\\u003cbr\\u003eAbsorbed Luminosity: 3.406e+42\",\"\\u003cbr\\u003eEmitted Luminosity: 1.062e+43\\u003cbr\\u003eRequested Luminosity: 1.059e+43\\u003cbr\\u003eAbsorbed Luminosity: 3.406e+42\",\"\\u003cbr\\u003eEmitted Luminosity: 1.062e+43\\u003cbr\\u003eRequested Luminosity: 1.059e+43\\u003cbr\\u003eAbsorbed Luminosity: 3.406e+42\",\"\\u003cbr\\u003eEmitted Luminosity: 1.062e+43\\u003cbr\\u003eRequested Luminosity: 1.059e+43\\u003cbr\\u003eAbsorbed Luminosity: 3.406e+42\",\"\\u003cbr\\u003eEmitted Luminosity: 1.062e+43\\u003cbr\\u003eRequested Luminosity: 1.059e+43\\u003cbr\\u003eAbsorbed Luminosity: 3.406e+42\",\"\\u003cbr\\u003eEmitted Luminosity: 1.062e+43\\u003cbr\\u003eRequested Luminosity: 1.059e+43\\u003cbr\\u003eAbsorbed Luminosity: 3.406e+42\",\"\\u003cbr\\u003eEmitted Luminosity: 1.062e+43\\u003cbr\\u003eRequested Luminosity: 1.059e+43\\u003cbr\\u003eAbsorbed Luminosity: 3.406e+42\",\"\\u003cbr\\u003eEmitted Luminosity: 1.062e+43\\u003cbr\\u003eRequested Luminosity: 1.059e+43\\u003cbr\\u003eAbsorbed Luminosity: 3.406e+42\",\"\\u003cbr\\u003eEmitted Luminosity: 1.062e+43\\u003cbr\\u003eRequested Luminosity: 1.059e+43\\u003cbr\\u003eAbsorbed Luminosity: 3.406e+42\",\"\\u003cbr\\u003eEmitted Luminosity: 1.062e+43\\u003cbr\\u003eRequested Luminosity: 1.059e+43\\u003cbr\\u003eAbsorbed Luminosity: 3.406e+42\",\"\\u003cbr\\u003eEmitted Luminosity: 1.062e+43\\u003cbr\\u003eRequested Luminosity: 1.059e+43\\u003cbr\\u003eAbsorbed Luminosity: 3.406e+42\",\"\\u003cbr\\u003eEmitted Luminosity: 1.062e+43\\u003cbr\\u003eRequested Luminosity: 1.059e+43\\u003cbr\\u003eAbsorbed Luminosity: 3.406e+42\",\"\\u003cbr\\u003eEmitted Luminosity: 1.062e+43\\u003cbr\\u003eRequested Luminosity: 1.059e+43\\u003cbr\\u003eAbsorbed Luminosity: 3.406e+42\",\"\\u003cbr\\u003eEmitted Luminosity: 1.062e+43\\u003cbr\\u003eRequested Luminosity: 1.059e+43\\u003cbr\\u003eAbsorbed Luminosity: 3.406e+42\",\"\\u003cbr\\u003eEmitted Luminosity: 1.062e+43\\u003cbr\\u003eRequested Luminosity: 1.059e+43\\u003cbr\\u003eAbsorbed Luminosity: 3.406e+42\",\"\\u003cbr\\u003eEmitted Luminosity: 1.062e+43\\u003cbr\\u003eRequested Luminosity: 1.059e+43\\u003cbr\\u003eAbsorbed Luminosity: 3.406e+42\"],\"hovertemplate\":\"\\u003cb\\u003eY\\u003c\\u002fb\\u003e: %{y:.3f} at \\u003cb\\u003eX\\u003c\\u002fb\\u003e = %{x:,.0f}%{customdata}\",\"legendgroup\":\"group-13\",\"line\":{\"color\":\"#e8ff0f\",\"shape\":\"hv\"},\"name\":\"13\",\"showlegend\":false,\"x\":[11000.0,11450.000000000002,11900.000000000002,12350.000000000002,12800.000000000002,13250.000000000002,13700.000000000002,14150.000000000002,14600.000000000002,15050.000000000002,15500.000000000002,15950.000000000002,16400.0,16850.0,17300.0,17750.0,18200.0,18650.0,19100.0,19550.0,20000.0],\"y\":[11087.525575426182,11201.227059561044,11264.115790406584,11292.824638098915,11317.156990270067,11281.498582331242,11322.207028926758,11339.77168038827,11327.178998980176,11167.493221384191,11090.70331810982,10991.061715905902,10921.092013305799,10921.414809706095,10849.20591350588,10756.107814500563,10644.630217581229,10587.886446170476,10437.516867167384,10342.489678405149,10342.489678405149],\"type\":\"scatter\",\"uid\":\"a52a224a-1690-44cd-b50e-bcbc102479b7\",\"xaxis\":\"x\",\"yaxis\":\"y\"},{\"customdata\":[\"\\u003cbr\\u003eEmitted Luminosity: 1.062e+43\\u003cbr\\u003eRequested Luminosity: 1.059e+43\\u003cbr\\u003eAbsorbed Luminosity: 3.406e+42\",\"\\u003cbr\\u003eEmitted Luminosity: 1.062e+43\\u003cbr\\u003eRequested Luminosity: 1.059e+43\\u003cbr\\u003eAbsorbed Luminosity: 3.406e+42\",\"\\u003cbr\\u003eEmitted Luminosity: 1.062e+43\\u003cbr\\u003eRequested Luminosity: 1.059e+43\\u003cbr\\u003eAbsorbed Luminosity: 3.406e+42\",\"\\u003cbr\\u003eEmitted Luminosity: 1.062e+43\\u003cbr\\u003eRequested Luminosity: 1.059e+43\\u003cbr\\u003eAbsorbed Luminosity: 3.406e+42\",\"\\u003cbr\\u003eEmitted Luminosity: 1.062e+43\\u003cbr\\u003eRequested Luminosity: 1.059e+43\\u003cbr\\u003eAbsorbed Luminosity: 3.406e+42\",\"\\u003cbr\\u003eEmitted Luminosity: 1.062e+43\\u003cbr\\u003eRequested Luminosity: 1.059e+43\\u003cbr\\u003eAbsorbed Luminosity: 3.406e+42\",\"\\u003cbr\\u003eEmitted Luminosity: 1.062e+43\\u003cbr\\u003eRequested Luminosity: 1.059e+43\\u003cbr\\u003eAbsorbed Luminosity: 3.406e+42\",\"\\u003cbr\\u003eEmitted Luminosity: 1.062e+43\\u003cbr\\u003eRequested Luminosity: 1.059e+43\\u003cbr\\u003eAbsorbed Luminosity: 3.406e+42\",\"\\u003cbr\\u003eEmitted Luminosity: 1.062e+43\\u003cbr\\u003eRequested Luminosity: 1.059e+43\\u003cbr\\u003eAbsorbed Luminosity: 3.406e+42\",\"\\u003cbr\\u003eEmitted Luminosity: 1.062e+43\\u003cbr\\u003eRequested Luminosity: 1.059e+43\\u003cbr\\u003eAbsorbed Luminosity: 3.406e+42\",\"\\u003cbr\\u003eEmitted Luminosity: 1.062e+43\\u003cbr\\u003eRequested Luminosity: 1.059e+43\\u003cbr\\u003eAbsorbed Luminosity: 3.406e+42\",\"\\u003cbr\\u003eEmitted Luminosity: 1.062e+43\\u003cbr\\u003eRequested Luminosity: 1.059e+43\\u003cbr\\u003eAbsorbed Luminosity: 3.406e+42\",\"\\u003cbr\\u003eEmitted Luminosity: 1.062e+43\\u003cbr\\u003eRequested Luminosity: 1.059e+43\\u003cbr\\u003eAbsorbed Luminosity: 3.406e+42\",\"\\u003cbr\\u003eEmitted Luminosity: 1.062e+43\\u003cbr\\u003eRequested Luminosity: 1.059e+43\\u003cbr\\u003eAbsorbed Luminosity: 3.406e+42\",\"\\u003cbr\\u003eEmitted Luminosity: 1.062e+43\\u003cbr\\u003eRequested Luminosity: 1.059e+43\\u003cbr\\u003eAbsorbed Luminosity: 3.406e+42\",\"\\u003cbr\\u003eEmitted Luminosity: 1.062e+43\\u003cbr\\u003eRequested Luminosity: 1.059e+43\\u003cbr\\u003eAbsorbed Luminosity: 3.406e+42\",\"\\u003cbr\\u003eEmitted Luminosity: 1.062e+43\\u003cbr\\u003eRequested Luminosity: 1.059e+43\\u003cbr\\u003eAbsorbed Luminosity: 3.406e+42\",\"\\u003cbr\\u003eEmitted Luminosity: 1.062e+43\\u003cbr\\u003eRequested Luminosity: 1.059e+43\\u003cbr\\u003eAbsorbed Luminosity: 3.406e+42\",\"\\u003cbr\\u003eEmitted Luminosity: 1.062e+43\\u003cbr\\u003eRequested Luminosity: 1.059e+43\\u003cbr\\u003eAbsorbed Luminosity: 3.406e+42\",\"\\u003cbr\\u003eEmitted Luminosity: 1.062e+43\\u003cbr\\u003eRequested Luminosity: 1.059e+43\\u003cbr\\u003eAbsorbed Luminosity: 3.406e+42\",\"\\u003cbr\\u003eEmitted Luminosity: 1.062e+43\\u003cbr\\u003eRequested Luminosity: 1.059e+43\\u003cbr\\u003eAbsorbed Luminosity: 3.406e+42\"],\"hovertemplate\":\"\\u003cb\\u003eY\\u003c\\u002fb\\u003e: %{y:.3f} at \\u003cb\\u003eX\\u003c\\u002fb\\u003e = %{x:,.0f}%{customdata}\",\"legendgroup\":\"group-13\",\"line\":{\"color\":\"#e8ff0f\",\"shape\":\"hv\"},\"name\":\"13\",\"x\":[11000.0,11450.000000000002,11900.000000000002,12350.000000000002,12800.000000000002,13250.000000000002,13700.000000000002,14150.000000000002,14600.000000000002,15050.000000000002,15500.000000000002,15950.000000000002,16400.0,16850.0,17300.0,17750.0,18200.0,18650.0,19100.0,19550.0,20000.0],\"y\":[0.46565805426601664,0.3549669388200866,0.2890796008360616,0.2411840320437357,0.2044548355516515,0.18036279511146772,0.15735297031280784,0.13967623921493688,0.12582808284318392,0.11966817685100337,0.11138794680880061,0.10559408648137883,0.09923453037303134,0.0918869025275943,0.08696933388246765,0.08406815852725914,0.08086653912207413,0.07694310150792796,0.07586562190636172,0.07336532449072057,0.07336532449072057],\"type\":\"scatter\",\"uid\":\"1d02bc8a-c545-43d1-9be0-4adf7d82a7b5\",\"xaxis\":\"x2\",\"yaxis\":\"y2\"},{\"customdata\":[\"\\u003cbr\\u003eEmitted Luminosity: 1.063e+43\\u003cbr\\u003eRequested Luminosity: 1.059e+43\\u003cbr\\u003eAbsorbed Luminosity: 3.369e+42\",\"\\u003cbr\\u003eEmitted Luminosity: 1.063e+43\\u003cbr\\u003eRequested Luminosity: 1.059e+43\\u003cbr\\u003eAbsorbed Luminosity: 3.369e+42\",\"\\u003cbr\\u003eEmitted Luminosity: 1.063e+43\\u003cbr\\u003eRequested Luminosity: 1.059e+43\\u003cbr\\u003eAbsorbed Luminosity: 3.369e+42\",\"\\u003cbr\\u003eEmitted Luminosity: 1.063e+43\\u003cbr\\u003eRequested Luminosity: 1.059e+43\\u003cbr\\u003eAbsorbed Luminosity: 3.369e+42\",\"\\u003cbr\\u003eEmitted Luminosity: 1.063e+43\\u003cbr\\u003eRequested Luminosity: 1.059e+43\\u003cbr\\u003eAbsorbed Luminosity: 3.369e+42\",\"\\u003cbr\\u003eEmitted Luminosity: 1.063e+43\\u003cbr\\u003eRequested Luminosity: 1.059e+43\\u003cbr\\u003eAbsorbed Luminosity: 3.369e+42\",\"\\u003cbr\\u003eEmitted Luminosity: 1.063e+43\\u003cbr\\u003eRequested Luminosity: 1.059e+43\\u003cbr\\u003eAbsorbed Luminosity: 3.369e+42\",\"\\u003cbr\\u003eEmitted Luminosity: 1.063e+43\\u003cbr\\u003eRequested Luminosity: 1.059e+43\\u003cbr\\u003eAbsorbed Luminosity: 3.369e+42\",\"\\u003cbr\\u003eEmitted Luminosity: 1.063e+43\\u003cbr\\u003eRequested Luminosity: 1.059e+43\\u003cbr\\u003eAbsorbed Luminosity: 3.369e+42\",\"\\u003cbr\\u003eEmitted Luminosity: 1.063e+43\\u003cbr\\u003eRequested Luminosity: 1.059e+43\\u003cbr\\u003eAbsorbed Luminosity: 3.369e+42\",\"\\u003cbr\\u003eEmitted Luminosity: 1.063e+43\\u003cbr\\u003eRequested Luminosity: 1.059e+43\\u003cbr\\u003eAbsorbed Luminosity: 3.369e+42\",\"\\u003cbr\\u003eEmitted Luminosity: 1.063e+43\\u003cbr\\u003eRequested Luminosity: 1.059e+43\\u003cbr\\u003eAbsorbed Luminosity: 3.369e+42\",\"\\u003cbr\\u003eEmitted Luminosity: 1.063e+43\\u003cbr\\u003eRequested Luminosity: 1.059e+43\\u003cbr\\u003eAbsorbed Luminosity: 3.369e+42\",\"\\u003cbr\\u003eEmitted Luminosity: 1.063e+43\\u003cbr\\u003eRequested Luminosity: 1.059e+43\\u003cbr\\u003eAbsorbed Luminosity: 3.369e+42\",\"\\u003cbr\\u003eEmitted Luminosity: 1.063e+43\\u003cbr\\u003eRequested Luminosity: 1.059e+43\\u003cbr\\u003eAbsorbed Luminosity: 3.369e+42\",\"\\u003cbr\\u003eEmitted Luminosity: 1.063e+43\\u003cbr\\u003eRequested Luminosity: 1.059e+43\\u003cbr\\u003eAbsorbed Luminosity: 3.369e+42\",\"\\u003cbr\\u003eEmitted Luminosity: 1.063e+43\\u003cbr\\u003eRequested Luminosity: 1.059e+43\\u003cbr\\u003eAbsorbed Luminosity: 3.369e+42\",\"\\u003cbr\\u003eEmitted Luminosity: 1.063e+43\\u003cbr\\u003eRequested Luminosity: 1.059e+43\\u003cbr\\u003eAbsorbed Luminosity: 3.369e+42\",\"\\u003cbr\\u003eEmitted Luminosity: 1.063e+43\\u003cbr\\u003eRequested Luminosity: 1.059e+43\\u003cbr\\u003eAbsorbed Luminosity: 3.369e+42\",\"\\u003cbr\\u003eEmitted Luminosity: 1.063e+43\\u003cbr\\u003eRequested Luminosity: 1.059e+43\\u003cbr\\u003eAbsorbed Luminosity: 3.369e+42\",\"\\u003cbr\\u003eEmitted Luminosity: 1.063e+43\\u003cbr\\u003eRequested Luminosity: 1.059e+43\\u003cbr\\u003eAbsorbed Luminosity: 3.369e+42\"],\"hovertemplate\":\"\\u003cb\\u003eY\\u003c\\u002fb\\u003e: %{y:.3f} at \\u003cb\\u003eX\\u003c\\u002fb\\u003e = %{x:,.0f}%{customdata}\",\"legendgroup\":\"group-14\",\"line\":{\"color\":\"#ffd500\",\"shape\":\"hv\"},\"name\":\"14\",\"showlegend\":false,\"x\":[11000.0,11450.000000000002,11900.000000000002,12350.000000000002,12800.000000000002,13250.000000000002,13700.000000000002,14150.000000000002,14600.000000000002,15050.000000000002,15500.000000000002,15950.000000000002,16400.0,16850.0,17300.0,17750.0,18200.0,18650.0,19100.0,19550.0,20000.0],\"y\":[11068.04630918589,11150.165777521795,11259.927945300653,11258.671949226677,11266.893687156793,11275.907138982933,11188.304547244123,11219.769555221597,11200.243476725229,11135.251661568785,11027.955393405402,10929.698720441795,10834.1571754935,10882.486108740255,10770.22556367382,10675.83704147064,10617.65992960547,10487.333285002436,10387.97800464569,10300.551391623534,10300.551391623534],\"type\":\"scatter\",\"uid\":\"6189f81d-6f6a-48e8-a3aa-b1890dcecf94\",\"xaxis\":\"x\",\"yaxis\":\"y\"},{\"customdata\":[\"\\u003cbr\\u003eEmitted Luminosity: 1.063e+43\\u003cbr\\u003eRequested Luminosity: 1.059e+43\\u003cbr\\u003eAbsorbed Luminosity: 3.369e+42\",\"\\u003cbr\\u003eEmitted Luminosity: 1.063e+43\\u003cbr\\u003eRequested Luminosity: 1.059e+43\\u003cbr\\u003eAbsorbed Luminosity: 3.369e+42\",\"\\u003cbr\\u003eEmitted Luminosity: 1.063e+43\\u003cbr\\u003eRequested Luminosity: 1.059e+43\\u003cbr\\u003eAbsorbed Luminosity: 3.369e+42\",\"\\u003cbr\\u003eEmitted Luminosity: 1.063e+43\\u003cbr\\u003eRequested Luminosity: 1.059e+43\\u003cbr\\u003eAbsorbed Luminosity: 3.369e+42\",\"\\u003cbr\\u003eEmitted Luminosity: 1.063e+43\\u003cbr\\u003eRequested Luminosity: 1.059e+43\\u003cbr\\u003eAbsorbed Luminosity: 3.369e+42\",\"\\u003cbr\\u003eEmitted Luminosity: 1.063e+43\\u003cbr\\u003eRequested Luminosity: 1.059e+43\\u003cbr\\u003eAbsorbed Luminosity: 3.369e+42\",\"\\u003cbr\\u003eEmitted Luminosity: 1.063e+43\\u003cbr\\u003eRequested Luminosity: 1.059e+43\\u003cbr\\u003eAbsorbed Luminosity: 3.369e+42\",\"\\u003cbr\\u003eEmitted Luminosity: 1.063e+43\\u003cbr\\u003eRequested Luminosity: 1.059e+43\\u003cbr\\u003eAbsorbed Luminosity: 3.369e+42\",\"\\u003cbr\\u003eEmitted Luminosity: 1.063e+43\\u003cbr\\u003eRequested Luminosity: 1.059e+43\\u003cbr\\u003eAbsorbed Luminosity: 3.369e+42\",\"\\u003cbr\\u003eEmitted Luminosity: 1.063e+43\\u003cbr\\u003eRequested Luminosity: 1.059e+43\\u003cbr\\u003eAbsorbed Luminosity: 3.369e+42\",\"\\u003cbr\\u003eEmitted Luminosity: 1.063e+43\\u003cbr\\u003eRequested Luminosity: 1.059e+43\\u003cbr\\u003eAbsorbed Luminosity: 3.369e+42\",\"\\u003cbr\\u003eEmitted Luminosity: 1.063e+43\\u003cbr\\u003eRequested Luminosity: 1.059e+43\\u003cbr\\u003eAbsorbed Luminosity: 3.369e+42\",\"\\u003cbr\\u003eEmitted Luminosity: 1.063e+43\\u003cbr\\u003eRequested Luminosity: 1.059e+43\\u003cbr\\u003eAbsorbed Luminosity: 3.369e+42\",\"\\u003cbr\\u003eEmitted Luminosity: 1.063e+43\\u003cbr\\u003eRequested Luminosity: 1.059e+43\\u003cbr\\u003eAbsorbed Luminosity: 3.369e+42\",\"\\u003cbr\\u003eEmitted Luminosity: 1.063e+43\\u003cbr\\u003eRequested Luminosity: 1.059e+43\\u003cbr\\u003eAbsorbed Luminosity: 3.369e+42\",\"\\u003cbr\\u003eEmitted Luminosity: 1.063e+43\\u003cbr\\u003eRequested Luminosity: 1.059e+43\\u003cbr\\u003eAbsorbed Luminosity: 3.369e+42\",\"\\u003cbr\\u003eEmitted Luminosity: 1.063e+43\\u003cbr\\u003eRequested Luminosity: 1.059e+43\\u003cbr\\u003eAbsorbed Luminosity: 3.369e+42\",\"\\u003cbr\\u003eEmitted Luminosity: 1.063e+43\\u003cbr\\u003eRequested Luminosity: 1.059e+43\\u003cbr\\u003eAbsorbed Luminosity: 3.369e+42\",\"\\u003cbr\\u003eEmitted Luminosity: 1.063e+43\\u003cbr\\u003eRequested Luminosity: 1.059e+43\\u003cbr\\u003eAbsorbed Luminosity: 3.369e+42\",\"\\u003cbr\\u003eEmitted Luminosity: 1.063e+43\\u003cbr\\u003eRequested Luminosity: 1.059e+43\\u003cbr\\u003eAbsorbed Luminosity: 3.369e+42\",\"\\u003cbr\\u003eEmitted Luminosity: 1.063e+43\\u003cbr\\u003eRequested Luminosity: 1.059e+43\\u003cbr\\u003eAbsorbed Luminosity: 3.369e+42\"],\"hovertemplate\":\"\\u003cb\\u003eY\\u003c\\u002fb\\u003e: %{y:.3f} at \\u003cb\\u003eX\\u003c\\u002fb\\u003e = %{x:,.0f}%{customdata}\",\"legendgroup\":\"group-14\",\"line\":{\"color\":\"#ffd500\",\"shape\":\"hv\"},\"name\":\"14\",\"x\":[11000.0,11450.000000000002,11900.000000000002,12350.000000000002,12800.000000000002,13250.000000000002,13700.000000000002,14150.000000000002,14600.000000000002,15050.000000000002,15500.000000000002,15950.000000000002,16400.0,16850.0,17300.0,17750.0,18200.0,18650.0,19100.0,19550.0,20000.0],\"y\":[0.4693279579687407,0.359881987239799,0.28505597197300303,0.24047538038575964,0.2075897747028338,0.18247684789832203,0.16491868887500277,0.1456611303338746,0.13053847234656318,0.12057559589816016,0.11339699738857574,0.10727304278755595,0.10171231167304787,0.09280065223916588,0.08879405804273398,0.08535812381534301,0.08131280053377811,0.07954659088876864,0.07699622231440524,0.07445860956230005,0.07445860956230005],\"type\":\"scatter\",\"uid\":\"dfa7ef8d-a2f6-4bc5-a413-ef5fd24ba8a4\",\"xaxis\":\"x2\",\"yaxis\":\"y2\"},{\"customdata\":[\"\\u003cbr\\u003eEmitted Luminosity: 1.053e+43\\u003cbr\\u003eRequested Luminosity: 1.059e+43\\u003cbr\\u003eAbsorbed Luminosity: 3.417e+42\",\"\\u003cbr\\u003eEmitted Luminosity: 1.053e+43\\u003cbr\\u003eRequested Luminosity: 1.059e+43\\u003cbr\\u003eAbsorbed Luminosity: 3.417e+42\",\"\\u003cbr\\u003eEmitted Luminosity: 1.053e+43\\u003cbr\\u003eRequested Luminosity: 1.059e+43\\u003cbr\\u003eAbsorbed Luminosity: 3.417e+42\",\"\\u003cbr\\u003eEmitted Luminosity: 1.053e+43\\u003cbr\\u003eRequested Luminosity: 1.059e+43\\u003cbr\\u003eAbsorbed Luminosity: 3.417e+42\",\"\\u003cbr\\u003eEmitted Luminosity: 1.053e+43\\u003cbr\\u003eRequested Luminosity: 1.059e+43\\u003cbr\\u003eAbsorbed Luminosity: 3.417e+42\",\"\\u003cbr\\u003eEmitted Luminosity: 1.053e+43\\u003cbr\\u003eRequested Luminosity: 1.059e+43\\u003cbr\\u003eAbsorbed Luminosity: 3.417e+42\",\"\\u003cbr\\u003eEmitted Luminosity: 1.053e+43\\u003cbr\\u003eRequested Luminosity: 1.059e+43\\u003cbr\\u003eAbsorbed Luminosity: 3.417e+42\",\"\\u003cbr\\u003eEmitted Luminosity: 1.053e+43\\u003cbr\\u003eRequested Luminosity: 1.059e+43\\u003cbr\\u003eAbsorbed Luminosity: 3.417e+42\",\"\\u003cbr\\u003eEmitted Luminosity: 1.053e+43\\u003cbr\\u003eRequested Luminosity: 1.059e+43\\u003cbr\\u003eAbsorbed Luminosity: 3.417e+42\",\"\\u003cbr\\u003eEmitted Luminosity: 1.053e+43\\u003cbr\\u003eRequested Luminosity: 1.059e+43\\u003cbr\\u003eAbsorbed Luminosity: 3.417e+42\",\"\\u003cbr\\u003eEmitted Luminosity: 1.053e+43\\u003cbr\\u003eRequested Luminosity: 1.059e+43\\u003cbr\\u003eAbsorbed Luminosity: 3.417e+42\",\"\\u003cbr\\u003eEmitted Luminosity: 1.053e+43\\u003cbr\\u003eRequested Luminosity: 1.059e+43\\u003cbr\\u003eAbsorbed Luminosity: 3.417e+42\",\"\\u003cbr\\u003eEmitted Luminosity: 1.053e+43\\u003cbr\\u003eRequested Luminosity: 1.059e+43\\u003cbr\\u003eAbsorbed Luminosity: 3.417e+42\",\"\\u003cbr\\u003eEmitted Luminosity: 1.053e+43\\u003cbr\\u003eRequested Luminosity: 1.059e+43\\u003cbr\\u003eAbsorbed Luminosity: 3.417e+42\",\"\\u003cbr\\u003eEmitted Luminosity: 1.053e+43\\u003cbr\\u003eRequested Luminosity: 1.059e+43\\u003cbr\\u003eAbsorbed Luminosity: 3.417e+42\",\"\\u003cbr\\u003eEmitted Luminosity: 1.053e+43\\u003cbr\\u003eRequested Luminosity: 1.059e+43\\u003cbr\\u003eAbsorbed Luminosity: 3.417e+42\",\"\\u003cbr\\u003eEmitted Luminosity: 1.053e+43\\u003cbr\\u003eRequested Luminosity: 1.059e+43\\u003cbr\\u003eAbsorbed Luminosity: 3.417e+42\",\"\\u003cbr\\u003eEmitted Luminosity: 1.053e+43\\u003cbr\\u003eRequested Luminosity: 1.059e+43\\u003cbr\\u003eAbsorbed Luminosity: 3.417e+42\",\"\\u003cbr\\u003eEmitted Luminosity: 1.053e+43\\u003cbr\\u003eRequested Luminosity: 1.059e+43\\u003cbr\\u003eAbsorbed Luminosity: 3.417e+42\",\"\\u003cbr\\u003eEmitted Luminosity: 1.053e+43\\u003cbr\\u003eRequested Luminosity: 1.059e+43\\u003cbr\\u003eAbsorbed Luminosity: 3.417e+42\",\"\\u003cbr\\u003eEmitted Luminosity: 1.053e+43\\u003cbr\\u003eRequested Luminosity: 1.059e+43\\u003cbr\\u003eAbsorbed Luminosity: 3.417e+42\"],\"hovertemplate\":\"\\u003cb\\u003eY\\u003c\\u002fb\\u003e: %{y:.3f} at \\u003cb\\u003eX\\u003c\\u002fb\\u003e = %{x:,.0f}%{customdata}\",\"legendgroup\":\"group-15\",\"line\":{\"color\":\"#ffa400\",\"shape\":\"hv\"},\"name\":\"15\",\"showlegend\":false,\"x\":[11000.0,11450.000000000002,11900.000000000002,12350.000000000002,12800.000000000002,13250.000000000002,13700.000000000002,14150.000000000002,14600.000000000002,15050.000000000002,15500.000000000002,15950.000000000002,16400.0,16850.0,17300.0,17750.0,18200.0,18650.0,19100.0,19550.0,20000.0],\"y\":[10967.319694781678,11126.763191450418,11217.761301245784,11206.130309939224,11283.795667048493,11284.218727172101,11191.20117549409,11202.316834014984,11201.78429765737,11146.62492670144,11022.886564420543,10942.85266539946,10865.779600776854,10807.444186041444,10676.484158875379,10656.719189675789,10574.820743062732,10453.646767934864,10351.641526033647,10281.918724422572,10281.918724422572],\"type\":\"scatter\",\"uid\":\"a903a2f0-ef5d-4e60-bd91-91212d9c5b7d\",\"xaxis\":\"x\",\"yaxis\":\"y\"},{\"customdata\":[\"\\u003cbr\\u003eEmitted Luminosity: 1.053e+43\\u003cbr\\u003eRequested Luminosity: 1.059e+43\\u003cbr\\u003eAbsorbed Luminosity: 3.417e+42\",\"\\u003cbr\\u003eEmitted Luminosity: 1.053e+43\\u003cbr\\u003eRequested Luminosity: 1.059e+43\\u003cbr\\u003eAbsorbed Luminosity: 3.417e+42\",\"\\u003cbr\\u003eEmitted Luminosity: 1.053e+43\\u003cbr\\u003eRequested Luminosity: 1.059e+43\\u003cbr\\u003eAbsorbed Luminosity: 3.417e+42\",\"\\u003cbr\\u003eEmitted Luminosity: 1.053e+43\\u003cbr\\u003eRequested Luminosity: 1.059e+43\\u003cbr\\u003eAbsorbed Luminosity: 3.417e+42\",\"\\u003cbr\\u003eEmitted Luminosity: 1.053e+43\\u003cbr\\u003eRequested Luminosity: 1.059e+43\\u003cbr\\u003eAbsorbed Luminosity: 3.417e+42\",\"\\u003cbr\\u003eEmitted Luminosity: 1.053e+43\\u003cbr\\u003eRequested Luminosity: 1.059e+43\\u003cbr\\u003eAbsorbed Luminosity: 3.417e+42\",\"\\u003cbr\\u003eEmitted Luminosity: 1.053e+43\\u003cbr\\u003eRequested Luminosity: 1.059e+43\\u003cbr\\u003eAbsorbed Luminosity: 3.417e+42\",\"\\u003cbr\\u003eEmitted Luminosity: 1.053e+43\\u003cbr\\u003eRequested Luminosity: 1.059e+43\\u003cbr\\u003eAbsorbed Luminosity: 3.417e+42\",\"\\u003cbr\\u003eEmitted Luminosity: 1.053e+43\\u003cbr\\u003eRequested Luminosity: 1.059e+43\\u003cbr\\u003eAbsorbed Luminosity: 3.417e+42\",\"\\u003cbr\\u003eEmitted Luminosity: 1.053e+43\\u003cbr\\u003eRequested Luminosity: 1.059e+43\\u003cbr\\u003eAbsorbed Luminosity: 3.417e+42\",\"\\u003cbr\\u003eEmitted Luminosity: 1.053e+43\\u003cbr\\u003eRequested Luminosity: 1.059e+43\\u003cbr\\u003eAbsorbed Luminosity: 3.417e+42\",\"\\u003cbr\\u003eEmitted Luminosity: 1.053e+43\\u003cbr\\u003eRequested Luminosity: 1.059e+43\\u003cbr\\u003eAbsorbed Luminosity: 3.417e+42\",\"\\u003cbr\\u003eEmitted Luminosity: 1.053e+43\\u003cbr\\u003eRequested Luminosity: 1.059e+43\\u003cbr\\u003eAbsorbed Luminosity: 3.417e+42\",\"\\u003cbr\\u003eEmitted Luminosity: 1.053e+43\\u003cbr\\u003eRequested Luminosity: 1.059e+43\\u003cbr\\u003eAbsorbed Luminosity: 3.417e+42\",\"\\u003cbr\\u003eEmitted Luminosity: 1.053e+43\\u003cbr\\u003eRequested Luminosity: 1.059e+43\\u003cbr\\u003eAbsorbed Luminosity: 3.417e+42\",\"\\u003cbr\\u003eEmitted Luminosity: 1.053e+43\\u003cbr\\u003eRequested Luminosity: 1.059e+43\\u003cbr\\u003eAbsorbed Luminosity: 3.417e+42\",\"\\u003cbr\\u003eEmitted Luminosity: 1.053e+43\\u003cbr\\u003eRequested Luminosity: 1.059e+43\\u003cbr\\u003eAbsorbed Luminosity: 3.417e+42\",\"\\u003cbr\\u003eEmitted Luminosity: 1.053e+43\\u003cbr\\u003eRequested Luminosity: 1.059e+43\\u003cbr\\u003eAbsorbed Luminosity: 3.417e+42\",\"\\u003cbr\\u003eEmitted Luminosity: 1.053e+43\\u003cbr\\u003eRequested Luminosity: 1.059e+43\\u003cbr\\u003eAbsorbed Luminosity: 3.417e+42\",\"\\u003cbr\\u003eEmitted Luminosity: 1.053e+43\\u003cbr\\u003eRequested Luminosity: 1.059e+43\\u003cbr\\u003eAbsorbed Luminosity: 3.417e+42\",\"\\u003cbr\\u003eEmitted Luminosity: 1.053e+43\\u003cbr\\u003eRequested Luminosity: 1.059e+43\\u003cbr\\u003eAbsorbed Luminosity: 3.417e+42\"],\"hovertemplate\":\"\\u003cb\\u003eY\\u003c\\u002fb\\u003e: %{y:.3f} at \\u003cb\\u003eX\\u003c\\u002fb\\u003e = %{x:,.0f}%{customdata}\",\"legendgroup\":\"group-15\",\"line\":{\"color\":\"#ffa400\",\"shape\":\"hv\"},\"name\":\"15\",\"x\":[11000.0,11450.000000000002,11900.000000000002,12350.000000000002,12800.000000000002,13250.000000000002,13700.000000000002,14150.000000000002,14600.000000000002,15050.000000000002,15500.000000000002,15950.000000000002,16400.0,16850.0,17300.0,17750.0,18200.0,18650.0,19100.0,19550.0,20000.0],\"y\":[0.4839489656161193,0.3618062130877224,0.29091502763591365,0.2458354726152606,0.20725074455177792,0.18050061388388147,0.16415609857638297,0.14437984693241715,0.12930093466256687,0.11929659161563949,0.11340474191644154,0.10641542212233567,0.10029313585188711,0.09450661081431407,0.09128329339615149,0.0858357379056497,0.08193986649167556,0.07966061032772195,0.07725470102319094,0.07431405273739537,0.07431405273739537],\"type\":\"scatter\",\"uid\":\"97ea1295-3ae7-482b-908f-1a85702910e3\",\"xaxis\":\"x2\",\"yaxis\":\"y2\"},{\"customdata\":[\"\\u003cbr\\u003eEmitted Luminosity: 1.059e+43\\u003cbr\\u003eRequested Luminosity: 1.059e+43\\u003cbr\\u003eAbsorbed Luminosity: 3.445e+42\",\"\\u003cbr\\u003eEmitted Luminosity: 1.059e+43\\u003cbr\\u003eRequested Luminosity: 1.059e+43\\u003cbr\\u003eAbsorbed Luminosity: 3.445e+42\",\"\\u003cbr\\u003eEmitted Luminosity: 1.059e+43\\u003cbr\\u003eRequested Luminosity: 1.059e+43\\u003cbr\\u003eAbsorbed Luminosity: 3.445e+42\",\"\\u003cbr\\u003eEmitted Luminosity: 1.059e+43\\u003cbr\\u003eRequested Luminosity: 1.059e+43\\u003cbr\\u003eAbsorbed Luminosity: 3.445e+42\",\"\\u003cbr\\u003eEmitted Luminosity: 1.059e+43\\u003cbr\\u003eRequested Luminosity: 1.059e+43\\u003cbr\\u003eAbsorbed Luminosity: 3.445e+42\",\"\\u003cbr\\u003eEmitted Luminosity: 1.059e+43\\u003cbr\\u003eRequested Luminosity: 1.059e+43\\u003cbr\\u003eAbsorbed Luminosity: 3.445e+42\",\"\\u003cbr\\u003eEmitted Luminosity: 1.059e+43\\u003cbr\\u003eRequested Luminosity: 1.059e+43\\u003cbr\\u003eAbsorbed Luminosity: 3.445e+42\",\"\\u003cbr\\u003eEmitted Luminosity: 1.059e+43\\u003cbr\\u003eRequested Luminosity: 1.059e+43\\u003cbr\\u003eAbsorbed Luminosity: 3.445e+42\",\"\\u003cbr\\u003eEmitted Luminosity: 1.059e+43\\u003cbr\\u003eRequested Luminosity: 1.059e+43\\u003cbr\\u003eAbsorbed Luminosity: 3.445e+42\",\"\\u003cbr\\u003eEmitted Luminosity: 1.059e+43\\u003cbr\\u003eRequested Luminosity: 1.059e+43\\u003cbr\\u003eAbsorbed Luminosity: 3.445e+42\",\"\\u003cbr\\u003eEmitted Luminosity: 1.059e+43\\u003cbr\\u003eRequested Luminosity: 1.059e+43\\u003cbr\\u003eAbsorbed Luminosity: 3.445e+42\",\"\\u003cbr\\u003eEmitted Luminosity: 1.059e+43\\u003cbr\\u003eRequested Luminosity: 1.059e+43\\u003cbr\\u003eAbsorbed Luminosity: 3.445e+42\",\"\\u003cbr\\u003eEmitted Luminosity: 1.059e+43\\u003cbr\\u003eRequested Luminosity: 1.059e+43\\u003cbr\\u003eAbsorbed Luminosity: 3.445e+42\",\"\\u003cbr\\u003eEmitted Luminosity: 1.059e+43\\u003cbr\\u003eRequested Luminosity: 1.059e+43\\u003cbr\\u003eAbsorbed Luminosity: 3.445e+42\",\"\\u003cbr\\u003eEmitted Luminosity: 1.059e+43\\u003cbr\\u003eRequested Luminosity: 1.059e+43\\u003cbr\\u003eAbsorbed Luminosity: 3.445e+42\",\"\\u003cbr\\u003eEmitted Luminosity: 1.059e+43\\u003cbr\\u003eRequested Luminosity: 1.059e+43\\u003cbr\\u003eAbsorbed Luminosity: 3.445e+42\",\"\\u003cbr\\u003eEmitted Luminosity: 1.059e+43\\u003cbr\\u003eRequested Luminosity: 1.059e+43\\u003cbr\\u003eAbsorbed Luminosity: 3.445e+42\",\"\\u003cbr\\u003eEmitted Luminosity: 1.059e+43\\u003cbr\\u003eRequested Luminosity: 1.059e+43\\u003cbr\\u003eAbsorbed Luminosity: 3.445e+42\",\"\\u003cbr\\u003eEmitted Luminosity: 1.059e+43\\u003cbr\\u003eRequested Luminosity: 1.059e+43\\u003cbr\\u003eAbsorbed Luminosity: 3.445e+42\",\"\\u003cbr\\u003eEmitted Luminosity: 1.059e+43\\u003cbr\\u003eRequested Luminosity: 1.059e+43\\u003cbr\\u003eAbsorbed Luminosity: 3.445e+42\",\"\\u003cbr\\u003eEmitted Luminosity: 1.059e+43\\u003cbr\\u003eRequested Luminosity: 1.059e+43\\u003cbr\\u003eAbsorbed Luminosity: 3.445e+42\"],\"hovertemplate\":\"\\u003cb\\u003eY\\u003c\\u002fb\\u003e: %{y:.3f} at \\u003cb\\u003eX\\u003c\\u002fb\\u003e = %{x:,.0f}%{customdata}\",\"legendgroup\":\"group-16\",\"line\":{\"color\":\"#ff7200\",\"shape\":\"hv\"},\"name\":\"16\",\"showlegend\":false,\"x\":[11000.0,11450.000000000002,11900.000000000002,12350.000000000002,12800.000000000002,13250.000000000002,13700.000000000002,14150.000000000002,14600.000000000002,15050.000000000002,15500.000000000002,15950.000000000002,16400.0,16850.0,17300.0,17750.0,18200.0,18650.0,19100.0,19550.0,20000.0],\"y\":[11042.34717272374,11122.973037201875,11214.476675845324,11336.714091199527,11337.33375640553,11307.076261329586,11262.528844724075,11207.518823856946,11171.681766351441,11058.331353775375,11044.390776027109,10976.33236646292,10821.88548465819,10742.96572450111,10725.75712215059,10644.12611457939,10614.93026932858,10486.427933562274,10417.742463709874,10319.211595958253,10319.211595958253],\"type\":\"scatter\",\"uid\":\"2ada5d7d-6575-40c4-95cd-8fe19ca42703\",\"xaxis\":\"x\",\"yaxis\":\"y\"},{\"customdata\":[\"\\u003cbr\\u003eEmitted Luminosity: 1.059e+43\\u003cbr\\u003eRequested Luminosity: 1.059e+43\\u003cbr\\u003eAbsorbed Luminosity: 3.445e+42\",\"\\u003cbr\\u003eEmitted Luminosity: 1.059e+43\\u003cbr\\u003eRequested Luminosity: 1.059e+43\\u003cbr\\u003eAbsorbed Luminosity: 3.445e+42\",\"\\u003cbr\\u003eEmitted Luminosity: 1.059e+43\\u003cbr\\u003eRequested Luminosity: 1.059e+43\\u003cbr\\u003eAbsorbed Luminosity: 3.445e+42\",\"\\u003cbr\\u003eEmitted Luminosity: 1.059e+43\\u003cbr\\u003eRequested Luminosity: 1.059e+43\\u003cbr\\u003eAbsorbed Luminosity: 3.445e+42\",\"\\u003cbr\\u003eEmitted Luminosity: 1.059e+43\\u003cbr\\u003eRequested Luminosity: 1.059e+43\\u003cbr\\u003eAbsorbed Luminosity: 3.445e+42\",\"\\u003cbr\\u003eEmitted Luminosity: 1.059e+43\\u003cbr\\u003eRequested Luminosity: 1.059e+43\\u003cbr\\u003eAbsorbed Luminosity: 3.445e+42\",\"\\u003cbr\\u003eEmitted Luminosity: 1.059e+43\\u003cbr\\u003eRequested Luminosity: 1.059e+43\\u003cbr\\u003eAbsorbed Luminosity: 3.445e+42\",\"\\u003cbr\\u003eEmitted Luminosity: 1.059e+43\\u003cbr\\u003eRequested Luminosity: 1.059e+43\\u003cbr\\u003eAbsorbed Luminosity: 3.445e+42\",\"\\u003cbr\\u003eEmitted Luminosity: 1.059e+43\\u003cbr\\u003eRequested Luminosity: 1.059e+43\\u003cbr\\u003eAbsorbed Luminosity: 3.445e+42\",\"\\u003cbr\\u003eEmitted Luminosity: 1.059e+43\\u003cbr\\u003eRequested Luminosity: 1.059e+43\\u003cbr\\u003eAbsorbed Luminosity: 3.445e+42\",\"\\u003cbr\\u003eEmitted Luminosity: 1.059e+43\\u003cbr\\u003eRequested Luminosity: 1.059e+43\\u003cbr\\u003eAbsorbed Luminosity: 3.445e+42\",\"\\u003cbr\\u003eEmitted Luminosity: 1.059e+43\\u003cbr\\u003eRequested Luminosity: 1.059e+43\\u003cbr\\u003eAbsorbed Luminosity: 3.445e+42\",\"\\u003cbr\\u003eEmitted Luminosity: 1.059e+43\\u003cbr\\u003eRequested Luminosity: 1.059e+43\\u003cbr\\u003eAbsorbed Luminosity: 3.445e+42\",\"\\u003cbr\\u003eEmitted Luminosity: 1.059e+43\\u003cbr\\u003eRequested Luminosity: 1.059e+43\\u003cbr\\u003eAbsorbed Luminosity: 3.445e+42\",\"\\u003cbr\\u003eEmitted Luminosity: 1.059e+43\\u003cbr\\u003eRequested Luminosity: 1.059e+43\\u003cbr\\u003eAbsorbed Luminosity: 3.445e+42\",\"\\u003cbr\\u003eEmitted Luminosity: 1.059e+43\\u003cbr\\u003eRequested Luminosity: 1.059e+43\\u003cbr\\u003eAbsorbed Luminosity: 3.445e+42\",\"\\u003cbr\\u003eEmitted Luminosity: 1.059e+43\\u003cbr\\u003eRequested Luminosity: 1.059e+43\\u003cbr\\u003eAbsorbed Luminosity: 3.445e+42\",\"\\u003cbr\\u003eEmitted Luminosity: 1.059e+43\\u003cbr\\u003eRequested Luminosity: 1.059e+43\\u003cbr\\u003eAbsorbed Luminosity: 3.445e+42\",\"\\u003cbr\\u003eEmitted Luminosity: 1.059e+43\\u003cbr\\u003eRequested Luminosity: 1.059e+43\\u003cbr\\u003eAbsorbed Luminosity: 3.445e+42\",\"\\u003cbr\\u003eEmitted Luminosity: 1.059e+43\\u003cbr\\u003eRequested Luminosity: 1.059e+43\\u003cbr\\u003eAbsorbed Luminosity: 3.445e+42\",\"\\u003cbr\\u003eEmitted Luminosity: 1.059e+43\\u003cbr\\u003eRequested Luminosity: 1.059e+43\\u003cbr\\u003eAbsorbed Luminosity: 3.445e+42\"],\"hovertemplate\":\"\\u003cb\\u003eY\\u003c\\u002fb\\u003e: %{y:.3f} at \\u003cb\\u003eX\\u003c\\u002fb\\u003e = %{x:,.0f}%{customdata}\",\"legendgroup\":\"group-16\",\"line\":{\"color\":\"#ff7200\",\"shape\":\"hv\"},\"name\":\"16\",\"x\":[11000.0,11450.000000000002,11900.000000000002,12350.000000000002,12800.000000000002,13250.000000000002,13700.000000000002,14150.000000000002,14600.000000000002,15050.000000000002,15500.000000000002,15950.000000000002,16400.0,16850.0,17300.0,17750.0,18200.0,18650.0,19100.0,19550.0,20000.0],\"y\":[0.47247373752194116,0.3620393874707267,0.2890816320248054,0.2353911418572597,0.2018308300714358,0.17676165818853193,0.1580065066475628,0.14388846834550842,0.13114228630278826,0.12300144214610564,0.11277399124395596,0.10539713038752858,0.10147886711690296,0.09667081343562195,0.09030685715510055,0.08580146888935954,0.08122763475653569,0.0791214869919475,0.07595030678843889,0.07373499783026344,0.07373499783026344],\"type\":\"scatter\",\"uid\":\"d383d1ff-19bb-4b1c-bfc2-d2f82ba5fd19\",\"xaxis\":\"x2\",\"yaxis\":\"y2\"},{\"customdata\":[\"\\u003cbr\\u003eEmitted Luminosity: 1.067e+43\\u003cbr\\u003eRequested Luminosity: 1.059e+43\\u003cbr\\u003eAbsorbed Luminosity: 3.372e+42\",\"\\u003cbr\\u003eEmitted Luminosity: 1.067e+43\\u003cbr\\u003eRequested Luminosity: 1.059e+43\\u003cbr\\u003eAbsorbed Luminosity: 3.372e+42\",\"\\u003cbr\\u003eEmitted Luminosity: 1.067e+43\\u003cbr\\u003eRequested Luminosity: 1.059e+43\\u003cbr\\u003eAbsorbed Luminosity: 3.372e+42\",\"\\u003cbr\\u003eEmitted Luminosity: 1.067e+43\\u003cbr\\u003eRequested Luminosity: 1.059e+43\\u003cbr\\u003eAbsorbed Luminosity: 3.372e+42\",\"\\u003cbr\\u003eEmitted Luminosity: 1.067e+43\\u003cbr\\u003eRequested Luminosity: 1.059e+43\\u003cbr\\u003eAbsorbed Luminosity: 3.372e+42\",\"\\u003cbr\\u003eEmitted Luminosity: 1.067e+43\\u003cbr\\u003eRequested Luminosity: 1.059e+43\\u003cbr\\u003eAbsorbed Luminosity: 3.372e+42\",\"\\u003cbr\\u003eEmitted Luminosity: 1.067e+43\\u003cbr\\u003eRequested Luminosity: 1.059e+43\\u003cbr\\u003eAbsorbed Luminosity: 3.372e+42\",\"\\u003cbr\\u003eEmitted Luminosity: 1.067e+43\\u003cbr\\u003eRequested Luminosity: 1.059e+43\\u003cbr\\u003eAbsorbed Luminosity: 3.372e+42\",\"\\u003cbr\\u003eEmitted Luminosity: 1.067e+43\\u003cbr\\u003eRequested Luminosity: 1.059e+43\\u003cbr\\u003eAbsorbed Luminosity: 3.372e+42\",\"\\u003cbr\\u003eEmitted Luminosity: 1.067e+43\\u003cbr\\u003eRequested Luminosity: 1.059e+43\\u003cbr\\u003eAbsorbed Luminosity: 3.372e+42\",\"\\u003cbr\\u003eEmitted Luminosity: 1.067e+43\\u003cbr\\u003eRequested Luminosity: 1.059e+43\\u003cbr\\u003eAbsorbed Luminosity: 3.372e+42\",\"\\u003cbr\\u003eEmitted Luminosity: 1.067e+43\\u003cbr\\u003eRequested Luminosity: 1.059e+43\\u003cbr\\u003eAbsorbed Luminosity: 3.372e+42\",\"\\u003cbr\\u003eEmitted Luminosity: 1.067e+43\\u003cbr\\u003eRequested Luminosity: 1.059e+43\\u003cbr\\u003eAbsorbed Luminosity: 3.372e+42\",\"\\u003cbr\\u003eEmitted Luminosity: 1.067e+43\\u003cbr\\u003eRequested Luminosity: 1.059e+43\\u003cbr\\u003eAbsorbed Luminosity: 3.372e+42\",\"\\u003cbr\\u003eEmitted Luminosity: 1.067e+43\\u003cbr\\u003eRequested Luminosity: 1.059e+43\\u003cbr\\u003eAbsorbed Luminosity: 3.372e+42\",\"\\u003cbr\\u003eEmitted Luminosity: 1.067e+43\\u003cbr\\u003eRequested Luminosity: 1.059e+43\\u003cbr\\u003eAbsorbed Luminosity: 3.372e+42\",\"\\u003cbr\\u003eEmitted Luminosity: 1.067e+43\\u003cbr\\u003eRequested Luminosity: 1.059e+43\\u003cbr\\u003eAbsorbed Luminosity: 3.372e+42\",\"\\u003cbr\\u003eEmitted Luminosity: 1.067e+43\\u003cbr\\u003eRequested Luminosity: 1.059e+43\\u003cbr\\u003eAbsorbed Luminosity: 3.372e+42\",\"\\u003cbr\\u003eEmitted Luminosity: 1.067e+43\\u003cbr\\u003eRequested Luminosity: 1.059e+43\\u003cbr\\u003eAbsorbed Luminosity: 3.372e+42\",\"\\u003cbr\\u003eEmitted Luminosity: 1.067e+43\\u003cbr\\u003eRequested Luminosity: 1.059e+43\\u003cbr\\u003eAbsorbed Luminosity: 3.372e+42\",\"\\u003cbr\\u003eEmitted Luminosity: 1.067e+43\\u003cbr\\u003eRequested Luminosity: 1.059e+43\\u003cbr\\u003eAbsorbed Luminosity: 3.372e+42\"],\"hovertemplate\":\"\\u003cb\\u003eY\\u003c\\u002fb\\u003e: %{y:.3f} at \\u003cb\\u003eX\\u003c\\u002fb\\u003e = %{x:,.0f}%{customdata}\",\"legendgroup\":\"group-17\",\"line\":{\"color\":\"#ff4000\",\"shape\":\"hv\"},\"name\":\"17\",\"showlegend\":false,\"x\":[11000.0,11450.000000000002,11900.000000000002,12350.000000000002,12800.000000000002,13250.000000000002,13700.000000000002,14150.000000000002,14600.000000000002,15050.000000000002,15500.000000000002,15950.000000000002,16400.0,16850.0,17300.0,17750.0,18200.0,18650.0,19100.0,19550.0,20000.0],\"y\":[11061.104094222746,11239.559981419936,11281.8366678745,11287.12968336274,11328.913172314422,11369.434920562884,11306.699883253521,11287.274234267401,11280.819840447937,11215.609120286603,11108.666525976649,11024.6671978781,10941.486197960681,10940.861997982918,10919.379371409255,10824.561557880073,10688.400325930335,10602.127733344932,10514.758739296209,10409.71964209904,10409.71964209904],\"type\":\"scatter\",\"uid\":\"5f55ecb2-87e1-4279-8053-fcf309f21f85\",\"xaxis\":\"x\",\"yaxis\":\"y\"},{\"customdata\":[\"\\u003cbr\\u003eEmitted Luminosity: 1.067e+43\\u003cbr\\u003eRequested Luminosity: 1.059e+43\\u003cbr\\u003eAbsorbed Luminosity: 3.372e+42\",\"\\u003cbr\\u003eEmitted Luminosity: 1.067e+43\\u003cbr\\u003eRequested Luminosity: 1.059e+43\\u003cbr\\u003eAbsorbed Luminosity: 3.372e+42\",\"\\u003cbr\\u003eEmitted Luminosity: 1.067e+43\\u003cbr\\u003eRequested Luminosity: 1.059e+43\\u003cbr\\u003eAbsorbed Luminosity: 3.372e+42\",\"\\u003cbr\\u003eEmitted Luminosity: 1.067e+43\\u003cbr\\u003eRequested Luminosity: 1.059e+43\\u003cbr\\u003eAbsorbed Luminosity: 3.372e+42\",\"\\u003cbr\\u003eEmitted Luminosity: 1.067e+43\\u003cbr\\u003eRequested Luminosity: 1.059e+43\\u003cbr\\u003eAbsorbed Luminosity: 3.372e+42\",\"\\u003cbr\\u003eEmitted Luminosity: 1.067e+43\\u003cbr\\u003eRequested Luminosity: 1.059e+43\\u003cbr\\u003eAbsorbed Luminosity: 3.372e+42\",\"\\u003cbr\\u003eEmitted Luminosity: 1.067e+43\\u003cbr\\u003eRequested Luminosity: 1.059e+43\\u003cbr\\u003eAbsorbed Luminosity: 3.372e+42\",\"\\u003cbr\\u003eEmitted Luminosity: 1.067e+43\\u003cbr\\u003eRequested Luminosity: 1.059e+43\\u003cbr\\u003eAbsorbed Luminosity: 3.372e+42\",\"\\u003cbr\\u003eEmitted Luminosity: 1.067e+43\\u003cbr\\u003eRequested Luminosity: 1.059e+43\\u003cbr\\u003eAbsorbed Luminosity: 3.372e+42\",\"\\u003cbr\\u003eEmitted Luminosity: 1.067e+43\\u003cbr\\u003eRequested Luminosity: 1.059e+43\\u003cbr\\u003eAbsorbed Luminosity: 3.372e+42\",\"\\u003cbr\\u003eEmitted Luminosity: 1.067e+43\\u003cbr\\u003eRequested Luminosity: 1.059e+43\\u003cbr\\u003eAbsorbed Luminosity: 3.372e+42\",\"\\u003cbr\\u003eEmitted Luminosity: 1.067e+43\\u003cbr\\u003eRequested Luminosity: 1.059e+43\\u003cbr\\u003eAbsorbed Luminosity: 3.372e+42\",\"\\u003cbr\\u003eEmitted Luminosity: 1.067e+43\\u003cbr\\u003eRequested Luminosity: 1.059e+43\\u003cbr\\u003eAbsorbed Luminosity: 3.372e+42\",\"\\u003cbr\\u003eEmitted Luminosity: 1.067e+43\\u003cbr\\u003eRequested Luminosity: 1.059e+43\\u003cbr\\u003eAbsorbed Luminosity: 3.372e+42\",\"\\u003cbr\\u003eEmitted Luminosity: 1.067e+43\\u003cbr\\u003eRequested Luminosity: 1.059e+43\\u003cbr\\u003eAbsorbed Luminosity: 3.372e+42\",\"\\u003cbr\\u003eEmitted Luminosity: 1.067e+43\\u003cbr\\u003eRequested Luminosity: 1.059e+43\\u003cbr\\u003eAbsorbed Luminosity: 3.372e+42\",\"\\u003cbr\\u003eEmitted Luminosity: 1.067e+43\\u003cbr\\u003eRequested Luminosity: 1.059e+43\\u003cbr\\u003eAbsorbed Luminosity: 3.372e+42\",\"\\u003cbr\\u003eEmitted Luminosity: 1.067e+43\\u003cbr\\u003eRequested Luminosity: 1.059e+43\\u003cbr\\u003eAbsorbed Luminosity: 3.372e+42\",\"\\u003cbr\\u003eEmitted Luminosity: 1.067e+43\\u003cbr\\u003eRequested Luminosity: 1.059e+43\\u003cbr\\u003eAbsorbed Luminosity: 3.372e+42\",\"\\u003cbr\\u003eEmitted Luminosity: 1.067e+43\\u003cbr\\u003eRequested Luminosity: 1.059e+43\\u003cbr\\u003eAbsorbed Luminosity: 3.372e+42\",\"\\u003cbr\\u003eEmitted Luminosity: 1.067e+43\\u003cbr\\u003eRequested Luminosity: 1.059e+43\\u003cbr\\u003eAbsorbed Luminosity: 3.372e+42\"],\"hovertemplate\":\"\\u003cb\\u003eY\\u003c\\u002fb\\u003e: %{y:.3f} at \\u003cb\\u003eX\\u003c\\u002fb\\u003e = %{x:,.0f}%{customdata}\",\"legendgroup\":\"group-17\",\"line\":{\"color\":\"#ff4000\",\"shape\":\"hv\"},\"name\":\"17\",\"x\":[11000.0,11450.000000000002,11900.000000000002,12350.000000000002,12800.000000000002,13250.000000000002,13700.000000000002,14150.000000000002,14600.000000000002,15050.000000000002,15500.000000000002,15950.000000000002,16400.0,16850.0,17300.0,17750.0,18200.0,18650.0,19100.0,19550.0,20000.0],\"y\":[0.46804430540891645,0.34723475808734106,0.2836200023918077,0.24021190278159624,0.2042747005396185,0.17542992782803593,0.15711545955454173,0.14083908157267394,0.1266597312271289,0.11702302794897879,0.11040994489760653,0.10363904300376087,0.09816132345096966,0.09078706955631244,0.0847971152108348,0.08159847452703327,0.07953048480286481,0.0763091082134448,0.07363747785845534,0.07179028233909256,0.07179028233909256],\"type\":\"scatter\",\"uid\":\"9a400bc8-7e9d-4e18-8f17-af0f954fc7fd\",\"xaxis\":\"x2\",\"yaxis\":\"y2\"},{\"customdata\":[\"\\u003cbr\\u003eEmitted Luminosity: 1.057e+43\\u003cbr\\u003eRequested Luminosity: 1.059e+43\\u003cbr\\u003eAbsorbed Luminosity: 3.365e+42\",\"\\u003cbr\\u003eEmitted Luminosity: 1.057e+43\\u003cbr\\u003eRequested Luminosity: 1.059e+43\\u003cbr\\u003eAbsorbed Luminosity: 3.365e+42\",\"\\u003cbr\\u003eEmitted Luminosity: 1.057e+43\\u003cbr\\u003eRequested Luminosity: 1.059e+43\\u003cbr\\u003eAbsorbed Luminosity: 3.365e+42\",\"\\u003cbr\\u003eEmitted Luminosity: 1.057e+43\\u003cbr\\u003eRequested Luminosity: 1.059e+43\\u003cbr\\u003eAbsorbed Luminosity: 3.365e+42\",\"\\u003cbr\\u003eEmitted Luminosity: 1.057e+43\\u003cbr\\u003eRequested Luminosity: 1.059e+43\\u003cbr\\u003eAbsorbed Luminosity: 3.365e+42\",\"\\u003cbr\\u003eEmitted Luminosity: 1.057e+43\\u003cbr\\u003eRequested Luminosity: 1.059e+43\\u003cbr\\u003eAbsorbed Luminosity: 3.365e+42\",\"\\u003cbr\\u003eEmitted Luminosity: 1.057e+43\\u003cbr\\u003eRequested Luminosity: 1.059e+43\\u003cbr\\u003eAbsorbed Luminosity: 3.365e+42\",\"\\u003cbr\\u003eEmitted Luminosity: 1.057e+43\\u003cbr\\u003eRequested Luminosity: 1.059e+43\\u003cbr\\u003eAbsorbed Luminosity: 3.365e+42\",\"\\u003cbr\\u003eEmitted Luminosity: 1.057e+43\\u003cbr\\u003eRequested Luminosity: 1.059e+43\\u003cbr\\u003eAbsorbed Luminosity: 3.365e+42\",\"\\u003cbr\\u003eEmitted Luminosity: 1.057e+43\\u003cbr\\u003eRequested Luminosity: 1.059e+43\\u003cbr\\u003eAbsorbed Luminosity: 3.365e+42\",\"\\u003cbr\\u003eEmitted Luminosity: 1.057e+43\\u003cbr\\u003eRequested Luminosity: 1.059e+43\\u003cbr\\u003eAbsorbed Luminosity: 3.365e+42\",\"\\u003cbr\\u003eEmitted Luminosity: 1.057e+43\\u003cbr\\u003eRequested Luminosity: 1.059e+43\\u003cbr\\u003eAbsorbed Luminosity: 3.365e+42\",\"\\u003cbr\\u003eEmitted Luminosity: 1.057e+43\\u003cbr\\u003eRequested Luminosity: 1.059e+43\\u003cbr\\u003eAbsorbed Luminosity: 3.365e+42\",\"\\u003cbr\\u003eEmitted Luminosity: 1.057e+43\\u003cbr\\u003eRequested Luminosity: 1.059e+43\\u003cbr\\u003eAbsorbed Luminosity: 3.365e+42\",\"\\u003cbr\\u003eEmitted Luminosity: 1.057e+43\\u003cbr\\u003eRequested Luminosity: 1.059e+43\\u003cbr\\u003eAbsorbed Luminosity: 3.365e+42\",\"\\u003cbr\\u003eEmitted Luminosity: 1.057e+43\\u003cbr\\u003eRequested Luminosity: 1.059e+43\\u003cbr\\u003eAbsorbed Luminosity: 3.365e+42\",\"\\u003cbr\\u003eEmitted Luminosity: 1.057e+43\\u003cbr\\u003eRequested Luminosity: 1.059e+43\\u003cbr\\u003eAbsorbed Luminosity: 3.365e+42\",\"\\u003cbr\\u003eEmitted Luminosity: 1.057e+43\\u003cbr\\u003eRequested Luminosity: 1.059e+43\\u003cbr\\u003eAbsorbed Luminosity: 3.365e+42\",\"\\u003cbr\\u003eEmitted Luminosity: 1.057e+43\\u003cbr\\u003eRequested Luminosity: 1.059e+43\\u003cbr\\u003eAbsorbed Luminosity: 3.365e+42\",\"\\u003cbr\\u003eEmitted Luminosity: 1.057e+43\\u003cbr\\u003eRequested Luminosity: 1.059e+43\\u003cbr\\u003eAbsorbed Luminosity: 3.365e+42\",\"\\u003cbr\\u003eEmitted Luminosity: 1.057e+43\\u003cbr\\u003eRequested Luminosity: 1.059e+43\\u003cbr\\u003eAbsorbed Luminosity: 3.365e+42\"],\"hovertemplate\":\"\\u003cb\\u003eY\\u003c\\u002fb\\u003e: %{y:.3f} at \\u003cb\\u003eX\\u003c\\u002fb\\u003e = %{x:,.0f}%{customdata}\",\"legendgroup\":\"group-18\",\"line\":{\"color\":\"#fa0e00\",\"shape\":\"hv\"},\"name\":\"18\",\"showlegend\":false,\"x\":[11000.0,11450.000000000002,11900.000000000002,12350.000000000002,12800.000000000002,13250.000000000002,13700.000000000002,14150.000000000002,14600.000000000002,15050.000000000002,15500.000000000002,15950.000000000002,16400.0,16850.0,17300.0,17750.0,18200.0,18650.0,19100.0,19550.0,20000.0],\"y\":[11069.193823700829,11144.0332062199,11213.390462097459,11305.728531756531,11285.266184353548,11323.781974402673,11271.173666875118,11265.745450084156,11172.683228067439,11091.044477502079,11030.940701284288,10992.910316594733,10907.845154495493,10860.34388510319,10754.598368722305,10675.60660881498,10611.908848638635,10526.402210396003,10470.935047886105,10349.22810317361,10349.22810317361],\"type\":\"scatter\",\"uid\":\"f0421089-fd3e-4444-8176-579973bcc512\",\"xaxis\":\"x\",\"yaxis\":\"y\"},{\"customdata\":[\"\\u003cbr\\u003eEmitted Luminosity: 1.057e+43\\u003cbr\\u003eRequested Luminosity: 1.059e+43\\u003cbr\\u003eAbsorbed Luminosity: 3.365e+42\",\"\\u003cbr\\u003eEmitted Luminosity: 1.057e+43\\u003cbr\\u003eRequested Luminosity: 1.059e+43\\u003cbr\\u003eAbsorbed Luminosity: 3.365e+42\",\"\\u003cbr\\u003eEmitted Luminosity: 1.057e+43\\u003cbr\\u003eRequested Luminosity: 1.059e+43\\u003cbr\\u003eAbsorbed Luminosity: 3.365e+42\",\"\\u003cbr\\u003eEmitted Luminosity: 1.057e+43\\u003cbr\\u003eRequested Luminosity: 1.059e+43\\u003cbr\\u003eAbsorbed Luminosity: 3.365e+42\",\"\\u003cbr\\u003eEmitted Luminosity: 1.057e+43\\u003cbr\\u003eRequested Luminosity: 1.059e+43\\u003cbr\\u003eAbsorbed Luminosity: 3.365e+42\",\"\\u003cbr\\u003eEmitted Luminosity: 1.057e+43\\u003cbr\\u003eRequested Luminosity: 1.059e+43\\u003cbr\\u003eAbsorbed Luminosity: 3.365e+42\",\"\\u003cbr\\u003eEmitted Luminosity: 1.057e+43\\u003cbr\\u003eRequested Luminosity: 1.059e+43\\u003cbr\\u003eAbsorbed Luminosity: 3.365e+42\",\"\\u003cbr\\u003eEmitted Luminosity: 1.057e+43\\u003cbr\\u003eRequested Luminosity: 1.059e+43\\u003cbr\\u003eAbsorbed Luminosity: 3.365e+42\",\"\\u003cbr\\u003eEmitted Luminosity: 1.057e+43\\u003cbr\\u003eRequested Luminosity: 1.059e+43\\u003cbr\\u003eAbsorbed Luminosity: 3.365e+42\",\"\\u003cbr\\u003eEmitted Luminosity: 1.057e+43\\u003cbr\\u003eRequested Luminosity: 1.059e+43\\u003cbr\\u003eAbsorbed Luminosity: 3.365e+42\",\"\\u003cbr\\u003eEmitted Luminosity: 1.057e+43\\u003cbr\\u003eRequested Luminosity: 1.059e+43\\u003cbr\\u003eAbsorbed Luminosity: 3.365e+42\",\"\\u003cbr\\u003eEmitted Luminosity: 1.057e+43\\u003cbr\\u003eRequested Luminosity: 1.059e+43\\u003cbr\\u003eAbsorbed Luminosity: 3.365e+42\",\"\\u003cbr\\u003eEmitted Luminosity: 1.057e+43\\u003cbr\\u003eRequested Luminosity: 1.059e+43\\u003cbr\\u003eAbsorbed Luminosity: 3.365e+42\",\"\\u003cbr\\u003eEmitted Luminosity: 1.057e+43\\u003cbr\\u003eRequested Luminosity: 1.059e+43\\u003cbr\\u003eAbsorbed Luminosity: 3.365e+42\",\"\\u003cbr\\u003eEmitted Luminosity: 1.057e+43\\u003cbr\\u003eRequested Luminosity: 1.059e+43\\u003cbr\\u003eAbsorbed Luminosity: 3.365e+42\",\"\\u003cbr\\u003eEmitted Luminosity: 1.057e+43\\u003cbr\\u003eRequested Luminosity: 1.059e+43\\u003cbr\\u003eAbsorbed Luminosity: 3.365e+42\",\"\\u003cbr\\u003eEmitted Luminosity: 1.057e+43\\u003cbr\\u003eRequested Luminosity: 1.059e+43\\u003cbr\\u003eAbsorbed Luminosity: 3.365e+42\",\"\\u003cbr\\u003eEmitted Luminosity: 1.057e+43\\u003cbr\\u003eRequested Luminosity: 1.059e+43\\u003cbr\\u003eAbsorbed Luminosity: 3.365e+42\",\"\\u003cbr\\u003eEmitted Luminosity: 1.057e+43\\u003cbr\\u003eRequested Luminosity: 1.059e+43\\u003cbr\\u003eAbsorbed Luminosity: 3.365e+42\",\"\\u003cbr\\u003eEmitted Luminosity: 1.057e+43\\u003cbr\\u003eRequested Luminosity: 1.059e+43\\u003cbr\\u003eAbsorbed Luminosity: 3.365e+42\",\"\\u003cbr\\u003eEmitted Luminosity: 1.057e+43\\u003cbr\\u003eRequested Luminosity: 1.059e+43\\u003cbr\\u003eAbsorbed Luminosity: 3.365e+42\"],\"hovertemplate\":\"\\u003cb\\u003eY\\u003c\\u002fb\\u003e: %{y:.3f} at \\u003cb\\u003eX\\u003c\\u002fb\\u003e = %{x:,.0f}%{customdata}\",\"legendgroup\":\"group-18\",\"line\":{\"color\":\"#fa0e00\",\"shape\":\"hv\"},\"name\":\"18\",\"x\":[11000.0,11450.000000000002,11900.000000000002,12350.000000000002,12800.000000000002,13250.000000000002,13700.000000000002,14150.000000000002,14600.000000000002,15050.000000000002,15500.000000000002,15950.000000000002,16400.0,16850.0,17300.0,17750.0,18200.0,18650.0,19100.0,19550.0,20000.0],\"y\":[0.46397150928259623,0.35561237496389,0.28682866589375683,0.23621024823808548,0.2060826346871986,0.17691635421177168,0.15906281669924743,0.1420294970848097,0.13175074456827815,0.1221220567057573,0.11300865795975883,0.10531621306129177,0.0991745758945335,0.09274654004815967,0.08897179267639928,0.08478992203293992,0.08135082266812912,0.07813940112787358,0.07443394184577495,0.07303258810237398,0.07303258810237398],\"type\":\"scatter\",\"uid\":\"c659ab00-f964-4a35-8ce1-47a648a81cbd\",\"xaxis\":\"x2\",\"yaxis\":\"y2\"},{\"customdata\":[\"\\u003cbr\\u003eEmitted Luminosity: 1.056e+43\\u003cbr\\u003eRequested Luminosity: 1.059e+43\\u003cbr\\u003eAbsorbed Luminosity: 3.405e+42\",\"\\u003cbr\\u003eEmitted Luminosity: 1.056e+43\\u003cbr\\u003eRequested Luminosity: 1.059e+43\\u003cbr\\u003eAbsorbed Luminosity: 3.405e+42\",\"\\u003cbr\\u003eEmitted Luminosity: 1.056e+43\\u003cbr\\u003eRequested Luminosity: 1.059e+43\\u003cbr\\u003eAbsorbed Luminosity: 3.405e+42\",\"\\u003cbr\\u003eEmitted Luminosity: 1.056e+43\\u003cbr\\u003eRequested Luminosity: 1.059e+43\\u003cbr\\u003eAbsorbed Luminosity: 3.405e+42\",\"\\u003cbr\\u003eEmitted Luminosity: 1.056e+43\\u003cbr\\u003eRequested Luminosity: 1.059e+43\\u003cbr\\u003eAbsorbed Luminosity: 3.405e+42\",\"\\u003cbr\\u003eEmitted Luminosity: 1.056e+43\\u003cbr\\u003eRequested Luminosity: 1.059e+43\\u003cbr\\u003eAbsorbed Luminosity: 3.405e+42\",\"\\u003cbr\\u003eEmitted Luminosity: 1.056e+43\\u003cbr\\u003eRequested Luminosity: 1.059e+43\\u003cbr\\u003eAbsorbed Luminosity: 3.405e+42\",\"\\u003cbr\\u003eEmitted Luminosity: 1.056e+43\\u003cbr\\u003eRequested Luminosity: 1.059e+43\\u003cbr\\u003eAbsorbed Luminosity: 3.405e+42\",\"\\u003cbr\\u003eEmitted Luminosity: 1.056e+43\\u003cbr\\u003eRequested Luminosity: 1.059e+43\\u003cbr\\u003eAbsorbed Luminosity: 3.405e+42\",\"\\u003cbr\\u003eEmitted Luminosity: 1.056e+43\\u003cbr\\u003eRequested Luminosity: 1.059e+43\\u003cbr\\u003eAbsorbed Luminosity: 3.405e+42\",\"\\u003cbr\\u003eEmitted Luminosity: 1.056e+43\\u003cbr\\u003eRequested Luminosity: 1.059e+43\\u003cbr\\u003eAbsorbed Luminosity: 3.405e+42\",\"\\u003cbr\\u003eEmitted Luminosity: 1.056e+43\\u003cbr\\u003eRequested Luminosity: 1.059e+43\\u003cbr\\u003eAbsorbed Luminosity: 3.405e+42\",\"\\u003cbr\\u003eEmitted Luminosity: 1.056e+43\\u003cbr\\u003eRequested Luminosity: 1.059e+43\\u003cbr\\u003eAbsorbed Luminosity: 3.405e+42\",\"\\u003cbr\\u003eEmitted Luminosity: 1.056e+43\\u003cbr\\u003eRequested Luminosity: 1.059e+43\\u003cbr\\u003eAbsorbed Luminosity: 3.405e+42\",\"\\u003cbr\\u003eEmitted Luminosity: 1.056e+43\\u003cbr\\u003eRequested Luminosity: 1.059e+43\\u003cbr\\u003eAbsorbed Luminosity: 3.405e+42\",\"\\u003cbr\\u003eEmitted Luminosity: 1.056e+43\\u003cbr\\u003eRequested Luminosity: 1.059e+43\\u003cbr\\u003eAbsorbed Luminosity: 3.405e+42\",\"\\u003cbr\\u003eEmitted Luminosity: 1.056e+43\\u003cbr\\u003eRequested Luminosity: 1.059e+43\\u003cbr\\u003eAbsorbed Luminosity: 3.405e+42\",\"\\u003cbr\\u003eEmitted Luminosity: 1.056e+43\\u003cbr\\u003eRequested Luminosity: 1.059e+43\\u003cbr\\u003eAbsorbed Luminosity: 3.405e+42\",\"\\u003cbr\\u003eEmitted Luminosity: 1.056e+43\\u003cbr\\u003eRequested Luminosity: 1.059e+43\\u003cbr\\u003eAbsorbed Luminosity: 3.405e+42\",\"\\u003cbr\\u003eEmitted Luminosity: 1.056e+43\\u003cbr\\u003eRequested Luminosity: 1.059e+43\\u003cbr\\u003eAbsorbed Luminosity: 3.405e+42\",\"\\u003cbr\\u003eEmitted Luminosity: 1.056e+43\\u003cbr\\u003eRequested Luminosity: 1.059e+43\\u003cbr\\u003eAbsorbed Luminosity: 3.405e+42\"],\"hovertemplate\":\"\\u003cb\\u003eY\\u003c\\u002fb\\u003e: %{y:.3f} at \\u003cb\\u003eX\\u003c\\u002fb\\u003e = %{x:,.0f}%{customdata}\",\"legendgroup\":\"group-19\",\"line\":{\"color\":\"#bd0000\",\"shape\":\"hv\"},\"name\":\"19\",\"showlegend\":false,\"x\":[11000.0,11450.000000000002,11900.000000000002,12350.000000000002,12800.000000000002,13250.000000000002,13700.000000000002,14150.000000000002,14600.000000000002,15050.000000000002,15500.000000000002,15950.000000000002,16400.0,16850.0,17300.0,17750.0,18200.0,18650.0,19100.0,19550.0,20000.0],\"y\":[11069.330893770863,11165.15751924344,11272.627837715214,11372.452252396053,11332.028068812171,11329.643567195646,11294.518651044014,11261.568932482725,11241.478129258157,11148.97525325474,11071.529176484044,11004.685602078382,10946.399791590655,10861.427440620533,10784.478937100243,10655.55794227074,10586.119093865127,10567.99674920148,10435.711203887155,10305.706316399623,10305.706316399623],\"type\":\"scatter\",\"uid\":\"0601e031-c660-469b-9945-341d7399a012\",\"xaxis\":\"x\",\"yaxis\":\"y\"},{\"customdata\":[\"\\u003cbr\\u003eEmitted Luminosity: 1.056e+43\\u003cbr\\u003eRequested Luminosity: 1.059e+43\\u003cbr\\u003eAbsorbed Luminosity: 3.405e+42\",\"\\u003cbr\\u003eEmitted Luminosity: 1.056e+43\\u003cbr\\u003eRequested Luminosity: 1.059e+43\\u003cbr\\u003eAbsorbed Luminosity: 3.405e+42\",\"\\u003cbr\\u003eEmitted Luminosity: 1.056e+43\\u003cbr\\u003eRequested Luminosity: 1.059e+43\\u003cbr\\u003eAbsorbed Luminosity: 3.405e+42\",\"\\u003cbr\\u003eEmitted Luminosity: 1.056e+43\\u003cbr\\u003eRequested Luminosity: 1.059e+43\\u003cbr\\u003eAbsorbed Luminosity: 3.405e+42\",\"\\u003cbr\\u003eEmitted Luminosity: 1.056e+43\\u003cbr\\u003eRequested Luminosity: 1.059e+43\\u003cbr\\u003eAbsorbed Luminosity: 3.405e+42\",\"\\u003cbr\\u003eEmitted Luminosity: 1.056e+43\\u003cbr\\u003eRequested Luminosity: 1.059e+43\\u003cbr\\u003eAbsorbed Luminosity: 3.405e+42\",\"\\u003cbr\\u003eEmitted Luminosity: 1.056e+43\\u003cbr\\u003eRequested Luminosity: 1.059e+43\\u003cbr\\u003eAbsorbed Luminosity: 3.405e+42\",\"\\u003cbr\\u003eEmitted Luminosity: 1.056e+43\\u003cbr\\u003eRequested Luminosity: 1.059e+43\\u003cbr\\u003eAbsorbed Luminosity: 3.405e+42\",\"\\u003cbr\\u003eEmitted Luminosity: 1.056e+43\\u003cbr\\u003eRequested Luminosity: 1.059e+43\\u003cbr\\u003eAbsorbed Luminosity: 3.405e+42\",\"\\u003cbr\\u003eEmitted Luminosity: 1.056e+43\\u003cbr\\u003eRequested Luminosity: 1.059e+43\\u003cbr\\u003eAbsorbed Luminosity: 3.405e+42\",\"\\u003cbr\\u003eEmitted Luminosity: 1.056e+43\\u003cbr\\u003eRequested Luminosity: 1.059e+43\\u003cbr\\u003eAbsorbed Luminosity: 3.405e+42\",\"\\u003cbr\\u003eEmitted Luminosity: 1.056e+43\\u003cbr\\u003eRequested Luminosity: 1.059e+43\\u003cbr\\u003eAbsorbed Luminosity: 3.405e+42\",\"\\u003cbr\\u003eEmitted Luminosity: 1.056e+43\\u003cbr\\u003eRequested Luminosity: 1.059e+43\\u003cbr\\u003eAbsorbed Luminosity: 3.405e+42\",\"\\u003cbr\\u003eEmitted Luminosity: 1.056e+43\\u003cbr\\u003eRequested Luminosity: 1.059e+43\\u003cbr\\u003eAbsorbed Luminosity: 3.405e+42\",\"\\u003cbr\\u003eEmitted Luminosity: 1.056e+43\\u003cbr\\u003eRequested Luminosity: 1.059e+43\\u003cbr\\u003eAbsorbed Luminosity: 3.405e+42\",\"\\u003cbr\\u003eEmitted Luminosity: 1.056e+43\\u003cbr\\u003eRequested Luminosity: 1.059e+43\\u003cbr\\u003eAbsorbed Luminosity: 3.405e+42\",\"\\u003cbr\\u003eEmitted Luminosity: 1.056e+43\\u003cbr\\u003eRequested Luminosity: 1.059e+43\\u003cbr\\u003eAbsorbed Luminosity: 3.405e+42\",\"\\u003cbr\\u003eEmitted Luminosity: 1.056e+43\\u003cbr\\u003eRequested Luminosity: 1.059e+43\\u003cbr\\u003eAbsorbed Luminosity: 3.405e+42\",\"\\u003cbr\\u003eEmitted Luminosity: 1.056e+43\\u003cbr\\u003eRequested Luminosity: 1.059e+43\\u003cbr\\u003eAbsorbed Luminosity: 3.405e+42\",\"\\u003cbr\\u003eEmitted Luminosity: 1.056e+43\\u003cbr\\u003eRequested Luminosity: 1.059e+43\\u003cbr\\u003eAbsorbed Luminosity: 3.405e+42\",\"\\u003cbr\\u003eEmitted Luminosity: 1.056e+43\\u003cbr\\u003eRequested Luminosity: 1.059e+43\\u003cbr\\u003eAbsorbed Luminosity: 3.405e+42\"],\"hovertemplate\":\"\\u003cb\\u003eY\\u003c\\u002fb\\u003e: %{y:.3f} at \\u003cb\\u003eX\\u003c\\u002fb\\u003e = %{x:,.0f}%{customdata}\",\"legendgroup\":\"group-19\",\"line\":{\"color\":\"#bd0000\",\"shape\":\"hv\"},\"name\":\"19\",\"x\":[11000.0,11450.000000000002,11900.000000000002,12350.000000000002,12800.000000000002,13250.000000000002,13700.000000000002,14150.000000000002,14600.000000000002,15050.000000000002,15500.000000000002,15950.000000000002,16400.0,16850.0,17300.0,17750.0,18200.0,18650.0,19100.0,19550.0,20000.0],\"y\":[0.4658311117916334,0.3582139915499915,0.2847850142066711,0.23131748238389416,0.2019042428499378,0.17672917911674874,0.15768939467074786,0.14187895669455092,0.12816189932359295,0.11908550757372338,0.11148042086611493,0.10454478019426744,0.09806677159656112,0.09312253621401008,0.08822151219418572,0.08534236048694321,0.08173657384057964,0.07726564166748943,0.07559528442170033,0.07395579158343962,0.07395579158343962],\"type\":\"scatter\",\"uid\":\"720703c6-4a8c-4296-bda3-65fd3fb194a9\",\"xaxis\":\"x2\",\"yaxis\":\"y2\"},{\"customdata\":[\"\\u003cbr\\u003eEmitted Luminosity: 1.061e+43\\u003cbr\\u003eRequested Luminosity: 1.059e+43\\u003cbr\\u003eAbsorbed Luminosity: 3.401e+42\",\"\\u003cbr\\u003eEmitted Luminosity: 1.061e+43\\u003cbr\\u003eRequested Luminosity: 1.059e+43\\u003cbr\\u003eAbsorbed Luminosity: 3.401e+42\",\"\\u003cbr\\u003eEmitted Luminosity: 1.061e+43\\u003cbr\\u003eRequested Luminosity: 1.059e+43\\u003cbr\\u003eAbsorbed Luminosity: 3.401e+42\",\"\\u003cbr\\u003eEmitted Luminosity: 1.061e+43\\u003cbr\\u003eRequested Luminosity: 1.059e+43\\u003cbr\\u003eAbsorbed Luminosity: 3.401e+42\",\"\\u003cbr\\u003eEmitted Luminosity: 1.061e+43\\u003cbr\\u003eRequested Luminosity: 1.059e+43\\u003cbr\\u003eAbsorbed Luminosity: 3.401e+42\",\"\\u003cbr\\u003eEmitted Luminosity: 1.061e+43\\u003cbr\\u003eRequested Luminosity: 1.059e+43\\u003cbr\\u003eAbsorbed Luminosity: 3.401e+42\",\"\\u003cbr\\u003eEmitted Luminosity: 1.061e+43\\u003cbr\\u003eRequested Luminosity: 1.059e+43\\u003cbr\\u003eAbsorbed Luminosity: 3.401e+42\",\"\\u003cbr\\u003eEmitted Luminosity: 1.061e+43\\u003cbr\\u003eRequested Luminosity: 1.059e+43\\u003cbr\\u003eAbsorbed Luminosity: 3.401e+42\",\"\\u003cbr\\u003eEmitted Luminosity: 1.061e+43\\u003cbr\\u003eRequested Luminosity: 1.059e+43\\u003cbr\\u003eAbsorbed Luminosity: 3.401e+42\",\"\\u003cbr\\u003eEmitted Luminosity: 1.061e+43\\u003cbr\\u003eRequested Luminosity: 1.059e+43\\u003cbr\\u003eAbsorbed Luminosity: 3.401e+42\",\"\\u003cbr\\u003eEmitted Luminosity: 1.061e+43\\u003cbr\\u003eRequested Luminosity: 1.059e+43\\u003cbr\\u003eAbsorbed Luminosity: 3.401e+42\",\"\\u003cbr\\u003eEmitted Luminosity: 1.061e+43\\u003cbr\\u003eRequested Luminosity: 1.059e+43\\u003cbr\\u003eAbsorbed Luminosity: 3.401e+42\",\"\\u003cbr\\u003eEmitted Luminosity: 1.061e+43\\u003cbr\\u003eRequested Luminosity: 1.059e+43\\u003cbr\\u003eAbsorbed Luminosity: 3.401e+42\",\"\\u003cbr\\u003eEmitted Luminosity: 1.061e+43\\u003cbr\\u003eRequested Luminosity: 1.059e+43\\u003cbr\\u003eAbsorbed Luminosity: 3.401e+42\",\"\\u003cbr\\u003eEmitted Luminosity: 1.061e+43\\u003cbr\\u003eRequested Luminosity: 1.059e+43\\u003cbr\\u003eAbsorbed Luminosity: 3.401e+42\",\"\\u003cbr\\u003eEmitted Luminosity: 1.061e+43\\u003cbr\\u003eRequested Luminosity: 1.059e+43\\u003cbr\\u003eAbsorbed Luminosity: 3.401e+42\",\"\\u003cbr\\u003eEmitted Luminosity: 1.061e+43\\u003cbr\\u003eRequested Luminosity: 1.059e+43\\u003cbr\\u003eAbsorbed Luminosity: 3.401e+42\",\"\\u003cbr\\u003eEmitted Luminosity: 1.061e+43\\u003cbr\\u003eRequested Luminosity: 1.059e+43\\u003cbr\\u003eAbsorbed Luminosity: 3.401e+42\",\"\\u003cbr\\u003eEmitted Luminosity: 1.061e+43\\u003cbr\\u003eRequested Luminosity: 1.059e+43\\u003cbr\\u003eAbsorbed Luminosity: 3.401e+42\",\"\\u003cbr\\u003eEmitted Luminosity: 1.061e+43\\u003cbr\\u003eRequested Luminosity: 1.059e+43\\u003cbr\\u003eAbsorbed Luminosity: 3.401e+42\",\"\\u003cbr\\u003eEmitted Luminosity: 1.061e+43\\u003cbr\\u003eRequested Luminosity: 1.059e+43\\u003cbr\\u003eAbsorbed Luminosity: 3.401e+42\"],\"hovertemplate\":\"\\u003cb\\u003eY\\u003c\\u002fb\\u003e: %{y:.3f} at \\u003cb\\u003eX\\u003c\\u002fb\\u003e = %{x:,.0f}%{customdata}\",\"legendgroup\":\"group-20\",\"line\":{\"color\":\"#800000\",\"shape\":\"hv\"},\"name\":\"20\",\"showlegend\":false,\"x\":[11000.0,11450.000000000002,11900.000000000002,12350.000000000002,12800.000000000002,13250.000000000002,13700.000000000002,14150.000000000002,14600.000000000002,15050.000000000002,15500.000000000002,15950.000000000002,16400.0,16850.0,17300.0,17750.0,18200.0,18650.0,19100.0,19550.0,20000.0],\"y\":[11069.330893770863,11165.15751924344,11272.627837715214,11372.452252396053,11332.028068812171,11329.643567195646,11294.518651044014,11261.568932482725,11241.478129258157,11148.97525325474,11071.529176484044,11004.685602078382,10946.399791590655,10861.427440620533,10784.478937100243,10655.55794227074,10586.119093865127,10567.99674920148,10435.711203887155,10305.706316399623,10305.706316399623],\"type\":\"scatter\",\"uid\":\"0f41eb5d-7c5a-4af2-a45f-c98c783231cf\",\"xaxis\":\"x\",\"yaxis\":\"y\"},{\"customdata\":[\"\\u003cbr\\u003eEmitted Luminosity: 1.061e+43\\u003cbr\\u003eRequested Luminosity: 1.059e+43\\u003cbr\\u003eAbsorbed Luminosity: 3.401e+42\",\"\\u003cbr\\u003eEmitted Luminosity: 1.061e+43\\u003cbr\\u003eRequested Luminosity: 1.059e+43\\u003cbr\\u003eAbsorbed Luminosity: 3.401e+42\",\"\\u003cbr\\u003eEmitted Luminosity: 1.061e+43\\u003cbr\\u003eRequested Luminosity: 1.059e+43\\u003cbr\\u003eAbsorbed Luminosity: 3.401e+42\",\"\\u003cbr\\u003eEmitted Luminosity: 1.061e+43\\u003cbr\\u003eRequested Luminosity: 1.059e+43\\u003cbr\\u003eAbsorbed Luminosity: 3.401e+42\",\"\\u003cbr\\u003eEmitted Luminosity: 1.061e+43\\u003cbr\\u003eRequested Luminosity: 1.059e+43\\u003cbr\\u003eAbsorbed Luminosity: 3.401e+42\",\"\\u003cbr\\u003eEmitted Luminosity: 1.061e+43\\u003cbr\\u003eRequested Luminosity: 1.059e+43\\u003cbr\\u003eAbsorbed Luminosity: 3.401e+42\",\"\\u003cbr\\u003eEmitted Luminosity: 1.061e+43\\u003cbr\\u003eRequested Luminosity: 1.059e+43\\u003cbr\\u003eAbsorbed Luminosity: 3.401e+42\",\"\\u003cbr\\u003eEmitted Luminosity: 1.061e+43\\u003cbr\\u003eRequested Luminosity: 1.059e+43\\u003cbr\\u003eAbsorbed Luminosity: 3.401e+42\",\"\\u003cbr\\u003eEmitted Luminosity: 1.061e+43\\u003cbr\\u003eRequested Luminosity: 1.059e+43\\u003cbr\\u003eAbsorbed Luminosity: 3.401e+42\",\"\\u003cbr\\u003eEmitted Luminosity: 1.061e+43\\u003cbr\\u003eRequested Luminosity: 1.059e+43\\u003cbr\\u003eAbsorbed Luminosity: 3.401e+42\",\"\\u003cbr\\u003eEmitted Luminosity: 1.061e+43\\u003cbr\\u003eRequested Luminosity: 1.059e+43\\u003cbr\\u003eAbsorbed Luminosity: 3.401e+42\",\"\\u003cbr\\u003eEmitted Luminosity: 1.061e+43\\u003cbr\\u003eRequested Luminosity: 1.059e+43\\u003cbr\\u003eAbsorbed Luminosity: 3.401e+42\",\"\\u003cbr\\u003eEmitted Luminosity: 1.061e+43\\u003cbr\\u003eRequested Luminosity: 1.059e+43\\u003cbr\\u003eAbsorbed Luminosity: 3.401e+42\",\"\\u003cbr\\u003eEmitted Luminosity: 1.061e+43\\u003cbr\\u003eRequested Luminosity: 1.059e+43\\u003cbr\\u003eAbsorbed Luminosity: 3.401e+42\",\"\\u003cbr\\u003eEmitted Luminosity: 1.061e+43\\u003cbr\\u003eRequested Luminosity: 1.059e+43\\u003cbr\\u003eAbsorbed Luminosity: 3.401e+42\",\"\\u003cbr\\u003eEmitted Luminosity: 1.061e+43\\u003cbr\\u003eRequested Luminosity: 1.059e+43\\u003cbr\\u003eAbsorbed Luminosity: 3.401e+42\",\"\\u003cbr\\u003eEmitted Luminosity: 1.061e+43\\u003cbr\\u003eRequested Luminosity: 1.059e+43\\u003cbr\\u003eAbsorbed Luminosity: 3.401e+42\",\"\\u003cbr\\u003eEmitted Luminosity: 1.061e+43\\u003cbr\\u003eRequested Luminosity: 1.059e+43\\u003cbr\\u003eAbsorbed Luminosity: 3.401e+42\",\"\\u003cbr\\u003eEmitted Luminosity: 1.061e+43\\u003cbr\\u003eRequested Luminosity: 1.059e+43\\u003cbr\\u003eAbsorbed Luminosity: 3.401e+42\",\"\\u003cbr\\u003eEmitted Luminosity: 1.061e+43\\u003cbr\\u003eRequested Luminosity: 1.059e+43\\u003cbr\\u003eAbsorbed Luminosity: 3.401e+42\",\"\\u003cbr\\u003eEmitted Luminosity: 1.061e+43\\u003cbr\\u003eRequested Luminosity: 1.059e+43\\u003cbr\\u003eAbsorbed Luminosity: 3.401e+42\"],\"hovertemplate\":\"\\u003cb\\u003eY\\u003c\\u002fb\\u003e: %{y:.3f} at \\u003cb\\u003eX\\u003c\\u002fb\\u003e = %{x:,.0f}%{customdata}\",\"legendgroup\":\"group-20\",\"line\":{\"color\":\"#800000\",\"shape\":\"hv\"},\"name\":\"20\",\"x\":[11000.0,11450.000000000002,11900.000000000002,12350.000000000002,12800.000000000002,13250.000000000002,13700.000000000002,14150.000000000002,14600.000000000002,15050.000000000002,15500.000000000002,15950.000000000002,16400.0,16850.0,17300.0,17750.0,18200.0,18650.0,19100.0,19550.0,20000.0],\"y\":[0.4658311117916334,0.3582139915499915,0.2847850142066711,0.23131748238389416,0.2019042428499378,0.17672917911674874,0.15768939467074786,0.14187895669455092,0.12816189932359295,0.11908550757372338,0.11148042086611493,0.10454478019426744,0.09806677159656112,0.09312253621401008,0.08822151219418572,0.08534236048694321,0.08173657384057964,0.07726564166748943,0.07559528442170033,0.07395579158343962,0.07395579158343962],\"type\":\"scatter\",\"uid\":\"fc43ddee-1f6f-4c27-9c73-386091f3fda4\",\"xaxis\":\"x2\",\"yaxis\":\"y2\"}],                        {\"template\":{\"data\":{\"barpolar\":[{\"marker\":{\"line\":{\"color\":\"#E5ECF6\",\"width\":0.5},\"pattern\":{\"fillmode\":\"overlay\",\"size\":10,\"solidity\":0.2}},\"type\":\"barpolar\"}],\"bar\":[{\"error_x\":{\"color\":\"#2a3f5f\"},\"error_y\":{\"color\":\"#2a3f5f\"},\"marker\":{\"line\":{\"color\":\"#E5ECF6\",\"width\":0.5},\"pattern\":{\"fillmode\":\"overlay\",\"size\":10,\"solidity\":0.2}},\"type\":\"bar\"}],\"carpet\":[{\"aaxis\":{\"endlinecolor\":\"#2a3f5f\",\"gridcolor\":\"white\",\"linecolor\":\"white\",\"minorgridcolor\":\"white\",\"startlinecolor\":\"#2a3f5f\"},\"baxis\":{\"endlinecolor\":\"#2a3f5f\",\"gridcolor\":\"white\",\"linecolor\":\"white\",\"minorgridcolor\":\"white\",\"startlinecolor\":\"#2a3f5f\"},\"type\":\"carpet\"}],\"choropleth\":[{\"colorbar\":{\"outlinewidth\":0,\"ticks\":\"\"},\"type\":\"choropleth\"}],\"contourcarpet\":[{\"colorbar\":{\"outlinewidth\":0,\"ticks\":\"\"},\"type\":\"contourcarpet\"}],\"contour\":[{\"colorbar\":{\"outlinewidth\":0,\"ticks\":\"\"},\"colorscale\":[[0.0,\"#0d0887\"],[0.1111111111111111,\"#46039f\"],[0.2222222222222222,\"#7201a8\"],[0.3333333333333333,\"#9c179e\"],[0.4444444444444444,\"#bd3786\"],[0.5555555555555556,\"#d8576b\"],[0.6666666666666666,\"#ed7953\"],[0.7777777777777778,\"#fb9f3a\"],[0.8888888888888888,\"#fdca26\"],[1.0,\"#f0f921\"]],\"type\":\"contour\"}],\"heatmapgl\":[{\"colorbar\":{\"outlinewidth\":0,\"ticks\":\"\"},\"colorscale\":[[0.0,\"#0d0887\"],[0.1111111111111111,\"#46039f\"],[0.2222222222222222,\"#7201a8\"],[0.3333333333333333,\"#9c179e\"],[0.4444444444444444,\"#bd3786\"],[0.5555555555555556,\"#d8576b\"],[0.6666666666666666,\"#ed7953\"],[0.7777777777777778,\"#fb9f3a\"],[0.8888888888888888,\"#fdca26\"],[1.0,\"#f0f921\"]],\"type\":\"heatmapgl\"}],\"heatmap\":[{\"colorbar\":{\"outlinewidth\":0,\"ticks\":\"\"},\"colorscale\":[[0.0,\"#0d0887\"],[0.1111111111111111,\"#46039f\"],[0.2222222222222222,\"#7201a8\"],[0.3333333333333333,\"#9c179e\"],[0.4444444444444444,\"#bd3786\"],[0.5555555555555556,\"#d8576b\"],[0.6666666666666666,\"#ed7953\"],[0.7777777777777778,\"#fb9f3a\"],[0.8888888888888888,\"#fdca26\"],[1.0,\"#f0f921\"]],\"type\":\"heatmap\"}],\"histogram2dcontour\":[{\"colorbar\":{\"outlinewidth\":0,\"ticks\":\"\"},\"colorscale\":[[0.0,\"#0d0887\"],[0.1111111111111111,\"#46039f\"],[0.2222222222222222,\"#7201a8\"],[0.3333333333333333,\"#9c179e\"],[0.4444444444444444,\"#bd3786\"],[0.5555555555555556,\"#d8576b\"],[0.6666666666666666,\"#ed7953\"],[0.7777777777777778,\"#fb9f3a\"],[0.8888888888888888,\"#fdca26\"],[1.0,\"#f0f921\"]],\"type\":\"histogram2dcontour\"}],\"histogram2d\":[{\"colorbar\":{\"outlinewidth\":0,\"ticks\":\"\"},\"colorscale\":[[0.0,\"#0d0887\"],[0.1111111111111111,\"#46039f\"],[0.2222222222222222,\"#7201a8\"],[0.3333333333333333,\"#9c179e\"],[0.4444444444444444,\"#bd3786\"],[0.5555555555555556,\"#d8576b\"],[0.6666666666666666,\"#ed7953\"],[0.7777777777777778,\"#fb9f3a\"],[0.8888888888888888,\"#fdca26\"],[1.0,\"#f0f921\"]],\"type\":\"histogram2d\"}],\"histogram\":[{\"marker\":{\"pattern\":{\"fillmode\":\"overlay\",\"size\":10,\"solidity\":0.2}},\"type\":\"histogram\"}],\"mesh3d\":[{\"colorbar\":{\"outlinewidth\":0,\"ticks\":\"\"},\"type\":\"mesh3d\"}],\"parcoords\":[{\"line\":{\"colorbar\":{\"outlinewidth\":0,\"ticks\":\"\"}},\"type\":\"parcoords\"}],\"pie\":[{\"automargin\":true,\"type\":\"pie\"}],\"scatter3d\":[{\"line\":{\"colorbar\":{\"outlinewidth\":0,\"ticks\":\"\"}},\"marker\":{\"colorbar\":{\"outlinewidth\":0,\"ticks\":\"\"}},\"type\":\"scatter3d\"}],\"scattercarpet\":[{\"marker\":{\"colorbar\":{\"outlinewidth\":0,\"ticks\":\"\"}},\"type\":\"scattercarpet\"}],\"scattergeo\":[{\"marker\":{\"colorbar\":{\"outlinewidth\":0,\"ticks\":\"\"}},\"type\":\"scattergeo\"}],\"scattergl\":[{\"marker\":{\"colorbar\":{\"outlinewidth\":0,\"ticks\":\"\"}},\"type\":\"scattergl\"}],\"scattermapbox\":[{\"marker\":{\"colorbar\":{\"outlinewidth\":0,\"ticks\":\"\"}},\"type\":\"scattermapbox\"}],\"scatterpolargl\":[{\"marker\":{\"colorbar\":{\"outlinewidth\":0,\"ticks\":\"\"}},\"type\":\"scatterpolargl\"}],\"scatterpolar\":[{\"marker\":{\"colorbar\":{\"outlinewidth\":0,\"ticks\":\"\"}},\"type\":\"scatterpolar\"}],\"scatter\":[{\"fillpattern\":{\"fillmode\":\"overlay\",\"size\":10,\"solidity\":0.2},\"type\":\"scatter\"}],\"scatterternary\":[{\"marker\":{\"colorbar\":{\"outlinewidth\":0,\"ticks\":\"\"}},\"type\":\"scatterternary\"}],\"surface\":[{\"colorbar\":{\"outlinewidth\":0,\"ticks\":\"\"},\"colorscale\":[[0.0,\"#0d0887\"],[0.1111111111111111,\"#46039f\"],[0.2222222222222222,\"#7201a8\"],[0.3333333333333333,\"#9c179e\"],[0.4444444444444444,\"#bd3786\"],[0.5555555555555556,\"#d8576b\"],[0.6666666666666666,\"#ed7953\"],[0.7777777777777778,\"#fb9f3a\"],[0.8888888888888888,\"#fdca26\"],[1.0,\"#f0f921\"]],\"type\":\"surface\"}],\"table\":[{\"cells\":{\"fill\":{\"color\":\"#EBF0F8\"},\"line\":{\"color\":\"white\"}},\"header\":{\"fill\":{\"color\":\"#C8D4E3\"},\"line\":{\"color\":\"white\"}},\"type\":\"table\"}]},\"layout\":{\"annotationdefaults\":{\"arrowcolor\":\"#2a3f5f\",\"arrowhead\":0,\"arrowwidth\":1},\"autotypenumbers\":\"strict\",\"coloraxis\":{\"colorbar\":{\"outlinewidth\":0,\"ticks\":\"\"}},\"colorscale\":{\"diverging\":[[0,\"#8e0152\"],[0.1,\"#c51b7d\"],[0.2,\"#de77ae\"],[0.3,\"#f1b6da\"],[0.4,\"#fde0ef\"],[0.5,\"#f7f7f7\"],[0.6,\"#e6f5d0\"],[0.7,\"#b8e186\"],[0.8,\"#7fbc41\"],[0.9,\"#4d9221\"],[1,\"#276419\"]],\"sequential\":[[0.0,\"#0d0887\"],[0.1111111111111111,\"#46039f\"],[0.2222222222222222,\"#7201a8\"],[0.3333333333333333,\"#9c179e\"],[0.4444444444444444,\"#bd3786\"],[0.5555555555555556,\"#d8576b\"],[0.6666666666666666,\"#ed7953\"],[0.7777777777777778,\"#fb9f3a\"],[0.8888888888888888,\"#fdca26\"],[1.0,\"#f0f921\"]],\"sequentialminus\":[[0.0,\"#0d0887\"],[0.1111111111111111,\"#46039f\"],[0.2222222222222222,\"#7201a8\"],[0.3333333333333333,\"#9c179e\"],[0.4444444444444444,\"#bd3786\"],[0.5555555555555556,\"#d8576b\"],[0.6666666666666666,\"#ed7953\"],[0.7777777777777778,\"#fb9f3a\"],[0.8888888888888888,\"#fdca26\"],[1.0,\"#f0f921\"]]},\"colorway\":[\"#636efa\",\"#EF553B\",\"#00cc96\",\"#ab63fa\",\"#FFA15A\",\"#19d3f3\",\"#FF6692\",\"#B6E880\",\"#FF97FF\",\"#FECB52\"],\"font\":{\"color\":\"#2a3f5f\"},\"geo\":{\"bgcolor\":\"white\",\"lakecolor\":\"white\",\"landcolor\":\"#E5ECF6\",\"showlakes\":true,\"showland\":true,\"subunitcolor\":\"white\"},\"hoverlabel\":{\"align\":\"left\"},\"hovermode\":\"closest\",\"mapbox\":{\"style\":\"light\"},\"paper_bgcolor\":\"white\",\"plot_bgcolor\":\"#E5ECF6\",\"polar\":{\"angularaxis\":{\"gridcolor\":\"white\",\"linecolor\":\"white\",\"ticks\":\"\"},\"bgcolor\":\"#E5ECF6\",\"radialaxis\":{\"gridcolor\":\"white\",\"linecolor\":\"white\",\"ticks\":\"\"}},\"scene\":{\"xaxis\":{\"backgroundcolor\":\"#E5ECF6\",\"gridcolor\":\"white\",\"gridwidth\":2,\"linecolor\":\"white\",\"showbackground\":true,\"ticks\":\"\",\"zerolinecolor\":\"white\"},\"yaxis\":{\"backgroundcolor\":\"#E5ECF6\",\"gridcolor\":\"white\",\"gridwidth\":2,\"linecolor\":\"white\",\"showbackground\":true,\"ticks\":\"\",\"zerolinecolor\":\"white\"},\"zaxis\":{\"backgroundcolor\":\"#E5ECF6\",\"gridcolor\":\"white\",\"gridwidth\":2,\"linecolor\":\"white\",\"showbackground\":true,\"ticks\":\"\",\"zerolinecolor\":\"white\"}},\"shapedefaults\":{\"line\":{\"color\":\"#2a3f5f\"}},\"ternary\":{\"aaxis\":{\"gridcolor\":\"white\",\"linecolor\":\"white\",\"ticks\":\"\"},\"baxis\":{\"gridcolor\":\"white\",\"linecolor\":\"white\",\"ticks\":\"\"},\"bgcolor\":\"#E5ECF6\",\"caxis\":{\"gridcolor\":\"white\",\"linecolor\":\"white\",\"ticks\":\"\"}},\"title\":{\"x\":0.05},\"xaxis\":{\"automargin\":true,\"gridcolor\":\"white\",\"linecolor\":\"white\",\"ticks\":\"\",\"title\":{\"standoff\":15},\"zerolinecolor\":\"white\",\"zerolinewidth\":2},\"yaxis\":{\"automargin\":true,\"gridcolor\":\"white\",\"linecolor\":\"white\",\"ticks\":\"\",\"title\":{\"standoff\":15},\"zerolinecolor\":\"white\",\"zerolinewidth\":2}}},\"xaxis\":{\"anchor\":\"y\",\"domain\":[0.0,0.45],\"tickformat\":\"g\",\"title\":{\"text\":\"$\\\\text{Velocity}~[\\\\text{km}~\\\\text{s}^{-1}]$\"}},\"yaxis\":{\"anchor\":\"x\",\"domain\":[0.0,1.0],\"tickformat\":\"g\",\"title\":{\"text\":\"$T_{\\\\text{rad}}\\\\ [\\\\text{K}]$\"},\"nticks\":15},\"xaxis2\":{\"anchor\":\"y2\",\"domain\":[0.55,1.0],\"tickformat\":\"g\",\"title\":{\"text\":\"$\\\\text{Velocity}~[\\\\text{km}~\\\\text{s}^{-1}]$\"},\"matches\":\"x\"},\"yaxis2\":{\"anchor\":\"x2\",\"domain\":[0.0,1.0],\"tickformat\":\"g\",\"title\":{\"text\":\"$W$\"},\"nticks\":15},\"legend\":{\"title\":{\"text\":\"Iterations\"},\"traceorder\":\"reversed\"},\"margin\":{\"l\":10,\"r\":135,\"b\":25,\"t\":25,\"pad\":0},\"height\":450},                        {\"responsive\": true}                    ).then(function(){\n",
       "                            \n",
       "var gd = document.getElementById('95a9bf2e-0e57-45f1-ac5a-3ea10918ff88');\n",
       "var x = new MutationObserver(function (mutations, observer) {{\n",
       "        var display = window.getComputedStyle(gd).display;\n",
       "        if (!display || display === 'none') {{\n",
       "            console.log([gd, 'removed!']);\n",
       "            Plotly.purge(gd);\n",
       "            observer.disconnect();\n",
       "        }}\n",
       "}});\n",
       "\n",
       "// Listen for the removal of the full notebook cells\n",
       "var notebookContainer = gd.closest('#notebook-container');\n",
       "if (notebookContainer) {{\n",
       "    x.observe(notebookContainer, {childList: true});\n",
       "}}\n",
       "\n",
       "// Listen for the clearing of the current output cell\n",
       "var outputEl = gd.closest('.output');\n",
       "if (outputEl) {{\n",
       "    x.observe(outputEl, {childList: true});\n",
       "}}\n",
       "\n",
       "                        })                };                });            </script>        </div>"
      ]
     },
     "metadata": {},
     "output_type": "display_data"
    },
    {
     "data": {
      "text/html": [
       "        <script type=\"text/javascript\">\n",
       "        window.PlotlyConfig = {MathJaxConfig: 'local'};\n",
       "        if (window.MathJax && window.MathJax.Hub && window.MathJax.Hub.Config) {window.MathJax.Hub.Config({SVG: {font: \"STIX-Web\"}});}\n",
       "        if (typeof require !== 'undefined') {\n",
       "        require.undef(\"plotly\");\n",
       "        requirejs.config({\n",
       "            paths: {\n",
       "                'plotly': ['https://cdn.plot.ly/plotly-2.32.0.min']\n",
       "            }\n",
       "        });\n",
       "        require(['plotly'], function(Plotly) {\n",
       "            window._Plotly = Plotly;\n",
       "        });\n",
       "        }\n",
       "        </script>\n",
       "        "
      ]
     },
     "metadata": {},
     "output_type": "display_data"
    },
    {
     "data": {
      "text/html": [
       "<div>                            <div id=\"0fbabe51-3074-4b39-b1fc-96f5206e5679\" class=\"plotly-graph-div\" style=\"height:630px; width:100%;\"></div>            <script type=\"text/javascript\">                require([\"plotly\"], function(Plotly) {                    window.PLOTLYENV=window.PLOTLYENV || {};                                    if (document.getElementById(\"0fbabe51-3074-4b39-b1fc-96f5206e5679\")) {                    Plotly.newPlot(                        \"0fbabe51-3074-4b39-b1fc-96f5206e5679\",                        [{\"hovertext\":\"text\",\"mode\":\"lines\",\"name\":\"Inner\\u003cbr\\u003eBoundary\\u003cbr\\u003eTemperature\",\"type\":\"scatter\",\"uid\":\"20cc249c-8de5-4cda-807d-7bd0b70d03eb\",\"xaxis\":\"x\",\"yaxis\":\"y\",\"hovertemplate\":\"\\u003cb\\u003e%{y:.3f}\\u003c\\u002fb\\u003e at X = %{x:,.0f}\\u003cextra\\u003eInner Boundary Temperature\\u003c\\u002fextra\\u003e\",\"x\":[1,2,3,4,5,6,7,8,9,10,11,12,13,14,15,16,17,18,19,20],\"y\":[9933.951995919648,10703.211562422348,10673.712103958485,10635.953012231908,10638.406528771677,10650.201962584772,10645.954540809485,10642.04961793771,10636.10612387791,10654.312594298388,10628.189659670263,10644.054374080555,10653.542691388262,10647.276919600397,10638.875341023482,10655.125193761738,10655.56115672498,10636.535622734587,10641.692058870438,10650.463255529794]},{\"mode\":\"lines\",\"name\":\"Emitted\\u003cbr\\u003eLuminosity\",\"type\":\"scatter\",\"uid\":\"6c67e8eb-1d82-4eca-a217-e1bcf7ba24f7\",\"xaxis\":\"x2\",\"yaxis\":\"y2\",\"hovertemplate\":\"\\u003cb\\u003e%{y:.4g}\\u003c\\u002fb\\u003e\\u003cbr\\u003eat X = %{x}\\u003cbr\\u003e\",\"x\":[1,2,3,4,5,6,7,8,9,10,11,12,13,14,15,16,17,18,19,20],\"y\":[7.942174905766288e+42,1.0710516521093009e+43,1.0744260406037982e+43,1.058299613889192e+43,1.0545940091430881e+43,1.060968189077441e+43,1.0608322361748786e+43,1.0616467173322807e+43,1.0520605244141132e+43,1.069742087806739e+43,1.0529798362530551e+43,1.0555093978401453e+43,1.0617727732344977e+43,1.062627715933488e+43,1.0528341253755922e+43,1.059103016026169e+43,1.0668824405561529e+43,1.057225256379625e+43,1.0557926285002875e+43,1.0607832431314582e+43]},{\"mode\":\"lines\",\"name\":\"Absorbed\\u003cbr\\u003eLuminosity\",\"type\":\"scatter\",\"uid\":\"37184e62-b9b0-48fd-8965-9f220b09a532\",\"xaxis\":\"x2\",\"yaxis\":\"y2\",\"hovertemplate\":\"\\u003cb\\u003e%{y:.4g}\\u003c\\u002fb\\u003e\\u003cbr\\u003eat X = %{x}\\u003cbr\\u003e\",\"x\":[1,2,3,4,5,6,7,8,9,10,11,12,13,14,15,16,17,18,19,20],\"y\":[2.6585269987163897e+42,3.5763260471289185e+42,3.391252957329678e+42,3.351960855778323e+42,3.3988597390168757e+42,3.3980646035039846e+42,3.382148957209404e+42,3.3498688262362054e+42,3.4108734276587474e+42,3.3349178483896733e+42,3.363215048559226e+42,3.419737826808236e+42,3.405731111443267e+42,3.369133178888771e+42,3.41721250026907e+42,3.444523523878808e+42,3.371808227073317e+42,3.3654653501429696e+42,3.40487735299688e+42,3.400790766998871e+42]},{\"mode\":\"lines\",\"name\":\"Requested\\u003cbr\\u003eLuminosity\",\"type\":\"scatter\",\"uid\":\"eaf568d1-7670-4c22-9e1e-e15861653025\",\"xaxis\":\"x2\",\"yaxis\":\"y2\",\"hovertemplate\":\"\\u003cb\\u003e%{y:.4g}\\u003c\\u002fb\\u003e\\u003cbr\\u003eat X = %{x}\\u003cbr\\u003e\",\"x\":[1,2,3,4,5,6,7,8,9,10,11,12,13,14,15,16,17,18,19,20],\"y\":[1.0592763593038458e+43,1.0592763593038458e+43,1.0592763593038458e+43,1.0592763593038458e+43,1.0592763593038458e+43,1.0592763593038458e+43,1.0592763593038458e+43,1.0592763593038458e+43,1.0592763593038458e+43,1.0592763593038458e+43,1.0592763593038458e+43,1.0592763593038458e+43,1.0592763593038458e+43,1.0592763593038458e+43,1.0592763593038458e+43,1.0592763593038458e+43,1.0592763593038458e+43,1.0592763593038458e+43,1.0592763593038458e+43,1.0592763593038458e+43]},{\"mode\":\"lines\",\"name\":\"Residual\\u003cbr\\u003eLuminosity\",\"type\":\"scatter\",\"uid\":\"2f84a5e8-ddeb-4588-835e-f8715a531c18\",\"xaxis\":\"x3\",\"yaxis\":\"y3\",\"hovertemplate\":\"\\u003cb\\u003e%{y:.2f}%\\u003c\\u002fb\\u003e at X = %{x:,.0f}\",\"x\":[1,2,3,4,5,6,7,8,9,10,11,12,13,14,15,16,17,18,19,20],\"y\":[-25.022636104275286,1.1116355710226402,1.4301915800243856,-0.09220874289082134,-0.4420329142278704,0.15971561705645307,0.1468811096714525,0.22377144619679207,-0.6812041849470463,0.9880073704062787,-0.59441740538123,-0.3556164952247293,0.23567163646440417,0.31638170721045433,-0.608173105315723,-0.016364310989694035,0.718045030034075,-0.19363246486202446,-0.32887836804436776,0.1422559669511361]}],                        {\"template\":{\"data\":{\"barpolar\":[{\"marker\":{\"line\":{\"color\":\"#E5ECF6\",\"width\":0.5},\"pattern\":{\"fillmode\":\"overlay\",\"size\":10,\"solidity\":0.2}},\"type\":\"barpolar\"}],\"bar\":[{\"error_x\":{\"color\":\"#2a3f5f\"},\"error_y\":{\"color\":\"#2a3f5f\"},\"marker\":{\"line\":{\"color\":\"#E5ECF6\",\"width\":0.5},\"pattern\":{\"fillmode\":\"overlay\",\"size\":10,\"solidity\":0.2}},\"type\":\"bar\"}],\"carpet\":[{\"aaxis\":{\"endlinecolor\":\"#2a3f5f\",\"gridcolor\":\"white\",\"linecolor\":\"white\",\"minorgridcolor\":\"white\",\"startlinecolor\":\"#2a3f5f\"},\"baxis\":{\"endlinecolor\":\"#2a3f5f\",\"gridcolor\":\"white\",\"linecolor\":\"white\",\"minorgridcolor\":\"white\",\"startlinecolor\":\"#2a3f5f\"},\"type\":\"carpet\"}],\"choropleth\":[{\"colorbar\":{\"outlinewidth\":0,\"ticks\":\"\"},\"type\":\"choropleth\"}],\"contourcarpet\":[{\"colorbar\":{\"outlinewidth\":0,\"ticks\":\"\"},\"type\":\"contourcarpet\"}],\"contour\":[{\"colorbar\":{\"outlinewidth\":0,\"ticks\":\"\"},\"colorscale\":[[0.0,\"#0d0887\"],[0.1111111111111111,\"#46039f\"],[0.2222222222222222,\"#7201a8\"],[0.3333333333333333,\"#9c179e\"],[0.4444444444444444,\"#bd3786\"],[0.5555555555555556,\"#d8576b\"],[0.6666666666666666,\"#ed7953\"],[0.7777777777777778,\"#fb9f3a\"],[0.8888888888888888,\"#fdca26\"],[1.0,\"#f0f921\"]],\"type\":\"contour\"}],\"heatmapgl\":[{\"colorbar\":{\"outlinewidth\":0,\"ticks\":\"\"},\"colorscale\":[[0.0,\"#0d0887\"],[0.1111111111111111,\"#46039f\"],[0.2222222222222222,\"#7201a8\"],[0.3333333333333333,\"#9c179e\"],[0.4444444444444444,\"#bd3786\"],[0.5555555555555556,\"#d8576b\"],[0.6666666666666666,\"#ed7953\"],[0.7777777777777778,\"#fb9f3a\"],[0.8888888888888888,\"#fdca26\"],[1.0,\"#f0f921\"]],\"type\":\"heatmapgl\"}],\"heatmap\":[{\"colorbar\":{\"outlinewidth\":0,\"ticks\":\"\"},\"colorscale\":[[0.0,\"#0d0887\"],[0.1111111111111111,\"#46039f\"],[0.2222222222222222,\"#7201a8\"],[0.3333333333333333,\"#9c179e\"],[0.4444444444444444,\"#bd3786\"],[0.5555555555555556,\"#d8576b\"],[0.6666666666666666,\"#ed7953\"],[0.7777777777777778,\"#fb9f3a\"],[0.8888888888888888,\"#fdca26\"],[1.0,\"#f0f921\"]],\"type\":\"heatmap\"}],\"histogram2dcontour\":[{\"colorbar\":{\"outlinewidth\":0,\"ticks\":\"\"},\"colorscale\":[[0.0,\"#0d0887\"],[0.1111111111111111,\"#46039f\"],[0.2222222222222222,\"#7201a8\"],[0.3333333333333333,\"#9c179e\"],[0.4444444444444444,\"#bd3786\"],[0.5555555555555556,\"#d8576b\"],[0.6666666666666666,\"#ed7953\"],[0.7777777777777778,\"#fb9f3a\"],[0.8888888888888888,\"#fdca26\"],[1.0,\"#f0f921\"]],\"type\":\"histogram2dcontour\"}],\"histogram2d\":[{\"colorbar\":{\"outlinewidth\":0,\"ticks\":\"\"},\"colorscale\":[[0.0,\"#0d0887\"],[0.1111111111111111,\"#46039f\"],[0.2222222222222222,\"#7201a8\"],[0.3333333333333333,\"#9c179e\"],[0.4444444444444444,\"#bd3786\"],[0.5555555555555556,\"#d8576b\"],[0.6666666666666666,\"#ed7953\"],[0.7777777777777778,\"#fb9f3a\"],[0.8888888888888888,\"#fdca26\"],[1.0,\"#f0f921\"]],\"type\":\"histogram2d\"}],\"histogram\":[{\"marker\":{\"pattern\":{\"fillmode\":\"overlay\",\"size\":10,\"solidity\":0.2}},\"type\":\"histogram\"}],\"mesh3d\":[{\"colorbar\":{\"outlinewidth\":0,\"ticks\":\"\"},\"type\":\"mesh3d\"}],\"parcoords\":[{\"line\":{\"colorbar\":{\"outlinewidth\":0,\"ticks\":\"\"}},\"type\":\"parcoords\"}],\"pie\":[{\"automargin\":true,\"type\":\"pie\"}],\"scatter3d\":[{\"line\":{\"colorbar\":{\"outlinewidth\":0,\"ticks\":\"\"}},\"marker\":{\"colorbar\":{\"outlinewidth\":0,\"ticks\":\"\"}},\"type\":\"scatter3d\"}],\"scattercarpet\":[{\"marker\":{\"colorbar\":{\"outlinewidth\":0,\"ticks\":\"\"}},\"type\":\"scattercarpet\"}],\"scattergeo\":[{\"marker\":{\"colorbar\":{\"outlinewidth\":0,\"ticks\":\"\"}},\"type\":\"scattergeo\"}],\"scattergl\":[{\"marker\":{\"colorbar\":{\"outlinewidth\":0,\"ticks\":\"\"}},\"type\":\"scattergl\"}],\"scattermapbox\":[{\"marker\":{\"colorbar\":{\"outlinewidth\":0,\"ticks\":\"\"}},\"type\":\"scattermapbox\"}],\"scatterpolargl\":[{\"marker\":{\"colorbar\":{\"outlinewidth\":0,\"ticks\":\"\"}},\"type\":\"scatterpolargl\"}],\"scatterpolar\":[{\"marker\":{\"colorbar\":{\"outlinewidth\":0,\"ticks\":\"\"}},\"type\":\"scatterpolar\"}],\"scatter\":[{\"fillpattern\":{\"fillmode\":\"overlay\",\"size\":10,\"solidity\":0.2},\"type\":\"scatter\"}],\"scatterternary\":[{\"marker\":{\"colorbar\":{\"outlinewidth\":0,\"ticks\":\"\"}},\"type\":\"scatterternary\"}],\"surface\":[{\"colorbar\":{\"outlinewidth\":0,\"ticks\":\"\"},\"colorscale\":[[0.0,\"#0d0887\"],[0.1111111111111111,\"#46039f\"],[0.2222222222222222,\"#7201a8\"],[0.3333333333333333,\"#9c179e\"],[0.4444444444444444,\"#bd3786\"],[0.5555555555555556,\"#d8576b\"],[0.6666666666666666,\"#ed7953\"],[0.7777777777777778,\"#fb9f3a\"],[0.8888888888888888,\"#fdca26\"],[1.0,\"#f0f921\"]],\"type\":\"surface\"}],\"table\":[{\"cells\":{\"fill\":{\"color\":\"#EBF0F8\"},\"line\":{\"color\":\"white\"}},\"header\":{\"fill\":{\"color\":\"#C8D4E3\"},\"line\":{\"color\":\"white\"}},\"type\":\"table\"}]},\"layout\":{\"annotationdefaults\":{\"arrowcolor\":\"#2a3f5f\",\"arrowhead\":0,\"arrowwidth\":1},\"autotypenumbers\":\"strict\",\"coloraxis\":{\"colorbar\":{\"outlinewidth\":0,\"ticks\":\"\"}},\"colorscale\":{\"diverging\":[[0,\"#8e0152\"],[0.1,\"#c51b7d\"],[0.2,\"#de77ae\"],[0.3,\"#f1b6da\"],[0.4,\"#fde0ef\"],[0.5,\"#f7f7f7\"],[0.6,\"#e6f5d0\"],[0.7,\"#b8e186\"],[0.8,\"#7fbc41\"],[0.9,\"#4d9221\"],[1,\"#276419\"]],\"sequential\":[[0.0,\"#0d0887\"],[0.1111111111111111,\"#46039f\"],[0.2222222222222222,\"#7201a8\"],[0.3333333333333333,\"#9c179e\"],[0.4444444444444444,\"#bd3786\"],[0.5555555555555556,\"#d8576b\"],[0.6666666666666666,\"#ed7953\"],[0.7777777777777778,\"#fb9f3a\"],[0.8888888888888888,\"#fdca26\"],[1.0,\"#f0f921\"]],\"sequentialminus\":[[0.0,\"#0d0887\"],[0.1111111111111111,\"#46039f\"],[0.2222222222222222,\"#7201a8\"],[0.3333333333333333,\"#9c179e\"],[0.4444444444444444,\"#bd3786\"],[0.5555555555555556,\"#d8576b\"],[0.6666666666666666,\"#ed7953\"],[0.7777777777777778,\"#fb9f3a\"],[0.8888888888888888,\"#fdca26\"],[1.0,\"#f0f921\"]]},\"colorway\":[\"#636efa\",\"#EF553B\",\"#00cc96\",\"#ab63fa\",\"#FFA15A\",\"#19d3f3\",\"#FF6692\",\"#B6E880\",\"#FF97FF\",\"#FECB52\"],\"font\":{\"color\":\"#2a3f5f\"},\"geo\":{\"bgcolor\":\"white\",\"lakecolor\":\"white\",\"landcolor\":\"#E5ECF6\",\"showlakes\":true,\"showland\":true,\"subunitcolor\":\"white\"},\"hoverlabel\":{\"align\":\"left\"},\"hovermode\":\"closest\",\"mapbox\":{\"style\":\"light\"},\"paper_bgcolor\":\"white\",\"plot_bgcolor\":\"#E5ECF6\",\"polar\":{\"angularaxis\":{\"gridcolor\":\"white\",\"linecolor\":\"white\",\"ticks\":\"\"},\"bgcolor\":\"#E5ECF6\",\"radialaxis\":{\"gridcolor\":\"white\",\"linecolor\":\"white\",\"ticks\":\"\"}},\"scene\":{\"xaxis\":{\"backgroundcolor\":\"#E5ECF6\",\"gridcolor\":\"white\",\"gridwidth\":2,\"linecolor\":\"white\",\"showbackground\":true,\"ticks\":\"\",\"zerolinecolor\":\"white\"},\"yaxis\":{\"backgroundcolor\":\"#E5ECF6\",\"gridcolor\":\"white\",\"gridwidth\":2,\"linecolor\":\"white\",\"showbackground\":true,\"ticks\":\"\",\"zerolinecolor\":\"white\"},\"zaxis\":{\"backgroundcolor\":\"#E5ECF6\",\"gridcolor\":\"white\",\"gridwidth\":2,\"linecolor\":\"white\",\"showbackground\":true,\"ticks\":\"\",\"zerolinecolor\":\"white\"}},\"shapedefaults\":{\"line\":{\"color\":\"#2a3f5f\"}},\"ternary\":{\"aaxis\":{\"gridcolor\":\"white\",\"linecolor\":\"white\",\"ticks\":\"\"},\"baxis\":{\"gridcolor\":\"white\",\"linecolor\":\"white\",\"ticks\":\"\"},\"bgcolor\":\"#E5ECF6\",\"caxis\":{\"gridcolor\":\"white\",\"linecolor\":\"white\",\"ticks\":\"\"}},\"title\":{\"x\":0.05},\"xaxis\":{\"automargin\":true,\"gridcolor\":\"white\",\"linecolor\":\"white\",\"ticks\":\"\",\"title\":{\"standoff\":15},\"zerolinecolor\":\"white\",\"zerolinewidth\":2},\"yaxis\":{\"automargin\":true,\"gridcolor\":\"white\",\"linecolor\":\"white\",\"ticks\":\"\",\"title\":{\"standoff\":15},\"zerolinecolor\":\"white\",\"zerolinewidth\":2}}},\"xaxis\":{\"anchor\":\"y\",\"domain\":[0.0,1.0],\"matches\":\"x3\",\"showticklabels\":false,\"range\":[0,21],\"dtick\":2},\"yaxis\":{\"anchor\":\"x\",\"domain\":[0.79,1.0],\"title\":{\"text\":\"$T_{\\\\text{inner}}\\\\ [\\\\text{K}]$\"},\"automargin\":true,\"tickformat\":\"g\",\"exponentformat\":\"e\",\"nticks\":4},\"xaxis2\":{\"anchor\":\"y2\",\"domain\":[0.0,1.0],\"matches\":\"x\",\"showticklabels\":false,\"range\":[0,21],\"dtick\":2},\"yaxis2\":{\"anchor\":\"x2\",\"domain\":[0.29,0.71],\"title\":{\"text\":\"$\\\\text{Luminosity}~[\\\\text{erg s}^{-1}]$\",\"font\":{\"size\":13}},\"exponentformat\":\"e\",\"automargin\":true,\"nticks\":7},\"xaxis3\":{\"anchor\":\"y3\",\"domain\":[0.0,1.0],\"title\":{\"text\":\"$\\\\mbox{Iteration Number}$\"},\"dtick\":2},\"yaxis3\":{\"anchor\":\"x3\",\"domain\":[0.0,0.21],\"title\":{\"text\":\"$~~\\\\text{Residual}\\\\\\\\\\\\text{Luminosity[%]}$\",\"font\":{\"size\":12}},\"automargin\":true,\"nticks\":4},\"hoverlabel\":{\"align\":\"right\"},\"margin\":{\"b\":25,\"t\":25,\"pad\":0},\"height\":630},                        {\"responsive\": true}                    ).then(function(){\n",
       "                            \n",
       "var gd = document.getElementById('0fbabe51-3074-4b39-b1fc-96f5206e5679');\n",
       "var x = new MutationObserver(function (mutations, observer) {{\n",
       "        var display = window.getComputedStyle(gd).display;\n",
       "        if (!display || display === 'none') {{\n",
       "            console.log([gd, 'removed!']);\n",
       "            Plotly.purge(gd);\n",
       "            observer.disconnect();\n",
       "        }}\n",
       "}});\n",
       "\n",
       "// Listen for the removal of the full notebook cells\n",
       "var notebookContainer = gd.closest('#notebook-container');\n",
       "if (notebookContainer) {{\n",
       "    x.observe(notebookContainer, {childList: true});\n",
       "}}\n",
       "\n",
       "// Listen for the clearing of the current output cell\n",
       "var outputEl = gd.closest('.output');\n",
       "if (outputEl) {{\n",
       "    x.observe(outputEl, {childList: true});\n",
       "}}\n",
       "\n",
       "                        })                };                });            </script>        </div>"
      ]
     },
     "metadata": {},
     "output_type": "display_data"
    }
   ],
   "source": [
    "sim = run_tardis(\"tardis_example.yml\", \n",
    "                 virtual_packet_logging=True,\n",
    "                 show_convergence_plots=True,\n",
    "                 export_convergence_plots=True,\n",
    "                 log_level=\"INFO\") "
   ]
  },
  {
   "cell_type": "markdown",
   "metadata": {},
   "source": [
    "## Plotting the Spectrum\n",
    "\n",
    "Finally, plot the generated spectrum with `matplotlib`."
   ]
  },
  {
   "cell_type": "code",
   "execution_count": 3,
   "metadata": {},
   "outputs": [],
   "source": [
    "import matplotlib.pyplot as plt"
   ]
  },
  {
   "cell_type": "code",
   "execution_count": 4,
   "metadata": {},
   "outputs": [
    {
     "name": "stdout",
     "output_type": "stream",
     "text": [
      "[\u001b[1mpy.warnings         \u001b[0m][\u001b[1;33mWARNING\u001b[0m]  \n",
      "\t/home/jobrien/Documents/soft/tardis/tardis/spectrum/formal_integral.py:384: UserWarning:\n",
      "\n",
      "The number of interpolate_shells was not specified. The value was set to 80.\n",
      "\n",
      " (\u001b[1mwarnings.py\u001b[0m:112)\n"
     ]
    }
   ],
   "source": [
    "spectrum = sim.spectrum_solver.spectrum_real_packets\n",
    "spectrum_virtual = sim.spectrum_solver.spectrum_virtual_packets\n",
    "spectrum_integrated = sim.spectrum_solver.spectrum_integrated"
   ]
  },
  {
   "cell_type": "code",
   "execution_count": 5,
   "metadata": {},
   "outputs": [
    {
     "name": "stdout",
     "output_type": "stream",
     "text": [
      "[\u001b[1mpy.warnings         \u001b[0m][\u001b[1;33mWARNING\u001b[0m]  \n",
      "\t<>:10: SyntaxWarning:\n",
      "\n",
      "invalid escape sequence '\\A'\n",
      "\n",
      " (\u001b[1mwarnings.py\u001b[0m:112)\n",
      "[\u001b[1mpy.warnings         \u001b[0m][\u001b[1;33mWARNING\u001b[0m]  \n",
      "\t<>:11: SyntaxWarning:\n",
      "\n",
      "invalid escape sequence '\\A'\n",
      "\n",
      " (\u001b[1mwarnings.py\u001b[0m:112)\n",
      "[\u001b[1mpy.warnings         \u001b[0m][\u001b[1;33mWARNING\u001b[0m]  \n",
      "\t<>:10: SyntaxWarning:\n",
      "\n",
      "invalid escape sequence '\\A'\n",
      "\n",
      " (\u001b[1mwarnings.py\u001b[0m:112)\n",
      "[\u001b[1mpy.warnings         \u001b[0m][\u001b[1;33mWARNING\u001b[0m]  \n",
      "\t<>:11: SyntaxWarning:\n",
      "\n",
      "invalid escape sequence '\\A'\n",
      "\n",
      " (\u001b[1mwarnings.py\u001b[0m:112)\n",
      "[\u001b[1mpy.warnings         \u001b[0m][\u001b[1;33mWARNING\u001b[0m]  \n",
      "\t/tmp/ipykernel_2963508/3606673508.py:10: SyntaxWarning:\n",
      "\n",
      "invalid escape sequence '\\A'\n",
      "\n",
      " (\u001b[1mwarnings.py\u001b[0m:112)\n",
      "[\u001b[1mpy.warnings         \u001b[0m][\u001b[1;33mWARNING\u001b[0m]  \n",
      "\t/tmp/ipykernel_2963508/3606673508.py:11: SyntaxWarning:\n",
      "\n",
      "invalid escape sequence '\\A'\n",
      "\n",
      " (\u001b[1mwarnings.py\u001b[0m:112)\n"
     ]
    },
    {
     "data": {
      "image/png": "[encoded data removed]",
      "text/plain": [
       "<Figure size 1000x650 with 1 Axes>"
      ]
     },
     "metadata": {},
     "output_type": "display_data"
    }
   ],
   "source": [
    "%matplotlib inline\n",
    "plt.figure(figsize=(10, 6.5))\n",
    "\n",
    "spectrum.plot(label=\"Normal packets\")\n",
    "spectrum_virtual.plot(label=\"Virtual packets\")\n",
    "spectrum_integrated.plot(label='Formal integral')\n",
    "\n",
    "plt.xlim(500, 9000)\n",
    "plt.title(\"TARDIS example model spectrum\")\n",
    "plt.xlabel(\"Wavelength [$\\AA$]\")\n",
    "plt.ylabel(\"Luminosity density [erg/s/$\\AA$]\")\n",
    "plt.legend()\n",
    "plt.show()"
   ]
  },
  {
   "cell_type": "code",
   "execution_count": null,
   "metadata": {},
   "outputs": [],
   "source": []
  }
 ],
 "metadata": {
  "interpreter": {
   "hash": "14c438b85bc0c5441332c56c5d68185f391ef15672c5492b27fc26d9164316c1"
  },
  "kernelspec": {
   "display_name": "Python [conda env:miniconda3-tardis]",
   "language": "python",
   "name": "conda-env-miniconda3-tardis-py"
  },
  "language_info": {
   "codemirror_mode": {
    "name": "ipython",
    "version": 3
   },
   "file_extension": ".py",
   "mimetype": "text/x-python",
   "name": "python",
   "nbconvert_exporter": "python",
   "pygments_lexer": "ipython3",
   "version": "3.12.4"
  }
 },
 "nbformat": 4,
 "nbformat_minor": 4
}
